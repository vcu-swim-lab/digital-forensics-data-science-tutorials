{
  "nbformat": 4,
  "nbformat_minor": 0,
  "metadata": {
    "colab": {
      "provenance": [],
      "toc_visible": true,
      "include_colab_link": true
    },
    "kernelspec": {
      "name": "python3",
      "display_name": "Python 3"
    },
    "language_info": {
      "name": "python"
    }
  },
  "cells": [
    {
      "cell_type": "markdown",
      "metadata": {
        "id": "view-in-github",
        "colab_type": "text"
      },
      "source": [
        "<a href=\"https://colab.research.google.com/github/vcu-swim-lab/digital-forensics-data-science-tutorials/blob/main/Analyzing_Chat_Log_Data_Sets.ipynb\" target=\"_parent\"><img src=\"https://colab.research.google.com/assets/colab-badge.svg\" alt=\"Open In Colab\"/></a>"
      ]
    },
    {
      "cell_type": "markdown",
      "source": [
        "\n",
        "# **Analyzing Chat Log Data Sets For Digital Forensics Using Data Science**\n",
        "---\n",
        "\n"
      ],
      "metadata": {
        "id": "97_XxyAKJhV3"
      }
    },
    {
      "cell_type": "markdown",
      "source": [
        "# Background Information"
      ],
      "metadata": {
        "id": "PuQJ7Ae6HKxZ"
      }
    },
    {
      "cell_type": "markdown",
      "source": [
        "Digital Forensics is a science that focuses on identifying, gathering, processing, analysing, and \n",
        "reporting of data stored electronically. Computer emails, text messages, images, documents, and internet histories \n",
        "are all very important pieces of information that can be extracted from electronic devices.\n",
        " \n",
        "An analyst will have to examine these computer files from a user or suspect and try and preserve the \n",
        "evidence in its most original form. Any alarming piece of information from these computer files can be used \n",
        "as evidence. \n",
        "\n",
        "Usually, the size of the electronic data and files are huge, and will take a great deal of time to go through \n",
        "every file or text message manually. This is where Data Science can be very beneficial to Digital Forensics.\n",
        "\n",
        "Often times there are situations where you may have to view a users chat logs. You may have to read through \n",
        "their messages to see their conversation, who their communicating with, potential partners, or other key \n",
        "pieces of evidence. \n",
        "\n",
        "\n"
      ],
      "metadata": {
        "id": "TLeJMUa0wX0t"
      }
    },
    {
      "cell_type": "markdown",
      "source": [
        "# What We Will Be Doing"
      ],
      "metadata": {
        "id": "EReuw_O4HhEt"
      }
    },
    {
      "cell_type": "markdown",
      "source": [
        "We will be giving you some tips on how exactly we can condense and organize chat logs down to a smaller size \n",
        "which can be more easily analyzed. We will be explaining how to organize the data in a better fashion, \n",
        "remove duplicates, clean bad or useless data, and more.\n",
        "\n",
        "For this example we will be viewing a public Discord server, specifically of four different programming language communities such as Python, Go, Clojure, and Racket. These servers are public and serve as a resource for getting \n",
        "technical help, sharing knowledge, and also real-time conversations between fellow community members."
      ],
      "metadata": {
        "id": "CbmRcA6LHtGS"
      }
    },
    {
      "cell_type": "markdown",
      "source": [
        "# Learning Goals"
      ],
      "metadata": {
        "id": "Ar2gQK3DHUQ_"
      }
    },
    {
      "cell_type": "markdown",
      "source": [
        "Learning Goals for this tutorial:\n",
        "\n",
        "*   Use Pandas to manipulate a data set\n",
        "*   Cleaning data\n",
        "*   Analyze/sort through the data set\n",
        "*   Be able to pull specific details from the data set\n",
        "\n",
        "\n",
        "\n",
        "\n",
        "\n"
      ],
      "metadata": {
        "id": "j1nhwWvPG7II"
      }
    },
    {
      "cell_type": "markdown",
      "source": [
        "# Acquiring the Discord Datasets"
      ],
      "metadata": {
        "id": "oCC2uGq3AVAH"
      }
    },
    {
      "cell_type": "markdown",
      "source": [
        "This demonstration is based off of Preetha Chatterjee and her team of engineers' research, DISCO: A Dataset of Discord Chat Conversations for Software Engineering Research. \n",
        "\n",
        "Download the dataset here (https://zenodo.org/record/5909202#.Y91yPnbMKUk)."
      ],
      "metadata": {
        "id": "EdITo7-DAcMe"
      }
    },
    {
      "cell_type": "markdown",
      "source": [
        "# Getting Started"
      ],
      "metadata": {
        "id": "bg0F1GYeHwsS"
      }
    },
    {
      "cell_type": "markdown",
      "source": [
        "## Importing Libraries"
      ],
      "metadata": {
        "id": "2Q4iCcCoHXeI"
      }
    },
    {
      "cell_type": "markdown",
      "source": [
        "To first get started, we will import some libraries that will help us process and go through data sets.\n",
        "\n",
        "**Here are the libraries will be incorporating to help us with our analysis**"
      ],
      "metadata": {
        "id": "eJxpQ0CQws5R"
      }
    },
    {
      "cell_type": "markdown",
      "source": [
        "* [Pandas](https://pandas.pydata.org/) is a fast, powerful, flexible and easy to use open source data analysis and manipulation tool,\n",
        "built on top of the Python programming language.   \n",
        "* [Numpy](https://numpy.org/) is the fundamental package for scientific computing with Python\n",
        "* [Matplotlib](https://matplotlib.org/stable/index.html) is a comprehensive library for creating static, animated, and interactive visualizations in Python.\n",
        "* [Datetime](https://docs.python.org/3/library/datetime.html#module-datetime) module supplies classes for manipulating dates and times.\n",
        "* [Drive](https://www.marktechpost.com/2019/06/07/how-to-connect-google-colab-with-google-drive/) is used to connect your Google Drive to this Google Colab file\n"
      ],
      "metadata": {
        "id": "SU7KoR8IclPI"
      }
    },
    {
      "cell_type": "code",
      "source": [
        "import pandas as pd\n",
        "import numpy as np\n",
        "import matplotlib.pyplot as plt\n",
        "from datetime import datetime, timedelta\n",
        "from google.colab import drive\n",
        "drive.mount('/content/drive/')"
      ],
      "metadata": {
        "id": "GhR9XgMIw2YM",
        "colab": {
          "base_uri": "https://localhost:8080/"
        },
        "outputId": "1f6f25c8-21c6-4450-beb1-892205d6a38f"
      },
      "execution_count": 7,
      "outputs": [
        {
          "output_type": "stream",
          "name": "stdout",
          "text": [
            "Drive already mounted at /content/drive/; to attempt to forcibly remount, call drive.mount(\"/content/drive/\", force_remount=True).\n"
          ]
        }
      ]
    },
    {
      "cell_type": "markdown",
      "source": [
        "## Loading the Dataset"
      ],
      "metadata": {
        "id": "y4lJC3uLHe9L"
      }
    },
    {
      "cell_type": "markdown",
      "source": [
        "Now we must load in the dataset we have downloaded. For this tutorial we will be using chat logs in the Python server from December 2019.\n",
        "\n",
        "**The file is called (pythongeneralDec2019.xml).**\n"
      ],
      "metadata": {
        "id": "fsXbm4oSxDHc"
      }
    },
    {
      "cell_type": "markdown",
      "source": [
        "We will read in our data set using the pandas library we imported. \n",
        "\n",
        "\n",
        "We are going to be storing our data set of chat logs into a variable called \"df\" and will use the 'pandas' library to read the xml file."
      ],
      "metadata": {
        "id": "GkBE5RQpMNxK"
      }
    },
    {
      "cell_type": "markdown",
      "source": [
        "There are a few ways to insert the dataset file."
      ],
      "metadata": {
        "id": "mynP1IxlHScd"
      }
    },
    {
      "cell_type": "markdown",
      "source": [
        "**Option 1) 'Recommended'**\n",
        "\n",
        "One way, where you don't have to load in the file everytime we run it is to store it in the google drive.\n",
        "\n",
        "Either in google drive or in the files section on the left hand side of this Google Colab page, upload the month of chat logs we will be experimenting with **(pythongeneralDec2019.xml)** into \"content\" then \"drive\" folder. \n",
        "\n",
        "Then you can use the following command:"
      ],
      "metadata": {
        "id": "OW97TYQSH1ET"
      }
    },
    {
      "cell_type": "code",
      "source": [
        "df = pd.read_xml('/content/drive/MyDrive/pythongeneralDec2019.xml')"
      ],
      "metadata": {
        "id": "vDrn-7i0GMbq"
      },
      "execution_count": 8,
      "outputs": []
    },
    {
      "cell_type": "markdown",
      "source": [
        "**Option 2)**\n",
        "\n",
        "Another way is to directly upload the file in the files section on the left hand side of this Google Colab page.\n",
        "\n",
        "You must insert the file in the \"content\" folder. The only issue with this way is that you will need to upload the file everytime we run.\n",
        "\n",
        "Then you can use the following code to load in the file into our workspace:"
      ],
      "metadata": {
        "id": "4DhxS-oBOPVp"
      }
    },
    {
      "cell_type": "code",
      "source": [
        "#df = pd.read_xml('pythongeneralDec2019.xml')"
      ],
      "metadata": {
        "id": "2FOG0HnKHz7Q"
      },
      "execution_count": 9,
      "outputs": []
    },
    {
      "cell_type": "markdown",
      "source": [
        "## Reading Dataset"
      ],
      "metadata": {
        "id": "JppfiOo6Hw_a"
      }
    },
    {
      "cell_type": "markdown",
      "source": [
        "Now that we have our file, \n",
        "lets take a look at what our data consists of using the \"info\" method. "
      ],
      "metadata": {
        "id": "OSGtwzgoxsbv"
      }
    },
    {
      "cell_type": "code",
      "source": [
        "df.info()"
      ],
      "metadata": {
        "colab": {
          "base_uri": "https://localhost:8080/"
        },
        "id": "AvZUVFVTxtZu",
        "outputId": "2d0bbfa0-654a-4281-8119-6490ff6fd43e"
      },
      "execution_count": 10,
      "outputs": [
        {
          "output_type": "stream",
          "name": "stdout",
          "text": [
            "<class 'pandas.core.frame.DataFrame'>\n",
            "RangeIndex: 30944 entries, 0 to 30943\n",
            "Data columns (total 7 columns):\n",
            " #   Column        Non-Null Count  Dtype \n",
            "---  ------        --------------  ----- \n",
            " 0   team_domain   1 non-null      object\n",
            " 1   channel_name  1 non-null      object\n",
            " 2   start_date    1 non-null      object\n",
            " 3   end_date      1 non-null      object\n",
            " 4   ts            30940 non-null  object\n",
            " 5   user          30940 non-null  object\n",
            " 6   text          30940 non-null  object\n",
            "dtypes: object(7)\n",
            "memory usage: 1.7+ MB\n"
          ]
        }
      ]
    },
    {
      "cell_type": "markdown",
      "source": [
        "Here we can see a more general view of what our data set consists of. This shows our different column names as well as how many values are in these columns. Notice the first four columns, there is only one piece of data in these columns.\n",
        "\n",
        "Using just the \"df\" command, now we see exactly what our data in the data set consists of as a whole.\n"
      ],
      "metadata": {
        "id": "BjLgS6j0yODa"
      }
    },
    {
      "cell_type": "code",
      "source": [
        "df"
      ],
      "metadata": {
        "colab": {
          "base_uri": "https://localhost:8080/",
          "height": 624
        },
        "id": "LopZwjM2ytqM",
        "outputId": "660481fa-d20b-47d9-bb7c-e943f234e814"
      },
      "execution_count": 11,
      "outputs": [
        {
          "output_type": "execute_result",
          "data": {
            "text/plain": [
              "      team_domain    channel_name                  start_date  \\\n",
              "0          Python            None                        None   \n",
              "1            None  python-general                        None   \n",
              "2            None            None  2019-12-01T00:56:23.288000   \n",
              "3            None            None                        None   \n",
              "4            None            None                        None   \n",
              "...           ...             ...                         ...   \n",
              "30939        None            None                        None   \n",
              "30940        None            None                        None   \n",
              "30941        None            None                        None   \n",
              "30942        None            None                        None   \n",
              "30943        None            None                        None   \n",
              "\n",
              "                         end_date                          ts     user  \\\n",
              "0                            None                        None     None   \n",
              "1                            None                        None     None   \n",
              "2                            None                        None     None   \n",
              "3      2019-12-31T18:29:57.380000                        None     None   \n",
              "4                            None  2019-12-01T00:56:23.288000    Ryden   \n",
              "...                           ...                         ...      ...   \n",
              "30939                        None  2019-12-31T18:24:58.198000  Azyriah   \n",
              "30940                        None  2019-12-31T18:25:37.421000  Areesha   \n",
              "30941                        None  2019-12-31T18:26:17.603000  Areesha   \n",
              "30942                        None  2019-12-31T18:29:15.676000   Ailany   \n",
              "30943                        None  2019-12-31T18:29:57.380000   Ailany   \n",
              "\n",
              "                                                    text  \n",
              "0                                                   None  \n",
              "1                                                   None  \n",
              "2                                                   None  \n",
              "3                                                   None  \n",
              "4      where is the name of the file stored on the file?  \n",
              "...                                                  ...  \n",
              "30939                                      hi @GokturkSM  \n",
              "30940  Anyone have some math background? Trying to im...  \n",
              "30941  My question is... what exactly is a cyclic gro...  \n",
              "30942  You need to know what exceptions your code may...  \n",
              "30943                                               @cup  \n",
              "\n",
              "[30944 rows x 7 columns]"
            ],
            "text/html": [
              "\n",
              "  <div id=\"df-66b19a96-6266-4b22-8f53-4b978667efdd\">\n",
              "    <div class=\"colab-df-container\">\n",
              "      <div>\n",
              "<style scoped>\n",
              "    .dataframe tbody tr th:only-of-type {\n",
              "        vertical-align: middle;\n",
              "    }\n",
              "\n",
              "    .dataframe tbody tr th {\n",
              "        vertical-align: top;\n",
              "    }\n",
              "\n",
              "    .dataframe thead th {\n",
              "        text-align: right;\n",
              "    }\n",
              "</style>\n",
              "<table border=\"1\" class=\"dataframe\">\n",
              "  <thead>\n",
              "    <tr style=\"text-align: right;\">\n",
              "      <th></th>\n",
              "      <th>team_domain</th>\n",
              "      <th>channel_name</th>\n",
              "      <th>start_date</th>\n",
              "      <th>end_date</th>\n",
              "      <th>ts</th>\n",
              "      <th>user</th>\n",
              "      <th>text</th>\n",
              "    </tr>\n",
              "  </thead>\n",
              "  <tbody>\n",
              "    <tr>\n",
              "      <th>0</th>\n",
              "      <td>Python</td>\n",
              "      <td>None</td>\n",
              "      <td>None</td>\n",
              "      <td>None</td>\n",
              "      <td>None</td>\n",
              "      <td>None</td>\n",
              "      <td>None</td>\n",
              "    </tr>\n",
              "    <tr>\n",
              "      <th>1</th>\n",
              "      <td>None</td>\n",
              "      <td>python-general</td>\n",
              "      <td>None</td>\n",
              "      <td>None</td>\n",
              "      <td>None</td>\n",
              "      <td>None</td>\n",
              "      <td>None</td>\n",
              "    </tr>\n",
              "    <tr>\n",
              "      <th>2</th>\n",
              "      <td>None</td>\n",
              "      <td>None</td>\n",
              "      <td>2019-12-01T00:56:23.288000</td>\n",
              "      <td>None</td>\n",
              "      <td>None</td>\n",
              "      <td>None</td>\n",
              "      <td>None</td>\n",
              "    </tr>\n",
              "    <tr>\n",
              "      <th>3</th>\n",
              "      <td>None</td>\n",
              "      <td>None</td>\n",
              "      <td>None</td>\n",
              "      <td>2019-12-31T18:29:57.380000</td>\n",
              "      <td>None</td>\n",
              "      <td>None</td>\n",
              "      <td>None</td>\n",
              "    </tr>\n",
              "    <tr>\n",
              "      <th>4</th>\n",
              "      <td>None</td>\n",
              "      <td>None</td>\n",
              "      <td>None</td>\n",
              "      <td>None</td>\n",
              "      <td>2019-12-01T00:56:23.288000</td>\n",
              "      <td>Ryden</td>\n",
              "      <td>where is the name of the file stored on the file?</td>\n",
              "    </tr>\n",
              "    <tr>\n",
              "      <th>...</th>\n",
              "      <td>...</td>\n",
              "      <td>...</td>\n",
              "      <td>...</td>\n",
              "      <td>...</td>\n",
              "      <td>...</td>\n",
              "      <td>...</td>\n",
              "      <td>...</td>\n",
              "    </tr>\n",
              "    <tr>\n",
              "      <th>30939</th>\n",
              "      <td>None</td>\n",
              "      <td>None</td>\n",
              "      <td>None</td>\n",
              "      <td>None</td>\n",
              "      <td>2019-12-31T18:24:58.198000</td>\n",
              "      <td>Azyriah</td>\n",
              "      <td>hi @GokturkSM</td>\n",
              "    </tr>\n",
              "    <tr>\n",
              "      <th>30940</th>\n",
              "      <td>None</td>\n",
              "      <td>None</td>\n",
              "      <td>None</td>\n",
              "      <td>None</td>\n",
              "      <td>2019-12-31T18:25:37.421000</td>\n",
              "      <td>Areesha</td>\n",
              "      <td>Anyone have some math background? Trying to im...</td>\n",
              "    </tr>\n",
              "    <tr>\n",
              "      <th>30941</th>\n",
              "      <td>None</td>\n",
              "      <td>None</td>\n",
              "      <td>None</td>\n",
              "      <td>None</td>\n",
              "      <td>2019-12-31T18:26:17.603000</td>\n",
              "      <td>Areesha</td>\n",
              "      <td>My question is... what exactly is a cyclic gro...</td>\n",
              "    </tr>\n",
              "    <tr>\n",
              "      <th>30942</th>\n",
              "      <td>None</td>\n",
              "      <td>None</td>\n",
              "      <td>None</td>\n",
              "      <td>None</td>\n",
              "      <td>2019-12-31T18:29:15.676000</td>\n",
              "      <td>Ailany</td>\n",
              "      <td>You need to know what exceptions your code may...</td>\n",
              "    </tr>\n",
              "    <tr>\n",
              "      <th>30943</th>\n",
              "      <td>None</td>\n",
              "      <td>None</td>\n",
              "      <td>None</td>\n",
              "      <td>None</td>\n",
              "      <td>2019-12-31T18:29:57.380000</td>\n",
              "      <td>Ailany</td>\n",
              "      <td>@cup</td>\n",
              "    </tr>\n",
              "  </tbody>\n",
              "</table>\n",
              "<p>30944 rows × 7 columns</p>\n",
              "</div>\n",
              "      <button class=\"colab-df-convert\" onclick=\"convertToInteractive('df-66b19a96-6266-4b22-8f53-4b978667efdd')\"\n",
              "              title=\"Convert this dataframe to an interactive table.\"\n",
              "              style=\"display:none;\">\n",
              "        \n",
              "  <svg xmlns=\"http://www.w3.org/2000/svg\" height=\"24px\"viewBox=\"0 0 24 24\"\n",
              "       width=\"24px\">\n",
              "    <path d=\"M0 0h24v24H0V0z\" fill=\"none\"/>\n",
              "    <path d=\"M18.56 5.44l.94 2.06.94-2.06 2.06-.94-2.06-.94-.94-2.06-.94 2.06-2.06.94zm-11 1L8.5 8.5l.94-2.06 2.06-.94-2.06-.94L8.5 2.5l-.94 2.06-2.06.94zm10 10l.94 2.06.94-2.06 2.06-.94-2.06-.94-.94-2.06-.94 2.06-2.06.94z\"/><path d=\"M17.41 7.96l-1.37-1.37c-.4-.4-.92-.59-1.43-.59-.52 0-1.04.2-1.43.59L10.3 9.45l-7.72 7.72c-.78.78-.78 2.05 0 2.83L4 21.41c.39.39.9.59 1.41.59.51 0 1.02-.2 1.41-.59l7.78-7.78 2.81-2.81c.8-.78.8-2.07 0-2.86zM5.41 20L4 18.59l7.72-7.72 1.47 1.35L5.41 20z\"/>\n",
              "  </svg>\n",
              "      </button>\n",
              "      \n",
              "  <style>\n",
              "    .colab-df-container {\n",
              "      display:flex;\n",
              "      flex-wrap:wrap;\n",
              "      gap: 12px;\n",
              "    }\n",
              "\n",
              "    .colab-df-convert {\n",
              "      background-color: #E8F0FE;\n",
              "      border: none;\n",
              "      border-radius: 50%;\n",
              "      cursor: pointer;\n",
              "      display: none;\n",
              "      fill: #1967D2;\n",
              "      height: 32px;\n",
              "      padding: 0 0 0 0;\n",
              "      width: 32px;\n",
              "    }\n",
              "\n",
              "    .colab-df-convert:hover {\n",
              "      background-color: #E2EBFA;\n",
              "      box-shadow: 0px 1px 2px rgba(60, 64, 67, 0.3), 0px 1px 3px 1px rgba(60, 64, 67, 0.15);\n",
              "      fill: #174EA6;\n",
              "    }\n",
              "\n",
              "    [theme=dark] .colab-df-convert {\n",
              "      background-color: #3B4455;\n",
              "      fill: #D2E3FC;\n",
              "    }\n",
              "\n",
              "    [theme=dark] .colab-df-convert:hover {\n",
              "      background-color: #434B5C;\n",
              "      box-shadow: 0px 1px 3px 1px rgba(0, 0, 0, 0.15);\n",
              "      filter: drop-shadow(0px 1px 2px rgba(0, 0, 0, 0.3));\n",
              "      fill: #FFFFFF;\n",
              "    }\n",
              "  </style>\n",
              "\n",
              "      <script>\n",
              "        const buttonEl =\n",
              "          document.querySelector('#df-66b19a96-6266-4b22-8f53-4b978667efdd button.colab-df-convert');\n",
              "        buttonEl.style.display =\n",
              "          google.colab.kernel.accessAllowed ? 'block' : 'none';\n",
              "\n",
              "        async function convertToInteractive(key) {\n",
              "          const element = document.querySelector('#df-66b19a96-6266-4b22-8f53-4b978667efdd');\n",
              "          const dataTable =\n",
              "            await google.colab.kernel.invokeFunction('convertToInteractive',\n",
              "                                                     [key], {});\n",
              "          if (!dataTable) return;\n",
              "\n",
              "          const docLinkHtml = 'Like what you see? Visit the ' +\n",
              "            '<a target=\"_blank\" href=https://colab.research.google.com/notebooks/data_table.ipynb>data table notebook</a>'\n",
              "            + ' to learn more about interactive tables.';\n",
              "          element.innerHTML = '';\n",
              "          dataTable['output_type'] = 'display_data';\n",
              "          await google.colab.output.renderOutput(dataTable, element);\n",
              "          const docLink = document.createElement('div');\n",
              "          docLink.innerHTML = docLinkHtml;\n",
              "          element.appendChild(docLink);\n",
              "        }\n",
              "      </script>\n",
              "    </div>\n",
              "  </div>\n",
              "  "
            ]
          },
          "metadata": {},
          "execution_count": 11
        }
      ]
    },
    {
      "cell_type": "markdown",
      "source": [
        "# Data Cleaning"
      ],
      "metadata": {
        "id": "iuv0-gFvJ91Z"
      }
    },
    {
      "cell_type": "markdown",
      "source": [
        "Notice the first four columns again, we only have one piece of information in each of these columns, and they aren't that useful to us. We do not need to work with the name of the discord channel as well as the start and end date/time. \n",
        "\n",
        "We will start by getting rid of these first four columns and rows of data to simplify and condense down our data set."
      ],
      "metadata": {
        "id": "xRNLbYwhyvHk"
      }
    },
    {
      "cell_type": "markdown",
      "source": [
        "Let's use the \"drop\" method to get rid of our first four rows of data.\n",
        "\n",
        "Then, let's take a look at what it looks like."
      ],
      "metadata": {
        "id": "jc2uctBgM2lY"
      }
    },
    {
      "cell_type": "code",
      "source": [
        "df = df.drop(range(0,4))\n",
        "\n",
        "df"
      ],
      "metadata": {
        "id": "hNC_uVzvz2i-",
        "colab": {
          "base_uri": "https://localhost:8080/",
          "height": 641
        },
        "outputId": "ff54ef63-7b2c-41e1-839b-a99efd63cc18"
      },
      "execution_count": 12,
      "outputs": [
        {
          "output_type": "execute_result",
          "data": {
            "text/plain": [
              "      team_domain channel_name start_date end_date  \\\n",
              "4            None         None       None     None   \n",
              "5            None         None       None     None   \n",
              "6            None         None       None     None   \n",
              "7            None         None       None     None   \n",
              "8            None         None       None     None   \n",
              "...           ...          ...        ...      ...   \n",
              "30939        None         None       None     None   \n",
              "30940        None         None       None     None   \n",
              "30941        None         None       None     None   \n",
              "30942        None         None       None     None   \n",
              "30943        None         None       None     None   \n",
              "\n",
              "                               ts     user  \\\n",
              "4      2019-12-01T00:56:23.288000    Ryden   \n",
              "5      2019-12-01T01:07:04.875000  Jayvien   \n",
              "6      2019-12-01T01:10:54.022000  Kaliope   \n",
              "7      2019-12-01T01:13:29.732000    Naely   \n",
              "8      2019-12-01T01:16:43.656000  Jayvien   \n",
              "...                           ...      ...   \n",
              "30939  2019-12-31T18:24:58.198000  Azyriah   \n",
              "30940  2019-12-31T18:25:37.421000  Areesha   \n",
              "30941  2019-12-31T18:26:17.603000  Areesha   \n",
              "30942  2019-12-31T18:29:15.676000   Ailany   \n",
              "30943  2019-12-31T18:29:57.380000   Ailany   \n",
              "\n",
              "                                                    text  \n",
              "4      where is the name of the file stored on the file?  \n",
              "5                                              say what?  \n",
              "6      Where would you guys recommend I learn kotlin ...  \n",
              "7      I used the official Kotlin docs they have an e...  \n",
              "8                                               do they?  \n",
              "...                                                  ...  \n",
              "30939                                      hi @GokturkSM  \n",
              "30940  Anyone have some math background? Trying to im...  \n",
              "30941  My question is... what exactly is a cyclic gro...  \n",
              "30942  You need to know what exceptions your code may...  \n",
              "30943                                               @cup  \n",
              "\n",
              "[30940 rows x 7 columns]"
            ],
            "text/html": [
              "\n",
              "  <div id=\"df-a2e7e98f-6d48-4bc3-bc3d-1a7ddae3aa6e\">\n",
              "    <div class=\"colab-df-container\">\n",
              "      <div>\n",
              "<style scoped>\n",
              "    .dataframe tbody tr th:only-of-type {\n",
              "        vertical-align: middle;\n",
              "    }\n",
              "\n",
              "    .dataframe tbody tr th {\n",
              "        vertical-align: top;\n",
              "    }\n",
              "\n",
              "    .dataframe thead th {\n",
              "        text-align: right;\n",
              "    }\n",
              "</style>\n",
              "<table border=\"1\" class=\"dataframe\">\n",
              "  <thead>\n",
              "    <tr style=\"text-align: right;\">\n",
              "      <th></th>\n",
              "      <th>team_domain</th>\n",
              "      <th>channel_name</th>\n",
              "      <th>start_date</th>\n",
              "      <th>end_date</th>\n",
              "      <th>ts</th>\n",
              "      <th>user</th>\n",
              "      <th>text</th>\n",
              "    </tr>\n",
              "  </thead>\n",
              "  <tbody>\n",
              "    <tr>\n",
              "      <th>4</th>\n",
              "      <td>None</td>\n",
              "      <td>None</td>\n",
              "      <td>None</td>\n",
              "      <td>None</td>\n",
              "      <td>2019-12-01T00:56:23.288000</td>\n",
              "      <td>Ryden</td>\n",
              "      <td>where is the name of the file stored on the file?</td>\n",
              "    </tr>\n",
              "    <tr>\n",
              "      <th>5</th>\n",
              "      <td>None</td>\n",
              "      <td>None</td>\n",
              "      <td>None</td>\n",
              "      <td>None</td>\n",
              "      <td>2019-12-01T01:07:04.875000</td>\n",
              "      <td>Jayvien</td>\n",
              "      <td>say what?</td>\n",
              "    </tr>\n",
              "    <tr>\n",
              "      <th>6</th>\n",
              "      <td>None</td>\n",
              "      <td>None</td>\n",
              "      <td>None</td>\n",
              "      <td>None</td>\n",
              "      <td>2019-12-01T01:10:54.022000</td>\n",
              "      <td>Kaliope</td>\n",
              "      <td>Where would you guys recommend I learn kotlin ...</td>\n",
              "    </tr>\n",
              "    <tr>\n",
              "      <th>7</th>\n",
              "      <td>None</td>\n",
              "      <td>None</td>\n",
              "      <td>None</td>\n",
              "      <td>None</td>\n",
              "      <td>2019-12-01T01:13:29.732000</td>\n",
              "      <td>Naely</td>\n",
              "      <td>I used the official Kotlin docs they have an e...</td>\n",
              "    </tr>\n",
              "    <tr>\n",
              "      <th>8</th>\n",
              "      <td>None</td>\n",
              "      <td>None</td>\n",
              "      <td>None</td>\n",
              "      <td>None</td>\n",
              "      <td>2019-12-01T01:16:43.656000</td>\n",
              "      <td>Jayvien</td>\n",
              "      <td>do they?</td>\n",
              "    </tr>\n",
              "    <tr>\n",
              "      <th>...</th>\n",
              "      <td>...</td>\n",
              "      <td>...</td>\n",
              "      <td>...</td>\n",
              "      <td>...</td>\n",
              "      <td>...</td>\n",
              "      <td>...</td>\n",
              "      <td>...</td>\n",
              "    </tr>\n",
              "    <tr>\n",
              "      <th>30939</th>\n",
              "      <td>None</td>\n",
              "      <td>None</td>\n",
              "      <td>None</td>\n",
              "      <td>None</td>\n",
              "      <td>2019-12-31T18:24:58.198000</td>\n",
              "      <td>Azyriah</td>\n",
              "      <td>hi @GokturkSM</td>\n",
              "    </tr>\n",
              "    <tr>\n",
              "      <th>30940</th>\n",
              "      <td>None</td>\n",
              "      <td>None</td>\n",
              "      <td>None</td>\n",
              "      <td>None</td>\n",
              "      <td>2019-12-31T18:25:37.421000</td>\n",
              "      <td>Areesha</td>\n",
              "      <td>Anyone have some math background? Trying to im...</td>\n",
              "    </tr>\n",
              "    <tr>\n",
              "      <th>30941</th>\n",
              "      <td>None</td>\n",
              "      <td>None</td>\n",
              "      <td>None</td>\n",
              "      <td>None</td>\n",
              "      <td>2019-12-31T18:26:17.603000</td>\n",
              "      <td>Areesha</td>\n",
              "      <td>My question is... what exactly is a cyclic gro...</td>\n",
              "    </tr>\n",
              "    <tr>\n",
              "      <th>30942</th>\n",
              "      <td>None</td>\n",
              "      <td>None</td>\n",
              "      <td>None</td>\n",
              "      <td>None</td>\n",
              "      <td>2019-12-31T18:29:15.676000</td>\n",
              "      <td>Ailany</td>\n",
              "      <td>You need to know what exceptions your code may...</td>\n",
              "    </tr>\n",
              "    <tr>\n",
              "      <th>30943</th>\n",
              "      <td>None</td>\n",
              "      <td>None</td>\n",
              "      <td>None</td>\n",
              "      <td>None</td>\n",
              "      <td>2019-12-31T18:29:57.380000</td>\n",
              "      <td>Ailany</td>\n",
              "      <td>@cup</td>\n",
              "    </tr>\n",
              "  </tbody>\n",
              "</table>\n",
              "<p>30940 rows × 7 columns</p>\n",
              "</div>\n",
              "      <button class=\"colab-df-convert\" onclick=\"convertToInteractive('df-a2e7e98f-6d48-4bc3-bc3d-1a7ddae3aa6e')\"\n",
              "              title=\"Convert this dataframe to an interactive table.\"\n",
              "              style=\"display:none;\">\n",
              "        \n",
              "  <svg xmlns=\"http://www.w3.org/2000/svg\" height=\"24px\"viewBox=\"0 0 24 24\"\n",
              "       width=\"24px\">\n",
              "    <path d=\"M0 0h24v24H0V0z\" fill=\"none\"/>\n",
              "    <path d=\"M18.56 5.44l.94 2.06.94-2.06 2.06-.94-2.06-.94-.94-2.06-.94 2.06-2.06.94zm-11 1L8.5 8.5l.94-2.06 2.06-.94-2.06-.94L8.5 2.5l-.94 2.06-2.06.94zm10 10l.94 2.06.94-2.06 2.06-.94-2.06-.94-.94-2.06-.94 2.06-2.06.94z\"/><path d=\"M17.41 7.96l-1.37-1.37c-.4-.4-.92-.59-1.43-.59-.52 0-1.04.2-1.43.59L10.3 9.45l-7.72 7.72c-.78.78-.78 2.05 0 2.83L4 21.41c.39.39.9.59 1.41.59.51 0 1.02-.2 1.41-.59l7.78-7.78 2.81-2.81c.8-.78.8-2.07 0-2.86zM5.41 20L4 18.59l7.72-7.72 1.47 1.35L5.41 20z\"/>\n",
              "  </svg>\n",
              "      </button>\n",
              "      \n",
              "  <style>\n",
              "    .colab-df-container {\n",
              "      display:flex;\n",
              "      flex-wrap:wrap;\n",
              "      gap: 12px;\n",
              "    }\n",
              "\n",
              "    .colab-df-convert {\n",
              "      background-color: #E8F0FE;\n",
              "      border: none;\n",
              "      border-radius: 50%;\n",
              "      cursor: pointer;\n",
              "      display: none;\n",
              "      fill: #1967D2;\n",
              "      height: 32px;\n",
              "      padding: 0 0 0 0;\n",
              "      width: 32px;\n",
              "    }\n",
              "\n",
              "    .colab-df-convert:hover {\n",
              "      background-color: #E2EBFA;\n",
              "      box-shadow: 0px 1px 2px rgba(60, 64, 67, 0.3), 0px 1px 3px 1px rgba(60, 64, 67, 0.15);\n",
              "      fill: #174EA6;\n",
              "    }\n",
              "\n",
              "    [theme=dark] .colab-df-convert {\n",
              "      background-color: #3B4455;\n",
              "      fill: #D2E3FC;\n",
              "    }\n",
              "\n",
              "    [theme=dark] .colab-df-convert:hover {\n",
              "      background-color: #434B5C;\n",
              "      box-shadow: 0px 1px 3px 1px rgba(0, 0, 0, 0.15);\n",
              "      filter: drop-shadow(0px 1px 2px rgba(0, 0, 0, 0.3));\n",
              "      fill: #FFFFFF;\n",
              "    }\n",
              "  </style>\n",
              "\n",
              "      <script>\n",
              "        const buttonEl =\n",
              "          document.querySelector('#df-a2e7e98f-6d48-4bc3-bc3d-1a7ddae3aa6e button.colab-df-convert');\n",
              "        buttonEl.style.display =\n",
              "          google.colab.kernel.accessAllowed ? 'block' : 'none';\n",
              "\n",
              "        async function convertToInteractive(key) {\n",
              "          const element = document.querySelector('#df-a2e7e98f-6d48-4bc3-bc3d-1a7ddae3aa6e');\n",
              "          const dataTable =\n",
              "            await google.colab.kernel.invokeFunction('convertToInteractive',\n",
              "                                                     [key], {});\n",
              "          if (!dataTable) return;\n",
              "\n",
              "          const docLinkHtml = 'Like what you see? Visit the ' +\n",
              "            '<a target=\"_blank\" href=https://colab.research.google.com/notebooks/data_table.ipynb>data table notebook</a>'\n",
              "            + ' to learn more about interactive tables.';\n",
              "          element.innerHTML = '';\n",
              "          dataTable['output_type'] = 'display_data';\n",
              "          await google.colab.output.renderOutput(dataTable, element);\n",
              "          const docLink = document.createElement('div');\n",
              "          docLink.innerHTML = docLinkHtml;\n",
              "          element.appendChild(docLink);\n",
              "        }\n",
              "      </script>\n",
              "    </div>\n",
              "  </div>\n",
              "  "
            ]
          },
          "metadata": {},
          "execution_count": 12
        }
      ]
    },
    {
      "cell_type": "markdown",
      "source": [
        "Our data set looks a little cleaner now. However, now we have four rows full of empty or null data.\n",
        "\n",
        "Lets now get rid of these first four columns to condense our table down into a more readable table.\n",
        "\n",
        "We will use the same \"drop\" method but we will specify what columns exactly we want to drop as well as use \"axis=1\" to specify we want to drop a column instead of a rows."
      ],
      "metadata": {
        "id": "siTYgcKj1ff3"
      }
    },
    {
      "cell_type": "code",
      "source": [
        "df = df.drop(labels=\"team_domain\", axis=1)\n",
        "\n",
        "df"
      ],
      "metadata": {
        "id": "QuiNEgLU164_",
        "colab": {
          "base_uri": "https://localhost:8080/",
          "height": 424
        },
        "outputId": "ba61d161-64b1-4001-9de9-c8d8ec5ddac7"
      },
      "execution_count": 13,
      "outputs": [
        {
          "output_type": "execute_result",
          "data": {
            "text/plain": [
              "      channel_name start_date end_date                          ts     user  \\\n",
              "4             None       None     None  2019-12-01T00:56:23.288000    Ryden   \n",
              "5             None       None     None  2019-12-01T01:07:04.875000  Jayvien   \n",
              "6             None       None     None  2019-12-01T01:10:54.022000  Kaliope   \n",
              "7             None       None     None  2019-12-01T01:13:29.732000    Naely   \n",
              "8             None       None     None  2019-12-01T01:16:43.656000  Jayvien   \n",
              "...            ...        ...      ...                         ...      ...   \n",
              "30939         None       None     None  2019-12-31T18:24:58.198000  Azyriah   \n",
              "30940         None       None     None  2019-12-31T18:25:37.421000  Areesha   \n",
              "30941         None       None     None  2019-12-31T18:26:17.603000  Areesha   \n",
              "30942         None       None     None  2019-12-31T18:29:15.676000   Ailany   \n",
              "30943         None       None     None  2019-12-31T18:29:57.380000   Ailany   \n",
              "\n",
              "                                                    text  \n",
              "4      where is the name of the file stored on the file?  \n",
              "5                                              say what?  \n",
              "6      Where would you guys recommend I learn kotlin ...  \n",
              "7      I used the official Kotlin docs they have an e...  \n",
              "8                                               do they?  \n",
              "...                                                  ...  \n",
              "30939                                      hi @GokturkSM  \n",
              "30940  Anyone have some math background? Trying to im...  \n",
              "30941  My question is... what exactly is a cyclic gro...  \n",
              "30942  You need to know what exceptions your code may...  \n",
              "30943                                               @cup  \n",
              "\n",
              "[30940 rows x 6 columns]"
            ],
            "text/html": [
              "\n",
              "  <div id=\"df-309aed80-b208-4a33-901d-7d5e6df9c3f7\">\n",
              "    <div class=\"colab-df-container\">\n",
              "      <div>\n",
              "<style scoped>\n",
              "    .dataframe tbody tr th:only-of-type {\n",
              "        vertical-align: middle;\n",
              "    }\n",
              "\n",
              "    .dataframe tbody tr th {\n",
              "        vertical-align: top;\n",
              "    }\n",
              "\n",
              "    .dataframe thead th {\n",
              "        text-align: right;\n",
              "    }\n",
              "</style>\n",
              "<table border=\"1\" class=\"dataframe\">\n",
              "  <thead>\n",
              "    <tr style=\"text-align: right;\">\n",
              "      <th></th>\n",
              "      <th>channel_name</th>\n",
              "      <th>start_date</th>\n",
              "      <th>end_date</th>\n",
              "      <th>ts</th>\n",
              "      <th>user</th>\n",
              "      <th>text</th>\n",
              "    </tr>\n",
              "  </thead>\n",
              "  <tbody>\n",
              "    <tr>\n",
              "      <th>4</th>\n",
              "      <td>None</td>\n",
              "      <td>None</td>\n",
              "      <td>None</td>\n",
              "      <td>2019-12-01T00:56:23.288000</td>\n",
              "      <td>Ryden</td>\n",
              "      <td>where is the name of the file stored on the file?</td>\n",
              "    </tr>\n",
              "    <tr>\n",
              "      <th>5</th>\n",
              "      <td>None</td>\n",
              "      <td>None</td>\n",
              "      <td>None</td>\n",
              "      <td>2019-12-01T01:07:04.875000</td>\n",
              "      <td>Jayvien</td>\n",
              "      <td>say what?</td>\n",
              "    </tr>\n",
              "    <tr>\n",
              "      <th>6</th>\n",
              "      <td>None</td>\n",
              "      <td>None</td>\n",
              "      <td>None</td>\n",
              "      <td>2019-12-01T01:10:54.022000</td>\n",
              "      <td>Kaliope</td>\n",
              "      <td>Where would you guys recommend I learn kotlin ...</td>\n",
              "    </tr>\n",
              "    <tr>\n",
              "      <th>7</th>\n",
              "      <td>None</td>\n",
              "      <td>None</td>\n",
              "      <td>None</td>\n",
              "      <td>2019-12-01T01:13:29.732000</td>\n",
              "      <td>Naely</td>\n",
              "      <td>I used the official Kotlin docs they have an e...</td>\n",
              "    </tr>\n",
              "    <tr>\n",
              "      <th>8</th>\n",
              "      <td>None</td>\n",
              "      <td>None</td>\n",
              "      <td>None</td>\n",
              "      <td>2019-12-01T01:16:43.656000</td>\n",
              "      <td>Jayvien</td>\n",
              "      <td>do they?</td>\n",
              "    </tr>\n",
              "    <tr>\n",
              "      <th>...</th>\n",
              "      <td>...</td>\n",
              "      <td>...</td>\n",
              "      <td>...</td>\n",
              "      <td>...</td>\n",
              "      <td>...</td>\n",
              "      <td>...</td>\n",
              "    </tr>\n",
              "    <tr>\n",
              "      <th>30939</th>\n",
              "      <td>None</td>\n",
              "      <td>None</td>\n",
              "      <td>None</td>\n",
              "      <td>2019-12-31T18:24:58.198000</td>\n",
              "      <td>Azyriah</td>\n",
              "      <td>hi @GokturkSM</td>\n",
              "    </tr>\n",
              "    <tr>\n",
              "      <th>30940</th>\n",
              "      <td>None</td>\n",
              "      <td>None</td>\n",
              "      <td>None</td>\n",
              "      <td>2019-12-31T18:25:37.421000</td>\n",
              "      <td>Areesha</td>\n",
              "      <td>Anyone have some math background? Trying to im...</td>\n",
              "    </tr>\n",
              "    <tr>\n",
              "      <th>30941</th>\n",
              "      <td>None</td>\n",
              "      <td>None</td>\n",
              "      <td>None</td>\n",
              "      <td>2019-12-31T18:26:17.603000</td>\n",
              "      <td>Areesha</td>\n",
              "      <td>My question is... what exactly is a cyclic gro...</td>\n",
              "    </tr>\n",
              "    <tr>\n",
              "      <th>30942</th>\n",
              "      <td>None</td>\n",
              "      <td>None</td>\n",
              "      <td>None</td>\n",
              "      <td>2019-12-31T18:29:15.676000</td>\n",
              "      <td>Ailany</td>\n",
              "      <td>You need to know what exceptions your code may...</td>\n",
              "    </tr>\n",
              "    <tr>\n",
              "      <th>30943</th>\n",
              "      <td>None</td>\n",
              "      <td>None</td>\n",
              "      <td>None</td>\n",
              "      <td>2019-12-31T18:29:57.380000</td>\n",
              "      <td>Ailany</td>\n",
              "      <td>@cup</td>\n",
              "    </tr>\n",
              "  </tbody>\n",
              "</table>\n",
              "<p>30940 rows × 6 columns</p>\n",
              "</div>\n",
              "      <button class=\"colab-df-convert\" onclick=\"convertToInteractive('df-309aed80-b208-4a33-901d-7d5e6df9c3f7')\"\n",
              "              title=\"Convert this dataframe to an interactive table.\"\n",
              "              style=\"display:none;\">\n",
              "        \n",
              "  <svg xmlns=\"http://www.w3.org/2000/svg\" height=\"24px\"viewBox=\"0 0 24 24\"\n",
              "       width=\"24px\">\n",
              "    <path d=\"M0 0h24v24H0V0z\" fill=\"none\"/>\n",
              "    <path d=\"M18.56 5.44l.94 2.06.94-2.06 2.06-.94-2.06-.94-.94-2.06-.94 2.06-2.06.94zm-11 1L8.5 8.5l.94-2.06 2.06-.94-2.06-.94L8.5 2.5l-.94 2.06-2.06.94zm10 10l.94 2.06.94-2.06 2.06-.94-2.06-.94-.94-2.06-.94 2.06-2.06.94z\"/><path d=\"M17.41 7.96l-1.37-1.37c-.4-.4-.92-.59-1.43-.59-.52 0-1.04.2-1.43.59L10.3 9.45l-7.72 7.72c-.78.78-.78 2.05 0 2.83L4 21.41c.39.39.9.59 1.41.59.51 0 1.02-.2 1.41-.59l7.78-7.78 2.81-2.81c.8-.78.8-2.07 0-2.86zM5.41 20L4 18.59l7.72-7.72 1.47 1.35L5.41 20z\"/>\n",
              "  </svg>\n",
              "      </button>\n",
              "      \n",
              "  <style>\n",
              "    .colab-df-container {\n",
              "      display:flex;\n",
              "      flex-wrap:wrap;\n",
              "      gap: 12px;\n",
              "    }\n",
              "\n",
              "    .colab-df-convert {\n",
              "      background-color: #E8F0FE;\n",
              "      border: none;\n",
              "      border-radius: 50%;\n",
              "      cursor: pointer;\n",
              "      display: none;\n",
              "      fill: #1967D2;\n",
              "      height: 32px;\n",
              "      padding: 0 0 0 0;\n",
              "      width: 32px;\n",
              "    }\n",
              "\n",
              "    .colab-df-convert:hover {\n",
              "      background-color: #E2EBFA;\n",
              "      box-shadow: 0px 1px 2px rgba(60, 64, 67, 0.3), 0px 1px 3px 1px rgba(60, 64, 67, 0.15);\n",
              "      fill: #174EA6;\n",
              "    }\n",
              "\n",
              "    [theme=dark] .colab-df-convert {\n",
              "      background-color: #3B4455;\n",
              "      fill: #D2E3FC;\n",
              "    }\n",
              "\n",
              "    [theme=dark] .colab-df-convert:hover {\n",
              "      background-color: #434B5C;\n",
              "      box-shadow: 0px 1px 3px 1px rgba(0, 0, 0, 0.15);\n",
              "      filter: drop-shadow(0px 1px 2px rgba(0, 0, 0, 0.3));\n",
              "      fill: #FFFFFF;\n",
              "    }\n",
              "  </style>\n",
              "\n",
              "      <script>\n",
              "        const buttonEl =\n",
              "          document.querySelector('#df-309aed80-b208-4a33-901d-7d5e6df9c3f7 button.colab-df-convert');\n",
              "        buttonEl.style.display =\n",
              "          google.colab.kernel.accessAllowed ? 'block' : 'none';\n",
              "\n",
              "        async function convertToInteractive(key) {\n",
              "          const element = document.querySelector('#df-309aed80-b208-4a33-901d-7d5e6df9c3f7');\n",
              "          const dataTable =\n",
              "            await google.colab.kernel.invokeFunction('convertToInteractive',\n",
              "                                                     [key], {});\n",
              "          if (!dataTable) return;\n",
              "\n",
              "          const docLinkHtml = 'Like what you see? Visit the ' +\n",
              "            '<a target=\"_blank\" href=https://colab.research.google.com/notebooks/data_table.ipynb>data table notebook</a>'\n",
              "            + ' to learn more about interactive tables.';\n",
              "          element.innerHTML = '';\n",
              "          dataTable['output_type'] = 'display_data';\n",
              "          await google.colab.output.renderOutput(dataTable, element);\n",
              "          const docLink = document.createElement('div');\n",
              "          docLink.innerHTML = docLinkHtml;\n",
              "          element.appendChild(docLink);\n",
              "        }\n",
              "      </script>\n",
              "    </div>\n",
              "  </div>\n",
              "  "
            ]
          },
          "metadata": {},
          "execution_count": 13
        }
      ]
    },
    {
      "cell_type": "markdown",
      "source": [
        "As you can see we dropped the \"team_domain\" column successfully. \n",
        "\n",
        "Lets get rid of the last three empty columns then take a look at how our data set table looks."
      ],
      "metadata": {
        "id": "9a-XwqAZ2bv5"
      }
    },
    {
      "cell_type": "code",
      "source": [
        "df = df.drop(labels=\"channel_name\", axis=1)\n",
        "df = df.drop(labels=\"start_date\", axis=1)\n",
        "df = df.drop(labels=\"end_date\", axis=1)\n",
        "\n",
        "df"
      ],
      "metadata": {
        "id": "k5uAZIgL2rg-",
        "colab": {
          "base_uri": "https://localhost:8080/",
          "height": 424
        },
        "outputId": "4358815c-bf69-4434-9fe1-569eb2b74b58"
      },
      "execution_count": 14,
      "outputs": [
        {
          "output_type": "execute_result",
          "data": {
            "text/plain": [
              "                               ts     user  \\\n",
              "4      2019-12-01T00:56:23.288000    Ryden   \n",
              "5      2019-12-01T01:07:04.875000  Jayvien   \n",
              "6      2019-12-01T01:10:54.022000  Kaliope   \n",
              "7      2019-12-01T01:13:29.732000    Naely   \n",
              "8      2019-12-01T01:16:43.656000  Jayvien   \n",
              "...                           ...      ...   \n",
              "30939  2019-12-31T18:24:58.198000  Azyriah   \n",
              "30940  2019-12-31T18:25:37.421000  Areesha   \n",
              "30941  2019-12-31T18:26:17.603000  Areesha   \n",
              "30942  2019-12-31T18:29:15.676000   Ailany   \n",
              "30943  2019-12-31T18:29:57.380000   Ailany   \n",
              "\n",
              "                                                    text  \n",
              "4      where is the name of the file stored on the file?  \n",
              "5                                              say what?  \n",
              "6      Where would you guys recommend I learn kotlin ...  \n",
              "7      I used the official Kotlin docs they have an e...  \n",
              "8                                               do they?  \n",
              "...                                                  ...  \n",
              "30939                                      hi @GokturkSM  \n",
              "30940  Anyone have some math background? Trying to im...  \n",
              "30941  My question is... what exactly is a cyclic gro...  \n",
              "30942  You need to know what exceptions your code may...  \n",
              "30943                                               @cup  \n",
              "\n",
              "[30940 rows x 3 columns]"
            ],
            "text/html": [
              "\n",
              "  <div id=\"df-af154dbe-3b24-425a-b4f1-45fee150d7d9\">\n",
              "    <div class=\"colab-df-container\">\n",
              "      <div>\n",
              "<style scoped>\n",
              "    .dataframe tbody tr th:only-of-type {\n",
              "        vertical-align: middle;\n",
              "    }\n",
              "\n",
              "    .dataframe tbody tr th {\n",
              "        vertical-align: top;\n",
              "    }\n",
              "\n",
              "    .dataframe thead th {\n",
              "        text-align: right;\n",
              "    }\n",
              "</style>\n",
              "<table border=\"1\" class=\"dataframe\">\n",
              "  <thead>\n",
              "    <tr style=\"text-align: right;\">\n",
              "      <th></th>\n",
              "      <th>ts</th>\n",
              "      <th>user</th>\n",
              "      <th>text</th>\n",
              "    </tr>\n",
              "  </thead>\n",
              "  <tbody>\n",
              "    <tr>\n",
              "      <th>4</th>\n",
              "      <td>2019-12-01T00:56:23.288000</td>\n",
              "      <td>Ryden</td>\n",
              "      <td>where is the name of the file stored on the file?</td>\n",
              "    </tr>\n",
              "    <tr>\n",
              "      <th>5</th>\n",
              "      <td>2019-12-01T01:07:04.875000</td>\n",
              "      <td>Jayvien</td>\n",
              "      <td>say what?</td>\n",
              "    </tr>\n",
              "    <tr>\n",
              "      <th>6</th>\n",
              "      <td>2019-12-01T01:10:54.022000</td>\n",
              "      <td>Kaliope</td>\n",
              "      <td>Where would you guys recommend I learn kotlin ...</td>\n",
              "    </tr>\n",
              "    <tr>\n",
              "      <th>7</th>\n",
              "      <td>2019-12-01T01:13:29.732000</td>\n",
              "      <td>Naely</td>\n",
              "      <td>I used the official Kotlin docs they have an e...</td>\n",
              "    </tr>\n",
              "    <tr>\n",
              "      <th>8</th>\n",
              "      <td>2019-12-01T01:16:43.656000</td>\n",
              "      <td>Jayvien</td>\n",
              "      <td>do they?</td>\n",
              "    </tr>\n",
              "    <tr>\n",
              "      <th>...</th>\n",
              "      <td>...</td>\n",
              "      <td>...</td>\n",
              "      <td>...</td>\n",
              "    </tr>\n",
              "    <tr>\n",
              "      <th>30939</th>\n",
              "      <td>2019-12-31T18:24:58.198000</td>\n",
              "      <td>Azyriah</td>\n",
              "      <td>hi @GokturkSM</td>\n",
              "    </tr>\n",
              "    <tr>\n",
              "      <th>30940</th>\n",
              "      <td>2019-12-31T18:25:37.421000</td>\n",
              "      <td>Areesha</td>\n",
              "      <td>Anyone have some math background? Trying to im...</td>\n",
              "    </tr>\n",
              "    <tr>\n",
              "      <th>30941</th>\n",
              "      <td>2019-12-31T18:26:17.603000</td>\n",
              "      <td>Areesha</td>\n",
              "      <td>My question is... what exactly is a cyclic gro...</td>\n",
              "    </tr>\n",
              "    <tr>\n",
              "      <th>30942</th>\n",
              "      <td>2019-12-31T18:29:15.676000</td>\n",
              "      <td>Ailany</td>\n",
              "      <td>You need to know what exceptions your code may...</td>\n",
              "    </tr>\n",
              "    <tr>\n",
              "      <th>30943</th>\n",
              "      <td>2019-12-31T18:29:57.380000</td>\n",
              "      <td>Ailany</td>\n",
              "      <td>@cup</td>\n",
              "    </tr>\n",
              "  </tbody>\n",
              "</table>\n",
              "<p>30940 rows × 3 columns</p>\n",
              "</div>\n",
              "      <button class=\"colab-df-convert\" onclick=\"convertToInteractive('df-af154dbe-3b24-425a-b4f1-45fee150d7d9')\"\n",
              "              title=\"Convert this dataframe to an interactive table.\"\n",
              "              style=\"display:none;\">\n",
              "        \n",
              "  <svg xmlns=\"http://www.w3.org/2000/svg\" height=\"24px\"viewBox=\"0 0 24 24\"\n",
              "       width=\"24px\">\n",
              "    <path d=\"M0 0h24v24H0V0z\" fill=\"none\"/>\n",
              "    <path d=\"M18.56 5.44l.94 2.06.94-2.06 2.06-.94-2.06-.94-.94-2.06-.94 2.06-2.06.94zm-11 1L8.5 8.5l.94-2.06 2.06-.94-2.06-.94L8.5 2.5l-.94 2.06-2.06.94zm10 10l.94 2.06.94-2.06 2.06-.94-2.06-.94-.94-2.06-.94 2.06-2.06.94z\"/><path d=\"M17.41 7.96l-1.37-1.37c-.4-.4-.92-.59-1.43-.59-.52 0-1.04.2-1.43.59L10.3 9.45l-7.72 7.72c-.78.78-.78 2.05 0 2.83L4 21.41c.39.39.9.59 1.41.59.51 0 1.02-.2 1.41-.59l7.78-7.78 2.81-2.81c.8-.78.8-2.07 0-2.86zM5.41 20L4 18.59l7.72-7.72 1.47 1.35L5.41 20z\"/>\n",
              "  </svg>\n",
              "      </button>\n",
              "      \n",
              "  <style>\n",
              "    .colab-df-container {\n",
              "      display:flex;\n",
              "      flex-wrap:wrap;\n",
              "      gap: 12px;\n",
              "    }\n",
              "\n",
              "    .colab-df-convert {\n",
              "      background-color: #E8F0FE;\n",
              "      border: none;\n",
              "      border-radius: 50%;\n",
              "      cursor: pointer;\n",
              "      display: none;\n",
              "      fill: #1967D2;\n",
              "      height: 32px;\n",
              "      padding: 0 0 0 0;\n",
              "      width: 32px;\n",
              "    }\n",
              "\n",
              "    .colab-df-convert:hover {\n",
              "      background-color: #E2EBFA;\n",
              "      box-shadow: 0px 1px 2px rgba(60, 64, 67, 0.3), 0px 1px 3px 1px rgba(60, 64, 67, 0.15);\n",
              "      fill: #174EA6;\n",
              "    }\n",
              "\n",
              "    [theme=dark] .colab-df-convert {\n",
              "      background-color: #3B4455;\n",
              "      fill: #D2E3FC;\n",
              "    }\n",
              "\n",
              "    [theme=dark] .colab-df-convert:hover {\n",
              "      background-color: #434B5C;\n",
              "      box-shadow: 0px 1px 3px 1px rgba(0, 0, 0, 0.15);\n",
              "      filter: drop-shadow(0px 1px 2px rgba(0, 0, 0, 0.3));\n",
              "      fill: #FFFFFF;\n",
              "    }\n",
              "  </style>\n",
              "\n",
              "      <script>\n",
              "        const buttonEl =\n",
              "          document.querySelector('#df-af154dbe-3b24-425a-b4f1-45fee150d7d9 button.colab-df-convert');\n",
              "        buttonEl.style.display =\n",
              "          google.colab.kernel.accessAllowed ? 'block' : 'none';\n",
              "\n",
              "        async function convertToInteractive(key) {\n",
              "          const element = document.querySelector('#df-af154dbe-3b24-425a-b4f1-45fee150d7d9');\n",
              "          const dataTable =\n",
              "            await google.colab.kernel.invokeFunction('convertToInteractive',\n",
              "                                                     [key], {});\n",
              "          if (!dataTable) return;\n",
              "\n",
              "          const docLinkHtml = 'Like what you see? Visit the ' +\n",
              "            '<a target=\"_blank\" href=https://colab.research.google.com/notebooks/data_table.ipynb>data table notebook</a>'\n",
              "            + ' to learn more about interactive tables.';\n",
              "          element.innerHTML = '';\n",
              "          dataTable['output_type'] = 'display_data';\n",
              "          await google.colab.output.renderOutput(dataTable, element);\n",
              "          const docLink = document.createElement('div');\n",
              "          docLink.innerHTML = docLinkHtml;\n",
              "          element.appendChild(docLink);\n",
              "        }\n",
              "      </script>\n",
              "    </div>\n",
              "  </div>\n",
              "  "
            ]
          },
          "metadata": {},
          "execution_count": 14
        }
      ]
    },
    {
      "cell_type": "markdown",
      "source": [
        "# Formatting"
      ],
      "metadata": {
        "id": "UHeHh0CTMMwM"
      }
    },
    {
      "cell_type": "markdown",
      "source": [
        "Our table looks much cleaner now, we consolidated the data down into data we want to actually look at.\n",
        "\n",
        "Lets next rename the 'ts' column into 'time' just to better clarify. We will use the \"rename\" method to do so."
      ],
      "metadata": {
        "id": "N6iyZHNi25wM"
      }
    },
    {
      "cell_type": "code",
      "source": [
        "df.rename(columns = {'ts':'time'}, inplace = True)\n",
        "\n",
        "df"
      ],
      "metadata": {
        "id": "8IZuFDjw3IfY",
        "colab": {
          "base_uri": "https://localhost:8080/",
          "height": 424
        },
        "outputId": "7c20ef30-a1d2-466b-f408-9f748504a5f6"
      },
      "execution_count": 15,
      "outputs": [
        {
          "output_type": "execute_result",
          "data": {
            "text/plain": [
              "                             time     user  \\\n",
              "4      2019-12-01T00:56:23.288000    Ryden   \n",
              "5      2019-12-01T01:07:04.875000  Jayvien   \n",
              "6      2019-12-01T01:10:54.022000  Kaliope   \n",
              "7      2019-12-01T01:13:29.732000    Naely   \n",
              "8      2019-12-01T01:16:43.656000  Jayvien   \n",
              "...                           ...      ...   \n",
              "30939  2019-12-31T18:24:58.198000  Azyriah   \n",
              "30940  2019-12-31T18:25:37.421000  Areesha   \n",
              "30941  2019-12-31T18:26:17.603000  Areesha   \n",
              "30942  2019-12-31T18:29:15.676000   Ailany   \n",
              "30943  2019-12-31T18:29:57.380000   Ailany   \n",
              "\n",
              "                                                    text  \n",
              "4      where is the name of the file stored on the file?  \n",
              "5                                              say what?  \n",
              "6      Where would you guys recommend I learn kotlin ...  \n",
              "7      I used the official Kotlin docs they have an e...  \n",
              "8                                               do they?  \n",
              "...                                                  ...  \n",
              "30939                                      hi @GokturkSM  \n",
              "30940  Anyone have some math background? Trying to im...  \n",
              "30941  My question is... what exactly is a cyclic gro...  \n",
              "30942  You need to know what exceptions your code may...  \n",
              "30943                                               @cup  \n",
              "\n",
              "[30940 rows x 3 columns]"
            ],
            "text/html": [
              "\n",
              "  <div id=\"df-77cf3460-1e49-482f-9aec-c5c20d2cbabf\">\n",
              "    <div class=\"colab-df-container\">\n",
              "      <div>\n",
              "<style scoped>\n",
              "    .dataframe tbody tr th:only-of-type {\n",
              "        vertical-align: middle;\n",
              "    }\n",
              "\n",
              "    .dataframe tbody tr th {\n",
              "        vertical-align: top;\n",
              "    }\n",
              "\n",
              "    .dataframe thead th {\n",
              "        text-align: right;\n",
              "    }\n",
              "</style>\n",
              "<table border=\"1\" class=\"dataframe\">\n",
              "  <thead>\n",
              "    <tr style=\"text-align: right;\">\n",
              "      <th></th>\n",
              "      <th>time</th>\n",
              "      <th>user</th>\n",
              "      <th>text</th>\n",
              "    </tr>\n",
              "  </thead>\n",
              "  <tbody>\n",
              "    <tr>\n",
              "      <th>4</th>\n",
              "      <td>2019-12-01T00:56:23.288000</td>\n",
              "      <td>Ryden</td>\n",
              "      <td>where is the name of the file stored on the file?</td>\n",
              "    </tr>\n",
              "    <tr>\n",
              "      <th>5</th>\n",
              "      <td>2019-12-01T01:07:04.875000</td>\n",
              "      <td>Jayvien</td>\n",
              "      <td>say what?</td>\n",
              "    </tr>\n",
              "    <tr>\n",
              "      <th>6</th>\n",
              "      <td>2019-12-01T01:10:54.022000</td>\n",
              "      <td>Kaliope</td>\n",
              "      <td>Where would you guys recommend I learn kotlin ...</td>\n",
              "    </tr>\n",
              "    <tr>\n",
              "      <th>7</th>\n",
              "      <td>2019-12-01T01:13:29.732000</td>\n",
              "      <td>Naely</td>\n",
              "      <td>I used the official Kotlin docs they have an e...</td>\n",
              "    </tr>\n",
              "    <tr>\n",
              "      <th>8</th>\n",
              "      <td>2019-12-01T01:16:43.656000</td>\n",
              "      <td>Jayvien</td>\n",
              "      <td>do they?</td>\n",
              "    </tr>\n",
              "    <tr>\n",
              "      <th>...</th>\n",
              "      <td>...</td>\n",
              "      <td>...</td>\n",
              "      <td>...</td>\n",
              "    </tr>\n",
              "    <tr>\n",
              "      <th>30939</th>\n",
              "      <td>2019-12-31T18:24:58.198000</td>\n",
              "      <td>Azyriah</td>\n",
              "      <td>hi @GokturkSM</td>\n",
              "    </tr>\n",
              "    <tr>\n",
              "      <th>30940</th>\n",
              "      <td>2019-12-31T18:25:37.421000</td>\n",
              "      <td>Areesha</td>\n",
              "      <td>Anyone have some math background? Trying to im...</td>\n",
              "    </tr>\n",
              "    <tr>\n",
              "      <th>30941</th>\n",
              "      <td>2019-12-31T18:26:17.603000</td>\n",
              "      <td>Areesha</td>\n",
              "      <td>My question is... what exactly is a cyclic gro...</td>\n",
              "    </tr>\n",
              "    <tr>\n",
              "      <th>30942</th>\n",
              "      <td>2019-12-31T18:29:15.676000</td>\n",
              "      <td>Ailany</td>\n",
              "      <td>You need to know what exceptions your code may...</td>\n",
              "    </tr>\n",
              "    <tr>\n",
              "      <th>30943</th>\n",
              "      <td>2019-12-31T18:29:57.380000</td>\n",
              "      <td>Ailany</td>\n",
              "      <td>@cup</td>\n",
              "    </tr>\n",
              "  </tbody>\n",
              "</table>\n",
              "<p>30940 rows × 3 columns</p>\n",
              "</div>\n",
              "      <button class=\"colab-df-convert\" onclick=\"convertToInteractive('df-77cf3460-1e49-482f-9aec-c5c20d2cbabf')\"\n",
              "              title=\"Convert this dataframe to an interactive table.\"\n",
              "              style=\"display:none;\">\n",
              "        \n",
              "  <svg xmlns=\"http://www.w3.org/2000/svg\" height=\"24px\"viewBox=\"0 0 24 24\"\n",
              "       width=\"24px\">\n",
              "    <path d=\"M0 0h24v24H0V0z\" fill=\"none\"/>\n",
              "    <path d=\"M18.56 5.44l.94 2.06.94-2.06 2.06-.94-2.06-.94-.94-2.06-.94 2.06-2.06.94zm-11 1L8.5 8.5l.94-2.06 2.06-.94-2.06-.94L8.5 2.5l-.94 2.06-2.06.94zm10 10l.94 2.06.94-2.06 2.06-.94-2.06-.94-.94-2.06-.94 2.06-2.06.94z\"/><path d=\"M17.41 7.96l-1.37-1.37c-.4-.4-.92-.59-1.43-.59-.52 0-1.04.2-1.43.59L10.3 9.45l-7.72 7.72c-.78.78-.78 2.05 0 2.83L4 21.41c.39.39.9.59 1.41.59.51 0 1.02-.2 1.41-.59l7.78-7.78 2.81-2.81c.8-.78.8-2.07 0-2.86zM5.41 20L4 18.59l7.72-7.72 1.47 1.35L5.41 20z\"/>\n",
              "  </svg>\n",
              "      </button>\n",
              "      \n",
              "  <style>\n",
              "    .colab-df-container {\n",
              "      display:flex;\n",
              "      flex-wrap:wrap;\n",
              "      gap: 12px;\n",
              "    }\n",
              "\n",
              "    .colab-df-convert {\n",
              "      background-color: #E8F0FE;\n",
              "      border: none;\n",
              "      border-radius: 50%;\n",
              "      cursor: pointer;\n",
              "      display: none;\n",
              "      fill: #1967D2;\n",
              "      height: 32px;\n",
              "      padding: 0 0 0 0;\n",
              "      width: 32px;\n",
              "    }\n",
              "\n",
              "    .colab-df-convert:hover {\n",
              "      background-color: #E2EBFA;\n",
              "      box-shadow: 0px 1px 2px rgba(60, 64, 67, 0.3), 0px 1px 3px 1px rgba(60, 64, 67, 0.15);\n",
              "      fill: #174EA6;\n",
              "    }\n",
              "\n",
              "    [theme=dark] .colab-df-convert {\n",
              "      background-color: #3B4455;\n",
              "      fill: #D2E3FC;\n",
              "    }\n",
              "\n",
              "    [theme=dark] .colab-df-convert:hover {\n",
              "      background-color: #434B5C;\n",
              "      box-shadow: 0px 1px 3px 1px rgba(0, 0, 0, 0.15);\n",
              "      filter: drop-shadow(0px 1px 2px rgba(0, 0, 0, 0.3));\n",
              "      fill: #FFFFFF;\n",
              "    }\n",
              "  </style>\n",
              "\n",
              "      <script>\n",
              "        const buttonEl =\n",
              "          document.querySelector('#df-77cf3460-1e49-482f-9aec-c5c20d2cbabf button.colab-df-convert');\n",
              "        buttonEl.style.display =\n",
              "          google.colab.kernel.accessAllowed ? 'block' : 'none';\n",
              "\n",
              "        async function convertToInteractive(key) {\n",
              "          const element = document.querySelector('#df-77cf3460-1e49-482f-9aec-c5c20d2cbabf');\n",
              "          const dataTable =\n",
              "            await google.colab.kernel.invokeFunction('convertToInteractive',\n",
              "                                                     [key], {});\n",
              "          if (!dataTable) return;\n",
              "\n",
              "          const docLinkHtml = 'Like what you see? Visit the ' +\n",
              "            '<a target=\"_blank\" href=https://colab.research.google.com/notebooks/data_table.ipynb>data table notebook</a>'\n",
              "            + ' to learn more about interactive tables.';\n",
              "          element.innerHTML = '';\n",
              "          dataTable['output_type'] = 'display_data';\n",
              "          await google.colab.output.renderOutput(dataTable, element);\n",
              "          const docLink = document.createElement('div');\n",
              "          docLink.innerHTML = docLinkHtml;\n",
              "          element.appendChild(docLink);\n",
              "        }\n",
              "      </script>\n",
              "    </div>\n",
              "  </div>\n",
              "  "
            ]
          },
          "metadata": {},
          "execution_count": 15
        }
      ]
    },
    {
      "cell_type": "markdown",
      "source": [
        "Our table is now more simpiler to look at. However if you take a look at the time column, with the format, it is very hard to read what it says.\n",
        "\n",
        "Let's now re-format this column to be able to read the time each message was sent.\n",
        "\n",
        "We will use the 'pandas' library once again as well as the \"to_datetime\" method to re-format this column in a more readable way."
      ],
      "metadata": {
        "id": "Oq6bPNYx3PSJ"
      }
    },
    {
      "cell_type": "code",
      "source": [
        "df['time'] = pd.to_datetime(df['time'], format=\"%Y-%m-%d\")\n",
        "\n",
        "df"
      ],
      "metadata": {
        "id": "xO0xxcMN3odK",
        "colab": {
          "base_uri": "https://localhost:8080/",
          "height": 424
        },
        "outputId": "ef6c000d-d58f-4f50-853d-b467936a1101"
      },
      "execution_count": 16,
      "outputs": [
        {
          "output_type": "execute_result",
          "data": {
            "text/plain": [
              "                         time     user  \\\n",
              "4     2019-12-01 00:56:23.288    Ryden   \n",
              "5     2019-12-01 01:07:04.875  Jayvien   \n",
              "6     2019-12-01 01:10:54.022  Kaliope   \n",
              "7     2019-12-01 01:13:29.732    Naely   \n",
              "8     2019-12-01 01:16:43.656  Jayvien   \n",
              "...                       ...      ...   \n",
              "30939 2019-12-31 18:24:58.198  Azyriah   \n",
              "30940 2019-12-31 18:25:37.421  Areesha   \n",
              "30941 2019-12-31 18:26:17.603  Areesha   \n",
              "30942 2019-12-31 18:29:15.676   Ailany   \n",
              "30943 2019-12-31 18:29:57.380   Ailany   \n",
              "\n",
              "                                                    text  \n",
              "4      where is the name of the file stored on the file?  \n",
              "5                                              say what?  \n",
              "6      Where would you guys recommend I learn kotlin ...  \n",
              "7      I used the official Kotlin docs they have an e...  \n",
              "8                                               do they?  \n",
              "...                                                  ...  \n",
              "30939                                      hi @GokturkSM  \n",
              "30940  Anyone have some math background? Trying to im...  \n",
              "30941  My question is... what exactly is a cyclic gro...  \n",
              "30942  You need to know what exceptions your code may...  \n",
              "30943                                               @cup  \n",
              "\n",
              "[30940 rows x 3 columns]"
            ],
            "text/html": [
              "\n",
              "  <div id=\"df-5bfd62aa-5021-4da6-9d6e-ae33b3fbe66d\">\n",
              "    <div class=\"colab-df-container\">\n",
              "      <div>\n",
              "<style scoped>\n",
              "    .dataframe tbody tr th:only-of-type {\n",
              "        vertical-align: middle;\n",
              "    }\n",
              "\n",
              "    .dataframe tbody tr th {\n",
              "        vertical-align: top;\n",
              "    }\n",
              "\n",
              "    .dataframe thead th {\n",
              "        text-align: right;\n",
              "    }\n",
              "</style>\n",
              "<table border=\"1\" class=\"dataframe\">\n",
              "  <thead>\n",
              "    <tr style=\"text-align: right;\">\n",
              "      <th></th>\n",
              "      <th>time</th>\n",
              "      <th>user</th>\n",
              "      <th>text</th>\n",
              "    </tr>\n",
              "  </thead>\n",
              "  <tbody>\n",
              "    <tr>\n",
              "      <th>4</th>\n",
              "      <td>2019-12-01 00:56:23.288</td>\n",
              "      <td>Ryden</td>\n",
              "      <td>where is the name of the file stored on the file?</td>\n",
              "    </tr>\n",
              "    <tr>\n",
              "      <th>5</th>\n",
              "      <td>2019-12-01 01:07:04.875</td>\n",
              "      <td>Jayvien</td>\n",
              "      <td>say what?</td>\n",
              "    </tr>\n",
              "    <tr>\n",
              "      <th>6</th>\n",
              "      <td>2019-12-01 01:10:54.022</td>\n",
              "      <td>Kaliope</td>\n",
              "      <td>Where would you guys recommend I learn kotlin ...</td>\n",
              "    </tr>\n",
              "    <tr>\n",
              "      <th>7</th>\n",
              "      <td>2019-12-01 01:13:29.732</td>\n",
              "      <td>Naely</td>\n",
              "      <td>I used the official Kotlin docs they have an e...</td>\n",
              "    </tr>\n",
              "    <tr>\n",
              "      <th>8</th>\n",
              "      <td>2019-12-01 01:16:43.656</td>\n",
              "      <td>Jayvien</td>\n",
              "      <td>do they?</td>\n",
              "    </tr>\n",
              "    <tr>\n",
              "      <th>...</th>\n",
              "      <td>...</td>\n",
              "      <td>...</td>\n",
              "      <td>...</td>\n",
              "    </tr>\n",
              "    <tr>\n",
              "      <th>30939</th>\n",
              "      <td>2019-12-31 18:24:58.198</td>\n",
              "      <td>Azyriah</td>\n",
              "      <td>hi @GokturkSM</td>\n",
              "    </tr>\n",
              "    <tr>\n",
              "      <th>30940</th>\n",
              "      <td>2019-12-31 18:25:37.421</td>\n",
              "      <td>Areesha</td>\n",
              "      <td>Anyone have some math background? Trying to im...</td>\n",
              "    </tr>\n",
              "    <tr>\n",
              "      <th>30941</th>\n",
              "      <td>2019-12-31 18:26:17.603</td>\n",
              "      <td>Areesha</td>\n",
              "      <td>My question is... what exactly is a cyclic gro...</td>\n",
              "    </tr>\n",
              "    <tr>\n",
              "      <th>30942</th>\n",
              "      <td>2019-12-31 18:29:15.676</td>\n",
              "      <td>Ailany</td>\n",
              "      <td>You need to know what exceptions your code may...</td>\n",
              "    </tr>\n",
              "    <tr>\n",
              "      <th>30943</th>\n",
              "      <td>2019-12-31 18:29:57.380</td>\n",
              "      <td>Ailany</td>\n",
              "      <td>@cup</td>\n",
              "    </tr>\n",
              "  </tbody>\n",
              "</table>\n",
              "<p>30940 rows × 3 columns</p>\n",
              "</div>\n",
              "      <button class=\"colab-df-convert\" onclick=\"convertToInteractive('df-5bfd62aa-5021-4da6-9d6e-ae33b3fbe66d')\"\n",
              "              title=\"Convert this dataframe to an interactive table.\"\n",
              "              style=\"display:none;\">\n",
              "        \n",
              "  <svg xmlns=\"http://www.w3.org/2000/svg\" height=\"24px\"viewBox=\"0 0 24 24\"\n",
              "       width=\"24px\">\n",
              "    <path d=\"M0 0h24v24H0V0z\" fill=\"none\"/>\n",
              "    <path d=\"M18.56 5.44l.94 2.06.94-2.06 2.06-.94-2.06-.94-.94-2.06-.94 2.06-2.06.94zm-11 1L8.5 8.5l.94-2.06 2.06-.94-2.06-.94L8.5 2.5l-.94 2.06-2.06.94zm10 10l.94 2.06.94-2.06 2.06-.94-2.06-.94-.94-2.06-.94 2.06-2.06.94z\"/><path d=\"M17.41 7.96l-1.37-1.37c-.4-.4-.92-.59-1.43-.59-.52 0-1.04.2-1.43.59L10.3 9.45l-7.72 7.72c-.78.78-.78 2.05 0 2.83L4 21.41c.39.39.9.59 1.41.59.51 0 1.02-.2 1.41-.59l7.78-7.78 2.81-2.81c.8-.78.8-2.07 0-2.86zM5.41 20L4 18.59l7.72-7.72 1.47 1.35L5.41 20z\"/>\n",
              "  </svg>\n",
              "      </button>\n",
              "      \n",
              "  <style>\n",
              "    .colab-df-container {\n",
              "      display:flex;\n",
              "      flex-wrap:wrap;\n",
              "      gap: 12px;\n",
              "    }\n",
              "\n",
              "    .colab-df-convert {\n",
              "      background-color: #E8F0FE;\n",
              "      border: none;\n",
              "      border-radius: 50%;\n",
              "      cursor: pointer;\n",
              "      display: none;\n",
              "      fill: #1967D2;\n",
              "      height: 32px;\n",
              "      padding: 0 0 0 0;\n",
              "      width: 32px;\n",
              "    }\n",
              "\n",
              "    .colab-df-convert:hover {\n",
              "      background-color: #E2EBFA;\n",
              "      box-shadow: 0px 1px 2px rgba(60, 64, 67, 0.3), 0px 1px 3px 1px rgba(60, 64, 67, 0.15);\n",
              "      fill: #174EA6;\n",
              "    }\n",
              "\n",
              "    [theme=dark] .colab-df-convert {\n",
              "      background-color: #3B4455;\n",
              "      fill: #D2E3FC;\n",
              "    }\n",
              "\n",
              "    [theme=dark] .colab-df-convert:hover {\n",
              "      background-color: #434B5C;\n",
              "      box-shadow: 0px 1px 3px 1px rgba(0, 0, 0, 0.15);\n",
              "      filter: drop-shadow(0px 1px 2px rgba(0, 0, 0, 0.3));\n",
              "      fill: #FFFFFF;\n",
              "    }\n",
              "  </style>\n",
              "\n",
              "      <script>\n",
              "        const buttonEl =\n",
              "          document.querySelector('#df-5bfd62aa-5021-4da6-9d6e-ae33b3fbe66d button.colab-df-convert');\n",
              "        buttonEl.style.display =\n",
              "          google.colab.kernel.accessAllowed ? 'block' : 'none';\n",
              "\n",
              "        async function convertToInteractive(key) {\n",
              "          const element = document.querySelector('#df-5bfd62aa-5021-4da6-9d6e-ae33b3fbe66d');\n",
              "          const dataTable =\n",
              "            await google.colab.kernel.invokeFunction('convertToInteractive',\n",
              "                                                     [key], {});\n",
              "          if (!dataTable) return;\n",
              "\n",
              "          const docLinkHtml = 'Like what you see? Visit the ' +\n",
              "            '<a target=\"_blank\" href=https://colab.research.google.com/notebooks/data_table.ipynb>data table notebook</a>'\n",
              "            + ' to learn more about interactive tables.';\n",
              "          element.innerHTML = '';\n",
              "          dataTable['output_type'] = 'display_data';\n",
              "          await google.colab.output.renderOutput(dataTable, element);\n",
              "          const docLink = document.createElement('div');\n",
              "          docLink.innerHTML = docLinkHtml;\n",
              "          element.appendChild(docLink);\n",
              "        }\n",
              "      </script>\n",
              "    </div>\n",
              "  </div>\n",
              "  "
            ]
          },
          "metadata": {},
          "execution_count": 16
        }
      ]
    },
    {
      "cell_type": "markdown",
      "source": [
        "Additionally, we can add in the day of the week each messages was sent.\n",
        "\n"
      ],
      "metadata": {
        "id": "m1ehOaWGePAa"
      }
    },
    {
      "cell_type": "code",
      "source": [
        "df['day'] = df['time'].dt.day_name()\n",
        "\n",
        "df"
      ],
      "metadata": {
        "colab": {
          "base_uri": "https://localhost:8080/",
          "height": 424
        },
        "id": "zAG-QipZeV9D",
        "outputId": "92a0fdac-1444-4135-f689-3a5804cc810d"
      },
      "execution_count": 17,
      "outputs": [
        {
          "output_type": "execute_result",
          "data": {
            "text/plain": [
              "                         time     user  \\\n",
              "4     2019-12-01 00:56:23.288    Ryden   \n",
              "5     2019-12-01 01:07:04.875  Jayvien   \n",
              "6     2019-12-01 01:10:54.022  Kaliope   \n",
              "7     2019-12-01 01:13:29.732    Naely   \n",
              "8     2019-12-01 01:16:43.656  Jayvien   \n",
              "...                       ...      ...   \n",
              "30939 2019-12-31 18:24:58.198  Azyriah   \n",
              "30940 2019-12-31 18:25:37.421  Areesha   \n",
              "30941 2019-12-31 18:26:17.603  Areesha   \n",
              "30942 2019-12-31 18:29:15.676   Ailany   \n",
              "30943 2019-12-31 18:29:57.380   Ailany   \n",
              "\n",
              "                                                    text      day  \n",
              "4      where is the name of the file stored on the file?   Sunday  \n",
              "5                                              say what?   Sunday  \n",
              "6      Where would you guys recommend I learn kotlin ...   Sunday  \n",
              "7      I used the official Kotlin docs they have an e...   Sunday  \n",
              "8                                               do they?   Sunday  \n",
              "...                                                  ...      ...  \n",
              "30939                                      hi @GokturkSM  Tuesday  \n",
              "30940  Anyone have some math background? Trying to im...  Tuesday  \n",
              "30941  My question is... what exactly is a cyclic gro...  Tuesday  \n",
              "30942  You need to know what exceptions your code may...  Tuesday  \n",
              "30943                                               @cup  Tuesday  \n",
              "\n",
              "[30940 rows x 4 columns]"
            ],
            "text/html": [
              "\n",
              "  <div id=\"df-1b900bed-be18-47e8-a0b0-e6db43692e2d\">\n",
              "    <div class=\"colab-df-container\">\n",
              "      <div>\n",
              "<style scoped>\n",
              "    .dataframe tbody tr th:only-of-type {\n",
              "        vertical-align: middle;\n",
              "    }\n",
              "\n",
              "    .dataframe tbody tr th {\n",
              "        vertical-align: top;\n",
              "    }\n",
              "\n",
              "    .dataframe thead th {\n",
              "        text-align: right;\n",
              "    }\n",
              "</style>\n",
              "<table border=\"1\" class=\"dataframe\">\n",
              "  <thead>\n",
              "    <tr style=\"text-align: right;\">\n",
              "      <th></th>\n",
              "      <th>time</th>\n",
              "      <th>user</th>\n",
              "      <th>text</th>\n",
              "      <th>day</th>\n",
              "    </tr>\n",
              "  </thead>\n",
              "  <tbody>\n",
              "    <tr>\n",
              "      <th>4</th>\n",
              "      <td>2019-12-01 00:56:23.288</td>\n",
              "      <td>Ryden</td>\n",
              "      <td>where is the name of the file stored on the file?</td>\n",
              "      <td>Sunday</td>\n",
              "    </tr>\n",
              "    <tr>\n",
              "      <th>5</th>\n",
              "      <td>2019-12-01 01:07:04.875</td>\n",
              "      <td>Jayvien</td>\n",
              "      <td>say what?</td>\n",
              "      <td>Sunday</td>\n",
              "    </tr>\n",
              "    <tr>\n",
              "      <th>6</th>\n",
              "      <td>2019-12-01 01:10:54.022</td>\n",
              "      <td>Kaliope</td>\n",
              "      <td>Where would you guys recommend I learn kotlin ...</td>\n",
              "      <td>Sunday</td>\n",
              "    </tr>\n",
              "    <tr>\n",
              "      <th>7</th>\n",
              "      <td>2019-12-01 01:13:29.732</td>\n",
              "      <td>Naely</td>\n",
              "      <td>I used the official Kotlin docs they have an e...</td>\n",
              "      <td>Sunday</td>\n",
              "    </tr>\n",
              "    <tr>\n",
              "      <th>8</th>\n",
              "      <td>2019-12-01 01:16:43.656</td>\n",
              "      <td>Jayvien</td>\n",
              "      <td>do they?</td>\n",
              "      <td>Sunday</td>\n",
              "    </tr>\n",
              "    <tr>\n",
              "      <th>...</th>\n",
              "      <td>...</td>\n",
              "      <td>...</td>\n",
              "      <td>...</td>\n",
              "      <td>...</td>\n",
              "    </tr>\n",
              "    <tr>\n",
              "      <th>30939</th>\n",
              "      <td>2019-12-31 18:24:58.198</td>\n",
              "      <td>Azyriah</td>\n",
              "      <td>hi @GokturkSM</td>\n",
              "      <td>Tuesday</td>\n",
              "    </tr>\n",
              "    <tr>\n",
              "      <th>30940</th>\n",
              "      <td>2019-12-31 18:25:37.421</td>\n",
              "      <td>Areesha</td>\n",
              "      <td>Anyone have some math background? Trying to im...</td>\n",
              "      <td>Tuesday</td>\n",
              "    </tr>\n",
              "    <tr>\n",
              "      <th>30941</th>\n",
              "      <td>2019-12-31 18:26:17.603</td>\n",
              "      <td>Areesha</td>\n",
              "      <td>My question is... what exactly is a cyclic gro...</td>\n",
              "      <td>Tuesday</td>\n",
              "    </tr>\n",
              "    <tr>\n",
              "      <th>30942</th>\n",
              "      <td>2019-12-31 18:29:15.676</td>\n",
              "      <td>Ailany</td>\n",
              "      <td>You need to know what exceptions your code may...</td>\n",
              "      <td>Tuesday</td>\n",
              "    </tr>\n",
              "    <tr>\n",
              "      <th>30943</th>\n",
              "      <td>2019-12-31 18:29:57.380</td>\n",
              "      <td>Ailany</td>\n",
              "      <td>@cup</td>\n",
              "      <td>Tuesday</td>\n",
              "    </tr>\n",
              "  </tbody>\n",
              "</table>\n",
              "<p>30940 rows × 4 columns</p>\n",
              "</div>\n",
              "      <button class=\"colab-df-convert\" onclick=\"convertToInteractive('df-1b900bed-be18-47e8-a0b0-e6db43692e2d')\"\n",
              "              title=\"Convert this dataframe to an interactive table.\"\n",
              "              style=\"display:none;\">\n",
              "        \n",
              "  <svg xmlns=\"http://www.w3.org/2000/svg\" height=\"24px\"viewBox=\"0 0 24 24\"\n",
              "       width=\"24px\">\n",
              "    <path d=\"M0 0h24v24H0V0z\" fill=\"none\"/>\n",
              "    <path d=\"M18.56 5.44l.94 2.06.94-2.06 2.06-.94-2.06-.94-.94-2.06-.94 2.06-2.06.94zm-11 1L8.5 8.5l.94-2.06 2.06-.94-2.06-.94L8.5 2.5l-.94 2.06-2.06.94zm10 10l.94 2.06.94-2.06 2.06-.94-2.06-.94-.94-2.06-.94 2.06-2.06.94z\"/><path d=\"M17.41 7.96l-1.37-1.37c-.4-.4-.92-.59-1.43-.59-.52 0-1.04.2-1.43.59L10.3 9.45l-7.72 7.72c-.78.78-.78 2.05 0 2.83L4 21.41c.39.39.9.59 1.41.59.51 0 1.02-.2 1.41-.59l7.78-7.78 2.81-2.81c.8-.78.8-2.07 0-2.86zM5.41 20L4 18.59l7.72-7.72 1.47 1.35L5.41 20z\"/>\n",
              "  </svg>\n",
              "      </button>\n",
              "      \n",
              "  <style>\n",
              "    .colab-df-container {\n",
              "      display:flex;\n",
              "      flex-wrap:wrap;\n",
              "      gap: 12px;\n",
              "    }\n",
              "\n",
              "    .colab-df-convert {\n",
              "      background-color: #E8F0FE;\n",
              "      border: none;\n",
              "      border-radius: 50%;\n",
              "      cursor: pointer;\n",
              "      display: none;\n",
              "      fill: #1967D2;\n",
              "      height: 32px;\n",
              "      padding: 0 0 0 0;\n",
              "      width: 32px;\n",
              "    }\n",
              "\n",
              "    .colab-df-convert:hover {\n",
              "      background-color: #E2EBFA;\n",
              "      box-shadow: 0px 1px 2px rgba(60, 64, 67, 0.3), 0px 1px 3px 1px rgba(60, 64, 67, 0.15);\n",
              "      fill: #174EA6;\n",
              "    }\n",
              "\n",
              "    [theme=dark] .colab-df-convert {\n",
              "      background-color: #3B4455;\n",
              "      fill: #D2E3FC;\n",
              "    }\n",
              "\n",
              "    [theme=dark] .colab-df-convert:hover {\n",
              "      background-color: #434B5C;\n",
              "      box-shadow: 0px 1px 3px 1px rgba(0, 0, 0, 0.15);\n",
              "      filter: drop-shadow(0px 1px 2px rgba(0, 0, 0, 0.3));\n",
              "      fill: #FFFFFF;\n",
              "    }\n",
              "  </style>\n",
              "\n",
              "      <script>\n",
              "        const buttonEl =\n",
              "          document.querySelector('#df-1b900bed-be18-47e8-a0b0-e6db43692e2d button.colab-df-convert');\n",
              "        buttonEl.style.display =\n",
              "          google.colab.kernel.accessAllowed ? 'block' : 'none';\n",
              "\n",
              "        async function convertToInteractive(key) {\n",
              "          const element = document.querySelector('#df-1b900bed-be18-47e8-a0b0-e6db43692e2d');\n",
              "          const dataTable =\n",
              "            await google.colab.kernel.invokeFunction('convertToInteractive',\n",
              "                                                     [key], {});\n",
              "          if (!dataTable) return;\n",
              "\n",
              "          const docLinkHtml = 'Like what you see? Visit the ' +\n",
              "            '<a target=\"_blank\" href=https://colab.research.google.com/notebooks/data_table.ipynb>data table notebook</a>'\n",
              "            + ' to learn more about interactive tables.';\n",
              "          element.innerHTML = '';\n",
              "          dataTable['output_type'] = 'display_data';\n",
              "          await google.colab.output.renderOutput(dataTable, element);\n",
              "          const docLink = document.createElement('div');\n",
              "          docLink.innerHTML = docLinkHtml;\n",
              "          element.appendChild(docLink);\n",
              "        }\n",
              "      </script>\n",
              "    </div>\n",
              "  </div>\n",
              "  "
            ]
          },
          "metadata": {},
          "execution_count": 17
        }
      ]
    },
    {
      "cell_type": "markdown",
      "source": [
        "Now let's fix the time for when each message was sent as it looks very messy at the moment.\n",
        "\n",
        "First, we can re-format the 'time' column and convert the time to just include the hour and minute. This way it's a little more readable and not as cluttered as before."
      ],
      "metadata": {
        "id": "eHHBFeuVuMeU"
      }
    },
    {
      "cell_type": "code",
      "source": [
        "df['time'] = pd.to_datetime(df['time'], dayfirst=True).dt.strftime(\"%Y-%m-%d %H:%M\")\n",
        "\n",
        "df"
      ],
      "metadata": {
        "colab": {
          "base_uri": "https://localhost:8080/",
          "height": 424
        },
        "id": "RPg_PDHmuIOy",
        "outputId": "fcc8704b-3a35-4eae-bbda-c16179798a83"
      },
      "execution_count": 18,
      "outputs": [
        {
          "output_type": "execute_result",
          "data": {
            "text/plain": [
              "                   time     user  \\\n",
              "4      2019-12-01 00:56    Ryden   \n",
              "5      2019-12-01 01:07  Jayvien   \n",
              "6      2019-12-01 01:10  Kaliope   \n",
              "7      2019-12-01 01:13    Naely   \n",
              "8      2019-12-01 01:16  Jayvien   \n",
              "...                 ...      ...   \n",
              "30939  2019-12-31 18:24  Azyriah   \n",
              "30940  2019-12-31 18:25  Areesha   \n",
              "30941  2019-12-31 18:26  Areesha   \n",
              "30942  2019-12-31 18:29   Ailany   \n",
              "30943  2019-12-31 18:29   Ailany   \n",
              "\n",
              "                                                    text      day  \n",
              "4      where is the name of the file stored on the file?   Sunday  \n",
              "5                                              say what?   Sunday  \n",
              "6      Where would you guys recommend I learn kotlin ...   Sunday  \n",
              "7      I used the official Kotlin docs they have an e...   Sunday  \n",
              "8                                               do they?   Sunday  \n",
              "...                                                  ...      ...  \n",
              "30939                                      hi @GokturkSM  Tuesday  \n",
              "30940  Anyone have some math background? Trying to im...  Tuesday  \n",
              "30941  My question is... what exactly is a cyclic gro...  Tuesday  \n",
              "30942  You need to know what exceptions your code may...  Tuesday  \n",
              "30943                                               @cup  Tuesday  \n",
              "\n",
              "[30940 rows x 4 columns]"
            ],
            "text/html": [
              "\n",
              "  <div id=\"df-5fb69091-5ee2-4883-85ff-e3a6ba9bfe01\">\n",
              "    <div class=\"colab-df-container\">\n",
              "      <div>\n",
              "<style scoped>\n",
              "    .dataframe tbody tr th:only-of-type {\n",
              "        vertical-align: middle;\n",
              "    }\n",
              "\n",
              "    .dataframe tbody tr th {\n",
              "        vertical-align: top;\n",
              "    }\n",
              "\n",
              "    .dataframe thead th {\n",
              "        text-align: right;\n",
              "    }\n",
              "</style>\n",
              "<table border=\"1\" class=\"dataframe\">\n",
              "  <thead>\n",
              "    <tr style=\"text-align: right;\">\n",
              "      <th></th>\n",
              "      <th>time</th>\n",
              "      <th>user</th>\n",
              "      <th>text</th>\n",
              "      <th>day</th>\n",
              "    </tr>\n",
              "  </thead>\n",
              "  <tbody>\n",
              "    <tr>\n",
              "      <th>4</th>\n",
              "      <td>2019-12-01 00:56</td>\n",
              "      <td>Ryden</td>\n",
              "      <td>where is the name of the file stored on the file?</td>\n",
              "      <td>Sunday</td>\n",
              "    </tr>\n",
              "    <tr>\n",
              "      <th>5</th>\n",
              "      <td>2019-12-01 01:07</td>\n",
              "      <td>Jayvien</td>\n",
              "      <td>say what?</td>\n",
              "      <td>Sunday</td>\n",
              "    </tr>\n",
              "    <tr>\n",
              "      <th>6</th>\n",
              "      <td>2019-12-01 01:10</td>\n",
              "      <td>Kaliope</td>\n",
              "      <td>Where would you guys recommend I learn kotlin ...</td>\n",
              "      <td>Sunday</td>\n",
              "    </tr>\n",
              "    <tr>\n",
              "      <th>7</th>\n",
              "      <td>2019-12-01 01:13</td>\n",
              "      <td>Naely</td>\n",
              "      <td>I used the official Kotlin docs they have an e...</td>\n",
              "      <td>Sunday</td>\n",
              "    </tr>\n",
              "    <tr>\n",
              "      <th>8</th>\n",
              "      <td>2019-12-01 01:16</td>\n",
              "      <td>Jayvien</td>\n",
              "      <td>do they?</td>\n",
              "      <td>Sunday</td>\n",
              "    </tr>\n",
              "    <tr>\n",
              "      <th>...</th>\n",
              "      <td>...</td>\n",
              "      <td>...</td>\n",
              "      <td>...</td>\n",
              "      <td>...</td>\n",
              "    </tr>\n",
              "    <tr>\n",
              "      <th>30939</th>\n",
              "      <td>2019-12-31 18:24</td>\n",
              "      <td>Azyriah</td>\n",
              "      <td>hi @GokturkSM</td>\n",
              "      <td>Tuesday</td>\n",
              "    </tr>\n",
              "    <tr>\n",
              "      <th>30940</th>\n",
              "      <td>2019-12-31 18:25</td>\n",
              "      <td>Areesha</td>\n",
              "      <td>Anyone have some math background? Trying to im...</td>\n",
              "      <td>Tuesday</td>\n",
              "    </tr>\n",
              "    <tr>\n",
              "      <th>30941</th>\n",
              "      <td>2019-12-31 18:26</td>\n",
              "      <td>Areesha</td>\n",
              "      <td>My question is... what exactly is a cyclic gro...</td>\n",
              "      <td>Tuesday</td>\n",
              "    </tr>\n",
              "    <tr>\n",
              "      <th>30942</th>\n",
              "      <td>2019-12-31 18:29</td>\n",
              "      <td>Ailany</td>\n",
              "      <td>You need to know what exceptions your code may...</td>\n",
              "      <td>Tuesday</td>\n",
              "    </tr>\n",
              "    <tr>\n",
              "      <th>30943</th>\n",
              "      <td>2019-12-31 18:29</td>\n",
              "      <td>Ailany</td>\n",
              "      <td>@cup</td>\n",
              "      <td>Tuesday</td>\n",
              "    </tr>\n",
              "  </tbody>\n",
              "</table>\n",
              "<p>30940 rows × 4 columns</p>\n",
              "</div>\n",
              "      <button class=\"colab-df-convert\" onclick=\"convertToInteractive('df-5fb69091-5ee2-4883-85ff-e3a6ba9bfe01')\"\n",
              "              title=\"Convert this dataframe to an interactive table.\"\n",
              "              style=\"display:none;\">\n",
              "        \n",
              "  <svg xmlns=\"http://www.w3.org/2000/svg\" height=\"24px\"viewBox=\"0 0 24 24\"\n",
              "       width=\"24px\">\n",
              "    <path d=\"M0 0h24v24H0V0z\" fill=\"none\"/>\n",
              "    <path d=\"M18.56 5.44l.94 2.06.94-2.06 2.06-.94-2.06-.94-.94-2.06-.94 2.06-2.06.94zm-11 1L8.5 8.5l.94-2.06 2.06-.94-2.06-.94L8.5 2.5l-.94 2.06-2.06.94zm10 10l.94 2.06.94-2.06 2.06-.94-2.06-.94-.94-2.06-.94 2.06-2.06.94z\"/><path d=\"M17.41 7.96l-1.37-1.37c-.4-.4-.92-.59-1.43-.59-.52 0-1.04.2-1.43.59L10.3 9.45l-7.72 7.72c-.78.78-.78 2.05 0 2.83L4 21.41c.39.39.9.59 1.41.59.51 0 1.02-.2 1.41-.59l7.78-7.78 2.81-2.81c.8-.78.8-2.07 0-2.86zM5.41 20L4 18.59l7.72-7.72 1.47 1.35L5.41 20z\"/>\n",
              "  </svg>\n",
              "      </button>\n",
              "      \n",
              "  <style>\n",
              "    .colab-df-container {\n",
              "      display:flex;\n",
              "      flex-wrap:wrap;\n",
              "      gap: 12px;\n",
              "    }\n",
              "\n",
              "    .colab-df-convert {\n",
              "      background-color: #E8F0FE;\n",
              "      border: none;\n",
              "      border-radius: 50%;\n",
              "      cursor: pointer;\n",
              "      display: none;\n",
              "      fill: #1967D2;\n",
              "      height: 32px;\n",
              "      padding: 0 0 0 0;\n",
              "      width: 32px;\n",
              "    }\n",
              "\n",
              "    .colab-df-convert:hover {\n",
              "      background-color: #E2EBFA;\n",
              "      box-shadow: 0px 1px 2px rgba(60, 64, 67, 0.3), 0px 1px 3px 1px rgba(60, 64, 67, 0.15);\n",
              "      fill: #174EA6;\n",
              "    }\n",
              "\n",
              "    [theme=dark] .colab-df-convert {\n",
              "      background-color: #3B4455;\n",
              "      fill: #D2E3FC;\n",
              "    }\n",
              "\n",
              "    [theme=dark] .colab-df-convert:hover {\n",
              "      background-color: #434B5C;\n",
              "      box-shadow: 0px 1px 3px 1px rgba(0, 0, 0, 0.15);\n",
              "      filter: drop-shadow(0px 1px 2px rgba(0, 0, 0, 0.3));\n",
              "      fill: #FFFFFF;\n",
              "    }\n",
              "  </style>\n",
              "\n",
              "      <script>\n",
              "        const buttonEl =\n",
              "          document.querySelector('#df-5fb69091-5ee2-4883-85ff-e3a6ba9bfe01 button.colab-df-convert');\n",
              "        buttonEl.style.display =\n",
              "          google.colab.kernel.accessAllowed ? 'block' : 'none';\n",
              "\n",
              "        async function convertToInteractive(key) {\n",
              "          const element = document.querySelector('#df-5fb69091-5ee2-4883-85ff-e3a6ba9bfe01');\n",
              "          const dataTable =\n",
              "            await google.colab.kernel.invokeFunction('convertToInteractive',\n",
              "                                                     [key], {});\n",
              "          if (!dataTable) return;\n",
              "\n",
              "          const docLinkHtml = 'Like what you see? Visit the ' +\n",
              "            '<a target=\"_blank\" href=https://colab.research.google.com/notebooks/data_table.ipynb>data table notebook</a>'\n",
              "            + ' to learn more about interactive tables.';\n",
              "          element.innerHTML = '';\n",
              "          dataTable['output_type'] = 'display_data';\n",
              "          await google.colab.output.renderOutput(dataTable, element);\n",
              "          const docLink = document.createElement('div');\n",
              "          docLink.innerHTML = docLinkHtml;\n",
              "          element.appendChild(docLink);\n",
              "        }\n",
              "      </script>\n",
              "    </div>\n",
              "  </div>\n",
              "  "
            ]
          },
          "metadata": {},
          "execution_count": 18
        }
      ]
    },
    {
      "cell_type": "markdown",
      "source": [
        "Next, we can split the \"time\" column because it's still difficult to read. \n",
        "\n",
        "Lets split this column into two columns. We can have one column for the \"date\" and another column for the \"time\". This way we can distinguish the numbers better.\n",
        "\n",
        "Let's create two columns called \"date\" & \"time\". We just have to apply the 'split' method to our current \"time\" column, where we can split by the space in-between the date and the time of when each message was sent."
      ],
      "metadata": {
        "id": "fFkJQm5PqDqY"
      }
    },
    {
      "cell_type": "code",
      "source": [
        "df[['date', 'time']] = df[\"time\"].apply(lambda x: pd.Series(str(x).split(\" \")))\n",
        "\n",
        "df"
      ],
      "metadata": {
        "colab": {
          "base_uri": "https://localhost:8080/",
          "height": 424
        },
        "id": "EZUdY-7yo0vW",
        "outputId": "964b8af1-28a8-43c0-b96e-0656318eed8b"
      },
      "execution_count": 19,
      "outputs": [
        {
          "output_type": "execute_result",
          "data": {
            "text/plain": [
              "        time     user                                               text  \\\n",
              "4      00:56    Ryden  where is the name of the file stored on the file?   \n",
              "5      01:07  Jayvien                                          say what?   \n",
              "6      01:10  Kaliope  Where would you guys recommend I learn kotlin ...   \n",
              "7      01:13    Naely  I used the official Kotlin docs they have an e...   \n",
              "8      01:16  Jayvien                                           do they?   \n",
              "...      ...      ...                                                ...   \n",
              "30939  18:24  Azyriah                                      hi @GokturkSM   \n",
              "30940  18:25  Areesha  Anyone have some math background? Trying to im...   \n",
              "30941  18:26  Areesha  My question is... what exactly is a cyclic gro...   \n",
              "30942  18:29   Ailany  You need to know what exceptions your code may...   \n",
              "30943  18:29   Ailany                                               @cup   \n",
              "\n",
              "           day        date  \n",
              "4       Sunday  2019-12-01  \n",
              "5       Sunday  2019-12-01  \n",
              "6       Sunday  2019-12-01  \n",
              "7       Sunday  2019-12-01  \n",
              "8       Sunday  2019-12-01  \n",
              "...        ...         ...  \n",
              "30939  Tuesday  2019-12-31  \n",
              "30940  Tuesday  2019-12-31  \n",
              "30941  Tuesday  2019-12-31  \n",
              "30942  Tuesday  2019-12-31  \n",
              "30943  Tuesday  2019-12-31  \n",
              "\n",
              "[30940 rows x 5 columns]"
            ],
            "text/html": [
              "\n",
              "  <div id=\"df-1dc345d4-8ae6-43b1-bb19-341caab92e8c\">\n",
              "    <div class=\"colab-df-container\">\n",
              "      <div>\n",
              "<style scoped>\n",
              "    .dataframe tbody tr th:only-of-type {\n",
              "        vertical-align: middle;\n",
              "    }\n",
              "\n",
              "    .dataframe tbody tr th {\n",
              "        vertical-align: top;\n",
              "    }\n",
              "\n",
              "    .dataframe thead th {\n",
              "        text-align: right;\n",
              "    }\n",
              "</style>\n",
              "<table border=\"1\" class=\"dataframe\">\n",
              "  <thead>\n",
              "    <tr style=\"text-align: right;\">\n",
              "      <th></th>\n",
              "      <th>time</th>\n",
              "      <th>user</th>\n",
              "      <th>text</th>\n",
              "      <th>day</th>\n",
              "      <th>date</th>\n",
              "    </tr>\n",
              "  </thead>\n",
              "  <tbody>\n",
              "    <tr>\n",
              "      <th>4</th>\n",
              "      <td>00:56</td>\n",
              "      <td>Ryden</td>\n",
              "      <td>where is the name of the file stored on the file?</td>\n",
              "      <td>Sunday</td>\n",
              "      <td>2019-12-01</td>\n",
              "    </tr>\n",
              "    <tr>\n",
              "      <th>5</th>\n",
              "      <td>01:07</td>\n",
              "      <td>Jayvien</td>\n",
              "      <td>say what?</td>\n",
              "      <td>Sunday</td>\n",
              "      <td>2019-12-01</td>\n",
              "    </tr>\n",
              "    <tr>\n",
              "      <th>6</th>\n",
              "      <td>01:10</td>\n",
              "      <td>Kaliope</td>\n",
              "      <td>Where would you guys recommend I learn kotlin ...</td>\n",
              "      <td>Sunday</td>\n",
              "      <td>2019-12-01</td>\n",
              "    </tr>\n",
              "    <tr>\n",
              "      <th>7</th>\n",
              "      <td>01:13</td>\n",
              "      <td>Naely</td>\n",
              "      <td>I used the official Kotlin docs they have an e...</td>\n",
              "      <td>Sunday</td>\n",
              "      <td>2019-12-01</td>\n",
              "    </tr>\n",
              "    <tr>\n",
              "      <th>8</th>\n",
              "      <td>01:16</td>\n",
              "      <td>Jayvien</td>\n",
              "      <td>do they?</td>\n",
              "      <td>Sunday</td>\n",
              "      <td>2019-12-01</td>\n",
              "    </tr>\n",
              "    <tr>\n",
              "      <th>...</th>\n",
              "      <td>...</td>\n",
              "      <td>...</td>\n",
              "      <td>...</td>\n",
              "      <td>...</td>\n",
              "      <td>...</td>\n",
              "    </tr>\n",
              "    <tr>\n",
              "      <th>30939</th>\n",
              "      <td>18:24</td>\n",
              "      <td>Azyriah</td>\n",
              "      <td>hi @GokturkSM</td>\n",
              "      <td>Tuesday</td>\n",
              "      <td>2019-12-31</td>\n",
              "    </tr>\n",
              "    <tr>\n",
              "      <th>30940</th>\n",
              "      <td>18:25</td>\n",
              "      <td>Areesha</td>\n",
              "      <td>Anyone have some math background? Trying to im...</td>\n",
              "      <td>Tuesday</td>\n",
              "      <td>2019-12-31</td>\n",
              "    </tr>\n",
              "    <tr>\n",
              "      <th>30941</th>\n",
              "      <td>18:26</td>\n",
              "      <td>Areesha</td>\n",
              "      <td>My question is... what exactly is a cyclic gro...</td>\n",
              "      <td>Tuesday</td>\n",
              "      <td>2019-12-31</td>\n",
              "    </tr>\n",
              "    <tr>\n",
              "      <th>30942</th>\n",
              "      <td>18:29</td>\n",
              "      <td>Ailany</td>\n",
              "      <td>You need to know what exceptions your code may...</td>\n",
              "      <td>Tuesday</td>\n",
              "      <td>2019-12-31</td>\n",
              "    </tr>\n",
              "    <tr>\n",
              "      <th>30943</th>\n",
              "      <td>18:29</td>\n",
              "      <td>Ailany</td>\n",
              "      <td>@cup</td>\n",
              "      <td>Tuesday</td>\n",
              "      <td>2019-12-31</td>\n",
              "    </tr>\n",
              "  </tbody>\n",
              "</table>\n",
              "<p>30940 rows × 5 columns</p>\n",
              "</div>\n",
              "      <button class=\"colab-df-convert\" onclick=\"convertToInteractive('df-1dc345d4-8ae6-43b1-bb19-341caab92e8c')\"\n",
              "              title=\"Convert this dataframe to an interactive table.\"\n",
              "              style=\"display:none;\">\n",
              "        \n",
              "  <svg xmlns=\"http://www.w3.org/2000/svg\" height=\"24px\"viewBox=\"0 0 24 24\"\n",
              "       width=\"24px\">\n",
              "    <path d=\"M0 0h24v24H0V0z\" fill=\"none\"/>\n",
              "    <path d=\"M18.56 5.44l.94 2.06.94-2.06 2.06-.94-2.06-.94-.94-2.06-.94 2.06-2.06.94zm-11 1L8.5 8.5l.94-2.06 2.06-.94-2.06-.94L8.5 2.5l-.94 2.06-2.06.94zm10 10l.94 2.06.94-2.06 2.06-.94-2.06-.94-.94-2.06-.94 2.06-2.06.94z\"/><path d=\"M17.41 7.96l-1.37-1.37c-.4-.4-.92-.59-1.43-.59-.52 0-1.04.2-1.43.59L10.3 9.45l-7.72 7.72c-.78.78-.78 2.05 0 2.83L4 21.41c.39.39.9.59 1.41.59.51 0 1.02-.2 1.41-.59l7.78-7.78 2.81-2.81c.8-.78.8-2.07 0-2.86zM5.41 20L4 18.59l7.72-7.72 1.47 1.35L5.41 20z\"/>\n",
              "  </svg>\n",
              "      </button>\n",
              "      \n",
              "  <style>\n",
              "    .colab-df-container {\n",
              "      display:flex;\n",
              "      flex-wrap:wrap;\n",
              "      gap: 12px;\n",
              "    }\n",
              "\n",
              "    .colab-df-convert {\n",
              "      background-color: #E8F0FE;\n",
              "      border: none;\n",
              "      border-radius: 50%;\n",
              "      cursor: pointer;\n",
              "      display: none;\n",
              "      fill: #1967D2;\n",
              "      height: 32px;\n",
              "      padding: 0 0 0 0;\n",
              "      width: 32px;\n",
              "    }\n",
              "\n",
              "    .colab-df-convert:hover {\n",
              "      background-color: #E2EBFA;\n",
              "      box-shadow: 0px 1px 2px rgba(60, 64, 67, 0.3), 0px 1px 3px 1px rgba(60, 64, 67, 0.15);\n",
              "      fill: #174EA6;\n",
              "    }\n",
              "\n",
              "    [theme=dark] .colab-df-convert {\n",
              "      background-color: #3B4455;\n",
              "      fill: #D2E3FC;\n",
              "    }\n",
              "\n",
              "    [theme=dark] .colab-df-convert:hover {\n",
              "      background-color: #434B5C;\n",
              "      box-shadow: 0px 1px 3px 1px rgba(0, 0, 0, 0.15);\n",
              "      filter: drop-shadow(0px 1px 2px rgba(0, 0, 0, 0.3));\n",
              "      fill: #FFFFFF;\n",
              "    }\n",
              "  </style>\n",
              "\n",
              "      <script>\n",
              "        const buttonEl =\n",
              "          document.querySelector('#df-1dc345d4-8ae6-43b1-bb19-341caab92e8c button.colab-df-convert');\n",
              "        buttonEl.style.display =\n",
              "          google.colab.kernel.accessAllowed ? 'block' : 'none';\n",
              "\n",
              "        async function convertToInteractive(key) {\n",
              "          const element = document.querySelector('#df-1dc345d4-8ae6-43b1-bb19-341caab92e8c');\n",
              "          const dataTable =\n",
              "            await google.colab.kernel.invokeFunction('convertToInteractive',\n",
              "                                                     [key], {});\n",
              "          if (!dataTable) return;\n",
              "\n",
              "          const docLinkHtml = 'Like what you see? Visit the ' +\n",
              "            '<a target=\"_blank\" href=https://colab.research.google.com/notebooks/data_table.ipynb>data table notebook</a>'\n",
              "            + ' to learn more about interactive tables.';\n",
              "          element.innerHTML = '';\n",
              "          dataTable['output_type'] = 'display_data';\n",
              "          await google.colab.output.renderOutput(dataTable, element);\n",
              "          const docLink = document.createElement('div');\n",
              "          docLink.innerHTML = docLinkHtml;\n",
              "          element.appendChild(docLink);\n",
              "        }\n",
              "      </script>\n",
              "    </div>\n",
              "  </div>\n",
              "  "
            ]
          },
          "metadata": {},
          "execution_count": 19
        }
      ]
    },
    {
      "cell_type": "markdown",
      "source": [
        "Now we can read the date and time each message was sent in a much more readable view.\n",
        "\n",
        "One last thing we can do to better format our table is to change the order of the columns.\n",
        "\n",
        "For this example, lets format it to: date | time | day | user | text."
      ],
      "metadata": {
        "id": "vPnDT9Kc4DUn"
      }
    },
    {
      "cell_type": "code",
      "source": [
        "df = df[['date','time', 'day', 'user', 'text']]\n",
        "\n",
        "df"
      ],
      "metadata": {
        "colab": {
          "base_uri": "https://localhost:8080/",
          "height": 424
        },
        "id": "G8hJoqPcwZu5",
        "outputId": "f7020b48-fee2-49eb-f998-4b0bc74998d0"
      },
      "execution_count": 20,
      "outputs": [
        {
          "output_type": "execute_result",
          "data": {
            "text/plain": [
              "             date   time      day     user  \\\n",
              "4      2019-12-01  00:56   Sunday    Ryden   \n",
              "5      2019-12-01  01:07   Sunday  Jayvien   \n",
              "6      2019-12-01  01:10   Sunday  Kaliope   \n",
              "7      2019-12-01  01:13   Sunday    Naely   \n",
              "8      2019-12-01  01:16   Sunday  Jayvien   \n",
              "...           ...    ...      ...      ...   \n",
              "30939  2019-12-31  18:24  Tuesday  Azyriah   \n",
              "30940  2019-12-31  18:25  Tuesday  Areesha   \n",
              "30941  2019-12-31  18:26  Tuesday  Areesha   \n",
              "30942  2019-12-31  18:29  Tuesday   Ailany   \n",
              "30943  2019-12-31  18:29  Tuesday   Ailany   \n",
              "\n",
              "                                                    text  \n",
              "4      where is the name of the file stored on the file?  \n",
              "5                                              say what?  \n",
              "6      Where would you guys recommend I learn kotlin ...  \n",
              "7      I used the official Kotlin docs they have an e...  \n",
              "8                                               do they?  \n",
              "...                                                  ...  \n",
              "30939                                      hi @GokturkSM  \n",
              "30940  Anyone have some math background? Trying to im...  \n",
              "30941  My question is... what exactly is a cyclic gro...  \n",
              "30942  You need to know what exceptions your code may...  \n",
              "30943                                               @cup  \n",
              "\n",
              "[30940 rows x 5 columns]"
            ],
            "text/html": [
              "\n",
              "  <div id=\"df-be16e27b-1d3c-4e7a-ab0b-238d97bd9590\">\n",
              "    <div class=\"colab-df-container\">\n",
              "      <div>\n",
              "<style scoped>\n",
              "    .dataframe tbody tr th:only-of-type {\n",
              "        vertical-align: middle;\n",
              "    }\n",
              "\n",
              "    .dataframe tbody tr th {\n",
              "        vertical-align: top;\n",
              "    }\n",
              "\n",
              "    .dataframe thead th {\n",
              "        text-align: right;\n",
              "    }\n",
              "</style>\n",
              "<table border=\"1\" class=\"dataframe\">\n",
              "  <thead>\n",
              "    <tr style=\"text-align: right;\">\n",
              "      <th></th>\n",
              "      <th>date</th>\n",
              "      <th>time</th>\n",
              "      <th>day</th>\n",
              "      <th>user</th>\n",
              "      <th>text</th>\n",
              "    </tr>\n",
              "  </thead>\n",
              "  <tbody>\n",
              "    <tr>\n",
              "      <th>4</th>\n",
              "      <td>2019-12-01</td>\n",
              "      <td>00:56</td>\n",
              "      <td>Sunday</td>\n",
              "      <td>Ryden</td>\n",
              "      <td>where is the name of the file stored on the file?</td>\n",
              "    </tr>\n",
              "    <tr>\n",
              "      <th>5</th>\n",
              "      <td>2019-12-01</td>\n",
              "      <td>01:07</td>\n",
              "      <td>Sunday</td>\n",
              "      <td>Jayvien</td>\n",
              "      <td>say what?</td>\n",
              "    </tr>\n",
              "    <tr>\n",
              "      <th>6</th>\n",
              "      <td>2019-12-01</td>\n",
              "      <td>01:10</td>\n",
              "      <td>Sunday</td>\n",
              "      <td>Kaliope</td>\n",
              "      <td>Where would you guys recommend I learn kotlin ...</td>\n",
              "    </tr>\n",
              "    <tr>\n",
              "      <th>7</th>\n",
              "      <td>2019-12-01</td>\n",
              "      <td>01:13</td>\n",
              "      <td>Sunday</td>\n",
              "      <td>Naely</td>\n",
              "      <td>I used the official Kotlin docs they have an e...</td>\n",
              "    </tr>\n",
              "    <tr>\n",
              "      <th>8</th>\n",
              "      <td>2019-12-01</td>\n",
              "      <td>01:16</td>\n",
              "      <td>Sunday</td>\n",
              "      <td>Jayvien</td>\n",
              "      <td>do they?</td>\n",
              "    </tr>\n",
              "    <tr>\n",
              "      <th>...</th>\n",
              "      <td>...</td>\n",
              "      <td>...</td>\n",
              "      <td>...</td>\n",
              "      <td>...</td>\n",
              "      <td>...</td>\n",
              "    </tr>\n",
              "    <tr>\n",
              "      <th>30939</th>\n",
              "      <td>2019-12-31</td>\n",
              "      <td>18:24</td>\n",
              "      <td>Tuesday</td>\n",
              "      <td>Azyriah</td>\n",
              "      <td>hi @GokturkSM</td>\n",
              "    </tr>\n",
              "    <tr>\n",
              "      <th>30940</th>\n",
              "      <td>2019-12-31</td>\n",
              "      <td>18:25</td>\n",
              "      <td>Tuesday</td>\n",
              "      <td>Areesha</td>\n",
              "      <td>Anyone have some math background? Trying to im...</td>\n",
              "    </tr>\n",
              "    <tr>\n",
              "      <th>30941</th>\n",
              "      <td>2019-12-31</td>\n",
              "      <td>18:26</td>\n",
              "      <td>Tuesday</td>\n",
              "      <td>Areesha</td>\n",
              "      <td>My question is... what exactly is a cyclic gro...</td>\n",
              "    </tr>\n",
              "    <tr>\n",
              "      <th>30942</th>\n",
              "      <td>2019-12-31</td>\n",
              "      <td>18:29</td>\n",
              "      <td>Tuesday</td>\n",
              "      <td>Ailany</td>\n",
              "      <td>You need to know what exceptions your code may...</td>\n",
              "    </tr>\n",
              "    <tr>\n",
              "      <th>30943</th>\n",
              "      <td>2019-12-31</td>\n",
              "      <td>18:29</td>\n",
              "      <td>Tuesday</td>\n",
              "      <td>Ailany</td>\n",
              "      <td>@cup</td>\n",
              "    </tr>\n",
              "  </tbody>\n",
              "</table>\n",
              "<p>30940 rows × 5 columns</p>\n",
              "</div>\n",
              "      <button class=\"colab-df-convert\" onclick=\"convertToInteractive('df-be16e27b-1d3c-4e7a-ab0b-238d97bd9590')\"\n",
              "              title=\"Convert this dataframe to an interactive table.\"\n",
              "              style=\"display:none;\">\n",
              "        \n",
              "  <svg xmlns=\"http://www.w3.org/2000/svg\" height=\"24px\"viewBox=\"0 0 24 24\"\n",
              "       width=\"24px\">\n",
              "    <path d=\"M0 0h24v24H0V0z\" fill=\"none\"/>\n",
              "    <path d=\"M18.56 5.44l.94 2.06.94-2.06 2.06-.94-2.06-.94-.94-2.06-.94 2.06-2.06.94zm-11 1L8.5 8.5l.94-2.06 2.06-.94-2.06-.94L8.5 2.5l-.94 2.06-2.06.94zm10 10l.94 2.06.94-2.06 2.06-.94-2.06-.94-.94-2.06-.94 2.06-2.06.94z\"/><path d=\"M17.41 7.96l-1.37-1.37c-.4-.4-.92-.59-1.43-.59-.52 0-1.04.2-1.43.59L10.3 9.45l-7.72 7.72c-.78.78-.78 2.05 0 2.83L4 21.41c.39.39.9.59 1.41.59.51 0 1.02-.2 1.41-.59l7.78-7.78 2.81-2.81c.8-.78.8-2.07 0-2.86zM5.41 20L4 18.59l7.72-7.72 1.47 1.35L5.41 20z\"/>\n",
              "  </svg>\n",
              "      </button>\n",
              "      \n",
              "  <style>\n",
              "    .colab-df-container {\n",
              "      display:flex;\n",
              "      flex-wrap:wrap;\n",
              "      gap: 12px;\n",
              "    }\n",
              "\n",
              "    .colab-df-convert {\n",
              "      background-color: #E8F0FE;\n",
              "      border: none;\n",
              "      border-radius: 50%;\n",
              "      cursor: pointer;\n",
              "      display: none;\n",
              "      fill: #1967D2;\n",
              "      height: 32px;\n",
              "      padding: 0 0 0 0;\n",
              "      width: 32px;\n",
              "    }\n",
              "\n",
              "    .colab-df-convert:hover {\n",
              "      background-color: #E2EBFA;\n",
              "      box-shadow: 0px 1px 2px rgba(60, 64, 67, 0.3), 0px 1px 3px 1px rgba(60, 64, 67, 0.15);\n",
              "      fill: #174EA6;\n",
              "    }\n",
              "\n",
              "    [theme=dark] .colab-df-convert {\n",
              "      background-color: #3B4455;\n",
              "      fill: #D2E3FC;\n",
              "    }\n",
              "\n",
              "    [theme=dark] .colab-df-convert:hover {\n",
              "      background-color: #434B5C;\n",
              "      box-shadow: 0px 1px 3px 1px rgba(0, 0, 0, 0.15);\n",
              "      filter: drop-shadow(0px 1px 2px rgba(0, 0, 0, 0.3));\n",
              "      fill: #FFFFFF;\n",
              "    }\n",
              "  </style>\n",
              "\n",
              "      <script>\n",
              "        const buttonEl =\n",
              "          document.querySelector('#df-be16e27b-1d3c-4e7a-ab0b-238d97bd9590 button.colab-df-convert');\n",
              "        buttonEl.style.display =\n",
              "          google.colab.kernel.accessAllowed ? 'block' : 'none';\n",
              "\n",
              "        async function convertToInteractive(key) {\n",
              "          const element = document.querySelector('#df-be16e27b-1d3c-4e7a-ab0b-238d97bd9590');\n",
              "          const dataTable =\n",
              "            await google.colab.kernel.invokeFunction('convertToInteractive',\n",
              "                                                     [key], {});\n",
              "          if (!dataTable) return;\n",
              "\n",
              "          const docLinkHtml = 'Like what you see? Visit the ' +\n",
              "            '<a target=\"_blank\" href=https://colab.research.google.com/notebooks/data_table.ipynb>data table notebook</a>'\n",
              "            + ' to learn more about interactive tables.';\n",
              "          element.innerHTML = '';\n",
              "          dataTable['output_type'] = 'display_data';\n",
              "          await google.colab.output.renderOutput(dataTable, element);\n",
              "          const docLink = document.createElement('div');\n",
              "          docLink.innerHTML = docLinkHtml;\n",
              "          element.appendChild(docLink);\n",
              "        }\n",
              "      </script>\n",
              "    </div>\n",
              "  </div>\n",
              "  "
            ]
          },
          "metadata": {},
          "execution_count": 20
        }
      ]
    },
    {
      "cell_type": "markdown",
      "source": [
        "Great! Our table of data looks much more organized now.\n",
        "\n",
        "Finally, we can start analyzing some of these messages."
      ],
      "metadata": {
        "id": "to7OXqttw931"
      }
    },
    {
      "cell_type": "markdown",
      "source": [
        "# Analysis"
      ],
      "metadata": {
        "id": "GVNyxOcY4EtR"
      }
    },
    {
      "cell_type": "markdown",
      "source": [
        "Since our data frame is now more organized and cleaned up, we can start analyzing some of the data stored.\n",
        "\n",
        "Lets take a look at how much data in our columns there is to go through by using the \"count\" method."
      ],
      "metadata": {
        "id": "aLPBM29-RWLM"
      }
    },
    {
      "cell_type": "code",
      "source": [
        "df.count()"
      ],
      "metadata": {
        "colab": {
          "base_uri": "https://localhost:8080/"
        },
        "id": "HQt3QGsAxqjN",
        "outputId": "15d20894-7d81-4b95-c0f6-d2025380b8ce"
      },
      "execution_count": 21,
      "outputs": [
        {
          "output_type": "execute_result",
          "data": {
            "text/plain": [
              "date    30940\n",
              "time    30940\n",
              "day     30940\n",
              "user    30940\n",
              "text    30940\n",
              "dtype: int64"
            ]
          },
          "metadata": {},
          "execution_count": 21
        }
      ]
    },
    {
      "cell_type": "markdown",
      "source": [
        "## Text Analysis"
      ],
      "metadata": {
        "id": "JlabKoHKyHP5"
      }
    },
    {
      "cell_type": "markdown",
      "source": [
        "The result shows that we have 30,940 different text messages in this data set, which is a lot to manually look through.\n",
        "\n",
        "We can analyze this information in a much easier way by using code.\n",
        "\n",
        "Lets first take a look at the \"user\" column. \n",
        "\n",
        "We can count how many messages each user has sent by incorporating the \"groupby\" method along with the \"count\" method."
      ],
      "metadata": {
        "id": "upLYYKdZSRQ3"
      }
    },
    {
      "cell_type": "code",
      "source": [
        "df.groupby(['user'])['user'].count()"
      ],
      "metadata": {
        "colab": {
          "base_uri": "https://localhost:8080/"
        },
        "id": "YggawceGzz9J",
        "outputId": "f47018e9-3551-4877-a58c-8b466cc924ca"
      },
      "execution_count": 22,
      "outputs": [
        {
          "output_type": "execute_result",
          "data": {
            "text/plain": [
              "user\n",
              "Aashvi         17\n",
              "Abbott         37\n",
              "Abdalahe        6\n",
              "Abdelfetah      5\n",
              "Abdelmadjid    76\n",
              "               ..\n",
              "Zuma            1\n",
              "Zurisadai       4\n",
              "Zuriya         25\n",
              "Zviad           1\n",
              "Zyanna          5\n",
              "Name: user, Length: 828, dtype: int64"
            ]
          },
          "metadata": {},
          "execution_count": 22
        }
      ]
    },
    {
      "cell_type": "markdown",
      "source": [
        "With this table, we can see each user and how many messages they have sent in the Discord.\n",
        "\n",
        "**This can be important to us in Digitital Forensic use because now we can distinguish the user and their messages they sent. If we find something alarming by one user and their message, we can then look at their other messages to potentially find other information about them.**"
      ],
      "metadata": {
        "id": "-lux-Kp6gG39"
      }
    },
    {
      "cell_type": "markdown",
      "source": [
        "Let's start analyzing the table and find which user has sent the most messages in total.\n",
        "\n",
        "We can add on the \"max\" method to our code and it will return the maximum value of messages sent for one user."
      ],
      "metadata": {
        "id": "46nnUtYpkLRW"
      }
    },
    {
      "cell_type": "code",
      "source": [
        "df.groupby(['user'])['user'].count().max()"
      ],
      "metadata": {
        "colab": {
          "base_uri": "https://localhost:8080/"
        },
        "id": "vtDb5LaKVypz",
        "outputId": "2ac03895-53c4-4518-bb40-478d1deb3c2e"
      },
      "execution_count": 23,
      "outputs": [
        {
          "output_type": "execute_result",
          "data": {
            "text/plain": [
              "2626"
            ]
          },
          "metadata": {},
          "execution_count": 23
        }
      ]
    },
    {
      "cell_type": "markdown",
      "source": [
        "So we can see the user with the highest amount of messages has sent \"2626\" messages in this data set.\n",
        "\n",
        "Lets find out who sent these messages.\n",
        "\n",
        "We will use the \"value_counts\" method along with the \"idxmax\" method to go through each row in the 'user' column and count which index has the max or highest value."
      ],
      "metadata": {
        "id": "ixe6zQYYg7UP"
      }
    },
    {
      "cell_type": "code",
      "source": [
        "df['user'].value_counts().idxmax()"
      ],
      "metadata": {
        "colab": {
          "base_uri": "https://localhost:8080/",
          "height": 35
        },
        "id": "mhcuXVfjajqM",
        "outputId": "35d86e20-b973-46d6-ec06-9cdbd6ee76c5"
      },
      "execution_count": 24,
      "outputs": [
        {
          "output_type": "execute_result",
          "data": {
            "text/plain": [
              "'Xochilt'"
            ],
            "application/vnd.google.colaboratory.intrinsic+json": {
              "type": "string"
            }
          },
          "metadata": {},
          "execution_count": 24
        }
      ]
    },
    {
      "cell_type": "markdown",
      "source": [
        "This shows us the user who sent the most messages in the data set.\n",
        "\n",
        "Lets also look at the other top users who has sent the most messages. \n",
        "\n",
        "We will use the \"head\" method which return the top five users unless specified otherwise."
      ],
      "metadata": {
        "id": "KgcSCdFThsrz"
      }
    },
    {
      "cell_type": "code",
      "source": [
        "df['user'].value_counts().head()"
      ],
      "metadata": {
        "colab": {
          "base_uri": "https://localhost:8080/"
        },
        "id": "WhJ5-gIzfrJg",
        "outputId": "c43cfafa-da33-4c64-ba78-99001124ba11"
      },
      "execution_count": 25,
      "outputs": [
        {
          "output_type": "execute_result",
          "data": {
            "text/plain": [
              "Xochilt     2626\n",
              "Kosta       1280\n",
              "Naely       1067\n",
              "Adirah       845\n",
              "Andersyn     662\n",
              "Name: user, dtype: int64"
            ]
          },
          "metadata": {},
          "execution_count": 25
        }
      ]
    },
    {
      "cell_type": "markdown",
      "source": [
        "Seems like \"Xochilt\" has sent a lot of messages! He must have been a big help in the Discord.\n",
        "\n",
        "If we have someone we want to analyze more specifically, we can also specify which user we want to take a look at. We can then find how many messages they sent, and more.\n",
        "\n",
        "Lets find out how many messages \"Ryden\" sent for example."
      ],
      "metadata": {
        "id": "UQ0BQoDJie__"
      }
    },
    {
      "cell_type": "code",
      "source": [
        "df['user'].value_counts()['Ryden']"
      ],
      "metadata": {
        "colab": {
          "base_uri": "https://localhost:8080/"
        },
        "id": "4iuX3hPZZOja",
        "outputId": "6c7fd338-a8ca-4de2-e63d-ced1e81ae77c"
      },
      "execution_count": 26,
      "outputs": [
        {
          "output_type": "execute_result",
          "data": {
            "text/plain": [
              "113"
            ]
          },
          "metadata": {},
          "execution_count": 26
        }
      ]
    },
    {
      "cell_type": "markdown",
      "source": [
        "Let's look into emotion detection based on the chat log messages.\n",
        "\n",
        "With the library [text2emotion](https://pypi.org/project/text2emotion/), we can see based on the message what emotions are being displayed. It will use 5 basic emotions to process what emotions are embedded in it such as, Happy, Angry, Sad, Surprise, and Fear."
      ],
      "metadata": {
        "id": "f1vmMKQWfzls"
      }
    },
    {
      "cell_type": "code",
      "source": [
        "pip install text2emotion"
      ],
      "metadata": {
        "colab": {
          "base_uri": "https://localhost:8080/"
        },
        "id": "7Ei-WCj2f64w",
        "outputId": "b9cfbbab-c01c-4891-8b20-2e27abd582a9"
      },
      "execution_count": 27,
      "outputs": [
        {
          "output_type": "stream",
          "name": "stdout",
          "text": [
            "Looking in indexes: https://pypi.org/simple, https://us-python.pkg.dev/colab-wheels/public/simple/\n",
            "Collecting text2emotion\n",
            "  Downloading text2emotion-0.0.5-py3-none-any.whl (57 kB)\n",
            "\u001b[2K     \u001b[90m━━━━━━━━━━━━━━━━━━━━━━━━━━━━━━━━━━━━━━━━\u001b[0m \u001b[32m57.8/57.8 KB\u001b[0m \u001b[31m4.4 MB/s\u001b[0m eta \u001b[36m0:00:00\u001b[0m\n",
            "\u001b[?25hCollecting emoji>=0.6.0\n",
            "  Downloading emoji-2.2.0.tar.gz (240 kB)\n",
            "\u001b[2K     \u001b[90m━━━━━━━━━━━━━━━━━━━━━━━━━━━━━━━━━━━━━━\u001b[0m \u001b[32m240.9/240.9 KB\u001b[0m \u001b[31m16.1 MB/s\u001b[0m eta \u001b[36m0:00:00\u001b[0m\n",
            "\u001b[?25h  Preparing metadata (setup.py) ... \u001b[?25l\u001b[?25hdone\n",
            "Requirement already satisfied: nltk in /usr/local/lib/python3.9/dist-packages (from text2emotion) (3.7)\n",
            "Requirement already satisfied: click in /usr/local/lib/python3.9/dist-packages (from nltk->text2emotion) (8.1.3)\n",
            "Requirement already satisfied: tqdm in /usr/local/lib/python3.9/dist-packages (from nltk->text2emotion) (4.65.0)\n",
            "Requirement already satisfied: joblib in /usr/local/lib/python3.9/dist-packages (from nltk->text2emotion) (1.1.1)\n",
            "Requirement already satisfied: regex>=2021.8.3 in /usr/local/lib/python3.9/dist-packages (from nltk->text2emotion) (2022.6.2)\n",
            "Building wheels for collected packages: emoji\n",
            "  Building wheel for emoji (setup.py) ... \u001b[?25l\u001b[?25hdone\n",
            "  Created wheel for emoji: filename=emoji-2.2.0-py3-none-any.whl size=234926 sha256=15ee7811906c688226ac88d5847badf650f38db09eed7b65322403d93d668b63\n",
            "  Stored in directory: /root/.cache/pip/wheels/9a/b8/0f/f580817231cbf59f6ade9fd132ff60ada1de9f7dc85521f857\n",
            "Successfully built emoji\n",
            "Installing collected packages: emoji, text2emotion\n",
            "Successfully installed emoji-2.2.0 text2emotion-0.0.5\n"
          ]
        }
      ]
    },
    {
      "cell_type": "code",
      "source": [
        "import text2emotion as te"
      ],
      "metadata": {
        "id": "rItMtNSDg28a",
        "colab": {
          "base_uri": "https://localhost:8080/"
        },
        "outputId": "2ed96ca3-aff0-431f-89e9-529304799a24"
      },
      "execution_count": 28,
      "outputs": [
        {
          "output_type": "stream",
          "name": "stderr",
          "text": [
            "[nltk_data] Downloading package stopwords to /root/nltk_data...\n",
            "[nltk_data]   Unzipping corpora/stopwords.zip.\n",
            "[nltk_data] Downloading package punkt to /root/nltk_data...\n",
            "[nltk_data]   Unzipping tokenizers/punkt.zip.\n",
            "[nltk_data] Downloading package wordnet to /root/nltk_data...\n"
          ]
        }
      ]
    },
    {
      "cell_type": "code",
      "source": [
        "#import emoji\n",
        "#df['emotions'] = \"\"\n",
        "#for i in df.index:\n",
        "  #df.insert(i, \"emotions\", emoji.demojize(df['text'][i], delimiters=(\"\", \"\")))\n",
        "  #df['emotions'][i] = emoji.demojize(df['text'][i], delimiters=(\"\", \"\"))\n",
        "\n",
        "#df\n"
      ],
      "metadata": {
        "id": "jWLOt68piGbK"
      },
      "execution_count": 29,
      "outputs": []
    },
    {
      "cell_type": "code",
      "source": [
        "df['emotions'] = \"\"\n",
        "for i in df.index:\n",
        "  text = df['text'][i]\n",
        "  df['emotions'][i] = te.get_emotion(text)\n",
        "\n",
        "\n",
        "  "
      ],
      "metadata": {
        "colab": {
          "base_uri": "https://localhost:8080/",
          "height": 516
        },
        "id": "X4-H4Wtog6Cs",
        "outputId": "976dc6dc-5de3-4ecc-e2fa-f190e2269098"
      },
      "execution_count": 30,
      "outputs": [
        {
          "output_type": "stream",
          "name": "stderr",
          "text": [
            "<ipython-input-30-42a888c0a8bb>:1: SettingWithCopyWarning: \n",
            "A value is trying to be set on a copy of a slice from a DataFrame.\n",
            "Try using .loc[row_indexer,col_indexer] = value instead\n",
            "\n",
            "See the caveats in the documentation: https://pandas.pydata.org/pandas-docs/stable/user_guide/indexing.html#returning-a-view-versus-a-copy\n",
            "  df['emotions'] = \"\"\n"
          ]
        },
        {
          "output_type": "error",
          "ename": "AttributeError",
          "evalue": "ignored",
          "traceback": [
            "\u001b[0;31m---------------------------------------------------------------------------\u001b[0m",
            "\u001b[0;31mAttributeError\u001b[0m                            Traceback (most recent call last)",
            "\u001b[0;32m<ipython-input-30-42a888c0a8bb>\u001b[0m in \u001b[0;36m<module>\u001b[0;34m\u001b[0m\n\u001b[1;32m      2\u001b[0m \u001b[0;32mfor\u001b[0m \u001b[0mi\u001b[0m \u001b[0;32min\u001b[0m \u001b[0mdf\u001b[0m\u001b[0;34m.\u001b[0m\u001b[0mindex\u001b[0m\u001b[0;34m:\u001b[0m\u001b[0;34m\u001b[0m\u001b[0;34m\u001b[0m\u001b[0m\n\u001b[1;32m      3\u001b[0m   \u001b[0mtext\u001b[0m \u001b[0;34m=\u001b[0m \u001b[0mdf\u001b[0m\u001b[0;34m[\u001b[0m\u001b[0;34m'text'\u001b[0m\u001b[0;34m]\u001b[0m\u001b[0;34m[\u001b[0m\u001b[0mi\u001b[0m\u001b[0;34m]\u001b[0m\u001b[0;34m\u001b[0m\u001b[0;34m\u001b[0m\u001b[0m\n\u001b[0;32m----> 4\u001b[0;31m   \u001b[0mdf\u001b[0m\u001b[0;34m[\u001b[0m\u001b[0;34m'emotions'\u001b[0m\u001b[0;34m]\u001b[0m\u001b[0;34m[\u001b[0m\u001b[0mi\u001b[0m\u001b[0;34m]\u001b[0m \u001b[0;34m=\u001b[0m \u001b[0mte\u001b[0m\u001b[0;34m.\u001b[0m\u001b[0mget_emotion\u001b[0m\u001b[0;34m(\u001b[0m\u001b[0mtext\u001b[0m\u001b[0;34m)\u001b[0m\u001b[0;34m\u001b[0m\u001b[0;34m\u001b[0m\u001b[0m\n\u001b[0m\u001b[1;32m      5\u001b[0m \u001b[0;34m\u001b[0m\u001b[0m\n\u001b[1;32m      6\u001b[0m \u001b[0;34m\u001b[0m\u001b[0m\n",
            "\u001b[0;32m/usr/local/lib/python3.9/dist-packages/text2emotion/__init__.py\u001b[0m in \u001b[0;36mget_emotion\u001b[0;34m(input)\u001b[0m\n\u001b[1;32m   2714\u001b[0m         \u001b[0;32mreturn\u001b[0m \u001b[0mclean_text\u001b[0m\u001b[0;34m\u001b[0m\u001b[0;34m\u001b[0m\u001b[0m\n\u001b[1;32m   2715\u001b[0m \u001b[0;34m\u001b[0m\u001b[0m\n\u001b[0;32m-> 2716\u001b[0;31m     \u001b[0mtext\u001b[0m \u001b[0;34m=\u001b[0m \u001b[0mcleaning\u001b[0m\u001b[0;34m(\u001b[0m\u001b[0minput\u001b[0m\u001b[0;34m)\u001b[0m\u001b[0;34m.\u001b[0m\u001b[0msplit\u001b[0m\u001b[0;34m(\u001b[0m\u001b[0;34m)\u001b[0m\u001b[0;34m\u001b[0m\u001b[0;34m\u001b[0m\u001b[0m\n\u001b[0m\u001b[1;32m   2717\u001b[0m     \u001b[0memotion_values\u001b[0m \u001b[0;34m=\u001b[0m \u001b[0;34m[\u001b[0m\u001b[0;34m]\u001b[0m\u001b[0;34m\u001b[0m\u001b[0;34m\u001b[0m\u001b[0m\n\u001b[1;32m   2718\u001b[0m     \u001b[0memotions\u001b[0m \u001b[0;34m=\u001b[0m \u001b[0;34m{\u001b[0m\u001b[0;34m\"Happy\"\u001b[0m\u001b[0;34m:\u001b[0m \u001b[0;36m0\u001b[0m\u001b[0;34m,\u001b[0m \u001b[0;34m\"Angry\"\u001b[0m\u001b[0;34m:\u001b[0m \u001b[0;36m0\u001b[0m\u001b[0;34m,\u001b[0m \u001b[0;34m\"Surprise\"\u001b[0m\u001b[0;34m:\u001b[0m \u001b[0;36m0\u001b[0m\u001b[0;34m,\u001b[0m \u001b[0;34m\"Sad\"\u001b[0m\u001b[0;34m:\u001b[0m \u001b[0;36m0\u001b[0m\u001b[0;34m,\u001b[0m \u001b[0;34m\"Fear\"\u001b[0m\u001b[0;34m:\u001b[0m \u001b[0;36m0\u001b[0m\u001b[0;34m}\u001b[0m\u001b[0;34m\u001b[0m\u001b[0;34m\u001b[0m\u001b[0m\n",
            "\u001b[0;32m/usr/local/lib/python3.9/dist-packages/text2emotion/__init__.py\u001b[0m in \u001b[0;36mcleaning\u001b[0;34m(text)\u001b[0m\n\u001b[1;32m   2698\u001b[0m     \u001b[0;32mdef\u001b[0m \u001b[0mcleaning\u001b[0m\u001b[0;34m(\u001b[0m\u001b[0mtext\u001b[0m\u001b[0;34m)\u001b[0m\u001b[0;34m:\u001b[0m\u001b[0;34m\u001b[0m\u001b[0;34m\u001b[0m\u001b[0m\n\u001b[1;32m   2699\u001b[0m         \u001b[0mtext\u001b[0m \u001b[0;34m=\u001b[0m \u001b[0mtext\u001b[0m\u001b[0;34m.\u001b[0m\u001b[0mlower\u001b[0m\u001b[0;34m(\u001b[0m\u001b[0;34m)\u001b[0m\u001b[0;34m\u001b[0m\u001b[0;34m\u001b[0m\u001b[0m\n\u001b[0;32m-> 2700\u001b[0;31m         \u001b[0mtext\u001b[0m \u001b[0;34m=\u001b[0m \u001b[0memojis_extractor\u001b[0m\u001b[0;34m(\u001b[0m\u001b[0mtext\u001b[0m\u001b[0;34m)\u001b[0m\u001b[0;34m\u001b[0m\u001b[0;34m\u001b[0m\u001b[0m\n\u001b[0m\u001b[1;32m   2701\u001b[0m         \u001b[0mtext\u001b[0m \u001b[0;34m=\u001b[0m \u001b[0mre\u001b[0m\u001b[0;34m.\u001b[0m\u001b[0msub\u001b[0m\u001b[0;34m(\u001b[0m\u001b[0;34mr'http\\S+|www.\\S+'\u001b[0m\u001b[0;34m,\u001b[0m \u001b[0;34m''\u001b[0m\u001b[0;34m,\u001b[0m \u001b[0mtext\u001b[0m\u001b[0;34m)\u001b[0m\u001b[0;34m\u001b[0m\u001b[0;34m\u001b[0m\u001b[0m\n\u001b[1;32m   2702\u001b[0m         \u001b[0mtext\u001b[0m \u001b[0;34m=\u001b[0m \u001b[0mremoving_contradictions\u001b[0m\u001b[0;34m(\u001b[0m\u001b[0mtext\u001b[0m\u001b[0;34m)\u001b[0m\u001b[0;34m\u001b[0m\u001b[0;34m\u001b[0m\u001b[0m\n",
            "\u001b[0;32m/usr/local/lib/python3.9/dist-packages/text2emotion/__init__.py\u001b[0m in \u001b[0;36memojis_extractor\u001b[0;34m(text)\u001b[0m\n\u001b[1;32m   2567\u001b[0m                             \u001b[0;34m'Fear'\u001b[0m\u001b[0;34m,\u001b[0m\u001b[0;34m\u001b[0m\u001b[0;34m\u001b[0m\u001b[0m\n\u001b[1;32m   2568\u001b[0m                             'Fear']}\n\u001b[0;32m-> 2569\u001b[0;31m         \u001b[0ma\u001b[0m \u001b[0;34m=\u001b[0m \u001b[0;34m\" \"\u001b[0m\u001b[0;34m.\u001b[0m\u001b[0mjoin\u001b[0m\u001b[0;34m(\u001b[0m\u001b[0mc\u001b[0m \u001b[0;32mfor\u001b[0m \u001b[0mc\u001b[0m \u001b[0;32min\u001b[0m \u001b[0mtext\u001b[0m \u001b[0;32mif\u001b[0m \u001b[0mc\u001b[0m \u001b[0;32min\u001b[0m \u001b[0memoji\u001b[0m\u001b[0;34m.\u001b[0m\u001b[0mUNICODE_EMOJI\u001b[0m\u001b[0;34m)\u001b[0m\u001b[0;34m.\u001b[0m\u001b[0msplit\u001b[0m\u001b[0;34m(\u001b[0m\u001b[0;34m)\u001b[0m\u001b[0;34m\u001b[0m\u001b[0;34m\u001b[0m\u001b[0m\n\u001b[0m\u001b[1;32m   2570\u001b[0m         \u001b[0;32mfor\u001b[0m \u001b[0mi\u001b[0m \u001b[0;32min\u001b[0m \u001b[0ma\u001b[0m\u001b[0;34m:\u001b[0m\u001b[0;34m\u001b[0m\u001b[0;34m\u001b[0m\u001b[0m\n\u001b[1;32m   2571\u001b[0m             \u001b[0;32mtry\u001b[0m\u001b[0;34m:\u001b[0m\u001b[0;34m\u001b[0m\u001b[0;34m\u001b[0m\u001b[0m\n",
            "\u001b[0;32m/usr/local/lib/python3.9/dist-packages/text2emotion/__init__.py\u001b[0m in \u001b[0;36m<genexpr>\u001b[0;34m(.0)\u001b[0m\n\u001b[1;32m   2567\u001b[0m                             \u001b[0;34m'Fear'\u001b[0m\u001b[0;34m,\u001b[0m\u001b[0;34m\u001b[0m\u001b[0;34m\u001b[0m\u001b[0m\n\u001b[1;32m   2568\u001b[0m                             'Fear']}\n\u001b[0;32m-> 2569\u001b[0;31m         \u001b[0ma\u001b[0m \u001b[0;34m=\u001b[0m \u001b[0;34m\" \"\u001b[0m\u001b[0;34m.\u001b[0m\u001b[0mjoin\u001b[0m\u001b[0;34m(\u001b[0m\u001b[0mc\u001b[0m \u001b[0;32mfor\u001b[0m \u001b[0mc\u001b[0m \u001b[0;32min\u001b[0m \u001b[0mtext\u001b[0m \u001b[0;32mif\u001b[0m \u001b[0mc\u001b[0m \u001b[0;32min\u001b[0m \u001b[0memoji\u001b[0m\u001b[0;34m.\u001b[0m\u001b[0mUNICODE_EMOJI\u001b[0m\u001b[0;34m)\u001b[0m\u001b[0;34m.\u001b[0m\u001b[0msplit\u001b[0m\u001b[0;34m(\u001b[0m\u001b[0;34m)\u001b[0m\u001b[0;34m\u001b[0m\u001b[0;34m\u001b[0m\u001b[0m\n\u001b[0m\u001b[1;32m   2570\u001b[0m         \u001b[0;32mfor\u001b[0m \u001b[0mi\u001b[0m \u001b[0;32min\u001b[0m \u001b[0ma\u001b[0m\u001b[0;34m:\u001b[0m\u001b[0;34m\u001b[0m\u001b[0;34m\u001b[0m\u001b[0m\n\u001b[1;32m   2571\u001b[0m             \u001b[0;32mtry\u001b[0m\u001b[0;34m:\u001b[0m\u001b[0;34m\u001b[0m\u001b[0;34m\u001b[0m\u001b[0m\n",
            "\u001b[0;31mAttributeError\u001b[0m: module 'emoji' has no attribute 'UNICODE_EMOJI'"
          ]
        }
      ]
    },
    {
      "cell_type": "markdown",
      "source": [
        "### Lemmatization & In-depth Analysis"
      ],
      "metadata": {
        "id": "27pRSks9IEE6"
      }
    },
    {
      "cell_type": "markdown",
      "source": [
        "To start analyzing our text more in-depth, we will use a library called [Spacy](https://spacy.io/).\n",
        "\n",
        "This library will be very useful, it can break our text down into simple terms.\n",
        "\n",
        "**We will use a process called \"lemmatization\". This will convert our big mess of text and break each word down into it's basic version or into a lemma.**\n",
        "\n",
        "For example, we can convert \"stored\" into \"store\" and so on, which makes it easier for us to analyze the text.\n",
        "\n",
        "Below, we also create a variable called nlp which stands for \"natural language processing\" which is how computer programs can understand human language. This uses the spacy library we imported and loads it with \"en_core_web_sm\" which is a trained English pipeline which has many uses for us including vocabulary, syntax, and many functions inlcuding lemmatizer."
      ],
      "metadata": {
        "id": "JRy6VaCm2Oax"
      }
    },
    {
      "cell_type": "code",
      "source": [
        "from collections import Counter\n",
        "import spacy\n",
        "nlp = spacy.load(\"en_core_web_sm\")\n",
        "nlp"
      ],
      "metadata": {
        "colab": {
          "base_uri": "https://localhost:8080/"
        },
        "id": "4YWbHC0ZNZse",
        "outputId": "f78d3f2f-d932-4f17-a217-66b1f04a2dd1"
      },
      "execution_count": 31,
      "outputs": [
        {
          "output_type": "stream",
          "name": "stderr",
          "text": [
            "/usr/local/lib/python3.9/dist-packages/torch/cuda/__init__.py:497: UserWarning: Can't initialize NVML\n",
            "  warnings.warn(\"Can't initialize NVML\")\n"
          ]
        },
        {
          "output_type": "execute_result",
          "data": {
            "text/plain": [
              "<spacy.lang.en.English at 0x7fbe80afe220>"
            ]
          },
          "metadata": {},
          "execution_count": 31
        }
      ]
    },
    {
      "cell_type": "markdown",
      "source": [
        "Let's start analyzing some of the text we have.\n",
        "\n",
        "We can actually tokenize each word into seperate tokens which breaks the sentences into words.\n",
        "\n",
        "This will be useful because it converts every word into the basic version which will make it easier for us to look for specific words.\n",
        "\n",
        "Let's convert the \"text\" column into a new column with the parsed words and take a look at the new output."
      ],
      "metadata": {
        "id": "1H616v75R8-f"
      }
    },
    {
      "cell_type": "code",
      "source": [
        "doc = lambda x: [y.lemma_ for y in  nlp(x)]\n",
        "df['parsed_words'] = df['text'].apply(doc)\n",
        "\n",
        "df"
      ],
      "metadata": {
        "colab": {
          "base_uri": "https://localhost:8080/",
          "height": 768
        },
        "id": "Y1SGmB6dOoAf",
        "outputId": "02c86920-cb1e-4816-9273-31c2f4c2e6cc"
      },
      "execution_count": 32,
      "outputs": [
        {
          "output_type": "stream",
          "name": "stderr",
          "text": [
            "<ipython-input-32-087c8951fdb6>:2: SettingWithCopyWarning: \n",
            "A value is trying to be set on a copy of a slice from a DataFrame.\n",
            "Try using .loc[row_indexer,col_indexer] = value instead\n",
            "\n",
            "See the caveats in the documentation: https://pandas.pydata.org/pandas-docs/stable/user_guide/indexing.html#returning-a-view-versus-a-copy\n",
            "  df['parsed_words'] = df['text'].apply(doc)\n"
          ]
        },
        {
          "output_type": "execute_result",
          "data": {
            "text/plain": [
              "             date   time      day     user  \\\n",
              "4      2019-12-01  00:56   Sunday    Ryden   \n",
              "5      2019-12-01  01:07   Sunday  Jayvien   \n",
              "6      2019-12-01  01:10   Sunday  Kaliope   \n",
              "7      2019-12-01  01:13   Sunday    Naely   \n",
              "8      2019-12-01  01:16   Sunday  Jayvien   \n",
              "...           ...    ...      ...      ...   \n",
              "30939  2019-12-31  18:24  Tuesday  Azyriah   \n",
              "30940  2019-12-31  18:25  Tuesday  Areesha   \n",
              "30941  2019-12-31  18:26  Tuesday  Areesha   \n",
              "30942  2019-12-31  18:29  Tuesday   Ailany   \n",
              "30943  2019-12-31  18:29  Tuesday   Ailany   \n",
              "\n",
              "                                                    text emotions  \\\n",
              "4      where is the name of the file stored on the file?            \n",
              "5                                              say what?            \n",
              "6      Where would you guys recommend I learn kotlin ...            \n",
              "7      I used the official Kotlin docs they have an e...            \n",
              "8                                               do they?            \n",
              "...                                                  ...      ...   \n",
              "30939                                      hi @GokturkSM            \n",
              "30940  Anyone have some math background? Trying to im...            \n",
              "30941  My question is... what exactly is a cyclic gro...            \n",
              "30942  You need to know what exceptions your code may...            \n",
              "30943                                               @cup            \n",
              "\n",
              "                                            parsed_words  \n",
              "4      [where, be, the, name, of, the, file, store, o...  \n",
              "5                                         [say, what, ?]  \n",
              "6      [where, would, you, guy, recommend, I, learn, ...  \n",
              "7      [I, use, the, official, Kotlin, doc, they, hav...  \n",
              "8                                          [do, they, ?]  \n",
              "...                                                  ...  \n",
              "30939                                   [hi, @gokturksm]  \n",
              "30940  [anyone, have, some, math, background, ?, try,...  \n",
              "30941  [my, question, be, ..., what, exactly, be, a, ...  \n",
              "30942  [you, need, to, know, what, exception, your, c...  \n",
              "30943                                             [@cup]  \n",
              "\n",
              "[30940 rows x 7 columns]"
            ],
            "text/html": [
              "\n",
              "  <div id=\"df-ac91edc7-252f-4351-b1b6-8e75b718db2a\">\n",
              "    <div class=\"colab-df-container\">\n",
              "      <div>\n",
              "<style scoped>\n",
              "    .dataframe tbody tr th:only-of-type {\n",
              "        vertical-align: middle;\n",
              "    }\n",
              "\n",
              "    .dataframe tbody tr th {\n",
              "        vertical-align: top;\n",
              "    }\n",
              "\n",
              "    .dataframe thead th {\n",
              "        text-align: right;\n",
              "    }\n",
              "</style>\n",
              "<table border=\"1\" class=\"dataframe\">\n",
              "  <thead>\n",
              "    <tr style=\"text-align: right;\">\n",
              "      <th></th>\n",
              "      <th>date</th>\n",
              "      <th>time</th>\n",
              "      <th>day</th>\n",
              "      <th>user</th>\n",
              "      <th>text</th>\n",
              "      <th>emotions</th>\n",
              "      <th>parsed_words</th>\n",
              "    </tr>\n",
              "  </thead>\n",
              "  <tbody>\n",
              "    <tr>\n",
              "      <th>4</th>\n",
              "      <td>2019-12-01</td>\n",
              "      <td>00:56</td>\n",
              "      <td>Sunday</td>\n",
              "      <td>Ryden</td>\n",
              "      <td>where is the name of the file stored on the file?</td>\n",
              "      <td></td>\n",
              "      <td>[where, be, the, name, of, the, file, store, o...</td>\n",
              "    </tr>\n",
              "    <tr>\n",
              "      <th>5</th>\n",
              "      <td>2019-12-01</td>\n",
              "      <td>01:07</td>\n",
              "      <td>Sunday</td>\n",
              "      <td>Jayvien</td>\n",
              "      <td>say what?</td>\n",
              "      <td></td>\n",
              "      <td>[say, what, ?]</td>\n",
              "    </tr>\n",
              "    <tr>\n",
              "      <th>6</th>\n",
              "      <td>2019-12-01</td>\n",
              "      <td>01:10</td>\n",
              "      <td>Sunday</td>\n",
              "      <td>Kaliope</td>\n",
              "      <td>Where would you guys recommend I learn kotlin ...</td>\n",
              "      <td></td>\n",
              "      <td>[where, would, you, guy, recommend, I, learn, ...</td>\n",
              "    </tr>\n",
              "    <tr>\n",
              "      <th>7</th>\n",
              "      <td>2019-12-01</td>\n",
              "      <td>01:13</td>\n",
              "      <td>Sunday</td>\n",
              "      <td>Naely</td>\n",
              "      <td>I used the official Kotlin docs they have an e...</td>\n",
              "      <td></td>\n",
              "      <td>[I, use, the, official, Kotlin, doc, they, hav...</td>\n",
              "    </tr>\n",
              "    <tr>\n",
              "      <th>8</th>\n",
              "      <td>2019-12-01</td>\n",
              "      <td>01:16</td>\n",
              "      <td>Sunday</td>\n",
              "      <td>Jayvien</td>\n",
              "      <td>do they?</td>\n",
              "      <td></td>\n",
              "      <td>[do, they, ?]</td>\n",
              "    </tr>\n",
              "    <tr>\n",
              "      <th>...</th>\n",
              "      <td>...</td>\n",
              "      <td>...</td>\n",
              "      <td>...</td>\n",
              "      <td>...</td>\n",
              "      <td>...</td>\n",
              "      <td>...</td>\n",
              "      <td>...</td>\n",
              "    </tr>\n",
              "    <tr>\n",
              "      <th>30939</th>\n",
              "      <td>2019-12-31</td>\n",
              "      <td>18:24</td>\n",
              "      <td>Tuesday</td>\n",
              "      <td>Azyriah</td>\n",
              "      <td>hi @GokturkSM</td>\n",
              "      <td></td>\n",
              "      <td>[hi, @gokturksm]</td>\n",
              "    </tr>\n",
              "    <tr>\n",
              "      <th>30940</th>\n",
              "      <td>2019-12-31</td>\n",
              "      <td>18:25</td>\n",
              "      <td>Tuesday</td>\n",
              "      <td>Areesha</td>\n",
              "      <td>Anyone have some math background? Trying to im...</td>\n",
              "      <td></td>\n",
              "      <td>[anyone, have, some, math, background, ?, try,...</td>\n",
              "    </tr>\n",
              "    <tr>\n",
              "      <th>30941</th>\n",
              "      <td>2019-12-31</td>\n",
              "      <td>18:26</td>\n",
              "      <td>Tuesday</td>\n",
              "      <td>Areesha</td>\n",
              "      <td>My question is... what exactly is a cyclic gro...</td>\n",
              "      <td></td>\n",
              "      <td>[my, question, be, ..., what, exactly, be, a, ...</td>\n",
              "    </tr>\n",
              "    <tr>\n",
              "      <th>30942</th>\n",
              "      <td>2019-12-31</td>\n",
              "      <td>18:29</td>\n",
              "      <td>Tuesday</td>\n",
              "      <td>Ailany</td>\n",
              "      <td>You need to know what exceptions your code may...</td>\n",
              "      <td></td>\n",
              "      <td>[you, need, to, know, what, exception, your, c...</td>\n",
              "    </tr>\n",
              "    <tr>\n",
              "      <th>30943</th>\n",
              "      <td>2019-12-31</td>\n",
              "      <td>18:29</td>\n",
              "      <td>Tuesday</td>\n",
              "      <td>Ailany</td>\n",
              "      <td>@cup</td>\n",
              "      <td></td>\n",
              "      <td>[@cup]</td>\n",
              "    </tr>\n",
              "  </tbody>\n",
              "</table>\n",
              "<p>30940 rows × 7 columns</p>\n",
              "</div>\n",
              "      <button class=\"colab-df-convert\" onclick=\"convertToInteractive('df-ac91edc7-252f-4351-b1b6-8e75b718db2a')\"\n",
              "              title=\"Convert this dataframe to an interactive table.\"\n",
              "              style=\"display:none;\">\n",
              "        \n",
              "  <svg xmlns=\"http://www.w3.org/2000/svg\" height=\"24px\"viewBox=\"0 0 24 24\"\n",
              "       width=\"24px\">\n",
              "    <path d=\"M0 0h24v24H0V0z\" fill=\"none\"/>\n",
              "    <path d=\"M18.56 5.44l.94 2.06.94-2.06 2.06-.94-2.06-.94-.94-2.06-.94 2.06-2.06.94zm-11 1L8.5 8.5l.94-2.06 2.06-.94-2.06-.94L8.5 2.5l-.94 2.06-2.06.94zm10 10l.94 2.06.94-2.06 2.06-.94-2.06-.94-.94-2.06-.94 2.06-2.06.94z\"/><path d=\"M17.41 7.96l-1.37-1.37c-.4-.4-.92-.59-1.43-.59-.52 0-1.04.2-1.43.59L10.3 9.45l-7.72 7.72c-.78.78-.78 2.05 0 2.83L4 21.41c.39.39.9.59 1.41.59.51 0 1.02-.2 1.41-.59l7.78-7.78 2.81-2.81c.8-.78.8-2.07 0-2.86zM5.41 20L4 18.59l7.72-7.72 1.47 1.35L5.41 20z\"/>\n",
              "  </svg>\n",
              "      </button>\n",
              "      \n",
              "  <style>\n",
              "    .colab-df-container {\n",
              "      display:flex;\n",
              "      flex-wrap:wrap;\n",
              "      gap: 12px;\n",
              "    }\n",
              "\n",
              "    .colab-df-convert {\n",
              "      background-color: #E8F0FE;\n",
              "      border: none;\n",
              "      border-radius: 50%;\n",
              "      cursor: pointer;\n",
              "      display: none;\n",
              "      fill: #1967D2;\n",
              "      height: 32px;\n",
              "      padding: 0 0 0 0;\n",
              "      width: 32px;\n",
              "    }\n",
              "\n",
              "    .colab-df-convert:hover {\n",
              "      background-color: #E2EBFA;\n",
              "      box-shadow: 0px 1px 2px rgba(60, 64, 67, 0.3), 0px 1px 3px 1px rgba(60, 64, 67, 0.15);\n",
              "      fill: #174EA6;\n",
              "    }\n",
              "\n",
              "    [theme=dark] .colab-df-convert {\n",
              "      background-color: #3B4455;\n",
              "      fill: #D2E3FC;\n",
              "    }\n",
              "\n",
              "    [theme=dark] .colab-df-convert:hover {\n",
              "      background-color: #434B5C;\n",
              "      box-shadow: 0px 1px 3px 1px rgba(0, 0, 0, 0.15);\n",
              "      filter: drop-shadow(0px 1px 2px rgba(0, 0, 0, 0.3));\n",
              "      fill: #FFFFFF;\n",
              "    }\n",
              "  </style>\n",
              "\n",
              "      <script>\n",
              "        const buttonEl =\n",
              "          document.querySelector('#df-ac91edc7-252f-4351-b1b6-8e75b718db2a button.colab-df-convert');\n",
              "        buttonEl.style.display =\n",
              "          google.colab.kernel.accessAllowed ? 'block' : 'none';\n",
              "\n",
              "        async function convertToInteractive(key) {\n",
              "          const element = document.querySelector('#df-ac91edc7-252f-4351-b1b6-8e75b718db2a');\n",
              "          const dataTable =\n",
              "            await google.colab.kernel.invokeFunction('convertToInteractive',\n",
              "                                                     [key], {});\n",
              "          if (!dataTable) return;\n",
              "\n",
              "          const docLinkHtml = 'Like what you see? Visit the ' +\n",
              "            '<a target=\"_blank\" href=https://colab.research.google.com/notebooks/data_table.ipynb>data table notebook</a>'\n",
              "            + ' to learn more about interactive tables.';\n",
              "          element.innerHTML = '';\n",
              "          dataTable['output_type'] = 'display_data';\n",
              "          await google.colab.output.renderOutput(dataTable, element);\n",
              "          const docLink = document.createElement('div');\n",
              "          docLink.innerHTML = docLinkHtml;\n",
              "          element.appendChild(docLink);\n",
              "        }\n",
              "      </script>\n",
              "    </div>\n",
              "  </div>\n",
              "  "
            ]
          },
          "metadata": {},
          "execution_count": 32
        }
      ]
    },
    {
      "cell_type": "markdown",
      "source": [
        "With looking at the \"text\" and \"parsed_words\" column, you can see how it converts each word to their basic form. Now we can start find certain word occurences and so forth.\n",
        "\n",
        "**This is important for Digital Forensics use, because for example, we can search for certain words that stand out and see who sends these words rather than read through all 30,940 messages.**"
      ],
      "metadata": {
        "id": "q5HjK-IYTMPV"
      }
    },
    {
      "cell_type": "markdown",
      "source": [
        "Now that we have a whole column full of tokens that have gone through lemmatization from our \"text\" column. Neat!\n",
        "\n",
        "However one more thing we can do is remove something called \"stop words\". Some of stop words in English are \"a\", \"the\", \"is\", and \"are\". These words are redundent and not as important to us.\n",
        "\n",
        "**We want to remove this information and give more focus to the important words where we can potentially find key evidence.**"
      ],
      "metadata": {
        "id": "Uirxh9VCynbY"
      }
    },
    {
      "cell_type": "markdown",
      "source": [
        "Below I have created two functions, \"to_doc\" & \"remove_stops\".\n",
        "\n",
        "We can create a variable called \"doc\" which will create documents for all tuples of tokens in our \"parsed_words\" column using the \"to_doc\" function created. This will join our words into a string of elements with the parsed words for organization and ease of use for us.\n",
        "\n",
        "Next we can create a new column \"removed_stops\" which will use the the \"remove_stops\" function and this \"doc\" variable we created with our parsed text."
      ],
      "metadata": {
        "id": "cYVpa85d1kWL"
      }
    },
    {
      "cell_type": "code",
      "source": [
        "def to_doc(words:tuple) -> spacy.tokens.Doc:\n",
        "    # Create SpaCy documents by joining words into a string\n",
        "    return nlp(' '.join(words))\n",
        "\n",
        "def remove_stops(doc) -> list:\n",
        "    # Remove stop words by using the `token.is_stop` attribute\n",
        "    return [token.text for token in doc if not token.is_stop]\n",
        "\n",
        "docs = list(map(to_doc, df.parsed_words))\n",
        "df['removed_stops'] = list(map(remove_stops, docs))\n",
        "\n",
        "df\n"
      ],
      "metadata": {
        "colab": {
          "base_uri": "https://localhost:8080/",
          "height": 768
        },
        "id": "BFb-CuMAtWeb",
        "outputId": "5b0055cf-9e89-452e-cbe9-b9a18735314f"
      },
      "execution_count": 33,
      "outputs": [
        {
          "output_type": "stream",
          "name": "stderr",
          "text": [
            "<ipython-input-33-2146a32e519c>:10: SettingWithCopyWarning: \n",
            "A value is trying to be set on a copy of a slice from a DataFrame.\n",
            "Try using .loc[row_indexer,col_indexer] = value instead\n",
            "\n",
            "See the caveats in the documentation: https://pandas.pydata.org/pandas-docs/stable/user_guide/indexing.html#returning-a-view-versus-a-copy\n",
            "  df['removed_stops'] = list(map(remove_stops, docs))\n"
          ]
        },
        {
          "output_type": "execute_result",
          "data": {
            "text/plain": [
              "             date   time      day     user  \\\n",
              "4      2019-12-01  00:56   Sunday    Ryden   \n",
              "5      2019-12-01  01:07   Sunday  Jayvien   \n",
              "6      2019-12-01  01:10   Sunday  Kaliope   \n",
              "7      2019-12-01  01:13   Sunday    Naely   \n",
              "8      2019-12-01  01:16   Sunday  Jayvien   \n",
              "...           ...    ...      ...      ...   \n",
              "30939  2019-12-31  18:24  Tuesday  Azyriah   \n",
              "30940  2019-12-31  18:25  Tuesday  Areesha   \n",
              "30941  2019-12-31  18:26  Tuesday  Areesha   \n",
              "30942  2019-12-31  18:29  Tuesday   Ailany   \n",
              "30943  2019-12-31  18:29  Tuesday   Ailany   \n",
              "\n",
              "                                                    text emotions  \\\n",
              "4      where is the name of the file stored on the file?            \n",
              "5                                              say what?            \n",
              "6      Where would you guys recommend I learn kotlin ...            \n",
              "7      I used the official Kotlin docs they have an e...            \n",
              "8                                               do they?            \n",
              "...                                                  ...      ...   \n",
              "30939                                      hi @GokturkSM            \n",
              "30940  Anyone have some math background? Trying to im...            \n",
              "30941  My question is... what exactly is a cyclic gro...            \n",
              "30942  You need to know what exceptions your code may...            \n",
              "30943                                               @cup            \n",
              "\n",
              "                                            parsed_words  \\\n",
              "4      [where, be, the, name, of, the, file, store, o...   \n",
              "5                                         [say, what, ?]   \n",
              "6      [where, would, you, guy, recommend, I, learn, ...   \n",
              "7      [I, use, the, official, Kotlin, doc, they, hav...   \n",
              "8                                          [do, they, ?]   \n",
              "...                                                  ...   \n",
              "30939                                   [hi, @gokturksm]   \n",
              "30940  [anyone, have, some, math, background, ?, try,...   \n",
              "30941  [my, question, be, ..., what, exactly, be, a, ...   \n",
              "30942  [you, need, to, know, what, exception, your, c...   \n",
              "30943                                             [@cup]   \n",
              "\n",
              "                                           removed_stops  \n",
              "4                                 [file, store, file, ?]  \n",
              "5                                                    [?]  \n",
              "6      [guy, recommend, learn, kotlin, java, android,...  \n",
              "7      [use, official, Kotlin, doc, entire, tutorial,...  \n",
              "8                                                    [?]  \n",
              "...                                                  ...  \n",
              "30939                                   [hi, @gokturksm]  \n",
              "30940  [math, background, ?, try, implement, zero, kn...  \n",
              "30941  [question, ..., exactly, cyclic, group, use, ?...  \n",
              "30942  [need, know, exception, code, throw, ., catcha...  \n",
              "30943                                             [@cup]  \n",
              "\n",
              "[30940 rows x 8 columns]"
            ],
            "text/html": [
              "\n",
              "  <div id=\"df-05781c1d-1b37-4515-8245-1d37c468439b\">\n",
              "    <div class=\"colab-df-container\">\n",
              "      <div>\n",
              "<style scoped>\n",
              "    .dataframe tbody tr th:only-of-type {\n",
              "        vertical-align: middle;\n",
              "    }\n",
              "\n",
              "    .dataframe tbody tr th {\n",
              "        vertical-align: top;\n",
              "    }\n",
              "\n",
              "    .dataframe thead th {\n",
              "        text-align: right;\n",
              "    }\n",
              "</style>\n",
              "<table border=\"1\" class=\"dataframe\">\n",
              "  <thead>\n",
              "    <tr style=\"text-align: right;\">\n",
              "      <th></th>\n",
              "      <th>date</th>\n",
              "      <th>time</th>\n",
              "      <th>day</th>\n",
              "      <th>user</th>\n",
              "      <th>text</th>\n",
              "      <th>emotions</th>\n",
              "      <th>parsed_words</th>\n",
              "      <th>removed_stops</th>\n",
              "    </tr>\n",
              "  </thead>\n",
              "  <tbody>\n",
              "    <tr>\n",
              "      <th>4</th>\n",
              "      <td>2019-12-01</td>\n",
              "      <td>00:56</td>\n",
              "      <td>Sunday</td>\n",
              "      <td>Ryden</td>\n",
              "      <td>where is the name of the file stored on the file?</td>\n",
              "      <td></td>\n",
              "      <td>[where, be, the, name, of, the, file, store, o...</td>\n",
              "      <td>[file, store, file, ?]</td>\n",
              "    </tr>\n",
              "    <tr>\n",
              "      <th>5</th>\n",
              "      <td>2019-12-01</td>\n",
              "      <td>01:07</td>\n",
              "      <td>Sunday</td>\n",
              "      <td>Jayvien</td>\n",
              "      <td>say what?</td>\n",
              "      <td></td>\n",
              "      <td>[say, what, ?]</td>\n",
              "      <td>[?]</td>\n",
              "    </tr>\n",
              "    <tr>\n",
              "      <th>6</th>\n",
              "      <td>2019-12-01</td>\n",
              "      <td>01:10</td>\n",
              "      <td>Sunday</td>\n",
              "      <td>Kaliope</td>\n",
              "      <td>Where would you guys recommend I learn kotlin ...</td>\n",
              "      <td></td>\n",
              "      <td>[where, would, you, guy, recommend, I, learn, ...</td>\n",
              "      <td>[guy, recommend, learn, kotlin, java, android,...</td>\n",
              "    </tr>\n",
              "    <tr>\n",
              "      <th>7</th>\n",
              "      <td>2019-12-01</td>\n",
              "      <td>01:13</td>\n",
              "      <td>Sunday</td>\n",
              "      <td>Naely</td>\n",
              "      <td>I used the official Kotlin docs they have an e...</td>\n",
              "      <td></td>\n",
              "      <td>[I, use, the, official, Kotlin, doc, they, hav...</td>\n",
              "      <td>[use, official, Kotlin, doc, entire, tutorial,...</td>\n",
              "    </tr>\n",
              "    <tr>\n",
              "      <th>8</th>\n",
              "      <td>2019-12-01</td>\n",
              "      <td>01:16</td>\n",
              "      <td>Sunday</td>\n",
              "      <td>Jayvien</td>\n",
              "      <td>do they?</td>\n",
              "      <td></td>\n",
              "      <td>[do, they, ?]</td>\n",
              "      <td>[?]</td>\n",
              "    </tr>\n",
              "    <tr>\n",
              "      <th>...</th>\n",
              "      <td>...</td>\n",
              "      <td>...</td>\n",
              "      <td>...</td>\n",
              "      <td>...</td>\n",
              "      <td>...</td>\n",
              "      <td>...</td>\n",
              "      <td>...</td>\n",
              "      <td>...</td>\n",
              "    </tr>\n",
              "    <tr>\n",
              "      <th>30939</th>\n",
              "      <td>2019-12-31</td>\n",
              "      <td>18:24</td>\n",
              "      <td>Tuesday</td>\n",
              "      <td>Azyriah</td>\n",
              "      <td>hi @GokturkSM</td>\n",
              "      <td></td>\n",
              "      <td>[hi, @gokturksm]</td>\n",
              "      <td>[hi, @gokturksm]</td>\n",
              "    </tr>\n",
              "    <tr>\n",
              "      <th>30940</th>\n",
              "      <td>2019-12-31</td>\n",
              "      <td>18:25</td>\n",
              "      <td>Tuesday</td>\n",
              "      <td>Areesha</td>\n",
              "      <td>Anyone have some math background? Trying to im...</td>\n",
              "      <td></td>\n",
              "      <td>[anyone, have, some, math, background, ?, try,...</td>\n",
              "      <td>[math, background, ?, try, implement, zero, kn...</td>\n",
              "    </tr>\n",
              "    <tr>\n",
              "      <th>30941</th>\n",
              "      <td>2019-12-31</td>\n",
              "      <td>18:26</td>\n",
              "      <td>Tuesday</td>\n",
              "      <td>Areesha</td>\n",
              "      <td>My question is... what exactly is a cyclic gro...</td>\n",
              "      <td></td>\n",
              "      <td>[my, question, be, ..., what, exactly, be, a, ...</td>\n",
              "      <td>[question, ..., exactly, cyclic, group, use, ?...</td>\n",
              "    </tr>\n",
              "    <tr>\n",
              "      <th>30942</th>\n",
              "      <td>2019-12-31</td>\n",
              "      <td>18:29</td>\n",
              "      <td>Tuesday</td>\n",
              "      <td>Ailany</td>\n",
              "      <td>You need to know what exceptions your code may...</td>\n",
              "      <td></td>\n",
              "      <td>[you, need, to, know, what, exception, your, c...</td>\n",
              "      <td>[need, know, exception, code, throw, ., catcha...</td>\n",
              "    </tr>\n",
              "    <tr>\n",
              "      <th>30943</th>\n",
              "      <td>2019-12-31</td>\n",
              "      <td>18:29</td>\n",
              "      <td>Tuesday</td>\n",
              "      <td>Ailany</td>\n",
              "      <td>@cup</td>\n",
              "      <td></td>\n",
              "      <td>[@cup]</td>\n",
              "      <td>[@cup]</td>\n",
              "    </tr>\n",
              "  </tbody>\n",
              "</table>\n",
              "<p>30940 rows × 8 columns</p>\n",
              "</div>\n",
              "      <button class=\"colab-df-convert\" onclick=\"convertToInteractive('df-05781c1d-1b37-4515-8245-1d37c468439b')\"\n",
              "              title=\"Convert this dataframe to an interactive table.\"\n",
              "              style=\"display:none;\">\n",
              "        \n",
              "  <svg xmlns=\"http://www.w3.org/2000/svg\" height=\"24px\"viewBox=\"0 0 24 24\"\n",
              "       width=\"24px\">\n",
              "    <path d=\"M0 0h24v24H0V0z\" fill=\"none\"/>\n",
              "    <path d=\"M18.56 5.44l.94 2.06.94-2.06 2.06-.94-2.06-.94-.94-2.06-.94 2.06-2.06.94zm-11 1L8.5 8.5l.94-2.06 2.06-.94-2.06-.94L8.5 2.5l-.94 2.06-2.06.94zm10 10l.94 2.06.94-2.06 2.06-.94-2.06-.94-.94-2.06-.94 2.06-2.06.94z\"/><path d=\"M17.41 7.96l-1.37-1.37c-.4-.4-.92-.59-1.43-.59-.52 0-1.04.2-1.43.59L10.3 9.45l-7.72 7.72c-.78.78-.78 2.05 0 2.83L4 21.41c.39.39.9.59 1.41.59.51 0 1.02-.2 1.41-.59l7.78-7.78 2.81-2.81c.8-.78.8-2.07 0-2.86zM5.41 20L4 18.59l7.72-7.72 1.47 1.35L5.41 20z\"/>\n",
              "  </svg>\n",
              "      </button>\n",
              "      \n",
              "  <style>\n",
              "    .colab-df-container {\n",
              "      display:flex;\n",
              "      flex-wrap:wrap;\n",
              "      gap: 12px;\n",
              "    }\n",
              "\n",
              "    .colab-df-convert {\n",
              "      background-color: #E8F0FE;\n",
              "      border: none;\n",
              "      border-radius: 50%;\n",
              "      cursor: pointer;\n",
              "      display: none;\n",
              "      fill: #1967D2;\n",
              "      height: 32px;\n",
              "      padding: 0 0 0 0;\n",
              "      width: 32px;\n",
              "    }\n",
              "\n",
              "    .colab-df-convert:hover {\n",
              "      background-color: #E2EBFA;\n",
              "      box-shadow: 0px 1px 2px rgba(60, 64, 67, 0.3), 0px 1px 3px 1px rgba(60, 64, 67, 0.15);\n",
              "      fill: #174EA6;\n",
              "    }\n",
              "\n",
              "    [theme=dark] .colab-df-convert {\n",
              "      background-color: #3B4455;\n",
              "      fill: #D2E3FC;\n",
              "    }\n",
              "\n",
              "    [theme=dark] .colab-df-convert:hover {\n",
              "      background-color: #434B5C;\n",
              "      box-shadow: 0px 1px 3px 1px rgba(0, 0, 0, 0.15);\n",
              "      filter: drop-shadow(0px 1px 2px rgba(0, 0, 0, 0.3));\n",
              "      fill: #FFFFFF;\n",
              "    }\n",
              "  </style>\n",
              "\n",
              "      <script>\n",
              "        const buttonEl =\n",
              "          document.querySelector('#df-05781c1d-1b37-4515-8245-1d37c468439b button.colab-df-convert');\n",
              "        buttonEl.style.display =\n",
              "          google.colab.kernel.accessAllowed ? 'block' : 'none';\n",
              "\n",
              "        async function convertToInteractive(key) {\n",
              "          const element = document.querySelector('#df-05781c1d-1b37-4515-8245-1d37c468439b');\n",
              "          const dataTable =\n",
              "            await google.colab.kernel.invokeFunction('convertToInteractive',\n",
              "                                                     [key], {});\n",
              "          if (!dataTable) return;\n",
              "\n",
              "          const docLinkHtml = 'Like what you see? Visit the ' +\n",
              "            '<a target=\"_blank\" href=https://colab.research.google.com/notebooks/data_table.ipynb>data table notebook</a>'\n",
              "            + ' to learn more about interactive tables.';\n",
              "          element.innerHTML = '';\n",
              "          dataTable['output_type'] = 'display_data';\n",
              "          await google.colab.output.renderOutput(dataTable, element);\n",
              "          const docLink = document.createElement('div');\n",
              "          docLink.innerHTML = docLinkHtml;\n",
              "          element.appendChild(docLink);\n",
              "        }\n",
              "      </script>\n",
              "    </div>\n",
              "  </div>\n",
              "  "
            ]
          },
          "metadata": {},
          "execution_count": 33
        }
      ]
    },
    {
      "cell_type": "markdown",
      "source": [
        "Look at that! We have a new column with our parsed words from the text and removed all stop words from it."
      ],
      "metadata": {
        "id": "l3S37jup11Dk"
      }
    },
    {
      "cell_type": "markdown",
      "source": [
        "Let's see if we can start searching our data for a specific word. We can search for any word, for example let's try \"kill\" which could potentially be a little suspicious.\n",
        "\n",
        "To do this we will go through our dataframe using a 'for loop' and if the column \"removed_stops\" contains this word at the index, let's print it.\n",
        "\n",
        "Let's also store the index of when this word appears in a list we can call \"indexlist\", this will be used for later."
      ],
      "metadata": {
        "id": "LmATiUaSBHXu"
      }
    },
    {
      "cell_type": "code",
      "source": [
        "wordToSearch = \"kill\"\n",
        "indexList = []\n",
        "\n",
        "for i in df.index:\n",
        "  if(df['removed_stops'].str.contains(wordToSearch, regex=False)[i] == True):\n",
        "    indexList.append(i)\n",
        "    print(df['user'][i], \" | \", df['removed_stops'][i])"
      ],
      "metadata": {
        "colab": {
          "base_uri": "https://localhost:8080/"
        },
        "id": "RrrVOpwm8LKr",
        "outputId": "d20941d7-ebb4-4af5-d323-8f34d93fe918"
      },
      "execution_count": 34,
      "outputs": [
        {
          "output_type": "stream",
          "name": "stdout",
          "text": [
            "Arsenio  |  ['right', 'logistic', 'curve', 'scale', 'balanced', 'way', 'painful', 'dev', '.', 'imagine', 'lvl', '50', 'player', 'turn', 'kill', 'mob']\n",
            "Landry  |  ['@Jason_Bjorn', '  ', 'know', 'kill', 'function', '  ', 'bind', 'letter', 'keyboard', '(', 'currently', 'use', 'pynput).(sorry', 'ping', ')']\n",
            "Adaya  |  ['kill', 'interpreter']\n",
            "Rynleigh  |  ['drendo', 'compute', 'kill', 'want']\n",
            "Rosaleen  |  ['job', 'kill', ':', '  ', ')']\n",
            "Majd  |  ['kind', 'late', 'doubt', 'kill']\n",
            "Andersyn  |  ['kind', 'spy', 'SSH', 'certificate', 'kill']\n",
            "Rynleigh  |  ['true', ':', 'terminate', 'explicit', 'kill']\n",
            "Keaston  |  ['yeah', '.', 'write', 'Pub', '/', 'Sub', 'model', 'read', 'event', 'log', 'push', 'process', 'thread', '.', 'log', 'roll', 'gig', 'need', 'know', 'close', 'resource', 'open', 'new', '.', 'think', 'kill', 'reading', 'thread', 'spawn', 'new', 'detect', 'new', 'file', '.', 'close', 'resource', 'open', 'new', 'fine', '.']\n",
            "Taika  |  ['mean', 'know', 'censor', 'content', 'country', 'kill', 'crisize', 'leader']\n",
            "Atzin  |  ['window', 'installation', 'pycharm', 'kill', 'process', 'hit', 'rerun', 'linux', 'installation', 'pycharm', 'send', '^C', 'signal', 'process', 'result', 'exetremely', 'long', 'waiting', 'period', '.']\n",
            "Kosta  |  ['trust', 'kill']\n",
            "Rise  |  ['m', 'new', '.', 'like', 'entirely', '.', 'start', 'doign', 'python', 'code', 'work', 'downtime', 'enjoy', '.', 'fun', '.', 'kill', 'motivation', 'thought', '?']\n",
            "Nilaya  |  ['python', 'GIL', 'probably', 'kill', 'long', 'term']\n",
            "Nilaya  |  ['5c', 'spicy', 'lack', 'deep', 'multi', 'core', 'support', 'gil', 'kill', 'python', 'eventually']\n",
            "Khi  |  ['kill', 'daily']\n",
            "Lauretta  |  ['toggle', 'switch', 'kill', 'process', 'state', 'false', 'restart', 'process', 'true']\n",
            "Lauretta  |  ['wait', 'minute', '.', 'use', 'thread', 'subprocess', 'kill', '?']\n",
            "Lauretta  |  ['that\\\\', 'opposite', 'need', '.', 'need', 'toggle', 'button', 'run', 'command', 'sox', 'kill', 'run', 'kill', '.']\n",
            "Lauretta  |  ['@sommersoft', 'run', 'kill', 'run']\n",
            "Lauretta  |  ['OMG', '.', 'realize', '.', 'kill', 'subprocess', 'variable', 'away', '.', 'restart', 'subprocess', 'reassign', 'var', 'kill']\n",
            "Lauretta  |  ['@sommersoft', '@sinthrill', 'work', '.', '`', 'proc.kill', '(', ')', '`', 'kill', 'process', '.']\n",
            "Octavious  |  ['right', 'kill', 'thread']\n",
            "Alpha  |  ['wow', 'keyboard.on_release', 'kinda', 'kill', 'pc']\n",
            "Absalom  |  ['kill', \"sudo'd\", 'python', 'script', 'run', '?', 'successfully', 'test', 'led', 'strip', '(', 'day', 'btw', ')', 'script', 'run', '.', 'fine', '.', 'need', '.', 'lol']\n",
            "Absalom  |  ['sigcommand', 'instakill', 'process', '?', 'Sigterm', 'actually', 'kill', 'script', '.']\n",
            "Absalom  |  ['okay', '...', 'successfully', 'kill', 'process', '.', 'light', '.', 'easy', 'way', '.', 'holy', 'crap', '.']\n"
          ]
        }
      ]
    },
    {
      "cell_type": "markdown",
      "source": [
        "Isn't that crazy! We can see every message with the word \"kill\" in it, but depending on the context this could mean nothing alarming at all.\n",
        "\n",
        "For instance in programming, the term \"kill\" is a command used to send a process a signal or even just to kill or end the process running.\n",
        "\n",
        "Let's see if we can take a look at the full context of these user's message."
      ],
      "metadata": {
        "id": "7Y8njaRMC_Js"
      }
    },
    {
      "cell_type": "code",
      "source": [
        "for i in indexList:\n",
        "  print(df['user'][i], \" | \", df['text'][i])"
      ],
      "metadata": {
        "colab": {
          "base_uri": "https://localhost:8080/"
        },
        "id": "lLhRjOyqFq1G",
        "outputId": "19dbf687-3663-408a-ecc0-8c3b8d794b78"
      },
      "execution_count": 35,
      "outputs": [
        {
          "output_type": "stream",
          "name": "stdout",
          "text": [
            "Arsenio  |  getting the right logistic curve to scale in a balanced way is painful for the dev too. Imagine a lvl 50 player taking hundreds of turns to kill a mob\n",
            "Landry  |  @Jason_Bjorn  do you know how to make a kill function  where i can bind it to a letter on the keyboard (currently using pynput).(sorry for ping)\n",
            "Adaya  |  will kill the interpreter\n",
            "Rynleigh  |  drendos it's your compute you kill it however you want\n",
            "Rosaleen  |  this job is killing me :  )\n",
            "Majd  |  its just kind of late and this doubt has been killing me\n",
            "Andersyn  |  But only the kind of spies that have SSH certificates to kill\n",
            "Rynleigh  |  while True: never terminates unless you explicit kills it\n",
            "Keaston  |  Yeah. I'm writing a Pub/Sub model that reads events out of the log and pushes them off to be processed in other threads. but the log can roll after a few gig so i need to know how to close the resource and open a new one. I thought I'd just kill the reading thread and spawn a new one on detecting the new file is there. but if I can just close the resource and open a new one that'll be fine too.\n",
            "Taika  |  i mean do you know how much censored content and how in countries you can be killed for crisizing their leader\n",
            "Atzin  |  On my windows installation pycharm kills the process when I hit rerun but on my linux installation pycharm seems to send the ^C signal to the process resulting in a exetremely long waiting period sometimes.\n",
            "Kosta  |  Trust me I would KILL to have it\n",
            "Rise  |  As I said im new to it all. like entirely. I started doign some python coding at work when I have downtime and I really enjoyed it. its fun. what mostly kills my motivation is the thought of And what are you going to do with it?\n",
            "Nilaya  |  python having GIL is probably what's going to kill it in the long term\n",
            "Nilaya  |  Anyway my 5c spicy take is lack of deep multi core support and gil is what will kill python eventually\n",
            "Khi  |  And that alone is killing me daily\n",
            "Lauretta  |  I have the toggle switch made but how can I kill the process if the state is false and restart the process if it is true\n",
            "Lauretta  |  Wait a minute. Can't I use threading to make a subprocess and kill it?\n",
            "Lauretta  |  but that\\'s the opposite of what I need to do. I need to make a toggle button that runs the command sox and then kills it and then runs it again and then kills it.\n",
            "Lauretta  |  @sommersoft no only running it and killing it and running it again\n",
            "Lauretta  |  OMG. I just realized. If I kill the subprocess the variable doesn't go away. So to restart the subprocess I can just reassign it to the same var and then kill it\n",
            "Lauretta  |  @sommersoft @Sinthrill So it seems to be working now. It's just that `proc.kill()` isn't killing the process.\n",
            "Octavious  |  right but you can't kill a thread\n",
            "Alpha  |  Wow keyboard.on_release kinda killed my pc\n",
            "Absalom  |  How do I kill a sudo'd python script that's just running? I just successfully tested my LED strip (it just made my day btw) and the script is still running. Which is fine. But I need it off now. lol\n",
            "Absalom  |  What's the other sigcommand that instakills a process again? Sigterm didn't actually kill the script.\n",
            "Absalom  |  Okay... Successfully killed the process. The lights are still on. There's gotta be an easier way to do this. Holy crap.\n"
          ]
        }
      ]
    },
    {
      "cell_type": "markdown",
      "source": [
        "Now we have the full context. It's not as bad as we thought!"
      ],
      "metadata": {
        "id": "q2TFSAIURxBh"
      }
    },
    {
      "cell_type": "markdown",
      "source": [
        "Let's see if we can take a look at how many words each user sent and see compare with each user to see who sent the most messages.\n",
        "\n",
        "Here we will create a new column called \"word_count\" which will display how many words from the \"parsed_words\" column are in each row or message, then we can reformat the columns."
      ],
      "metadata": {
        "id": "a9JLbUlLz0CN"
      }
    },
    {
      "cell_type": "code",
      "source": [
        "count = []\n",
        "for i in df.index:\n",
        "  count.append(len(df['parsed_words'][i]))\n",
        "\n",
        "df['word_count'] = count\n",
        "df = df[['date','time', 'day', 'user', 'text', 'word_count', 'parsed_words', 'removed_stops']]\n",
        "\n",
        "df"
      ],
      "metadata": {
        "colab": {
          "base_uri": "https://localhost:8080/",
          "height": 768
        },
        "id": "Twyg6bDR_QtO",
        "outputId": "cf5d581c-00bf-49be-a783-1bc2ab1ce765"
      },
      "execution_count": 36,
      "outputs": [
        {
          "output_type": "stream",
          "name": "stderr",
          "text": [
            "<ipython-input-36-98b62c1c9773>:5: SettingWithCopyWarning: \n",
            "A value is trying to be set on a copy of a slice from a DataFrame.\n",
            "Try using .loc[row_indexer,col_indexer] = value instead\n",
            "\n",
            "See the caveats in the documentation: https://pandas.pydata.org/pandas-docs/stable/user_guide/indexing.html#returning-a-view-versus-a-copy\n",
            "  df['word_count'] = count\n"
          ]
        },
        {
          "output_type": "execute_result",
          "data": {
            "text/plain": [
              "             date   time      day     user  \\\n",
              "4      2019-12-01  00:56   Sunday    Ryden   \n",
              "5      2019-12-01  01:07   Sunday  Jayvien   \n",
              "6      2019-12-01  01:10   Sunday  Kaliope   \n",
              "7      2019-12-01  01:13   Sunday    Naely   \n",
              "8      2019-12-01  01:16   Sunday  Jayvien   \n",
              "...           ...    ...      ...      ...   \n",
              "30939  2019-12-31  18:24  Tuesday  Azyriah   \n",
              "30940  2019-12-31  18:25  Tuesday  Areesha   \n",
              "30941  2019-12-31  18:26  Tuesday  Areesha   \n",
              "30942  2019-12-31  18:29  Tuesday   Ailany   \n",
              "30943  2019-12-31  18:29  Tuesday   Ailany   \n",
              "\n",
              "                                                    text  word_count  \\\n",
              "4      where is the name of the file stored on the file?          12   \n",
              "5                                              say what?           3   \n",
              "6      Where would you guys recommend I learn kotlin ...          23   \n",
              "7      I used the official Kotlin docs they have an e...          17   \n",
              "8                                               do they?           3   \n",
              "...                                                  ...         ...   \n",
              "30939                                      hi @GokturkSM           2   \n",
              "30940  Anyone have some math background? Trying to im...         103   \n",
              "30941  My question is... what exactly is a cyclic gro...          31   \n",
              "30942  You need to know what exceptions your code may...          46   \n",
              "30943                                               @cup           1   \n",
              "\n",
              "                                            parsed_words  \\\n",
              "4      [where, be, the, name, of, the, file, store, o...   \n",
              "5                                         [say, what, ?]   \n",
              "6      [where, would, you, guy, recommend, I, learn, ...   \n",
              "7      [I, use, the, official, Kotlin, doc, they, hav...   \n",
              "8                                          [do, they, ?]   \n",
              "...                                                  ...   \n",
              "30939                                   [hi, @gokturksm]   \n",
              "30940  [anyone, have, some, math, background, ?, try,...   \n",
              "30941  [my, question, be, ..., what, exactly, be, a, ...   \n",
              "30942  [you, need, to, know, what, exception, your, c...   \n",
              "30943                                             [@cup]   \n",
              "\n",
              "                                           removed_stops  \n",
              "4                                 [file, store, file, ?]  \n",
              "5                                                    [?]  \n",
              "6      [guy, recommend, learn, kotlin, java, android,...  \n",
              "7      [use, official, Kotlin, doc, entire, tutorial,...  \n",
              "8                                                    [?]  \n",
              "...                                                  ...  \n",
              "30939                                   [hi, @gokturksm]  \n",
              "30940  [math, background, ?, try, implement, zero, kn...  \n",
              "30941  [question, ..., exactly, cyclic, group, use, ?...  \n",
              "30942  [need, know, exception, code, throw, ., catcha...  \n",
              "30943                                             [@cup]  \n",
              "\n",
              "[30940 rows x 8 columns]"
            ],
            "text/html": [
              "\n",
              "  <div id=\"df-22499aa7-50d9-47a9-bbed-69f87ee67923\">\n",
              "    <div class=\"colab-df-container\">\n",
              "      <div>\n",
              "<style scoped>\n",
              "    .dataframe tbody tr th:only-of-type {\n",
              "        vertical-align: middle;\n",
              "    }\n",
              "\n",
              "    .dataframe tbody tr th {\n",
              "        vertical-align: top;\n",
              "    }\n",
              "\n",
              "    .dataframe thead th {\n",
              "        text-align: right;\n",
              "    }\n",
              "</style>\n",
              "<table border=\"1\" class=\"dataframe\">\n",
              "  <thead>\n",
              "    <tr style=\"text-align: right;\">\n",
              "      <th></th>\n",
              "      <th>date</th>\n",
              "      <th>time</th>\n",
              "      <th>day</th>\n",
              "      <th>user</th>\n",
              "      <th>text</th>\n",
              "      <th>word_count</th>\n",
              "      <th>parsed_words</th>\n",
              "      <th>removed_stops</th>\n",
              "    </tr>\n",
              "  </thead>\n",
              "  <tbody>\n",
              "    <tr>\n",
              "      <th>4</th>\n",
              "      <td>2019-12-01</td>\n",
              "      <td>00:56</td>\n",
              "      <td>Sunday</td>\n",
              "      <td>Ryden</td>\n",
              "      <td>where is the name of the file stored on the file?</td>\n",
              "      <td>12</td>\n",
              "      <td>[where, be, the, name, of, the, file, store, o...</td>\n",
              "      <td>[file, store, file, ?]</td>\n",
              "    </tr>\n",
              "    <tr>\n",
              "      <th>5</th>\n",
              "      <td>2019-12-01</td>\n",
              "      <td>01:07</td>\n",
              "      <td>Sunday</td>\n",
              "      <td>Jayvien</td>\n",
              "      <td>say what?</td>\n",
              "      <td>3</td>\n",
              "      <td>[say, what, ?]</td>\n",
              "      <td>[?]</td>\n",
              "    </tr>\n",
              "    <tr>\n",
              "      <th>6</th>\n",
              "      <td>2019-12-01</td>\n",
              "      <td>01:10</td>\n",
              "      <td>Sunday</td>\n",
              "      <td>Kaliope</td>\n",
              "      <td>Where would you guys recommend I learn kotlin ...</td>\n",
              "      <td>23</td>\n",
              "      <td>[where, would, you, guy, recommend, I, learn, ...</td>\n",
              "      <td>[guy, recommend, learn, kotlin, java, android,...</td>\n",
              "    </tr>\n",
              "    <tr>\n",
              "      <th>7</th>\n",
              "      <td>2019-12-01</td>\n",
              "      <td>01:13</td>\n",
              "      <td>Sunday</td>\n",
              "      <td>Naely</td>\n",
              "      <td>I used the official Kotlin docs they have an e...</td>\n",
              "      <td>17</td>\n",
              "      <td>[I, use, the, official, Kotlin, doc, they, hav...</td>\n",
              "      <td>[use, official, Kotlin, doc, entire, tutorial,...</td>\n",
              "    </tr>\n",
              "    <tr>\n",
              "      <th>8</th>\n",
              "      <td>2019-12-01</td>\n",
              "      <td>01:16</td>\n",
              "      <td>Sunday</td>\n",
              "      <td>Jayvien</td>\n",
              "      <td>do they?</td>\n",
              "      <td>3</td>\n",
              "      <td>[do, they, ?]</td>\n",
              "      <td>[?]</td>\n",
              "    </tr>\n",
              "    <tr>\n",
              "      <th>...</th>\n",
              "      <td>...</td>\n",
              "      <td>...</td>\n",
              "      <td>...</td>\n",
              "      <td>...</td>\n",
              "      <td>...</td>\n",
              "      <td>...</td>\n",
              "      <td>...</td>\n",
              "      <td>...</td>\n",
              "    </tr>\n",
              "    <tr>\n",
              "      <th>30939</th>\n",
              "      <td>2019-12-31</td>\n",
              "      <td>18:24</td>\n",
              "      <td>Tuesday</td>\n",
              "      <td>Azyriah</td>\n",
              "      <td>hi @GokturkSM</td>\n",
              "      <td>2</td>\n",
              "      <td>[hi, @gokturksm]</td>\n",
              "      <td>[hi, @gokturksm]</td>\n",
              "    </tr>\n",
              "    <tr>\n",
              "      <th>30940</th>\n",
              "      <td>2019-12-31</td>\n",
              "      <td>18:25</td>\n",
              "      <td>Tuesday</td>\n",
              "      <td>Areesha</td>\n",
              "      <td>Anyone have some math background? Trying to im...</td>\n",
              "      <td>103</td>\n",
              "      <td>[anyone, have, some, math, background, ?, try,...</td>\n",
              "      <td>[math, background, ?, try, implement, zero, kn...</td>\n",
              "    </tr>\n",
              "    <tr>\n",
              "      <th>30941</th>\n",
              "      <td>2019-12-31</td>\n",
              "      <td>18:26</td>\n",
              "      <td>Tuesday</td>\n",
              "      <td>Areesha</td>\n",
              "      <td>My question is... what exactly is a cyclic gro...</td>\n",
              "      <td>31</td>\n",
              "      <td>[my, question, be, ..., what, exactly, be, a, ...</td>\n",
              "      <td>[question, ..., exactly, cyclic, group, use, ?...</td>\n",
              "    </tr>\n",
              "    <tr>\n",
              "      <th>30942</th>\n",
              "      <td>2019-12-31</td>\n",
              "      <td>18:29</td>\n",
              "      <td>Tuesday</td>\n",
              "      <td>Ailany</td>\n",
              "      <td>You need to know what exceptions your code may...</td>\n",
              "      <td>46</td>\n",
              "      <td>[you, need, to, know, what, exception, your, c...</td>\n",
              "      <td>[need, know, exception, code, throw, ., catcha...</td>\n",
              "    </tr>\n",
              "    <tr>\n",
              "      <th>30943</th>\n",
              "      <td>2019-12-31</td>\n",
              "      <td>18:29</td>\n",
              "      <td>Tuesday</td>\n",
              "      <td>Ailany</td>\n",
              "      <td>@cup</td>\n",
              "      <td>1</td>\n",
              "      <td>[@cup]</td>\n",
              "      <td>[@cup]</td>\n",
              "    </tr>\n",
              "  </tbody>\n",
              "</table>\n",
              "<p>30940 rows × 8 columns</p>\n",
              "</div>\n",
              "      <button class=\"colab-df-convert\" onclick=\"convertToInteractive('df-22499aa7-50d9-47a9-bbed-69f87ee67923')\"\n",
              "              title=\"Convert this dataframe to an interactive table.\"\n",
              "              style=\"display:none;\">\n",
              "        \n",
              "  <svg xmlns=\"http://www.w3.org/2000/svg\" height=\"24px\"viewBox=\"0 0 24 24\"\n",
              "       width=\"24px\">\n",
              "    <path d=\"M0 0h24v24H0V0z\" fill=\"none\"/>\n",
              "    <path d=\"M18.56 5.44l.94 2.06.94-2.06 2.06-.94-2.06-.94-.94-2.06-.94 2.06-2.06.94zm-11 1L8.5 8.5l.94-2.06 2.06-.94-2.06-.94L8.5 2.5l-.94 2.06-2.06.94zm10 10l.94 2.06.94-2.06 2.06-.94-2.06-.94-.94-2.06-.94 2.06-2.06.94z\"/><path d=\"M17.41 7.96l-1.37-1.37c-.4-.4-.92-.59-1.43-.59-.52 0-1.04.2-1.43.59L10.3 9.45l-7.72 7.72c-.78.78-.78 2.05 0 2.83L4 21.41c.39.39.9.59 1.41.59.51 0 1.02-.2 1.41-.59l7.78-7.78 2.81-2.81c.8-.78.8-2.07 0-2.86zM5.41 20L4 18.59l7.72-7.72 1.47 1.35L5.41 20z\"/>\n",
              "  </svg>\n",
              "      </button>\n",
              "      \n",
              "  <style>\n",
              "    .colab-df-container {\n",
              "      display:flex;\n",
              "      flex-wrap:wrap;\n",
              "      gap: 12px;\n",
              "    }\n",
              "\n",
              "    .colab-df-convert {\n",
              "      background-color: #E8F0FE;\n",
              "      border: none;\n",
              "      border-radius: 50%;\n",
              "      cursor: pointer;\n",
              "      display: none;\n",
              "      fill: #1967D2;\n",
              "      height: 32px;\n",
              "      padding: 0 0 0 0;\n",
              "      width: 32px;\n",
              "    }\n",
              "\n",
              "    .colab-df-convert:hover {\n",
              "      background-color: #E2EBFA;\n",
              "      box-shadow: 0px 1px 2px rgba(60, 64, 67, 0.3), 0px 1px 3px 1px rgba(60, 64, 67, 0.15);\n",
              "      fill: #174EA6;\n",
              "    }\n",
              "\n",
              "    [theme=dark] .colab-df-convert {\n",
              "      background-color: #3B4455;\n",
              "      fill: #D2E3FC;\n",
              "    }\n",
              "\n",
              "    [theme=dark] .colab-df-convert:hover {\n",
              "      background-color: #434B5C;\n",
              "      box-shadow: 0px 1px 3px 1px rgba(0, 0, 0, 0.15);\n",
              "      filter: drop-shadow(0px 1px 2px rgba(0, 0, 0, 0.3));\n",
              "      fill: #FFFFFF;\n",
              "    }\n",
              "  </style>\n",
              "\n",
              "      <script>\n",
              "        const buttonEl =\n",
              "          document.querySelector('#df-22499aa7-50d9-47a9-bbed-69f87ee67923 button.colab-df-convert');\n",
              "        buttonEl.style.display =\n",
              "          google.colab.kernel.accessAllowed ? 'block' : 'none';\n",
              "\n",
              "        async function convertToInteractive(key) {\n",
              "          const element = document.querySelector('#df-22499aa7-50d9-47a9-bbed-69f87ee67923');\n",
              "          const dataTable =\n",
              "            await google.colab.kernel.invokeFunction('convertToInteractive',\n",
              "                                                     [key], {});\n",
              "          if (!dataTable) return;\n",
              "\n",
              "          const docLinkHtml = 'Like what you see? Visit the ' +\n",
              "            '<a target=\"_blank\" href=https://colab.research.google.com/notebooks/data_table.ipynb>data table notebook</a>'\n",
              "            + ' to learn more about interactive tables.';\n",
              "          element.innerHTML = '';\n",
              "          dataTable['output_type'] = 'display_data';\n",
              "          await google.colab.output.renderOutput(dataTable, element);\n",
              "          const docLink = document.createElement('div');\n",
              "          docLink.innerHTML = docLinkHtml;\n",
              "          element.appendChild(docLink);\n",
              "        }\n",
              "      </script>\n",
              "    </div>\n",
              "  </div>\n",
              "  "
            ]
          },
          "metadata": {},
          "execution_count": 36
        }
      ]
    },
    {
      "cell_type": "markdown",
      "source": [
        "Next let's see if we can group this count of words by each user.\n",
        "\n",
        "Now we can view how many messages each user has sent with the variable \"userWordCount\" by grouping each user and finding the sum of their word count."
      ],
      "metadata": {
        "id": "ufaYzI12Gl9P"
      }
    },
    {
      "cell_type": "code",
      "source": [
        "userWordCount = df.groupby(['user'])['word_count'].sum().reset_index()\n",
        "print(userWordCount)"
      ],
      "metadata": {
        "colab": {
          "base_uri": "https://localhost:8080/"
        },
        "id": "Aa_fJNyZah7U",
        "outputId": "79006288-a193-4e29-97c2-bb41d369720a"
      },
      "execution_count": 37,
      "outputs": [
        {
          "output_type": "stream",
          "name": "stdout",
          "text": [
            "            user  word_count\n",
            "0         Aashvi         274\n",
            "1         Abbott         186\n",
            "2       Abdalahe          36\n",
            "3     Abdelfetah         126\n",
            "4    Abdelmadjid        1444\n",
            "..           ...         ...\n",
            "823         Zuma          11\n",
            "824    Zurisadai          37\n",
            "825       Zuriya         205\n",
            "826        Zviad          18\n",
            "827       Zyanna          97\n",
            "\n",
            "[828 rows x 2 columns]\n"
          ]
        }
      ]
    },
    {
      "cell_type": "markdown",
      "source": [
        "As we can see some users were very active, and only had a few words to share!"
      ],
      "metadata": {
        "id": "cxu01I2tEOJa"
      }
    },
    {
      "cell_type": "markdown",
      "source": [
        "## Graph Analysis"
      ],
      "metadata": {
        "id": "gG5Q_ykMx7nC"
      }
    },
    {
      "cell_type": "markdown",
      "source": [
        "Let's do a little graph analysis."
      ],
      "metadata": {
        "id": "TyiIn-6tEhsQ"
      }
    },
    {
      "cell_type": "markdown",
      "source": [
        "First, let us take a look at this information we just created visually with a scatter plot graph. This way, it can give us a better view of the information instead of just looking at tables."
      ],
      "metadata": {
        "id": "cshmG-frCvvP"
      }
    },
    {
      "cell_type": "code",
      "source": [
        "userWordCount.plot.scatter(x='user', y='word_count', xticks=[])"
      ],
      "metadata": {
        "colab": {
          "base_uri": "https://localhost:8080/",
          "height": 284
        },
        "id": "O65wDz1xC2OW",
        "outputId": "caa4aae1-a2f5-427b-b68b-0d845ea2b311"
      },
      "execution_count": 38,
      "outputs": [
        {
          "output_type": "execute_result",
          "data": {
            "text/plain": [
              "<AxesSubplot:xlabel='user', ylabel='word_count'>"
            ]
          },
          "metadata": {},
          "execution_count": 38
        },
        {
          "output_type": "display_data",
          "data": {
            "text/plain": [
              "<Figure size 432x288 with 1 Axes>"
            ],
            "image/png": "[encoded data removed]"
          },
          "metadata": {
            "needs_background": "light"
          }
        }
      ]
    },
    {
      "cell_type": "markdown",
      "source": [
        "Nice! As we can see most users have sent less than 5000 words, while there are a few that really contributed in the Discord!"
      ],
      "metadata": {
        "id": "uLzEHRiJDAbX"
      }
    },
    {
      "cell_type": "markdown",
      "source": [
        "Next, how about we take a look at the top most active users as we did earlier in this notebook, but this time in a graph format to visually compare how many messages each user sent.\n",
        "\n",
        "We will create a variable called \"frequency\" for this example, and we will group by \"user\" based on the count of how many messages each user sent descending (from most active to least active). You can choose how many to display, for this purpose we will look at the top 10 users with the most messages.\n",
        "\n",
        "We can also label the x and y axis to an appropriate name.\n",
        "\n",
        "Now let's plot this graph as a bar graph."
      ],
      "metadata": {
        "id": "IxmcbitPwkzm"
      }
    },
    {
      "cell_type": "code",
      "source": [
        "frequency = df.groupby('user')['user'].count().sort_values(ascending = False)[:10].plot.bar()\n",
        "frequency.set_xlabel('User', fontsize=20)\n",
        "frequency.set_ylabel('Number of Messages', fontsize=20)"
      ],
      "metadata": {
        "colab": {
          "base_uri": "https://localhost:8080/",
          "height": 344
        },
        "id": "1JZBPtk7nLM6",
        "outputId": "bd95b5a3-4bc5-4e76-b36b-40376756881d"
      },
      "execution_count": 39,
      "outputs": [
        {
          "output_type": "execute_result",
          "data": {
            "text/plain": [
              "Text(0, 0.5, 'Number of Messages')"
            ]
          },
          "metadata": {},
          "execution_count": 39
        },
        {
          "output_type": "display_data",
          "data": {
            "text/plain": [
              "<Figure size 432x288 with 1 Axes>"
            ],
            "image/png": "[encoded data removed]"
          },
          "metadata": {
            "needs_background": "light"
          }
        }
      ]
    },
    {
      "cell_type": "markdown",
      "source": [
        "This lets us see in a visual way compared to earlier, so we can really see how much of a difference there is between the top users and how many messages they sent."
      ],
      "metadata": {
        "id": "DxwPgk05x7qN"
      }
    },
    {
      "cell_type": "markdown",
      "source": [
        "Next we will look at the day of the week compared to how many messages were sent.\n",
        "\n",
        "First lets create a variable called \"dayOfWeek\" which will group our data by 'day' compared to when each message was sent 'text'. Using the plot function we can plot and take a look at the graph we created."
      ],
      "metadata": {
        "id": "Ik-q7jJqiE6A"
      }
    },
    {
      "cell_type": "code",
      "source": [
        "dayOfWeek = df.groupby(df['day'])['text'].count().plot.bar()\n",
        "dayOfWeek.set_xlabel('Day', fontsize=20)\n",
        "dayOfWeek.set_ylabel('Number of Messages', fontsize=20)"
      ],
      "metadata": {
        "colab": {
          "base_uri": "https://localhost:8080/",
          "height": 354
        },
        "id": "T028GtRtXms0",
        "outputId": "7a2015ab-2a5c-4048-b412-d2bc0e56c6bd"
      },
      "execution_count": 40,
      "outputs": [
        {
          "output_type": "execute_result",
          "data": {
            "text/plain": [
              "Text(0, 0.5, 'Number of Messages')"
            ]
          },
          "metadata": {},
          "execution_count": 40
        },
        {
          "output_type": "display_data",
          "data": {
            "text/plain": [
              "<Figure size 432x288 with 1 Axes>"
            ],
            "image/png": "[encoded data removed]"
          },
          "metadata": {
            "needs_background": "light"
          }
        }
      ]
    },
    {
      "cell_type": "markdown",
      "source": [
        "This shows us how many messages were sent compared to the day of the week.\n",
        "\n",
        "Seems like Tuesday has been the busiest day!"
      ],
      "metadata": {
        "id": "M1YtNptrgfpr"
      }
    },
    {
      "cell_type": "markdown",
      "source": [
        "We are also able to take a look at which date  had the most messages sent.\n",
        "\n",
        "Sorting by 'date' instead of 'day of week' will let us view the data by the date each message was sent."
      ],
      "metadata": {
        "id": "fcfP2k-Lh0iu"
      }
    },
    {
      "cell_type": "code",
      "source": [
        "graph2 = df.groupby(df['date'])['text'].count().plot.bar()\n",
        "graph2.set_xlabel('Date', fontsize=20)\n",
        "graph2.set_ylabel('Number of messages', fontsize=20)"
      ],
      "metadata": {
        "colab": {
          "base_uri": "https://localhost:8080/",
          "height": 354
        },
        "id": "iZwWySOlb0_b",
        "outputId": "b789efa9-f9c3-4c3c-b7a4-fa7c4b0046e3"
      },
      "execution_count": 41,
      "outputs": [
        {
          "output_type": "execute_result",
          "data": {
            "text/plain": [
              "Text(0, 0.5, 'Number of messages')"
            ]
          },
          "metadata": {},
          "execution_count": 41
        },
        {
          "output_type": "display_data",
          "data": {
            "text/plain": [
              "<Figure size 432x288 with 1 Axes>"
            ],
            "image/png": "[encoded data removed]"
          },
          "metadata": {
            "needs_background": "light"
          }
        }
      ]
    },
    {
      "cell_type": "markdown",
      "source": [
        "It looks like December 10th was the most engaging day for this month!"
      ],
      "metadata": {
        "id": "llvb0QD7Ii0g"
      }
    },
    {
      "cell_type": "markdown",
      "source": [
        "# Challenges"
      ],
      "metadata": {
        "id": "Sr53D6mIs3qQ"
      }
    },
    {
      "cell_type": "markdown",
      "source": [
        "Add activites for users to learn interactively"
      ],
      "metadata": {
        "id": "g47V972-TH1p"
      }
    },
    {
      "cell_type": "markdown",
      "source": [
        "Add sample data set have users do simple tasks"
      ],
      "metadata": {
        "id": "NCLZIVntBUvK"
      }
    },
    {
      "cell_type": "code",
      "source": [
        "score = 0\n",
        "questions = 5"
      ],
      "metadata": {
        "id": "uAO5UTLKidJk"
      },
      "execution_count": null,
      "outputs": []
    },
    {
      "cell_type": "code",
      "source": [
        "print(\"Find how many messages 'Kaliope' sent.\")"
      ],
      "metadata": {
        "id": "hAiG5dRVhCvJ"
      },
      "execution_count": null,
      "outputs": []
    },
    {
      "cell_type": "code",
      "source": [
        "answer1 = input()"
      ],
      "metadata": {
        "id": "3W99kjd8hgnS"
      },
      "execution_count": null,
      "outputs": []
    },
    {
      "cell_type": "code",
      "source": [
        "if answer1 == \"df['user'].value_counts()['Kaliope']\":\n",
        "  print(\"Correct!\")\n",
        "  score += 1\n",
        "else:\n",
        "  print(\"Incorrect\")\n",
        "  print(\"One way to solve this is:\")\n",
        "  print(\"\")\n",
        "  print(\"df['user'].value_counts()['Kaliope']\")"
      ],
      "metadata": {
        "id": "cwkNHa6nh6lA"
      },
      "execution_count": null,
      "outputs": []
    },
    {
      "cell_type": "code",
      "source": [
        "score = round(score/questions*100)\n",
        "print('Quiz completed.')\n",
        "print('Your final score is {}%.'.format(score))"
      ],
      "metadata": {
        "id": "ZXY1SIryiidl"
      },
      "execution_count": null,
      "outputs": []
    },
    {
      "cell_type": "code",
      "source": [
        "if int(score) >= 70:\n",
        "    print(\"Congrats, you passed!\")\n",
        "else:\n",
        "    print(\"Sorry, you failed.\")"
      ],
      "metadata": {
        "id": "FB8ZfV61kJdD"
      },
      "execution_count": null,
      "outputs": []
    }
  ]
}