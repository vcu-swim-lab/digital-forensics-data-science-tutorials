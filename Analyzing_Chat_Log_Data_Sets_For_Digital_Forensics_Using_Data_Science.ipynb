{
  "nbformat": 4,
  "nbformat_minor": 0,
  "metadata": {
    "colab": {
      "provenance": [],
      "include_colab_link": true
    },
    "kernelspec": {
      "name": "python3",
      "display_name": "Python 3"
    },
    "language_info": {
      "name": "python"
    }
  },
  "cells": [
    {
      "cell_type": "markdown",
      "metadata": {
        "id": "view-in-github",
        "colab_type": "text"
      },
      "source": [
        "<a href=\"https://colab.research.google.com/github/aijaza1/chatlogfile/blob/main/Analyzing_Chat_Log_Data_Sets_For_Digital_Forensics_Using_Data_Science.ipynb\" target=\"_parent\"><img src=\"https://colab.research.google.com/assets/colab-badge.svg\" alt=\"Open In Colab\"/></a>"
      ]
    },
    {
      "cell_type": "markdown",
      "source": [
        "\n",
        "# **Analyzing Chat Log Data Sets For Digital Forensics Using Data Science**\n",
        "---\n",
        "\n"
      ],
      "metadata": {
        "id": "97_XxyAKJhV3"
      }
    },
    {
      "cell_type": "code",
      "source": [],
      "metadata": {
        "id": "-xVWqwOWh7gZ"
      },
      "execution_count": null,
      "outputs": []
    },
    {
      "cell_type": "markdown",
      "source": [
        "# Background Information"
      ],
      "metadata": {
        "id": "PuQJ7Ae6HKxZ"
      }
    },
    {
      "cell_type": "markdown",
      "source": [
        "Digital Forensics is a science that focuses on identifying, gathering, processing, analysing, and \n",
        "reporting of data stored electronically. Computer emails, text messages, images, documents, and internet histories \n",
        "are all very important pieces of information that can be extracted from electronic devices.\n",
        " \n",
        "An analyst will have to examine these computer files from a user or suspect and try and preserve the \n",
        "evidence in its most original form. Any alarming piece of information from these computer files can be used \n",
        "as evidence. \n",
        "\n",
        "Usually, the size of the electronic data and files are huge, and will take a great deal of time to go through \n",
        "every file or text message manually. This is where Data Science can be very beneficial to Digital Forensics.\n",
        "\n",
        "Often times there are situations where you may have to view a users chat logs. You may have to read through \n",
        "their messages to see their conversation, who their communicating with, potential partners, or other key \n",
        "pieces of evidence. \n",
        "\n",
        "\n"
      ],
      "metadata": {
        "id": "TLeJMUa0wX0t"
      }
    },
    {
      "cell_type": "markdown",
      "source": [
        "# What We Will Be Doing"
      ],
      "metadata": {
        "id": "EReuw_O4HhEt"
      }
    },
    {
      "cell_type": "markdown",
      "source": [
        "We will be giving you some tips on how exactly we can condense and organize chat logs down to a smaller size \n",
        "which can be more easily analyzed. We will be explaining how to organize the data in a better fashion, \n",
        "remove duplicates, clean bad or useless data, and more.\n",
        "\n",
        "For this example we will be viewing a public Discord server, specifically of four different programming language communities such as Python, Go, Clojure, and Racket. These servers are public and serve as a resource for getting \n",
        "technical help, sharing knowledge, and also real-time conversations between fellow community members."
      ],
      "metadata": {
        "id": "CbmRcA6LHtGS"
      }
    },
    {
      "cell_type": "markdown",
      "source": [
        "# Learning Goals"
      ],
      "metadata": {
        "id": "Ar2gQK3DHUQ_"
      }
    },
    {
      "cell_type": "markdown",
      "source": [
        "Learning Goals for this tutorial:\n",
        "\n",
        "*   Use Pandas to manipulate a data set\n",
        "*   Cleaning data\n",
        "*   Analyze/sort through the data set\n",
        "*   Be able to pull specific details from the data set\n",
        "\n",
        "\n",
        "\n",
        "\n",
        "\n"
      ],
      "metadata": {
        "id": "j1nhwWvPG7II"
      }
    },
    {
      "cell_type": "markdown",
      "source": [
        "# Acquiring the Discord Datasets"
      ],
      "metadata": {
        "id": "oCC2uGq3AVAH"
      }
    },
    {
      "cell_type": "markdown",
      "source": [
        "This demonstration is based off of Preetha Chatterjee and her team of engineers research, DISCO: A Dataset of Discord Chat Conversations for Software Engineering Research. \n",
        "\n",
        "Download the dataset here (https://zenodo.org/record/5909202#.Y91yPnbMKUk)."
      ],
      "metadata": {
        "id": "EdITo7-DAcMe"
      }
    },
    {
      "cell_type": "markdown",
      "source": [
        "# Getting Started"
      ],
      "metadata": {
        "id": "bg0F1GYeHwsS"
      }
    },
    {
      "cell_type": "markdown",
      "source": [
        "To first get started, we will import some libraries that will help us process and go through data sets.\n",
        "We will be using the 'pandas' library, an open source data analysis and manipulation tool, built on top of the \n",
        "Python programming langage.\n",
        "\n",
        "We will also use the 'numpy' library to help us use arrays to better organize our data."
      ],
      "metadata": {
        "id": "eJxpQ0CQws5R"
      }
    },
    {
      "cell_type": "code",
      "source": [
        "import pandas as pd\n",
        "import numpy as np\n",
        "from datetime import datetime, timedelta\n",
        "from google.colab import drive\n",
        "drive.mount('/content/drive/')"
      ],
      "metadata": {
        "id": "GhR9XgMIw2YM",
        "colab": {
          "base_uri": "https://localhost:8080/"
        },
        "outputId": "3ff19e4b-c43d-4d69-a9c1-825422ab455b"
      },
      "execution_count": null,
      "outputs": [
        {
          "output_type": "stream",
          "name": "stdout",
          "text": [
            "Mounted at /content/drive/\n"
          ]
        }
      ]
    },
    {
      "cell_type": "markdown",
      "source": [
        "Now we must load in the dataset we have downloaded. For this tutorial we will be using chat logs in the Python server from December 2019.\n",
        "\n",
        "**The file is called (pythongeneralDec2019.xml).**\n"
      ],
      "metadata": {
        "id": "fsXbm4oSxDHc"
      }
    },
    {
      "cell_type": "markdown",
      "source": [
        "We will read in our data set using the pandas library we imported. \n",
        "\n",
        "\n",
        "We are going to be storing our data set of chat logs into a variable called \"df\" and will use the 'pandas' library to read the xml file."
      ],
      "metadata": {
        "id": "GkBE5RQpMNxK"
      }
    },
    {
      "cell_type": "markdown",
      "source": [
        "There are a few ways to insert the dataset file."
      ],
      "metadata": {
        "id": "mynP1IxlHScd"
      }
    },
    {
      "cell_type": "markdown",
      "source": [
        "**Option 1)**\n",
        "\n",
        "One way is to directly upload the file in the files section on the left hand side of this Google Colab page.\n",
        "\n",
        "You must insert the file in the \"content\" folder. The only issue with this way is that you will need to upload the file everytime we run.\n",
        "\n",
        "Then you can use the following code to load in the file into our workspace:"
      ],
      "metadata": {
        "id": "4DhxS-oBOPVp"
      }
    },
    {
      "cell_type": "code",
      "source": [
        "df = pd.read_xml('pythongeneralDec2019.xml')"
      ],
      "metadata": {
        "id": "2FOG0HnKHz7Q"
      },
      "execution_count": null,
      "outputs": []
    },
    {
      "cell_type": "markdown",
      "source": [
        "**Option 2)**\n",
        "\n",
        "Another way, where you don't have to load in the file everytime we run it is to store it in the google drive.\n",
        "\n",
        "Either in google drive or in the files section on the left hand side of this Google Colab page, upload the month of chat logs we will be experimenting with **(pythongeneralDec2019.xml)** into \"content\" then \"drive\" folder. \n",
        "\n",
        "Then you can use the following command:"
      ],
      "metadata": {
        "id": "OW97TYQSH1ET"
      }
    },
    {
      "cell_type": "code",
      "source": [
        "df = pd.read_xml('/content/drive/MyDrive/pythongeneralDec2019.xml')"
      ],
      "metadata": {
        "id": "vDrn-7i0GMbq"
      },
      "execution_count": null,
      "outputs": []
    },
    {
      "cell_type": "markdown",
      "source": [
        "Now that we have our file, \n",
        "lets take a look at what our data consists of using the \"info\" method. "
      ],
      "metadata": {
        "id": "OSGtwzgoxsbv"
      }
    },
    {
      "cell_type": "code",
      "source": [
        "df.info()"
      ],
      "metadata": {
        "colab": {
          "base_uri": "https://localhost:8080/"
        },
        "id": "AvZUVFVTxtZu",
        "outputId": "5033c75d-f557-4724-e4d2-adce2ae64021"
      },
      "execution_count": null,
      "outputs": [
        {
          "output_type": "stream",
          "name": "stdout",
          "text": [
            "<class 'pandas.core.frame.DataFrame'>\n",
            "RangeIndex: 30944 entries, 0 to 30943\n",
            "Data columns (total 7 columns):\n",
            " #   Column        Non-Null Count  Dtype \n",
            "---  ------        --------------  ----- \n",
            " 0   team_domain   1 non-null      object\n",
            " 1   channel_name  1 non-null      object\n",
            " 2   start_date    1 non-null      object\n",
            " 3   end_date      1 non-null      object\n",
            " 4   ts            30940 non-null  object\n",
            " 5   user          30940 non-null  object\n",
            " 6   text          30940 non-null  object\n",
            "dtypes: object(7)\n",
            "memory usage: 1.7+ MB\n"
          ]
        }
      ]
    },
    {
      "cell_type": "markdown",
      "source": [
        "Here we can see a more general view of what our data set consists of. This shows our different column names as well as how many values are in these columns. Notice the first four columns, there is only one piece of data in these columns.\n",
        "\n",
        "Using just the \"df\" command, now we see exactly what our data in the data set consists of as a whole.\n"
      ],
      "metadata": {
        "id": "BjLgS6j0yODa"
      }
    },
    {
      "cell_type": "code",
      "source": [
        "df"
      ],
      "metadata": {
        "colab": {
          "base_uri": "https://localhost:8080/",
          "height": 424
        },
        "id": "LopZwjM2ytqM",
        "outputId": "4bbfcb1a-ac3e-4cac-9d0b-4277284d0f23"
      },
      "execution_count": null,
      "outputs": [
        {
          "output_type": "execute_result",
          "data": {
            "text/plain": [
              "      team_domain    channel_name                  start_date  \\\n",
              "0          Python            None                        None   \n",
              "1            None  python-general                        None   \n",
              "2            None            None  2019-12-01T00:56:23.288000   \n",
              "3            None            None                        None   \n",
              "4            None            None                        None   \n",
              "...           ...             ...                         ...   \n",
              "30939        None            None                        None   \n",
              "30940        None            None                        None   \n",
              "30941        None            None                        None   \n",
              "30942        None            None                        None   \n",
              "30943        None            None                        None   \n",
              "\n",
              "                         end_date                          ts     user  \\\n",
              "0                            None                        None     None   \n",
              "1                            None                        None     None   \n",
              "2                            None                        None     None   \n",
              "3      2019-12-31T18:29:57.380000                        None     None   \n",
              "4                            None  2019-12-01T00:56:23.288000    Ryden   \n",
              "...                           ...                         ...      ...   \n",
              "30939                        None  2019-12-31T18:24:58.198000  Azyriah   \n",
              "30940                        None  2019-12-31T18:25:37.421000  Areesha   \n",
              "30941                        None  2019-12-31T18:26:17.603000  Areesha   \n",
              "30942                        None  2019-12-31T18:29:15.676000   Ailany   \n",
              "30943                        None  2019-12-31T18:29:57.380000   Ailany   \n",
              "\n",
              "                                                    text  \n",
              "0                                                   None  \n",
              "1                                                   None  \n",
              "2                                                   None  \n",
              "3                                                   None  \n",
              "4      where is the name of the file stored on the file?  \n",
              "...                                                  ...  \n",
              "30939                                      hi @GokturkSM  \n",
              "30940  Anyone have some math background? Trying to im...  \n",
              "30941  My question is... what exactly is a cyclic gro...  \n",
              "30942  You need to know what exceptions your code may...  \n",
              "30943                                               @cup  \n",
              "\n",
              "[30944 rows x 7 columns]"
            ],
            "text/html": [
              "\n",
              "  <div id=\"df-f57b7b39-dde5-4e40-977b-f04382d2a510\">\n",
              "    <div class=\"colab-df-container\">\n",
              "      <div>\n",
              "<style scoped>\n",
              "    .dataframe tbody tr th:only-of-type {\n",
              "        vertical-align: middle;\n",
              "    }\n",
              "\n",
              "    .dataframe tbody tr th {\n",
              "        vertical-align: top;\n",
              "    }\n",
              "\n",
              "    .dataframe thead th {\n",
              "        text-align: right;\n",
              "    }\n",
              "</style>\n",
              "<table border=\"1\" class=\"dataframe\">\n",
              "  <thead>\n",
              "    <tr style=\"text-align: right;\">\n",
              "      <th></th>\n",
              "      <th>team_domain</th>\n",
              "      <th>channel_name</th>\n",
              "      <th>start_date</th>\n",
              "      <th>end_date</th>\n",
              "      <th>ts</th>\n",
              "      <th>user</th>\n",
              "      <th>text</th>\n",
              "    </tr>\n",
              "  </thead>\n",
              "  <tbody>\n",
              "    <tr>\n",
              "      <th>0</th>\n",
              "      <td>Python</td>\n",
              "      <td>None</td>\n",
              "      <td>None</td>\n",
              "      <td>None</td>\n",
              "      <td>None</td>\n",
              "      <td>None</td>\n",
              "      <td>None</td>\n",
              "    </tr>\n",
              "    <tr>\n",
              "      <th>1</th>\n",
              "      <td>None</td>\n",
              "      <td>python-general</td>\n",
              "      <td>None</td>\n",
              "      <td>None</td>\n",
              "      <td>None</td>\n",
              "      <td>None</td>\n",
              "      <td>None</td>\n",
              "    </tr>\n",
              "    <tr>\n",
              "      <th>2</th>\n",
              "      <td>None</td>\n",
              "      <td>None</td>\n",
              "      <td>2019-12-01T00:56:23.288000</td>\n",
              "      <td>None</td>\n",
              "      <td>None</td>\n",
              "      <td>None</td>\n",
              "      <td>None</td>\n",
              "    </tr>\n",
              "    <tr>\n",
              "      <th>3</th>\n",
              "      <td>None</td>\n",
              "      <td>None</td>\n",
              "      <td>None</td>\n",
              "      <td>2019-12-31T18:29:57.380000</td>\n",
              "      <td>None</td>\n",
              "      <td>None</td>\n",
              "      <td>None</td>\n",
              "    </tr>\n",
              "    <tr>\n",
              "      <th>4</th>\n",
              "      <td>None</td>\n",
              "      <td>None</td>\n",
              "      <td>None</td>\n",
              "      <td>None</td>\n",
              "      <td>2019-12-01T00:56:23.288000</td>\n",
              "      <td>Ryden</td>\n",
              "      <td>where is the name of the file stored on the file?</td>\n",
              "    </tr>\n",
              "    <tr>\n",
              "      <th>...</th>\n",
              "      <td>...</td>\n",
              "      <td>...</td>\n",
              "      <td>...</td>\n",
              "      <td>...</td>\n",
              "      <td>...</td>\n",
              "      <td>...</td>\n",
              "      <td>...</td>\n",
              "    </tr>\n",
              "    <tr>\n",
              "      <th>30939</th>\n",
              "      <td>None</td>\n",
              "      <td>None</td>\n",
              "      <td>None</td>\n",
              "      <td>None</td>\n",
              "      <td>2019-12-31T18:24:58.198000</td>\n",
              "      <td>Azyriah</td>\n",
              "      <td>hi @GokturkSM</td>\n",
              "    </tr>\n",
              "    <tr>\n",
              "      <th>30940</th>\n",
              "      <td>None</td>\n",
              "      <td>None</td>\n",
              "      <td>None</td>\n",
              "      <td>None</td>\n",
              "      <td>2019-12-31T18:25:37.421000</td>\n",
              "      <td>Areesha</td>\n",
              "      <td>Anyone have some math background? Trying to im...</td>\n",
              "    </tr>\n",
              "    <tr>\n",
              "      <th>30941</th>\n",
              "      <td>None</td>\n",
              "      <td>None</td>\n",
              "      <td>None</td>\n",
              "      <td>None</td>\n",
              "      <td>2019-12-31T18:26:17.603000</td>\n",
              "      <td>Areesha</td>\n",
              "      <td>My question is... what exactly is a cyclic gro...</td>\n",
              "    </tr>\n",
              "    <tr>\n",
              "      <th>30942</th>\n",
              "      <td>None</td>\n",
              "      <td>None</td>\n",
              "      <td>None</td>\n",
              "      <td>None</td>\n",
              "      <td>2019-12-31T18:29:15.676000</td>\n",
              "      <td>Ailany</td>\n",
              "      <td>You need to know what exceptions your code may...</td>\n",
              "    </tr>\n",
              "    <tr>\n",
              "      <th>30943</th>\n",
              "      <td>None</td>\n",
              "      <td>None</td>\n",
              "      <td>None</td>\n",
              "      <td>None</td>\n",
              "      <td>2019-12-31T18:29:57.380000</td>\n",
              "      <td>Ailany</td>\n",
              "      <td>@cup</td>\n",
              "    </tr>\n",
              "  </tbody>\n",
              "</table>\n",
              "<p>30944 rows × 7 columns</p>\n",
              "</div>\n",
              "      <button class=\"colab-df-convert\" onclick=\"convertToInteractive('df-f57b7b39-dde5-4e40-977b-f04382d2a510')\"\n",
              "              title=\"Convert this dataframe to an interactive table.\"\n",
              "              style=\"display:none;\">\n",
              "        \n",
              "  <svg xmlns=\"http://www.w3.org/2000/svg\" height=\"24px\"viewBox=\"0 0 24 24\"\n",
              "       width=\"24px\">\n",
              "    <path d=\"M0 0h24v24H0V0z\" fill=\"none\"/>\n",
              "    <path d=\"M18.56 5.44l.94 2.06.94-2.06 2.06-.94-2.06-.94-.94-2.06-.94 2.06-2.06.94zm-11 1L8.5 8.5l.94-2.06 2.06-.94-2.06-.94L8.5 2.5l-.94 2.06-2.06.94zm10 10l.94 2.06.94-2.06 2.06-.94-2.06-.94-.94-2.06-.94 2.06-2.06.94z\"/><path d=\"M17.41 7.96l-1.37-1.37c-.4-.4-.92-.59-1.43-.59-.52 0-1.04.2-1.43.59L10.3 9.45l-7.72 7.72c-.78.78-.78 2.05 0 2.83L4 21.41c.39.39.9.59 1.41.59.51 0 1.02-.2 1.41-.59l7.78-7.78 2.81-2.81c.8-.78.8-2.07 0-2.86zM5.41 20L4 18.59l7.72-7.72 1.47 1.35L5.41 20z\"/>\n",
              "  </svg>\n",
              "      </button>\n",
              "      \n",
              "  <style>\n",
              "    .colab-df-container {\n",
              "      display:flex;\n",
              "      flex-wrap:wrap;\n",
              "      gap: 12px;\n",
              "    }\n",
              "\n",
              "    .colab-df-convert {\n",
              "      background-color: #E8F0FE;\n",
              "      border: none;\n",
              "      border-radius: 50%;\n",
              "      cursor: pointer;\n",
              "      display: none;\n",
              "      fill: #1967D2;\n",
              "      height: 32px;\n",
              "      padding: 0 0 0 0;\n",
              "      width: 32px;\n",
              "    }\n",
              "\n",
              "    .colab-df-convert:hover {\n",
              "      background-color: #E2EBFA;\n",
              "      box-shadow: 0px 1px 2px rgba(60, 64, 67, 0.3), 0px 1px 3px 1px rgba(60, 64, 67, 0.15);\n",
              "      fill: #174EA6;\n",
              "    }\n",
              "\n",
              "    [theme=dark] .colab-df-convert {\n",
              "      background-color: #3B4455;\n",
              "      fill: #D2E3FC;\n",
              "    }\n",
              "\n",
              "    [theme=dark] .colab-df-convert:hover {\n",
              "      background-color: #434B5C;\n",
              "      box-shadow: 0px 1px 3px 1px rgba(0, 0, 0, 0.15);\n",
              "      filter: drop-shadow(0px 1px 2px rgba(0, 0, 0, 0.3));\n",
              "      fill: #FFFFFF;\n",
              "    }\n",
              "  </style>\n",
              "\n",
              "      <script>\n",
              "        const buttonEl =\n",
              "          document.querySelector('#df-f57b7b39-dde5-4e40-977b-f04382d2a510 button.colab-df-convert');\n",
              "        buttonEl.style.display =\n",
              "          google.colab.kernel.accessAllowed ? 'block' : 'none';\n",
              "\n",
              "        async function convertToInteractive(key) {\n",
              "          const element = document.querySelector('#df-f57b7b39-dde5-4e40-977b-f04382d2a510');\n",
              "          const dataTable =\n",
              "            await google.colab.kernel.invokeFunction('convertToInteractive',\n",
              "                                                     [key], {});\n",
              "          if (!dataTable) return;\n",
              "\n",
              "          const docLinkHtml = 'Like what you see? Visit the ' +\n",
              "            '<a target=\"_blank\" href=https://colab.research.google.com/notebooks/data_table.ipynb>data table notebook</a>'\n",
              "            + ' to learn more about interactive tables.';\n",
              "          element.innerHTML = '';\n",
              "          dataTable['output_type'] = 'display_data';\n",
              "          await google.colab.output.renderOutput(dataTable, element);\n",
              "          const docLink = document.createElement('div');\n",
              "          docLink.innerHTML = docLinkHtml;\n",
              "          element.appendChild(docLink);\n",
              "        }\n",
              "      </script>\n",
              "    </div>\n",
              "  </div>\n",
              "  "
            ]
          },
          "metadata": {},
          "execution_count": 5
        }
      ]
    },
    {
      "cell_type": "markdown",
      "source": [
        "# Data Cleaning"
      ],
      "metadata": {
        "id": "iuv0-gFvJ91Z"
      }
    },
    {
      "cell_type": "markdown",
      "source": [
        "Notice the first four columns again, we only have one piece of information in each of these columns, and they aren't that useful to us. We do not need to work with the name of the discord channel as well as the start and end date/time. \n",
        "\n",
        "We will start by getting rid of these first four columns and rows of data to simplify and condense down our data set."
      ],
      "metadata": {
        "id": "xRNLbYwhyvHk"
      }
    },
    {
      "cell_type": "markdown",
      "source": [
        "Let's use the \"drop\" method to get rid of our first four rows of data.\n",
        "\n",
        "Then, let's take a look at what it looks like."
      ],
      "metadata": {
        "id": "jc2uctBgM2lY"
      }
    },
    {
      "cell_type": "code",
      "source": [
        "df = df.drop(range(0,4))\n",
        "\n",
        "df"
      ],
      "metadata": {
        "id": "hNC_uVzvz2i-",
        "colab": {
          "base_uri": "https://localhost:8080/",
          "height": 424
        },
        "outputId": "9653f317-259a-42af-bc53-5cd900ef3ad5"
      },
      "execution_count": null,
      "outputs": [
        {
          "output_type": "execute_result",
          "data": {
            "text/plain": [
              "      team_domain channel_name start_date end_date  \\\n",
              "4            None         None       None     None   \n",
              "5            None         None       None     None   \n",
              "6            None         None       None     None   \n",
              "7            None         None       None     None   \n",
              "8            None         None       None     None   \n",
              "...           ...          ...        ...      ...   \n",
              "30939        None         None       None     None   \n",
              "30940        None         None       None     None   \n",
              "30941        None         None       None     None   \n",
              "30942        None         None       None     None   \n",
              "30943        None         None       None     None   \n",
              "\n",
              "                               ts     user  \\\n",
              "4      2019-12-01T00:56:23.288000    Ryden   \n",
              "5      2019-12-01T01:07:04.875000  Jayvien   \n",
              "6      2019-12-01T01:10:54.022000  Kaliope   \n",
              "7      2019-12-01T01:13:29.732000    Naely   \n",
              "8      2019-12-01T01:16:43.656000  Jayvien   \n",
              "...                           ...      ...   \n",
              "30939  2019-12-31T18:24:58.198000  Azyriah   \n",
              "30940  2019-12-31T18:25:37.421000  Areesha   \n",
              "30941  2019-12-31T18:26:17.603000  Areesha   \n",
              "30942  2019-12-31T18:29:15.676000   Ailany   \n",
              "30943  2019-12-31T18:29:57.380000   Ailany   \n",
              "\n",
              "                                                    text  \n",
              "4      where is the name of the file stored on the file?  \n",
              "5                                              say what?  \n",
              "6      Where would you guys recommend I learn kotlin ...  \n",
              "7      I used the official Kotlin docs they have an e...  \n",
              "8                                               do they?  \n",
              "...                                                  ...  \n",
              "30939                                      hi @GokturkSM  \n",
              "30940  Anyone have some math background? Trying to im...  \n",
              "30941  My question is... what exactly is a cyclic gro...  \n",
              "30942  You need to know what exceptions your code may...  \n",
              "30943                                               @cup  \n",
              "\n",
              "[30940 rows x 7 columns]"
            ],
            "text/html": [
              "\n",
              "  <div id=\"df-92168c52-f1e5-4c76-a32d-91991e2fb499\">\n",
              "    <div class=\"colab-df-container\">\n",
              "      <div>\n",
              "<style scoped>\n",
              "    .dataframe tbody tr th:only-of-type {\n",
              "        vertical-align: middle;\n",
              "    }\n",
              "\n",
              "    .dataframe tbody tr th {\n",
              "        vertical-align: top;\n",
              "    }\n",
              "\n",
              "    .dataframe thead th {\n",
              "        text-align: right;\n",
              "    }\n",
              "</style>\n",
              "<table border=\"1\" class=\"dataframe\">\n",
              "  <thead>\n",
              "    <tr style=\"text-align: right;\">\n",
              "      <th></th>\n",
              "      <th>team_domain</th>\n",
              "      <th>channel_name</th>\n",
              "      <th>start_date</th>\n",
              "      <th>end_date</th>\n",
              "      <th>ts</th>\n",
              "      <th>user</th>\n",
              "      <th>text</th>\n",
              "    </tr>\n",
              "  </thead>\n",
              "  <tbody>\n",
              "    <tr>\n",
              "      <th>4</th>\n",
              "      <td>None</td>\n",
              "      <td>None</td>\n",
              "      <td>None</td>\n",
              "      <td>None</td>\n",
              "      <td>2019-12-01T00:56:23.288000</td>\n",
              "      <td>Ryden</td>\n",
              "      <td>where is the name of the file stored on the file?</td>\n",
              "    </tr>\n",
              "    <tr>\n",
              "      <th>5</th>\n",
              "      <td>None</td>\n",
              "      <td>None</td>\n",
              "      <td>None</td>\n",
              "      <td>None</td>\n",
              "      <td>2019-12-01T01:07:04.875000</td>\n",
              "      <td>Jayvien</td>\n",
              "      <td>say what?</td>\n",
              "    </tr>\n",
              "    <tr>\n",
              "      <th>6</th>\n",
              "      <td>None</td>\n",
              "      <td>None</td>\n",
              "      <td>None</td>\n",
              "      <td>None</td>\n",
              "      <td>2019-12-01T01:10:54.022000</td>\n",
              "      <td>Kaliope</td>\n",
              "      <td>Where would you guys recommend I learn kotlin ...</td>\n",
              "    </tr>\n",
              "    <tr>\n",
              "      <th>7</th>\n",
              "      <td>None</td>\n",
              "      <td>None</td>\n",
              "      <td>None</td>\n",
              "      <td>None</td>\n",
              "      <td>2019-12-01T01:13:29.732000</td>\n",
              "      <td>Naely</td>\n",
              "      <td>I used the official Kotlin docs they have an e...</td>\n",
              "    </tr>\n",
              "    <tr>\n",
              "      <th>8</th>\n",
              "      <td>None</td>\n",
              "      <td>None</td>\n",
              "      <td>None</td>\n",
              "      <td>None</td>\n",
              "      <td>2019-12-01T01:16:43.656000</td>\n",
              "      <td>Jayvien</td>\n",
              "      <td>do they?</td>\n",
              "    </tr>\n",
              "    <tr>\n",
              "      <th>...</th>\n",
              "      <td>...</td>\n",
              "      <td>...</td>\n",
              "      <td>...</td>\n",
              "      <td>...</td>\n",
              "      <td>...</td>\n",
              "      <td>...</td>\n",
              "      <td>...</td>\n",
              "    </tr>\n",
              "    <tr>\n",
              "      <th>30939</th>\n",
              "      <td>None</td>\n",
              "      <td>None</td>\n",
              "      <td>None</td>\n",
              "      <td>None</td>\n",
              "      <td>2019-12-31T18:24:58.198000</td>\n",
              "      <td>Azyriah</td>\n",
              "      <td>hi @GokturkSM</td>\n",
              "    </tr>\n",
              "    <tr>\n",
              "      <th>30940</th>\n",
              "      <td>None</td>\n",
              "      <td>None</td>\n",
              "      <td>None</td>\n",
              "      <td>None</td>\n",
              "      <td>2019-12-31T18:25:37.421000</td>\n",
              "      <td>Areesha</td>\n",
              "      <td>Anyone have some math background? Trying to im...</td>\n",
              "    </tr>\n",
              "    <tr>\n",
              "      <th>30941</th>\n",
              "      <td>None</td>\n",
              "      <td>None</td>\n",
              "      <td>None</td>\n",
              "      <td>None</td>\n",
              "      <td>2019-12-31T18:26:17.603000</td>\n",
              "      <td>Areesha</td>\n",
              "      <td>My question is... what exactly is a cyclic gro...</td>\n",
              "    </tr>\n",
              "    <tr>\n",
              "      <th>30942</th>\n",
              "      <td>None</td>\n",
              "      <td>None</td>\n",
              "      <td>None</td>\n",
              "      <td>None</td>\n",
              "      <td>2019-12-31T18:29:15.676000</td>\n",
              "      <td>Ailany</td>\n",
              "      <td>You need to know what exceptions your code may...</td>\n",
              "    </tr>\n",
              "    <tr>\n",
              "      <th>30943</th>\n",
              "      <td>None</td>\n",
              "      <td>None</td>\n",
              "      <td>None</td>\n",
              "      <td>None</td>\n",
              "      <td>2019-12-31T18:29:57.380000</td>\n",
              "      <td>Ailany</td>\n",
              "      <td>@cup</td>\n",
              "    </tr>\n",
              "  </tbody>\n",
              "</table>\n",
              "<p>30940 rows × 7 columns</p>\n",
              "</div>\n",
              "      <button class=\"colab-df-convert\" onclick=\"convertToInteractive('df-92168c52-f1e5-4c76-a32d-91991e2fb499')\"\n",
              "              title=\"Convert this dataframe to an interactive table.\"\n",
              "              style=\"display:none;\">\n",
              "        \n",
              "  <svg xmlns=\"http://www.w3.org/2000/svg\" height=\"24px\"viewBox=\"0 0 24 24\"\n",
              "       width=\"24px\">\n",
              "    <path d=\"M0 0h24v24H0V0z\" fill=\"none\"/>\n",
              "    <path d=\"M18.56 5.44l.94 2.06.94-2.06 2.06-.94-2.06-.94-.94-2.06-.94 2.06-2.06.94zm-11 1L8.5 8.5l.94-2.06 2.06-.94-2.06-.94L8.5 2.5l-.94 2.06-2.06.94zm10 10l.94 2.06.94-2.06 2.06-.94-2.06-.94-.94-2.06-.94 2.06-2.06.94z\"/><path d=\"M17.41 7.96l-1.37-1.37c-.4-.4-.92-.59-1.43-.59-.52 0-1.04.2-1.43.59L10.3 9.45l-7.72 7.72c-.78.78-.78 2.05 0 2.83L4 21.41c.39.39.9.59 1.41.59.51 0 1.02-.2 1.41-.59l7.78-7.78 2.81-2.81c.8-.78.8-2.07 0-2.86zM5.41 20L4 18.59l7.72-7.72 1.47 1.35L5.41 20z\"/>\n",
              "  </svg>\n",
              "      </button>\n",
              "      \n",
              "  <style>\n",
              "    .colab-df-container {\n",
              "      display:flex;\n",
              "      flex-wrap:wrap;\n",
              "      gap: 12px;\n",
              "    }\n",
              "\n",
              "    .colab-df-convert {\n",
              "      background-color: #E8F0FE;\n",
              "      border: none;\n",
              "      border-radius: 50%;\n",
              "      cursor: pointer;\n",
              "      display: none;\n",
              "      fill: #1967D2;\n",
              "      height: 32px;\n",
              "      padding: 0 0 0 0;\n",
              "      width: 32px;\n",
              "    }\n",
              "\n",
              "    .colab-df-convert:hover {\n",
              "      background-color: #E2EBFA;\n",
              "      box-shadow: 0px 1px 2px rgba(60, 64, 67, 0.3), 0px 1px 3px 1px rgba(60, 64, 67, 0.15);\n",
              "      fill: #174EA6;\n",
              "    }\n",
              "\n",
              "    [theme=dark] .colab-df-convert {\n",
              "      background-color: #3B4455;\n",
              "      fill: #D2E3FC;\n",
              "    }\n",
              "\n",
              "    [theme=dark] .colab-df-convert:hover {\n",
              "      background-color: #434B5C;\n",
              "      box-shadow: 0px 1px 3px 1px rgba(0, 0, 0, 0.15);\n",
              "      filter: drop-shadow(0px 1px 2px rgba(0, 0, 0, 0.3));\n",
              "      fill: #FFFFFF;\n",
              "    }\n",
              "  </style>\n",
              "\n",
              "      <script>\n",
              "        const buttonEl =\n",
              "          document.querySelector('#df-92168c52-f1e5-4c76-a32d-91991e2fb499 button.colab-df-convert');\n",
              "        buttonEl.style.display =\n",
              "          google.colab.kernel.accessAllowed ? 'block' : 'none';\n",
              "\n",
              "        async function convertToInteractive(key) {\n",
              "          const element = document.querySelector('#df-92168c52-f1e5-4c76-a32d-91991e2fb499');\n",
              "          const dataTable =\n",
              "            await google.colab.kernel.invokeFunction('convertToInteractive',\n",
              "                                                     [key], {});\n",
              "          if (!dataTable) return;\n",
              "\n",
              "          const docLinkHtml = 'Like what you see? Visit the ' +\n",
              "            '<a target=\"_blank\" href=https://colab.research.google.com/notebooks/data_table.ipynb>data table notebook</a>'\n",
              "            + ' to learn more about interactive tables.';\n",
              "          element.innerHTML = '';\n",
              "          dataTable['output_type'] = 'display_data';\n",
              "          await google.colab.output.renderOutput(dataTable, element);\n",
              "          const docLink = document.createElement('div');\n",
              "          docLink.innerHTML = docLinkHtml;\n",
              "          element.appendChild(docLink);\n",
              "        }\n",
              "      </script>\n",
              "    </div>\n",
              "  </div>\n",
              "  "
            ]
          },
          "metadata": {},
          "execution_count": 6
        }
      ]
    },
    {
      "cell_type": "markdown",
      "source": [
        "Our data set looks a little cleaner now. However, now we have four rows full of empty or null data.\n",
        "\n",
        "Lets now get rid of these first four columns to condense our table down into a more readable table.\n",
        "\n",
        "We will use the same \"drop\" method but we will specify what columns exactly we want to drop as well as use \"axis=1\" to specify we want to drop a column instead of a rows."
      ],
      "metadata": {
        "id": "siTYgcKj1ff3"
      }
    },
    {
      "cell_type": "code",
      "source": [
        "df = df.drop(labels=\"team_domain\", axis=1)\n",
        "\n",
        "df"
      ],
      "metadata": {
        "id": "QuiNEgLU164_",
        "colab": {
          "base_uri": "https://localhost:8080/",
          "height": 424
        },
        "outputId": "90d502fb-3a40-4e1b-ecc3-263243df5096"
      },
      "execution_count": null,
      "outputs": [
        {
          "output_type": "execute_result",
          "data": {
            "text/plain": [
              "      channel_name start_date end_date                          ts     user  \\\n",
              "4             None       None     None  2019-12-01T00:56:23.288000    Ryden   \n",
              "5             None       None     None  2019-12-01T01:07:04.875000  Jayvien   \n",
              "6             None       None     None  2019-12-01T01:10:54.022000  Kaliope   \n",
              "7             None       None     None  2019-12-01T01:13:29.732000    Naely   \n",
              "8             None       None     None  2019-12-01T01:16:43.656000  Jayvien   \n",
              "...            ...        ...      ...                         ...      ...   \n",
              "30939         None       None     None  2019-12-31T18:24:58.198000  Azyriah   \n",
              "30940         None       None     None  2019-12-31T18:25:37.421000  Areesha   \n",
              "30941         None       None     None  2019-12-31T18:26:17.603000  Areesha   \n",
              "30942         None       None     None  2019-12-31T18:29:15.676000   Ailany   \n",
              "30943         None       None     None  2019-12-31T18:29:57.380000   Ailany   \n",
              "\n",
              "                                                    text  \n",
              "4      where is the name of the file stored on the file?  \n",
              "5                                              say what?  \n",
              "6      Where would you guys recommend I learn kotlin ...  \n",
              "7      I used the official Kotlin docs they have an e...  \n",
              "8                                               do they?  \n",
              "...                                                  ...  \n",
              "30939                                      hi @GokturkSM  \n",
              "30940  Anyone have some math background? Trying to im...  \n",
              "30941  My question is... what exactly is a cyclic gro...  \n",
              "30942  You need to know what exceptions your code may...  \n",
              "30943                                               @cup  \n",
              "\n",
              "[30940 rows x 6 columns]"
            ],
            "text/html": [
              "\n",
              "  <div id=\"df-70213c39-4ca6-450b-b466-aa5bc4b701d6\">\n",
              "    <div class=\"colab-df-container\">\n",
              "      <div>\n",
              "<style scoped>\n",
              "    .dataframe tbody tr th:only-of-type {\n",
              "        vertical-align: middle;\n",
              "    }\n",
              "\n",
              "    .dataframe tbody tr th {\n",
              "        vertical-align: top;\n",
              "    }\n",
              "\n",
              "    .dataframe thead th {\n",
              "        text-align: right;\n",
              "    }\n",
              "</style>\n",
              "<table border=\"1\" class=\"dataframe\">\n",
              "  <thead>\n",
              "    <tr style=\"text-align: right;\">\n",
              "      <th></th>\n",
              "      <th>channel_name</th>\n",
              "      <th>start_date</th>\n",
              "      <th>end_date</th>\n",
              "      <th>ts</th>\n",
              "      <th>user</th>\n",
              "      <th>text</th>\n",
              "    </tr>\n",
              "  </thead>\n",
              "  <tbody>\n",
              "    <tr>\n",
              "      <th>4</th>\n",
              "      <td>None</td>\n",
              "      <td>None</td>\n",
              "      <td>None</td>\n",
              "      <td>2019-12-01T00:56:23.288000</td>\n",
              "      <td>Ryden</td>\n",
              "      <td>where is the name of the file stored on the file?</td>\n",
              "    </tr>\n",
              "    <tr>\n",
              "      <th>5</th>\n",
              "      <td>None</td>\n",
              "      <td>None</td>\n",
              "      <td>None</td>\n",
              "      <td>2019-12-01T01:07:04.875000</td>\n",
              "      <td>Jayvien</td>\n",
              "      <td>say what?</td>\n",
              "    </tr>\n",
              "    <tr>\n",
              "      <th>6</th>\n",
              "      <td>None</td>\n",
              "      <td>None</td>\n",
              "      <td>None</td>\n",
              "      <td>2019-12-01T01:10:54.022000</td>\n",
              "      <td>Kaliope</td>\n",
              "      <td>Where would you guys recommend I learn kotlin ...</td>\n",
              "    </tr>\n",
              "    <tr>\n",
              "      <th>7</th>\n",
              "      <td>None</td>\n",
              "      <td>None</td>\n",
              "      <td>None</td>\n",
              "      <td>2019-12-01T01:13:29.732000</td>\n",
              "      <td>Naely</td>\n",
              "      <td>I used the official Kotlin docs they have an e...</td>\n",
              "    </tr>\n",
              "    <tr>\n",
              "      <th>8</th>\n",
              "      <td>None</td>\n",
              "      <td>None</td>\n",
              "      <td>None</td>\n",
              "      <td>2019-12-01T01:16:43.656000</td>\n",
              "      <td>Jayvien</td>\n",
              "      <td>do they?</td>\n",
              "    </tr>\n",
              "    <tr>\n",
              "      <th>...</th>\n",
              "      <td>...</td>\n",
              "      <td>...</td>\n",
              "      <td>...</td>\n",
              "      <td>...</td>\n",
              "      <td>...</td>\n",
              "      <td>...</td>\n",
              "    </tr>\n",
              "    <tr>\n",
              "      <th>30939</th>\n",
              "      <td>None</td>\n",
              "      <td>None</td>\n",
              "      <td>None</td>\n",
              "      <td>2019-12-31T18:24:58.198000</td>\n",
              "      <td>Azyriah</td>\n",
              "      <td>hi @GokturkSM</td>\n",
              "    </tr>\n",
              "    <tr>\n",
              "      <th>30940</th>\n",
              "      <td>None</td>\n",
              "      <td>None</td>\n",
              "      <td>None</td>\n",
              "      <td>2019-12-31T18:25:37.421000</td>\n",
              "      <td>Areesha</td>\n",
              "      <td>Anyone have some math background? Trying to im...</td>\n",
              "    </tr>\n",
              "    <tr>\n",
              "      <th>30941</th>\n",
              "      <td>None</td>\n",
              "      <td>None</td>\n",
              "      <td>None</td>\n",
              "      <td>2019-12-31T18:26:17.603000</td>\n",
              "      <td>Areesha</td>\n",
              "      <td>My question is... what exactly is a cyclic gro...</td>\n",
              "    </tr>\n",
              "    <tr>\n",
              "      <th>30942</th>\n",
              "      <td>None</td>\n",
              "      <td>None</td>\n",
              "      <td>None</td>\n",
              "      <td>2019-12-31T18:29:15.676000</td>\n",
              "      <td>Ailany</td>\n",
              "      <td>You need to know what exceptions your code may...</td>\n",
              "    </tr>\n",
              "    <tr>\n",
              "      <th>30943</th>\n",
              "      <td>None</td>\n",
              "      <td>None</td>\n",
              "      <td>None</td>\n",
              "      <td>2019-12-31T18:29:57.380000</td>\n",
              "      <td>Ailany</td>\n",
              "      <td>@cup</td>\n",
              "    </tr>\n",
              "  </tbody>\n",
              "</table>\n",
              "<p>30940 rows × 6 columns</p>\n",
              "</div>\n",
              "      <button class=\"colab-df-convert\" onclick=\"convertToInteractive('df-70213c39-4ca6-450b-b466-aa5bc4b701d6')\"\n",
              "              title=\"Convert this dataframe to an interactive table.\"\n",
              "              style=\"display:none;\">\n",
              "        \n",
              "  <svg xmlns=\"http://www.w3.org/2000/svg\" height=\"24px\"viewBox=\"0 0 24 24\"\n",
              "       width=\"24px\">\n",
              "    <path d=\"M0 0h24v24H0V0z\" fill=\"none\"/>\n",
              "    <path d=\"M18.56 5.44l.94 2.06.94-2.06 2.06-.94-2.06-.94-.94-2.06-.94 2.06-2.06.94zm-11 1L8.5 8.5l.94-2.06 2.06-.94-2.06-.94L8.5 2.5l-.94 2.06-2.06.94zm10 10l.94 2.06.94-2.06 2.06-.94-2.06-.94-.94-2.06-.94 2.06-2.06.94z\"/><path d=\"M17.41 7.96l-1.37-1.37c-.4-.4-.92-.59-1.43-.59-.52 0-1.04.2-1.43.59L10.3 9.45l-7.72 7.72c-.78.78-.78 2.05 0 2.83L4 21.41c.39.39.9.59 1.41.59.51 0 1.02-.2 1.41-.59l7.78-7.78 2.81-2.81c.8-.78.8-2.07 0-2.86zM5.41 20L4 18.59l7.72-7.72 1.47 1.35L5.41 20z\"/>\n",
              "  </svg>\n",
              "      </button>\n",
              "      \n",
              "  <style>\n",
              "    .colab-df-container {\n",
              "      display:flex;\n",
              "      flex-wrap:wrap;\n",
              "      gap: 12px;\n",
              "    }\n",
              "\n",
              "    .colab-df-convert {\n",
              "      background-color: #E8F0FE;\n",
              "      border: none;\n",
              "      border-radius: 50%;\n",
              "      cursor: pointer;\n",
              "      display: none;\n",
              "      fill: #1967D2;\n",
              "      height: 32px;\n",
              "      padding: 0 0 0 0;\n",
              "      width: 32px;\n",
              "    }\n",
              "\n",
              "    .colab-df-convert:hover {\n",
              "      background-color: #E2EBFA;\n",
              "      box-shadow: 0px 1px 2px rgba(60, 64, 67, 0.3), 0px 1px 3px 1px rgba(60, 64, 67, 0.15);\n",
              "      fill: #174EA6;\n",
              "    }\n",
              "\n",
              "    [theme=dark] .colab-df-convert {\n",
              "      background-color: #3B4455;\n",
              "      fill: #D2E3FC;\n",
              "    }\n",
              "\n",
              "    [theme=dark] .colab-df-convert:hover {\n",
              "      background-color: #434B5C;\n",
              "      box-shadow: 0px 1px 3px 1px rgba(0, 0, 0, 0.15);\n",
              "      filter: drop-shadow(0px 1px 2px rgba(0, 0, 0, 0.3));\n",
              "      fill: #FFFFFF;\n",
              "    }\n",
              "  </style>\n",
              "\n",
              "      <script>\n",
              "        const buttonEl =\n",
              "          document.querySelector('#df-70213c39-4ca6-450b-b466-aa5bc4b701d6 button.colab-df-convert');\n",
              "        buttonEl.style.display =\n",
              "          google.colab.kernel.accessAllowed ? 'block' : 'none';\n",
              "\n",
              "        async function convertToInteractive(key) {\n",
              "          const element = document.querySelector('#df-70213c39-4ca6-450b-b466-aa5bc4b701d6');\n",
              "          const dataTable =\n",
              "            await google.colab.kernel.invokeFunction('convertToInteractive',\n",
              "                                                     [key], {});\n",
              "          if (!dataTable) return;\n",
              "\n",
              "          const docLinkHtml = 'Like what you see? Visit the ' +\n",
              "            '<a target=\"_blank\" href=https://colab.research.google.com/notebooks/data_table.ipynb>data table notebook</a>'\n",
              "            + ' to learn more about interactive tables.';\n",
              "          element.innerHTML = '';\n",
              "          dataTable['output_type'] = 'display_data';\n",
              "          await google.colab.output.renderOutput(dataTable, element);\n",
              "          const docLink = document.createElement('div');\n",
              "          docLink.innerHTML = docLinkHtml;\n",
              "          element.appendChild(docLink);\n",
              "        }\n",
              "      </script>\n",
              "    </div>\n",
              "  </div>\n",
              "  "
            ]
          },
          "metadata": {},
          "execution_count": 7
        }
      ]
    },
    {
      "cell_type": "markdown",
      "source": [
        "As you can see we dropped the \"team_domain\" column successfully. \n",
        "\n",
        "Lets get rid of the last three empty columns then take a look at how our data set table looks."
      ],
      "metadata": {
        "id": "9a-XwqAZ2bv5"
      }
    },
    {
      "cell_type": "code",
      "source": [
        "df = df.drop(labels=\"channel_name\", axis=1)\n",
        "df = df.drop(labels=\"start_date\", axis=1)\n",
        "df = df.drop(labels=\"end_date\", axis=1)\n",
        "\n",
        "df"
      ],
      "metadata": {
        "id": "k5uAZIgL2rg-",
        "colab": {
          "base_uri": "https://localhost:8080/",
          "height": 424
        },
        "outputId": "0c81a124-1132-4a13-a694-f06affb4b5c1"
      },
      "execution_count": null,
      "outputs": [
        {
          "output_type": "execute_result",
          "data": {
            "text/plain": [
              "                               ts     user  \\\n",
              "4      2019-12-01T00:56:23.288000    Ryden   \n",
              "5      2019-12-01T01:07:04.875000  Jayvien   \n",
              "6      2019-12-01T01:10:54.022000  Kaliope   \n",
              "7      2019-12-01T01:13:29.732000    Naely   \n",
              "8      2019-12-01T01:16:43.656000  Jayvien   \n",
              "...                           ...      ...   \n",
              "30939  2019-12-31T18:24:58.198000  Azyriah   \n",
              "30940  2019-12-31T18:25:37.421000  Areesha   \n",
              "30941  2019-12-31T18:26:17.603000  Areesha   \n",
              "30942  2019-12-31T18:29:15.676000   Ailany   \n",
              "30943  2019-12-31T18:29:57.380000   Ailany   \n",
              "\n",
              "                                                    text  \n",
              "4      where is the name of the file stored on the file?  \n",
              "5                                              say what?  \n",
              "6      Where would you guys recommend I learn kotlin ...  \n",
              "7      I used the official Kotlin docs they have an e...  \n",
              "8                                               do they?  \n",
              "...                                                  ...  \n",
              "30939                                      hi @GokturkSM  \n",
              "30940  Anyone have some math background? Trying to im...  \n",
              "30941  My question is... what exactly is a cyclic gro...  \n",
              "30942  You need to know what exceptions your code may...  \n",
              "30943                                               @cup  \n",
              "\n",
              "[30940 rows x 3 columns]"
            ],
            "text/html": [
              "\n",
              "  <div id=\"df-82293498-6507-4ae2-8a78-a587ab80023d\">\n",
              "    <div class=\"colab-df-container\">\n",
              "      <div>\n",
              "<style scoped>\n",
              "    .dataframe tbody tr th:only-of-type {\n",
              "        vertical-align: middle;\n",
              "    }\n",
              "\n",
              "    .dataframe tbody tr th {\n",
              "        vertical-align: top;\n",
              "    }\n",
              "\n",
              "    .dataframe thead th {\n",
              "        text-align: right;\n",
              "    }\n",
              "</style>\n",
              "<table border=\"1\" class=\"dataframe\">\n",
              "  <thead>\n",
              "    <tr style=\"text-align: right;\">\n",
              "      <th></th>\n",
              "      <th>ts</th>\n",
              "      <th>user</th>\n",
              "      <th>text</th>\n",
              "    </tr>\n",
              "  </thead>\n",
              "  <tbody>\n",
              "    <tr>\n",
              "      <th>4</th>\n",
              "      <td>2019-12-01T00:56:23.288000</td>\n",
              "      <td>Ryden</td>\n",
              "      <td>where is the name of the file stored on the file?</td>\n",
              "    </tr>\n",
              "    <tr>\n",
              "      <th>5</th>\n",
              "      <td>2019-12-01T01:07:04.875000</td>\n",
              "      <td>Jayvien</td>\n",
              "      <td>say what?</td>\n",
              "    </tr>\n",
              "    <tr>\n",
              "      <th>6</th>\n",
              "      <td>2019-12-01T01:10:54.022000</td>\n",
              "      <td>Kaliope</td>\n",
              "      <td>Where would you guys recommend I learn kotlin ...</td>\n",
              "    </tr>\n",
              "    <tr>\n",
              "      <th>7</th>\n",
              "      <td>2019-12-01T01:13:29.732000</td>\n",
              "      <td>Naely</td>\n",
              "      <td>I used the official Kotlin docs they have an e...</td>\n",
              "    </tr>\n",
              "    <tr>\n",
              "      <th>8</th>\n",
              "      <td>2019-12-01T01:16:43.656000</td>\n",
              "      <td>Jayvien</td>\n",
              "      <td>do they?</td>\n",
              "    </tr>\n",
              "    <tr>\n",
              "      <th>...</th>\n",
              "      <td>...</td>\n",
              "      <td>...</td>\n",
              "      <td>...</td>\n",
              "    </tr>\n",
              "    <tr>\n",
              "      <th>30939</th>\n",
              "      <td>2019-12-31T18:24:58.198000</td>\n",
              "      <td>Azyriah</td>\n",
              "      <td>hi @GokturkSM</td>\n",
              "    </tr>\n",
              "    <tr>\n",
              "      <th>30940</th>\n",
              "      <td>2019-12-31T18:25:37.421000</td>\n",
              "      <td>Areesha</td>\n",
              "      <td>Anyone have some math background? Trying to im...</td>\n",
              "    </tr>\n",
              "    <tr>\n",
              "      <th>30941</th>\n",
              "      <td>2019-12-31T18:26:17.603000</td>\n",
              "      <td>Areesha</td>\n",
              "      <td>My question is... what exactly is a cyclic gro...</td>\n",
              "    </tr>\n",
              "    <tr>\n",
              "      <th>30942</th>\n",
              "      <td>2019-12-31T18:29:15.676000</td>\n",
              "      <td>Ailany</td>\n",
              "      <td>You need to know what exceptions your code may...</td>\n",
              "    </tr>\n",
              "    <tr>\n",
              "      <th>30943</th>\n",
              "      <td>2019-12-31T18:29:57.380000</td>\n",
              "      <td>Ailany</td>\n",
              "      <td>@cup</td>\n",
              "    </tr>\n",
              "  </tbody>\n",
              "</table>\n",
              "<p>30940 rows × 3 columns</p>\n",
              "</div>\n",
              "      <button class=\"colab-df-convert\" onclick=\"convertToInteractive('df-82293498-6507-4ae2-8a78-a587ab80023d')\"\n",
              "              title=\"Convert this dataframe to an interactive table.\"\n",
              "              style=\"display:none;\">\n",
              "        \n",
              "  <svg xmlns=\"http://www.w3.org/2000/svg\" height=\"24px\"viewBox=\"0 0 24 24\"\n",
              "       width=\"24px\">\n",
              "    <path d=\"M0 0h24v24H0V0z\" fill=\"none\"/>\n",
              "    <path d=\"M18.56 5.44l.94 2.06.94-2.06 2.06-.94-2.06-.94-.94-2.06-.94 2.06-2.06.94zm-11 1L8.5 8.5l.94-2.06 2.06-.94-2.06-.94L8.5 2.5l-.94 2.06-2.06.94zm10 10l.94 2.06.94-2.06 2.06-.94-2.06-.94-.94-2.06-.94 2.06-2.06.94z\"/><path d=\"M17.41 7.96l-1.37-1.37c-.4-.4-.92-.59-1.43-.59-.52 0-1.04.2-1.43.59L10.3 9.45l-7.72 7.72c-.78.78-.78 2.05 0 2.83L4 21.41c.39.39.9.59 1.41.59.51 0 1.02-.2 1.41-.59l7.78-7.78 2.81-2.81c.8-.78.8-2.07 0-2.86zM5.41 20L4 18.59l7.72-7.72 1.47 1.35L5.41 20z\"/>\n",
              "  </svg>\n",
              "      </button>\n",
              "      \n",
              "  <style>\n",
              "    .colab-df-container {\n",
              "      display:flex;\n",
              "      flex-wrap:wrap;\n",
              "      gap: 12px;\n",
              "    }\n",
              "\n",
              "    .colab-df-convert {\n",
              "      background-color: #E8F0FE;\n",
              "      border: none;\n",
              "      border-radius: 50%;\n",
              "      cursor: pointer;\n",
              "      display: none;\n",
              "      fill: #1967D2;\n",
              "      height: 32px;\n",
              "      padding: 0 0 0 0;\n",
              "      width: 32px;\n",
              "    }\n",
              "\n",
              "    .colab-df-convert:hover {\n",
              "      background-color: #E2EBFA;\n",
              "      box-shadow: 0px 1px 2px rgba(60, 64, 67, 0.3), 0px 1px 3px 1px rgba(60, 64, 67, 0.15);\n",
              "      fill: #174EA6;\n",
              "    }\n",
              "\n",
              "    [theme=dark] .colab-df-convert {\n",
              "      background-color: #3B4455;\n",
              "      fill: #D2E3FC;\n",
              "    }\n",
              "\n",
              "    [theme=dark] .colab-df-convert:hover {\n",
              "      background-color: #434B5C;\n",
              "      box-shadow: 0px 1px 3px 1px rgba(0, 0, 0, 0.15);\n",
              "      filter: drop-shadow(0px 1px 2px rgba(0, 0, 0, 0.3));\n",
              "      fill: #FFFFFF;\n",
              "    }\n",
              "  </style>\n",
              "\n",
              "      <script>\n",
              "        const buttonEl =\n",
              "          document.querySelector('#df-82293498-6507-4ae2-8a78-a587ab80023d button.colab-df-convert');\n",
              "        buttonEl.style.display =\n",
              "          google.colab.kernel.accessAllowed ? 'block' : 'none';\n",
              "\n",
              "        async function convertToInteractive(key) {\n",
              "          const element = document.querySelector('#df-82293498-6507-4ae2-8a78-a587ab80023d');\n",
              "          const dataTable =\n",
              "            await google.colab.kernel.invokeFunction('convertToInteractive',\n",
              "                                                     [key], {});\n",
              "          if (!dataTable) return;\n",
              "\n",
              "          const docLinkHtml = 'Like what you see? Visit the ' +\n",
              "            '<a target=\"_blank\" href=https://colab.research.google.com/notebooks/data_table.ipynb>data table notebook</a>'\n",
              "            + ' to learn more about interactive tables.';\n",
              "          element.innerHTML = '';\n",
              "          dataTable['output_type'] = 'display_data';\n",
              "          await google.colab.output.renderOutput(dataTable, element);\n",
              "          const docLink = document.createElement('div');\n",
              "          docLink.innerHTML = docLinkHtml;\n",
              "          element.appendChild(docLink);\n",
              "        }\n",
              "      </script>\n",
              "    </div>\n",
              "  </div>\n",
              "  "
            ]
          },
          "metadata": {},
          "execution_count": 8
        }
      ]
    },
    {
      "cell_type": "markdown",
      "source": [
        "# Formatting"
      ],
      "metadata": {
        "id": "UHeHh0CTMMwM"
      }
    },
    {
      "cell_type": "markdown",
      "source": [
        "Our table looks much cleaner now, we consolidated the data down into data we want to actually look at.\n",
        "\n",
        "Lets next rename the 'ts' column into 'time' just to better clarify. We will use the \"rename\" method to do so."
      ],
      "metadata": {
        "id": "N6iyZHNi25wM"
      }
    },
    {
      "cell_type": "code",
      "source": [
        "df.rename(columns = {'ts':'time'}, inplace = True)\n",
        "\n",
        "df"
      ],
      "metadata": {
        "id": "8IZuFDjw3IfY",
        "colab": {
          "base_uri": "https://localhost:8080/",
          "height": 424
        },
        "outputId": "6059cbb8-1074-4cc8-b1ee-c23fba48b808"
      },
      "execution_count": null,
      "outputs": [
        {
          "output_type": "execute_result",
          "data": {
            "text/plain": [
              "                             time     user  \\\n",
              "4      2019-12-01T00:56:23.288000    Ryden   \n",
              "5      2019-12-01T01:07:04.875000  Jayvien   \n",
              "6      2019-12-01T01:10:54.022000  Kaliope   \n",
              "7      2019-12-01T01:13:29.732000    Naely   \n",
              "8      2019-12-01T01:16:43.656000  Jayvien   \n",
              "...                           ...      ...   \n",
              "30939  2019-12-31T18:24:58.198000  Azyriah   \n",
              "30940  2019-12-31T18:25:37.421000  Areesha   \n",
              "30941  2019-12-31T18:26:17.603000  Areesha   \n",
              "30942  2019-12-31T18:29:15.676000   Ailany   \n",
              "30943  2019-12-31T18:29:57.380000   Ailany   \n",
              "\n",
              "                                                    text  \n",
              "4      where is the name of the file stored on the file?  \n",
              "5                                              say what?  \n",
              "6      Where would you guys recommend I learn kotlin ...  \n",
              "7      I used the official Kotlin docs they have an e...  \n",
              "8                                               do they?  \n",
              "...                                                  ...  \n",
              "30939                                      hi @GokturkSM  \n",
              "30940  Anyone have some math background? Trying to im...  \n",
              "30941  My question is... what exactly is a cyclic gro...  \n",
              "30942  You need to know what exceptions your code may...  \n",
              "30943                                               @cup  \n",
              "\n",
              "[30940 rows x 3 columns]"
            ],
            "text/html": [
              "\n",
              "  <div id=\"df-1d9522d5-3ec0-47cb-b724-fede74e8a759\">\n",
              "    <div class=\"colab-df-container\">\n",
              "      <div>\n",
              "<style scoped>\n",
              "    .dataframe tbody tr th:only-of-type {\n",
              "        vertical-align: middle;\n",
              "    }\n",
              "\n",
              "    .dataframe tbody tr th {\n",
              "        vertical-align: top;\n",
              "    }\n",
              "\n",
              "    .dataframe thead th {\n",
              "        text-align: right;\n",
              "    }\n",
              "</style>\n",
              "<table border=\"1\" class=\"dataframe\">\n",
              "  <thead>\n",
              "    <tr style=\"text-align: right;\">\n",
              "      <th></th>\n",
              "      <th>time</th>\n",
              "      <th>user</th>\n",
              "      <th>text</th>\n",
              "    </tr>\n",
              "  </thead>\n",
              "  <tbody>\n",
              "    <tr>\n",
              "      <th>4</th>\n",
              "      <td>2019-12-01T00:56:23.288000</td>\n",
              "      <td>Ryden</td>\n",
              "      <td>where is the name of the file stored on the file?</td>\n",
              "    </tr>\n",
              "    <tr>\n",
              "      <th>5</th>\n",
              "      <td>2019-12-01T01:07:04.875000</td>\n",
              "      <td>Jayvien</td>\n",
              "      <td>say what?</td>\n",
              "    </tr>\n",
              "    <tr>\n",
              "      <th>6</th>\n",
              "      <td>2019-12-01T01:10:54.022000</td>\n",
              "      <td>Kaliope</td>\n",
              "      <td>Where would you guys recommend I learn kotlin ...</td>\n",
              "    </tr>\n",
              "    <tr>\n",
              "      <th>7</th>\n",
              "      <td>2019-12-01T01:13:29.732000</td>\n",
              "      <td>Naely</td>\n",
              "      <td>I used the official Kotlin docs they have an e...</td>\n",
              "    </tr>\n",
              "    <tr>\n",
              "      <th>8</th>\n",
              "      <td>2019-12-01T01:16:43.656000</td>\n",
              "      <td>Jayvien</td>\n",
              "      <td>do they?</td>\n",
              "    </tr>\n",
              "    <tr>\n",
              "      <th>...</th>\n",
              "      <td>...</td>\n",
              "      <td>...</td>\n",
              "      <td>...</td>\n",
              "    </tr>\n",
              "    <tr>\n",
              "      <th>30939</th>\n",
              "      <td>2019-12-31T18:24:58.198000</td>\n",
              "      <td>Azyriah</td>\n",
              "      <td>hi @GokturkSM</td>\n",
              "    </tr>\n",
              "    <tr>\n",
              "      <th>30940</th>\n",
              "      <td>2019-12-31T18:25:37.421000</td>\n",
              "      <td>Areesha</td>\n",
              "      <td>Anyone have some math background? Trying to im...</td>\n",
              "    </tr>\n",
              "    <tr>\n",
              "      <th>30941</th>\n",
              "      <td>2019-12-31T18:26:17.603000</td>\n",
              "      <td>Areesha</td>\n",
              "      <td>My question is... what exactly is a cyclic gro...</td>\n",
              "    </tr>\n",
              "    <tr>\n",
              "      <th>30942</th>\n",
              "      <td>2019-12-31T18:29:15.676000</td>\n",
              "      <td>Ailany</td>\n",
              "      <td>You need to know what exceptions your code may...</td>\n",
              "    </tr>\n",
              "    <tr>\n",
              "      <th>30943</th>\n",
              "      <td>2019-12-31T18:29:57.380000</td>\n",
              "      <td>Ailany</td>\n",
              "      <td>@cup</td>\n",
              "    </tr>\n",
              "  </tbody>\n",
              "</table>\n",
              "<p>30940 rows × 3 columns</p>\n",
              "</div>\n",
              "      <button class=\"colab-df-convert\" onclick=\"convertToInteractive('df-1d9522d5-3ec0-47cb-b724-fede74e8a759')\"\n",
              "              title=\"Convert this dataframe to an interactive table.\"\n",
              "              style=\"display:none;\">\n",
              "        \n",
              "  <svg xmlns=\"http://www.w3.org/2000/svg\" height=\"24px\"viewBox=\"0 0 24 24\"\n",
              "       width=\"24px\">\n",
              "    <path d=\"M0 0h24v24H0V0z\" fill=\"none\"/>\n",
              "    <path d=\"M18.56 5.44l.94 2.06.94-2.06 2.06-.94-2.06-.94-.94-2.06-.94 2.06-2.06.94zm-11 1L8.5 8.5l.94-2.06 2.06-.94-2.06-.94L8.5 2.5l-.94 2.06-2.06.94zm10 10l.94 2.06.94-2.06 2.06-.94-2.06-.94-.94-2.06-.94 2.06-2.06.94z\"/><path d=\"M17.41 7.96l-1.37-1.37c-.4-.4-.92-.59-1.43-.59-.52 0-1.04.2-1.43.59L10.3 9.45l-7.72 7.72c-.78.78-.78 2.05 0 2.83L4 21.41c.39.39.9.59 1.41.59.51 0 1.02-.2 1.41-.59l7.78-7.78 2.81-2.81c.8-.78.8-2.07 0-2.86zM5.41 20L4 18.59l7.72-7.72 1.47 1.35L5.41 20z\"/>\n",
              "  </svg>\n",
              "      </button>\n",
              "      \n",
              "  <style>\n",
              "    .colab-df-container {\n",
              "      display:flex;\n",
              "      flex-wrap:wrap;\n",
              "      gap: 12px;\n",
              "    }\n",
              "\n",
              "    .colab-df-convert {\n",
              "      background-color: #E8F0FE;\n",
              "      border: none;\n",
              "      border-radius: 50%;\n",
              "      cursor: pointer;\n",
              "      display: none;\n",
              "      fill: #1967D2;\n",
              "      height: 32px;\n",
              "      padding: 0 0 0 0;\n",
              "      width: 32px;\n",
              "    }\n",
              "\n",
              "    .colab-df-convert:hover {\n",
              "      background-color: #E2EBFA;\n",
              "      box-shadow: 0px 1px 2px rgba(60, 64, 67, 0.3), 0px 1px 3px 1px rgba(60, 64, 67, 0.15);\n",
              "      fill: #174EA6;\n",
              "    }\n",
              "\n",
              "    [theme=dark] .colab-df-convert {\n",
              "      background-color: #3B4455;\n",
              "      fill: #D2E3FC;\n",
              "    }\n",
              "\n",
              "    [theme=dark] .colab-df-convert:hover {\n",
              "      background-color: #434B5C;\n",
              "      box-shadow: 0px 1px 3px 1px rgba(0, 0, 0, 0.15);\n",
              "      filter: drop-shadow(0px 1px 2px rgba(0, 0, 0, 0.3));\n",
              "      fill: #FFFFFF;\n",
              "    }\n",
              "  </style>\n",
              "\n",
              "      <script>\n",
              "        const buttonEl =\n",
              "          document.querySelector('#df-1d9522d5-3ec0-47cb-b724-fede74e8a759 button.colab-df-convert');\n",
              "        buttonEl.style.display =\n",
              "          google.colab.kernel.accessAllowed ? 'block' : 'none';\n",
              "\n",
              "        async function convertToInteractive(key) {\n",
              "          const element = document.querySelector('#df-1d9522d5-3ec0-47cb-b724-fede74e8a759');\n",
              "          const dataTable =\n",
              "            await google.colab.kernel.invokeFunction('convertToInteractive',\n",
              "                                                     [key], {});\n",
              "          if (!dataTable) return;\n",
              "\n",
              "          const docLinkHtml = 'Like what you see? Visit the ' +\n",
              "            '<a target=\"_blank\" href=https://colab.research.google.com/notebooks/data_table.ipynb>data table notebook</a>'\n",
              "            + ' to learn more about interactive tables.';\n",
              "          element.innerHTML = '';\n",
              "          dataTable['output_type'] = 'display_data';\n",
              "          await google.colab.output.renderOutput(dataTable, element);\n",
              "          const docLink = document.createElement('div');\n",
              "          docLink.innerHTML = docLinkHtml;\n",
              "          element.appendChild(docLink);\n",
              "        }\n",
              "      </script>\n",
              "    </div>\n",
              "  </div>\n",
              "  "
            ]
          },
          "metadata": {},
          "execution_count": 9
        }
      ]
    },
    {
      "cell_type": "markdown",
      "source": [
        "Our table is now more simpiler to look at. However if you take a look at the time column, with the format, it is very hard to read what it says.\n",
        "\n",
        "Let's now re-format this column to be able to read the time each message was sent.\n",
        "\n",
        "We will use the 'pandas' library once again as well as the \"to_datetime\" method to re-format this column in a more readable way."
      ],
      "metadata": {
        "id": "Oq6bPNYx3PSJ"
      }
    },
    {
      "cell_type": "code",
      "source": [
        "df['time'] = pd.to_datetime(df['time'], format=\"%Y-%m-%d\")\n",
        "\n",
        "df"
      ],
      "metadata": {
        "id": "xO0xxcMN3odK",
        "colab": {
          "base_uri": "https://localhost:8080/",
          "height": 424
        },
        "outputId": "4f4ad42a-de25-455a-83a8-406302e965fd"
      },
      "execution_count": null,
      "outputs": [
        {
          "output_type": "execute_result",
          "data": {
            "text/plain": [
              "                         time     user  \\\n",
              "4     2019-12-01 00:56:23.288    Ryden   \n",
              "5     2019-12-01 01:07:04.875  Jayvien   \n",
              "6     2019-12-01 01:10:54.022  Kaliope   \n",
              "7     2019-12-01 01:13:29.732    Naely   \n",
              "8     2019-12-01 01:16:43.656  Jayvien   \n",
              "...                       ...      ...   \n",
              "30939 2019-12-31 18:24:58.198  Azyriah   \n",
              "30940 2019-12-31 18:25:37.421  Areesha   \n",
              "30941 2019-12-31 18:26:17.603  Areesha   \n",
              "30942 2019-12-31 18:29:15.676   Ailany   \n",
              "30943 2019-12-31 18:29:57.380   Ailany   \n",
              "\n",
              "                                                    text  \n",
              "4      where is the name of the file stored on the file?  \n",
              "5                                              say what?  \n",
              "6      Where would you guys recommend I learn kotlin ...  \n",
              "7      I used the official Kotlin docs they have an e...  \n",
              "8                                               do they?  \n",
              "...                                                  ...  \n",
              "30939                                      hi @GokturkSM  \n",
              "30940  Anyone have some math background? Trying to im...  \n",
              "30941  My question is... what exactly is a cyclic gro...  \n",
              "30942  You need to know what exceptions your code may...  \n",
              "30943                                               @cup  \n",
              "\n",
              "[30940 rows x 3 columns]"
            ],
            "text/html": [
              "\n",
              "  <div id=\"df-379da8c0-866a-4123-a6a9-9ded89a97530\">\n",
              "    <div class=\"colab-df-container\">\n",
              "      <div>\n",
              "<style scoped>\n",
              "    .dataframe tbody tr th:only-of-type {\n",
              "        vertical-align: middle;\n",
              "    }\n",
              "\n",
              "    .dataframe tbody tr th {\n",
              "        vertical-align: top;\n",
              "    }\n",
              "\n",
              "    .dataframe thead th {\n",
              "        text-align: right;\n",
              "    }\n",
              "</style>\n",
              "<table border=\"1\" class=\"dataframe\">\n",
              "  <thead>\n",
              "    <tr style=\"text-align: right;\">\n",
              "      <th></th>\n",
              "      <th>time</th>\n",
              "      <th>user</th>\n",
              "      <th>text</th>\n",
              "    </tr>\n",
              "  </thead>\n",
              "  <tbody>\n",
              "    <tr>\n",
              "      <th>4</th>\n",
              "      <td>2019-12-01 00:56:23.288</td>\n",
              "      <td>Ryden</td>\n",
              "      <td>where is the name of the file stored on the file?</td>\n",
              "    </tr>\n",
              "    <tr>\n",
              "      <th>5</th>\n",
              "      <td>2019-12-01 01:07:04.875</td>\n",
              "      <td>Jayvien</td>\n",
              "      <td>say what?</td>\n",
              "    </tr>\n",
              "    <tr>\n",
              "      <th>6</th>\n",
              "      <td>2019-12-01 01:10:54.022</td>\n",
              "      <td>Kaliope</td>\n",
              "      <td>Where would you guys recommend I learn kotlin ...</td>\n",
              "    </tr>\n",
              "    <tr>\n",
              "      <th>7</th>\n",
              "      <td>2019-12-01 01:13:29.732</td>\n",
              "      <td>Naely</td>\n",
              "      <td>I used the official Kotlin docs they have an e...</td>\n",
              "    </tr>\n",
              "    <tr>\n",
              "      <th>8</th>\n",
              "      <td>2019-12-01 01:16:43.656</td>\n",
              "      <td>Jayvien</td>\n",
              "      <td>do they?</td>\n",
              "    </tr>\n",
              "    <tr>\n",
              "      <th>...</th>\n",
              "      <td>...</td>\n",
              "      <td>...</td>\n",
              "      <td>...</td>\n",
              "    </tr>\n",
              "    <tr>\n",
              "      <th>30939</th>\n",
              "      <td>2019-12-31 18:24:58.198</td>\n",
              "      <td>Azyriah</td>\n",
              "      <td>hi @GokturkSM</td>\n",
              "    </tr>\n",
              "    <tr>\n",
              "      <th>30940</th>\n",
              "      <td>2019-12-31 18:25:37.421</td>\n",
              "      <td>Areesha</td>\n",
              "      <td>Anyone have some math background? Trying to im...</td>\n",
              "    </tr>\n",
              "    <tr>\n",
              "      <th>30941</th>\n",
              "      <td>2019-12-31 18:26:17.603</td>\n",
              "      <td>Areesha</td>\n",
              "      <td>My question is... what exactly is a cyclic gro...</td>\n",
              "    </tr>\n",
              "    <tr>\n",
              "      <th>30942</th>\n",
              "      <td>2019-12-31 18:29:15.676</td>\n",
              "      <td>Ailany</td>\n",
              "      <td>You need to know what exceptions your code may...</td>\n",
              "    </tr>\n",
              "    <tr>\n",
              "      <th>30943</th>\n",
              "      <td>2019-12-31 18:29:57.380</td>\n",
              "      <td>Ailany</td>\n",
              "      <td>@cup</td>\n",
              "    </tr>\n",
              "  </tbody>\n",
              "</table>\n",
              "<p>30940 rows × 3 columns</p>\n",
              "</div>\n",
              "      <button class=\"colab-df-convert\" onclick=\"convertToInteractive('df-379da8c0-866a-4123-a6a9-9ded89a97530')\"\n",
              "              title=\"Convert this dataframe to an interactive table.\"\n",
              "              style=\"display:none;\">\n",
              "        \n",
              "  <svg xmlns=\"http://www.w3.org/2000/svg\" height=\"24px\"viewBox=\"0 0 24 24\"\n",
              "       width=\"24px\">\n",
              "    <path d=\"M0 0h24v24H0V0z\" fill=\"none\"/>\n",
              "    <path d=\"M18.56 5.44l.94 2.06.94-2.06 2.06-.94-2.06-.94-.94-2.06-.94 2.06-2.06.94zm-11 1L8.5 8.5l.94-2.06 2.06-.94-2.06-.94L8.5 2.5l-.94 2.06-2.06.94zm10 10l.94 2.06.94-2.06 2.06-.94-2.06-.94-.94-2.06-.94 2.06-2.06.94z\"/><path d=\"M17.41 7.96l-1.37-1.37c-.4-.4-.92-.59-1.43-.59-.52 0-1.04.2-1.43.59L10.3 9.45l-7.72 7.72c-.78.78-.78 2.05 0 2.83L4 21.41c.39.39.9.59 1.41.59.51 0 1.02-.2 1.41-.59l7.78-7.78 2.81-2.81c.8-.78.8-2.07 0-2.86zM5.41 20L4 18.59l7.72-7.72 1.47 1.35L5.41 20z\"/>\n",
              "  </svg>\n",
              "      </button>\n",
              "      \n",
              "  <style>\n",
              "    .colab-df-container {\n",
              "      display:flex;\n",
              "      flex-wrap:wrap;\n",
              "      gap: 12px;\n",
              "    }\n",
              "\n",
              "    .colab-df-convert {\n",
              "      background-color: #E8F0FE;\n",
              "      border: none;\n",
              "      border-radius: 50%;\n",
              "      cursor: pointer;\n",
              "      display: none;\n",
              "      fill: #1967D2;\n",
              "      height: 32px;\n",
              "      padding: 0 0 0 0;\n",
              "      width: 32px;\n",
              "    }\n",
              "\n",
              "    .colab-df-convert:hover {\n",
              "      background-color: #E2EBFA;\n",
              "      box-shadow: 0px 1px 2px rgba(60, 64, 67, 0.3), 0px 1px 3px 1px rgba(60, 64, 67, 0.15);\n",
              "      fill: #174EA6;\n",
              "    }\n",
              "\n",
              "    [theme=dark] .colab-df-convert {\n",
              "      background-color: #3B4455;\n",
              "      fill: #D2E3FC;\n",
              "    }\n",
              "\n",
              "    [theme=dark] .colab-df-convert:hover {\n",
              "      background-color: #434B5C;\n",
              "      box-shadow: 0px 1px 3px 1px rgba(0, 0, 0, 0.15);\n",
              "      filter: drop-shadow(0px 1px 2px rgba(0, 0, 0, 0.3));\n",
              "      fill: #FFFFFF;\n",
              "    }\n",
              "  </style>\n",
              "\n",
              "      <script>\n",
              "        const buttonEl =\n",
              "          document.querySelector('#df-379da8c0-866a-4123-a6a9-9ded89a97530 button.colab-df-convert');\n",
              "        buttonEl.style.display =\n",
              "          google.colab.kernel.accessAllowed ? 'block' : 'none';\n",
              "\n",
              "        async function convertToInteractive(key) {\n",
              "          const element = document.querySelector('#df-379da8c0-866a-4123-a6a9-9ded89a97530');\n",
              "          const dataTable =\n",
              "            await google.colab.kernel.invokeFunction('convertToInteractive',\n",
              "                                                     [key], {});\n",
              "          if (!dataTable) return;\n",
              "\n",
              "          const docLinkHtml = 'Like what you see? Visit the ' +\n",
              "            '<a target=\"_blank\" href=https://colab.research.google.com/notebooks/data_table.ipynb>data table notebook</a>'\n",
              "            + ' to learn more about interactive tables.';\n",
              "          element.innerHTML = '';\n",
              "          dataTable['output_type'] = 'display_data';\n",
              "          await google.colab.output.renderOutput(dataTable, element);\n",
              "          const docLink = document.createElement('div');\n",
              "          docLink.innerHTML = docLinkHtml;\n",
              "          element.appendChild(docLink);\n",
              "        }\n",
              "      </script>\n",
              "    </div>\n",
              "  </div>\n",
              "  "
            ]
          },
          "metadata": {},
          "execution_count": 10
        }
      ]
    },
    {
      "cell_type": "markdown",
      "source": [
        "Now we can read the date and time each message was sent in a more readable view.\n",
        "\n",
        "We can start analyzing some of these messages."
      ],
      "metadata": {
        "id": "vPnDT9Kc4DUn"
      }
    },
    {
      "cell_type": "markdown",
      "source": [
        "# Analysis"
      ],
      "metadata": {
        "id": "GVNyxOcY4EtR"
      }
    },
    {
      "cell_type": "markdown",
      "source": [
        "Since our data frame is now more organized and cleaned up, we can start analyzing some of the data stored.\n",
        "\n",
        "Lets take a look at how much data in our columns there is to go through by using the \"count\" method."
      ],
      "metadata": {
        "id": "aLPBM29-RWLM"
      }
    },
    {
      "cell_type": "code",
      "source": [
        "df.count()"
      ],
      "metadata": {
        "colab": {
          "base_uri": "https://localhost:8080/"
        },
        "id": "HQt3QGsAxqjN",
        "outputId": "2a71532d-fee3-4aac-93a7-e8803bc56302"
      },
      "execution_count": null,
      "outputs": [
        {
          "output_type": "execute_result",
          "data": {
            "text/plain": [
              "time    30940\n",
              "user    30940\n",
              "text    30940\n",
              "dtype: int64"
            ]
          },
          "metadata": {},
          "execution_count": 11
        }
      ]
    },
    {
      "cell_type": "markdown",
      "source": [
        "The result shows that we have 30,940 different text messages in this data set, which is a lot to manually look through.\n",
        "\n",
        "We can analyze this information in a much easier way by using code.\n",
        "\n",
        "Lets first take a look at the \"user\" column. \n",
        "\n",
        "We can count how many messages each user has sent by incorporating the \"groupby\" method along with the \"count\" method."
      ],
      "metadata": {
        "id": "upLYYKdZSRQ3"
      }
    },
    {
      "cell_type": "code",
      "source": [
        "df.groupby(['user'])['user'].count()"
      ],
      "metadata": {
        "colab": {
          "base_uri": "https://localhost:8080/"
        },
        "id": "YggawceGzz9J",
        "outputId": "0476dda1-ed05-4c83-8b5d-735dc7bbfed3"
      },
      "execution_count": null,
      "outputs": [
        {
          "output_type": "execute_result",
          "data": {
            "text/plain": [
              "user\n",
              "Aashvi         17\n",
              "Abbott         37\n",
              "Abdalahe        6\n",
              "Abdelfetah      5\n",
              "Abdelmadjid    76\n",
              "               ..\n",
              "Zuma            1\n",
              "Zurisadai       4\n",
              "Zuriya         25\n",
              "Zviad           1\n",
              "Zyanna          5\n",
              "Name: user, Length: 828, dtype: int64"
            ]
          },
          "metadata": {},
          "execution_count": 12
        }
      ]
    },
    {
      "cell_type": "markdown",
      "source": [
        "With this table, we can see each user and how many messages they have sent in the Discord."
      ],
      "metadata": {
        "id": "-lux-Kp6gG39"
      }
    },
    {
      "cell_type": "markdown",
      "source": [
        "Let's start analyzing the table and find which user has sent the most messages in total.\n",
        "\n",
        "We can add on the \"max\" method to our code and it will return the maximum value of messages sent for one user."
      ],
      "metadata": {
        "id": "46nnUtYpkLRW"
      }
    },
    {
      "cell_type": "code",
      "source": [
        "df.groupby(['user'])['user'].count().max()"
      ],
      "metadata": {
        "colab": {
          "base_uri": "https://localhost:8080/"
        },
        "id": "vtDb5LaKVypz",
        "outputId": "ad22e5bd-21d9-4574-b862-700420e61ff0"
      },
      "execution_count": null,
      "outputs": [
        {
          "output_type": "execute_result",
          "data": {
            "text/plain": [
              "2626"
            ]
          },
          "metadata": {},
          "execution_count": 13
        }
      ]
    },
    {
      "cell_type": "markdown",
      "source": [
        "So we can see the user with the highest amount of messages has sent \"2626\" messages in this data set.\n",
        "\n",
        "Lets find out who sent these messages.\n",
        "\n",
        "We will use the \"value_counts\" method along with the \"idxmax\" method to go through each row in the 'user' column and count which index has the max or highest value."
      ],
      "metadata": {
        "id": "ixe6zQYYg7UP"
      }
    },
    {
      "cell_type": "code",
      "source": [
        "df['user'].value_counts().idxmax()"
      ],
      "metadata": {
        "colab": {
          "base_uri": "https://localhost:8080/",
          "height": 35
        },
        "id": "mhcuXVfjajqM",
        "outputId": "6ffa30c2-4a13-452e-dc87-d880ce1cc67a"
      },
      "execution_count": null,
      "outputs": [
        {
          "output_type": "execute_result",
          "data": {
            "text/plain": [
              "'Xochilt'"
            ],
            "application/vnd.google.colaboratory.intrinsic+json": {
              "type": "string"
            }
          },
          "metadata": {},
          "execution_count": 14
        }
      ]
    },
    {
      "cell_type": "markdown",
      "source": [
        "This shows us the user who sent the most messages in the data set.\n",
        "\n",
        "Lets also look at the other top users who has sent the most messages. \n",
        "\n",
        "We will use the \"head\" method which return the top five users unless specified otherwise."
      ],
      "metadata": {
        "id": "KgcSCdFThsrz"
      }
    },
    {
      "cell_type": "code",
      "source": [
        "df['user'].value_counts().head()"
      ],
      "metadata": {
        "colab": {
          "base_uri": "https://localhost:8080/"
        },
        "id": "WhJ5-gIzfrJg",
        "outputId": "2dfc10e3-b488-40ee-bae5-75e6ffbf63c7"
      },
      "execution_count": null,
      "outputs": [
        {
          "output_type": "execute_result",
          "data": {
            "text/plain": [
              "Xochilt     2626\n",
              "Kosta       1280\n",
              "Naely       1067\n",
              "Adirah       845\n",
              "Andersyn     662\n",
              "Name: user, dtype: int64"
            ]
          },
          "metadata": {},
          "execution_count": 15
        }
      ]
    },
    {
      "cell_type": "markdown",
      "source": [
        "This table now displays the five users who messaged the most in our data set.\n",
        "\n",
        "If we have someone we want to analyze more specifically, we can also specify which user we want to take a look at. We can then find how many messages they sent, and more.\n",
        "\n",
        "Lets find out how many messages \"Ryden\" sent for example."
      ],
      "metadata": {
        "id": "UQ0BQoDJie__"
      }
    },
    {
      "cell_type": "code",
      "source": [
        "df['user'].value_counts()['Ryden']"
      ],
      "metadata": {
        "colab": {
          "base_uri": "https://localhost:8080/"
        },
        "id": "4iuX3hPZZOja",
        "outputId": "fe4d280f-0c23-45ad-ebe2-26bd0754248b"
      },
      "execution_count": null,
      "outputs": [
        {
          "output_type": "execute_result",
          "data": {
            "text/plain": [
              "113"
            ]
          },
          "metadata": {},
          "execution_count": 16
        }
      ]
    },
    {
      "cell_type": "markdown",
      "source": [
        "Find which user asked the most questions"
      ],
      "metadata": {
        "id": "fNf96cI_Tz9v"
      }
    },
    {
      "cell_type": "code",
      "source": [
        "df['text'].value_counts()['?']"
      ],
      "metadata": {
        "colab": {
          "base_uri": "https://localhost:8080/"
        },
        "id": "Oc4z6bk3bJY4",
        "outputId": "40597fa9-6ad0-4745-b40b-a228c202b45f"
      },
      "execution_count": null,
      "outputs": [
        {
          "output_type": "execute_result",
          "data": {
            "text/plain": [
              "60"
            ]
          },
          "metadata": {},
          "execution_count": 17
        }
      ]
    },
    {
      "cell_type": "code",
      "source": [
        "df.groupby(['user'])['text'].value_counts()['?']"
      ],
      "metadata": {
        "id": "Hh8uvYGBerFU"
      },
      "execution_count": null,
      "outputs": []
    },
    {
      "cell_type": "markdown",
      "source": [
        "# Challenges"
      ],
      "metadata": {
        "id": "Sr53D6mIs3qQ"
      }
    },
    {
      "cell_type": "markdown",
      "source": [
        "Add activites for users to learn interactively"
      ],
      "metadata": {
        "id": "g47V972-TH1p"
      }
    },
    {
      "cell_type": "markdown",
      "source": [
        "Add sample data set have users do simple tasks"
      ],
      "metadata": {
        "id": "NCLZIVntBUvK"
      }
    },
    {
      "cell_type": "code",
      "source": [
        "score = 0\n",
        "questions = 5"
      ],
      "metadata": {
        "id": "uAO5UTLKidJk"
      },
      "execution_count": null,
      "outputs": []
    },
    {
      "cell_type": "code",
      "source": [
        "print(\"Find how many messages 'Kaliope' sent.\")"
      ],
      "metadata": {
        "colab": {
          "base_uri": "https://localhost:8080/"
        },
        "id": "hAiG5dRVhCvJ",
        "outputId": "f428975c-75f7-4512-b641-4c4b7ead3f2e"
      },
      "execution_count": null,
      "outputs": [
        {
          "output_type": "stream",
          "name": "stdout",
          "text": [
            "Find how many messages 'Kaliope' sent.\n"
          ]
        }
      ]
    },
    {
      "cell_type": "code",
      "source": [
        "answer1 = input()"
      ],
      "metadata": {
        "colab": {
          "base_uri": "https://localhost:8080/"
        },
        "id": "3W99kjd8hgnS",
        "outputId": "8ea2279e-9ea3-4e8d-e948-59c1d210bd66"
      },
      "execution_count": null,
      "outputs": [
        {
          "name": "stdout",
          "output_type": "stream",
          "text": [
            "df['user'].value_counts()['Kaliope']\n"
          ]
        }
      ]
    },
    {
      "cell_type": "code",
      "source": [
        "if answer1 == \"df['user'].value_counts()['Kaliope']\":\n",
        "  print(\"Correct!\")\n",
        "  score += 1\n",
        "else:\n",
        "  print(\"Incorrect\")\n",
        "  print(\"One way to solve this is:\")\n",
        "  print(\"\")\n",
        "  print(\"df['user'].value_counts()['Kaliope']\")"
      ],
      "metadata": {
        "colab": {
          "base_uri": "https://localhost:8080/"
        },
        "id": "cwkNHa6nh6lA",
        "outputId": "4f79e542-0db5-4c11-8c59-2429d6483e06"
      },
      "execution_count": null,
      "outputs": [
        {
          "output_type": "stream",
          "name": "stdout",
          "text": [
            "Correct!\n"
          ]
        }
      ]
    },
    {
      "cell_type": "code",
      "source": [
        "score = round(score/questions*100)\n",
        "print('Quiz completed.')\n",
        "print('Your final score is {}%.'.format(score))"
      ],
      "metadata": {
        "colab": {
          "base_uri": "https://localhost:8080/"
        },
        "id": "ZXY1SIryiidl",
        "outputId": "787f2e4c-38f4-4b38-f829-fa379fa62796"
      },
      "execution_count": null,
      "outputs": [
        {
          "output_type": "stream",
          "name": "stdout",
          "text": [
            "Quiz completed.\n",
            "Your final score is 10%.\n"
          ]
        }
      ]
    },
    {
      "cell_type": "code",
      "source": [
        "if int(score) >= 70:\n",
        "    print(\"Congrats, you passed!\")\n",
        "else:\n",
        "    print(\"Sorry, you failed.\")"
      ],
      "metadata": {
        "id": "FB8ZfV61kJdD",
        "outputId": "5dbab9e9-c40f-4804-9a60-5af63f0368a6",
        "colab": {
          "base_uri": "https://localhost:8080/"
        }
      },
      "execution_count": null,
      "outputs": [
        {
          "output_type": "stream",
          "name": "stdout",
          "text": [
            "Sorry, you failed.\n"
          ]
        }
      ]
    }
  ]
}