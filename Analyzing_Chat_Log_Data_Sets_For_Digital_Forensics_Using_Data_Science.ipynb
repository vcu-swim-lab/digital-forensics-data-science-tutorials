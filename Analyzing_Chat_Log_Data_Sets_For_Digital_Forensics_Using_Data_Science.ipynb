{
 "cells": [
  {
   "cell_type": "markdown",
   "metadata": {
    "colab_type": "text",
    "id": "view-in-github"
   },
   "source": [
    "<a href=\"https://colab.research.google.com/github/aijaza1/Azeem-old-website/blob/master/Analyzing_Chat_Log_Data_Sets_For_Digital_Forensics_Using_Data_Science.ipynb\" target=\"_parent\"><img src=\"https://colab.research.google.com/assets/colab-badge.svg\" alt=\"Open In Colab\"/></a>"
   ]
  },
  {
   "cell_type": "code",
   "execution_count": 1,
   "metadata": {
    "collapsed": true
   },
   "outputs": [
    {
     "ename": "ModuleNotFoundError",
     "evalue": "No module named 'google.colab'",
     "output_type": "error",
     "traceback": [
      "\u001b[1;31m---------------------------------------------------------------------------\u001b[0m",
      "\u001b[1;31mModuleNotFoundError\u001b[0m                       Traceback (most recent call last)",
      "Input \u001b[1;32mIn [1]\u001b[0m, in \u001b[0;36m<cell line: 1>\u001b[1;34m()\u001b[0m\n\u001b[1;32m----> 1\u001b[0m \u001b[38;5;28;01mfrom\u001b[39;00m \u001b[38;5;21;01mgoogle\u001b[39;00m\u001b[38;5;21;01m.\u001b[39;00m\u001b[38;5;21;01mcolab\u001b[39;00m \u001b[38;5;28;01mimport\u001b[39;00m files\n\u001b[0;32m      2\u001b[0m \u001b[38;5;28;01mfrom\u001b[39;00m \u001b[38;5;21;01mIPython\u001b[39;00m\u001b[38;5;21;01m.\u001b[39;00m\u001b[38;5;21;01mdisplay\u001b[39;00m \u001b[38;5;28;01mimport\u001b[39;00m Image\n",
      "\u001b[1;31mModuleNotFoundError\u001b[0m: No module named 'google.colab'"
     ]
    }
   ],
   "source": [
    "from google.colab import files\n",
    "from IPython.display import Image"
   ]
  },
  {
   "cell_type": "code",
   "execution_count": null,
   "metadata": {},
   "outputs": [],
   "source": [
    "uploaded = files.upload()"
   ]
  },
  {
   "cell_type": "markdown",
   "metadata": {
    "id": "97_XxyAKJhV3"
   },
   "source": [
    "<h1 style=\"color:saddlebrown;\"><center>Analyzing Chat Log Data Sets For Digital Forensics Using Data Science</center></h1>"
   ]
  },
  {
   "cell_type": "markdown",
   "metadata": {},
   "source": [
    "<hr style=\"height:2%;width:80%;\">"
   ]
  },
  {
   "cell_type": "markdown",
   "metadata": {
    "id": "PuQJ7Ae6HKxZ"
   },
   "source": [
    "<br>\n",
    "<h2 style=\"color:peru;\"><center><u>[Background Information]</u></center></h2>"
   ]
  },
  {
   "cell_type": "markdown",
   "metadata": {
    "id": "TLeJMUa0wX0t"
   },
   "source": [
    "<p><center>Digital Forensics is a science that focuses on identifying, gathering, processing, analysing, and \n",
    "reporting of data stored electronically. <blockquote style=\"color:burlywood;\">Computer emails, text messages, images, documents, and internet histories \n",
    "are all very important pieces of information that can be extracted from electronic devices.</blockquote>\n",
    " \n",
    "An analyst will have to examine these computer files from a user or suspect and try and preserve the \n",
    "evidence in its most original form. <blockquote style=\"color:burlywood;\">Any alarming piece of information from these computer files can be used \n",
    "as evidence. </blockquote>\n",
    "\n",
    "Usually, the size of the electronic data and files are huge, and will take a great deal of time to go through \n",
    "every file or text message manually. This is where Data Science can be very beneficial to Digital Forensics. Often times there are situations where you may have to view a users chat logs. <blockquote style=\"color:burlywood;\"> You may have to read through \n",
    "their messages to see their conversation, who their communicating with, potential partners, or other key \n",
    "pieces of evidence.</blockquote> </center></p>\n",
    "\n",
    "\n"
   ]
  },
  {
   "cell_type": "markdown",
   "metadata": {
    "id": "EReuw_O4HhEt"
   },
   "source": [
    "<h2 style=\"color:darkolivegreen;\"><center><u>[What We Will Be Doing]</u></center></h2>"
   ]
  },
  {
   "cell_type": "markdown",
   "metadata": {
    "id": "CbmRcA6LHtGS"
   },
   "source": [
    "<p><center>We will be giving you some tips on how exactly we can condense and organize chat logs down to a smaller size \n",
    "which can be more easily analyzed. We will be explaining how to organize the data in a better fashion, \n",
    "remove duplicates, clean bad or useless data, and more. For this example we will be viewing a public Discord server, specifically of four different programming language communities such as Python, Go, Clojure, and Racket. <blockquote style=\"color:darkkhaki;\"> These servers are public and serve as a resource for getting \n",
    "technical help, sharing knowledge, and also real-time conversations between fellow community members.</blockquote></center></p>"
   ]
  },
  {
   "cell_type": "markdown",
   "metadata": {
    "id": "Ar2gQK3DHUQ_"
   },
   "source": [
    "<h2 style=\"color:darkcyan;\"><center><u>[Learning Goals]</u></center></h2>"
   ]
  },
  {
   "cell_type": "markdown",
   "metadata": {
    "id": "j1nhwWvPG7II"
   },
   "source": [
    "<ul style=\"text-align:center;list-style-position:inside\">\n",
    "    <li>Use Pandas to manipulate a data set</li>\n",
    "    <li>Cleaning data</li>\n",
    "    <li>Analyze/sort through the data set</li>\n",
    "    <li>Be able to pull specific details from the data set</li>\n",
    "</ul>\n",
    "\n",
    "\n",
    "\n",
    "\n",
    "\n"
   ]
  },
  {
   "cell_type": "markdown",
   "metadata": {
    "id": "oCC2uGq3AVAH"
   },
   "source": [
    " <h2 style=\"color:mediumpurple;\"><center><u>[Acquiring the Discord Datasets]</u></center></h2>"
   ]
  },
  {
   "cell_type": "markdown",
   "metadata": {
    "id": "EdITo7-DAcMe"
   },
   "source": [
    "<p><center>This demonstration is based off of Preetha Chatterjee and her team of engineers' research, DISCO: A Dataset of Discord Chat Conversations for Software Engineering Research. \n",
    "\n",
    "<blockquote style=\"color:thistle;\">Download the dataset here (https://zenodo.org/record/5909202#.Y91yPnbMKUk).</blockquote></center></p>"
   ]
  },
  {
   "cell_type": "markdown",
   "metadata": {
    "id": "bg0F1GYeHwsS"
   },
   "source": [
    "<h2 style=\"color:mediumblue;\"><center><u>[Getting Started]</u></center></h2>"
   ]
  },
  {
   "cell_type": "markdown",
   "metadata": {
    "id": "eJxpQ0CQws5R"
   },
   "source": [
    "<p><center>To first get started, we will import some libraries that will help us process and go through data sets.\n",
    "\n",
    "</center></p>\n",
    "<p><center><b>Here are the libraries will be incorporating to help us with our analysis:</b></center></p>"
   ]
  },
  {
   "cell_type": "markdown",
   "metadata": {
    "id": "SU7KoR8IclPI"
   },
   "source": [
    "<dl style=\"text-align:center;list-style-position:inside\">\n",
    "    <dt><a href=\"https://pandas.pydata.org/\">[Pandas]</a></dt>\n",
    "<dd style=\"color:cadetblue;\">is a fast, powerful, flexible and easy to use open source data analysis and manipulation tool,\n",
    "built on top of the Python programming language.</dd>  \n",
    "<dt><a href=\"https://numpy.org/\">[Numpy]</a></dt>\n",
    "<dd style=\"color:cadetblue;\">is the fundamental package for scientific computing with Python</dd>\n",
    "<dt><a href=\"https://matplotlib.org/stable/index.html\">[Matplotlib]</a></dt> <dd style=\"color:cadetblue;\">is a comprehensive library for creating static, animated, and interactive visualizations in Python.</dd>\n",
    "<dt><a href=\"https://docs.python.org/3/library/datetime.html#module-datetime\">[Datetime]</a></dt>\n",
    "<dd style=\"color:cadetblue;\">module supplies classes for manipulating dates and times.</dd>\n",
    "<dt><a href=\"https://www.marktechpost.com/2019/06/07/how-to-connect-google-colab-with-google-drive/\">[Drive]</a></dt>\n",
    "<dd style=\"color:cadetblue;\">is used to connect your Google Drive to this Google Colab file</dd>\n",
    "</dl>"
   ]
  },
  {
   "cell_type": "code",
   "execution_count": 8,
   "metadata": {
    "colab": {
     "base_uri": "https://localhost:8080/"
    },
    "id": "GhR9XgMIw2YM",
    "outputId": "05b3daa1-a399-484d-a9d9-c2d51441d0da"
   },
   "outputs": [
    {
     "ename": "ModuleNotFoundError",
     "evalue": "No module named 'google.colab'",
     "output_type": "error",
     "traceback": [
      "\u001b[1;31m---------------------------------------------------------------------------\u001b[0m",
      "\u001b[1;31mModuleNotFoundError\u001b[0m                       Traceback (most recent call last)",
      "Input \u001b[1;32mIn [8]\u001b[0m, in \u001b[0;36m<cell line: 5>\u001b[1;34m()\u001b[0m\n\u001b[0;32m      3\u001b[0m \u001b[38;5;28;01mimport\u001b[39;00m \u001b[38;5;21;01mmatplotlib\u001b[39;00m\u001b[38;5;21;01m.\u001b[39;00m\u001b[38;5;21;01mpyplot\u001b[39;00m \u001b[38;5;28;01mas\u001b[39;00m \u001b[38;5;21;01mplt\u001b[39;00m\n\u001b[0;32m      4\u001b[0m \u001b[38;5;28;01mfrom\u001b[39;00m \u001b[38;5;21;01mdatetime\u001b[39;00m \u001b[38;5;28;01mimport\u001b[39;00m datetime, timedelta\n\u001b[1;32m----> 5\u001b[0m \u001b[38;5;28;01mfrom\u001b[39;00m \u001b[38;5;21;01mgoogle\u001b[39;00m\u001b[38;5;21;01m.\u001b[39;00m\u001b[38;5;21;01mcolab\u001b[39;00m \u001b[38;5;28;01mimport\u001b[39;00m drive\n\u001b[0;32m      6\u001b[0m drive\u001b[38;5;241m.\u001b[39mmount(\u001b[38;5;124m'\u001b[39m\u001b[38;5;124m/content/drive/\u001b[39m\u001b[38;5;124m'\u001b[39m)\n",
      "\u001b[1;31mModuleNotFoundError\u001b[0m: No module named 'google.colab'"
     ]
    }
   ],
   "source": [
    "import pandas as pd\n",
    "import numpy as np\n",
    "import matplotlib.pyplot as plt\n",
    "from datetime import datetime, timedelta\n",
    "from google.colab import drive\n",
    "drive.mount('/content/drive/')"
   ]
  },
  {
   "cell_type": "markdown",
   "metadata": {
    "id": "fsXbm4oSxDHc"
   },
   "source": [
    "<p><center><b>Now we must load in the dataset we have downloaded. For this tutorial we will be using chat logs in the Python server from December 2019.</b>\n",
    "\n",
    "<blockquote style=\"color:cadetblue;\">\n",
    "**The file is called (pythongeneralDec2019.xml).**\n",
    "</blockquote>\n",
    "</center></p>"
   ]
  },
  {
   "cell_type": "markdown",
   "metadata": {
    "id": "GkBE5RQpMNxK"
   },
   "source": [
    "<p><center><b>We will read in our data set using the pandas library we imported.</b>\n",
    "\n",
    "   <blockquote style=\"color:cadetblue;\"> We are going to be storing our data set of chat logs into a variable called \"df\" and will use the 'pandas' library to read the xml file.</blockquote></center></p>"
   ]
  },
  {
   "cell_type": "markdown",
   "metadata": {
    "id": "mynP1IxlHScd"
   },
   "source": [
    "<h2 style=\"color:saddlebrown;\"><center><u>[Dataset file insertion methods]</u></center></h2>"
   ]
  },
  {
   "cell_type": "markdown",
   "metadata": {},
   "source": [
    "<h3 style=\"color:peru;\"><center><u>> Option 1 - Recommended</u></center></h3>"
   ]
  },
  {
   "cell_type": "markdown",
   "metadata": {
    "id": "OW97TYQSH1ET"
   },
   "source": [
    "<p><center>One way, where you don't have to load in the file everytime we run it is to store it in the google drive.\n",
    "\n",
    "<blockquote style=\"color:burlywood;\">Either in google drive or in the files section on the left hand side of this Google Colab page, upload the month of chat logs we will be experimenting with **(pythongeneralDec2019.xml)** into \"content\" then \"drive\" folder. </blockquote></center></p>\n",
    "\n",
    "<p><center>Then you can use the following command:</center></p>"
   ]
  },
  {
   "cell_type": "code",
   "execution_count": 2,
   "metadata": {
    "id": "vDrn-7i0GMbq"
   },
   "outputs": [],
   "source": [
    "df = pd.read_xml('/content/drive/MyDrive/pythongeneralDec2019.xml')"
   ]
  },
  {
   "cell_type": "markdown",
   "metadata": {},
   "source": [
    "<h3 style=\"color:peru;\"><center><u>> Option 2</u></center></h3>"
   ]
  },
  {
   "cell_type": "markdown",
   "metadata": {
    "id": "4DhxS-oBOPVp"
   },
   "source": [
    "<p><center>Another way is to directly upload the file in the files section on the left hand side of this Google Colab page.\n",
    "\n",
    "<blockquote style=\"color:burlywood;\">You must insert the file in the \"content\" folder. The only issue with this way is that you will need to upload the file everytime we run.</blockquote></center></p>\n",
    "\n",
    "<p><center>Then you can use the following code to load in the file into our workspace:</center></p>"
   ]
  },
  {
   "cell_type": "code",
   "execution_count": null,
   "metadata": {
    "id": "2FOG0HnKHz7Q"
   },
   "outputs": [],
   "source": [
    "df = pd.read_xml('pythongeneralDec2019.xml')"
   ]
  },
  {
   "cell_type": "markdown",
   "metadata": {
    "id": "OSGtwzgoxsbv"
   },
   "source": [
    "<p><center>Now that we have our file, \n",
    "    lets take a look at what our data consists of using the \"info\" method. </center></p>"
   ]
  },
  {
   "cell_type": "code",
   "execution_count": 3,
   "metadata": {
    "colab": {
     "base_uri": "https://localhost:8080/"
    },
    "id": "AvZUVFVTxtZu",
    "outputId": "b5ac6a9d-3653-49ae-83b9-f121804eed2d"
   },
   "outputs": [
    {
     "name": "stdout",
     "output_type": "stream",
     "text": [
      "<class 'pandas.core.frame.DataFrame'>\n",
      "RangeIndex: 30944 entries, 0 to 30943\n",
      "Data columns (total 7 columns):\n",
      " #   Column        Non-Null Count  Dtype \n",
      "---  ------        --------------  ----- \n",
      " 0   team_domain   1 non-null      object\n",
      " 1   channel_name  1 non-null      object\n",
      " 2   start_date    1 non-null      object\n",
      " 3   end_date      1 non-null      object\n",
      " 4   ts            30940 non-null  object\n",
      " 5   user          30940 non-null  object\n",
      " 6   text          30940 non-null  object\n",
      "dtypes: object(7)\n",
      "memory usage: 1.7+ MB\n"
     ]
    }
   ],
   "source": [
    "df.info()"
   ]
  },
  {
   "cell_type": "markdown",
   "metadata": {
    "id": "BjLgS6j0yODa"
   },
   "source": [
    "<p><center>Here we can see a more general view of what our data set consists of. This shows our different column names as well as how many values are in these columns. Notice the first four columns, there is only one piece of data in these columns.</center></p>\n",
    "\n",
    "<blockquote style=\"color:burlywood;\">Using just the \"df\" command, now we see exactly what our data in the data set consists of as a whole.</blockquote>\n"
   ]
  },
  {
   "cell_type": "code",
   "execution_count": 4,
   "metadata": {
    "colab": {
     "base_uri": "https://localhost:8080/",
     "height": 424
    },
    "id": "LopZwjM2ytqM",
    "outputId": "c9cc036f-5803-40ab-adc0-574e76bcc79a"
   },
   "outputs": [
    {
     "data": {
      "text/html": [
       "\n",
       "  <div id=\"df-bb138f48-cc5d-4e69-af09-c9f05523f267\">\n",
       "    <div class=\"colab-df-container\">\n",
       "      <div>\n",
       "<style scoped>\n",
       "    .dataframe tbody tr th:only-of-type {\n",
       "        vertical-align: middle;\n",
       "    }\n",
       "\n",
       "    .dataframe tbody tr th {\n",
       "        vertical-align: top;\n",
       "    }\n",
       "\n",
       "    .dataframe thead th {\n",
       "        text-align: right;\n",
       "    }\n",
       "</style>\n",
       "<table border=\"1\" class=\"dataframe\">\n",
       "  <thead>\n",
       "    <tr style=\"text-align: right;\">\n",
       "      <th></th>\n",
       "      <th>team_domain</th>\n",
       "      <th>channel_name</th>\n",
       "      <th>start_date</th>\n",
       "      <th>end_date</th>\n",
       "      <th>ts</th>\n",
       "      <th>user</th>\n",
       "      <th>text</th>\n",
       "    </tr>\n",
       "  </thead>\n",
       "  <tbody>\n",
       "    <tr>\n",
       "      <th>0</th>\n",
       "      <td>Python</td>\n",
       "      <td>None</td>\n",
       "      <td>None</td>\n",
       "      <td>None</td>\n",
       "      <td>None</td>\n",
       "      <td>None</td>\n",
       "      <td>None</td>\n",
       "    </tr>\n",
       "    <tr>\n",
       "      <th>1</th>\n",
       "      <td>None</td>\n",
       "      <td>python-general</td>\n",
       "      <td>None</td>\n",
       "      <td>None</td>\n",
       "      <td>None</td>\n",
       "      <td>None</td>\n",
       "      <td>None</td>\n",
       "    </tr>\n",
       "    <tr>\n",
       "      <th>2</th>\n",
       "      <td>None</td>\n",
       "      <td>None</td>\n",
       "      <td>2019-12-01T00:56:23.288000</td>\n",
       "      <td>None</td>\n",
       "      <td>None</td>\n",
       "      <td>None</td>\n",
       "      <td>None</td>\n",
       "    </tr>\n",
       "    <tr>\n",
       "      <th>3</th>\n",
       "      <td>None</td>\n",
       "      <td>None</td>\n",
       "      <td>None</td>\n",
       "      <td>2019-12-31T18:29:57.380000</td>\n",
       "      <td>None</td>\n",
       "      <td>None</td>\n",
       "      <td>None</td>\n",
       "    </tr>\n",
       "    <tr>\n",
       "      <th>4</th>\n",
       "      <td>None</td>\n",
       "      <td>None</td>\n",
       "      <td>None</td>\n",
       "      <td>None</td>\n",
       "      <td>2019-12-01T00:56:23.288000</td>\n",
       "      <td>Ryden</td>\n",
       "      <td>where is the name of the file stored on the file?</td>\n",
       "    </tr>\n",
       "    <tr>\n",
       "      <th>...</th>\n",
       "      <td>...</td>\n",
       "      <td>...</td>\n",
       "      <td>...</td>\n",
       "      <td>...</td>\n",
       "      <td>...</td>\n",
       "      <td>...</td>\n",
       "      <td>...</td>\n",
       "    </tr>\n",
       "    <tr>\n",
       "      <th>30939</th>\n",
       "      <td>None</td>\n",
       "      <td>None</td>\n",
       "      <td>None</td>\n",
       "      <td>None</td>\n",
       "      <td>2019-12-31T18:24:58.198000</td>\n",
       "      <td>Azyriah</td>\n",
       "      <td>hi @GokturkSM</td>\n",
       "    </tr>\n",
       "    <tr>\n",
       "      <th>30940</th>\n",
       "      <td>None</td>\n",
       "      <td>None</td>\n",
       "      <td>None</td>\n",
       "      <td>None</td>\n",
       "      <td>2019-12-31T18:25:37.421000</td>\n",
       "      <td>Areesha</td>\n",
       "      <td>Anyone have some math background? Trying to im...</td>\n",
       "    </tr>\n",
       "    <tr>\n",
       "      <th>30941</th>\n",
       "      <td>None</td>\n",
       "      <td>None</td>\n",
       "      <td>None</td>\n",
       "      <td>None</td>\n",
       "      <td>2019-12-31T18:26:17.603000</td>\n",
       "      <td>Areesha</td>\n",
       "      <td>My question is... what exactly is a cyclic gro...</td>\n",
       "    </tr>\n",
       "    <tr>\n",
       "      <th>30942</th>\n",
       "      <td>None</td>\n",
       "      <td>None</td>\n",
       "      <td>None</td>\n",
       "      <td>None</td>\n",
       "      <td>2019-12-31T18:29:15.676000</td>\n",
       "      <td>Ailany</td>\n",
       "      <td>You need to know what exceptions your code may...</td>\n",
       "    </tr>\n",
       "    <tr>\n",
       "      <th>30943</th>\n",
       "      <td>None</td>\n",
       "      <td>None</td>\n",
       "      <td>None</td>\n",
       "      <td>None</td>\n",
       "      <td>2019-12-31T18:29:57.380000</td>\n",
       "      <td>Ailany</td>\n",
       "      <td>@cup</td>\n",
       "    </tr>\n",
       "  </tbody>\n",
       "</table>\n",
       "<p>30944 rows × 7 columns</p>\n",
       "</div>\n",
       "      <button class=\"colab-df-convert\" onclick=\"convertToInteractive('df-bb138f48-cc5d-4e69-af09-c9f05523f267')\"\n",
       "              title=\"Convert this dataframe to an interactive table.\"\n",
       "              style=\"display:none;\">\n",
       "        \n",
       "  <svg xmlns=\"http://www.w3.org/2000/svg\" height=\"24px\"viewBox=\"0 0 24 24\"\n",
       "       width=\"24px\">\n",
       "    <path d=\"M0 0h24v24H0V0z\" fill=\"none\"/>\n",
       "    <path d=\"M18.56 5.44l.94 2.06.94-2.06 2.06-.94-2.06-.94-.94-2.06-.94 2.06-2.06.94zm-11 1L8.5 8.5l.94-2.06 2.06-.94-2.06-.94L8.5 2.5l-.94 2.06-2.06.94zm10 10l.94 2.06.94-2.06 2.06-.94-2.06-.94-.94-2.06-.94 2.06-2.06.94z\"/><path d=\"M17.41 7.96l-1.37-1.37c-.4-.4-.92-.59-1.43-.59-.52 0-1.04.2-1.43.59L10.3 9.45l-7.72 7.72c-.78.78-.78 2.05 0 2.83L4 21.41c.39.39.9.59 1.41.59.51 0 1.02-.2 1.41-.59l7.78-7.78 2.81-2.81c.8-.78.8-2.07 0-2.86zM5.41 20L4 18.59l7.72-7.72 1.47 1.35L5.41 20z\"/>\n",
       "  </svg>\n",
       "      </button>\n",
       "      \n",
       "  <style>\n",
       "    .colab-df-container {\n",
       "      display:flex;\n",
       "      flex-wrap:wrap;\n",
       "      gap: 12px;\n",
       "    }\n",
       "\n",
       "    .colab-df-convert {\n",
       "      background-color: #E8F0FE;\n",
       "      border: none;\n",
       "      border-radius: 50%;\n",
       "      cursor: pointer;\n",
       "      display: none;\n",
       "      fill: #1967D2;\n",
       "      height: 32px;\n",
       "      padding: 0 0 0 0;\n",
       "      width: 32px;\n",
       "    }\n",
       "\n",
       "    .colab-df-convert:hover {\n",
       "      background-color: #E2EBFA;\n",
       "      box-shadow: 0px 1px 2px rgba(60, 64, 67, 0.3), 0px 1px 3px 1px rgba(60, 64, 67, 0.15);\n",
       "      fill: #174EA6;\n",
       "    }\n",
       "\n",
       "    [theme=dark] .colab-df-convert {\n",
       "      background-color: #3B4455;\n",
       "      fill: #D2E3FC;\n",
       "    }\n",
       "\n",
       "    [theme=dark] .colab-df-convert:hover {\n",
       "      background-color: #434B5C;\n",
       "      box-shadow: 0px 1px 3px 1px rgba(0, 0, 0, 0.15);\n",
       "      filter: drop-shadow(0px 1px 2px rgba(0, 0, 0, 0.3));\n",
       "      fill: #FFFFFF;\n",
       "    }\n",
       "  </style>\n",
       "\n",
       "      <script>\n",
       "        const buttonEl =\n",
       "          document.querySelector('#df-bb138f48-cc5d-4e69-af09-c9f05523f267 button.colab-df-convert');\n",
       "        buttonEl.style.display =\n",
       "          google.colab.kernel.accessAllowed ? 'block' : 'none';\n",
       "\n",
       "        async function convertToInteractive(key) {\n",
       "          const element = document.querySelector('#df-bb138f48-cc5d-4e69-af09-c9f05523f267');\n",
       "          const dataTable =\n",
       "            await google.colab.kernel.invokeFunction('convertToInteractive',\n",
       "                                                     [key], {});\n",
       "          if (!dataTable) return;\n",
       "\n",
       "          const docLinkHtml = 'Like what you see? Visit the ' +\n",
       "            '<a target=\"_blank\" href=https://colab.research.google.com/notebooks/data_table.ipynb>data table notebook</a>'\n",
       "            + ' to learn more about interactive tables.';\n",
       "          element.innerHTML = '';\n",
       "          dataTable['output_type'] = 'display_data';\n",
       "          await google.colab.output.renderOutput(dataTable, element);\n",
       "          const docLink = document.createElement('div');\n",
       "          docLink.innerHTML = docLinkHtml;\n",
       "          element.appendChild(docLink);\n",
       "        }\n",
       "      </script>\n",
       "    </div>\n",
       "  </div>\n",
       "  "
      ],
      "text/plain": [
       "      team_domain    channel_name                  start_date  \\\n",
       "0          Python            None                        None   \n",
       "1            None  python-general                        None   \n",
       "2            None            None  2019-12-01T00:56:23.288000   \n",
       "3            None            None                        None   \n",
       "4            None            None                        None   \n",
       "...           ...             ...                         ...   \n",
       "30939        None            None                        None   \n",
       "30940        None            None                        None   \n",
       "30941        None            None                        None   \n",
       "30942        None            None                        None   \n",
       "30943        None            None                        None   \n",
       "\n",
       "                         end_date                          ts     user  \\\n",
       "0                            None                        None     None   \n",
       "1                            None                        None     None   \n",
       "2                            None                        None     None   \n",
       "3      2019-12-31T18:29:57.380000                        None     None   \n",
       "4                            None  2019-12-01T00:56:23.288000    Ryden   \n",
       "...                           ...                         ...      ...   \n",
       "30939                        None  2019-12-31T18:24:58.198000  Azyriah   \n",
       "30940                        None  2019-12-31T18:25:37.421000  Areesha   \n",
       "30941                        None  2019-12-31T18:26:17.603000  Areesha   \n",
       "30942                        None  2019-12-31T18:29:15.676000   Ailany   \n",
       "30943                        None  2019-12-31T18:29:57.380000   Ailany   \n",
       "\n",
       "                                                    text  \n",
       "0                                                   None  \n",
       "1                                                   None  \n",
       "2                                                   None  \n",
       "3                                                   None  \n",
       "4      where is the name of the file stored on the file?  \n",
       "...                                                  ...  \n",
       "30939                                      hi @GokturkSM  \n",
       "30940  Anyone have some math background? Trying to im...  \n",
       "30941  My question is... what exactly is a cyclic gro...  \n",
       "30942  You need to know what exceptions your code may...  \n",
       "30943                                               @cup  \n",
       "\n",
       "[30944 rows x 7 columns]"
      ]
     },
     "execution_count": 4,
     "metadata": {},
     "output_type": "execute_result"
    }
   ],
   "source": [
    "df"
   ]
  },
  {
   "cell_type": "markdown",
   "metadata": {
    "id": "iuv0-gFvJ91Z"
   },
   "source": [
    "<h2 style=\"color:darkolivegreen;\"><center><u>[Data cleaning]</u></center></h2>"
   ]
  },
  {
   "cell_type": "markdown",
   "metadata": {
    "id": "xRNLbYwhyvHk"
   },
   "source": [
    "<p><center>Notice the first four columns again, we only have one piece of information in each of these columns, and they aren't that useful to us. We do not need to work with the name of the discord channel as well as the start and end date/time. </center></p>\n",
    "\n",
    "<blockquote style=\"color:darkkhaki;\">We will start by getting rid of these first four columns and rows of data to simplify and condense down our data set.</blockquote>"
   ]
  },
  {
   "cell_type": "markdown",
   "metadata": {
    "id": "jc2uctBgM2lY"
   },
   "source": [
    "<p><center>Let's use the \"drop\" method to get rid of our first four rows of data. Then, let's take a look at what it looks like.</center></p>"
   ]
  },
  {
   "cell_type": "code",
   "execution_count": 5,
   "metadata": {
    "colab": {
     "base_uri": "https://localhost:8080/",
     "height": 424
    },
    "id": "hNC_uVzvz2i-",
    "outputId": "1322ad58-bf22-4916-ff2e-cb20b2974b64"
   },
   "outputs": [
    {
     "data": {
      "text/html": [
       "\n",
       "  <div id=\"df-af060fa1-972a-4d8d-8c5a-cbe022375a4d\">\n",
       "    <div class=\"colab-df-container\">\n",
       "      <div>\n",
       "<style scoped>\n",
       "    .dataframe tbody tr th:only-of-type {\n",
       "        vertical-align: middle;\n",
       "    }\n",
       "\n",
       "    .dataframe tbody tr th {\n",
       "        vertical-align: top;\n",
       "    }\n",
       "\n",
       "    .dataframe thead th {\n",
       "        text-align: right;\n",
       "    }\n",
       "</style>\n",
       "<table border=\"1\" class=\"dataframe\">\n",
       "  <thead>\n",
       "    <tr style=\"text-align: right;\">\n",
       "      <th></th>\n",
       "      <th>team_domain</th>\n",
       "      <th>channel_name</th>\n",
       "      <th>start_date</th>\n",
       "      <th>end_date</th>\n",
       "      <th>ts</th>\n",
       "      <th>user</th>\n",
       "      <th>text</th>\n",
       "    </tr>\n",
       "  </thead>\n",
       "  <tbody>\n",
       "    <tr>\n",
       "      <th>4</th>\n",
       "      <td>None</td>\n",
       "      <td>None</td>\n",
       "      <td>None</td>\n",
       "      <td>None</td>\n",
       "      <td>2019-12-01T00:56:23.288000</td>\n",
       "      <td>Ryden</td>\n",
       "      <td>where is the name of the file stored on the file?</td>\n",
       "    </tr>\n",
       "    <tr>\n",
       "      <th>5</th>\n",
       "      <td>None</td>\n",
       "      <td>None</td>\n",
       "      <td>None</td>\n",
       "      <td>None</td>\n",
       "      <td>2019-12-01T01:07:04.875000</td>\n",
       "      <td>Jayvien</td>\n",
       "      <td>say what?</td>\n",
       "    </tr>\n",
       "    <tr>\n",
       "      <th>6</th>\n",
       "      <td>None</td>\n",
       "      <td>None</td>\n",
       "      <td>None</td>\n",
       "      <td>None</td>\n",
       "      <td>2019-12-01T01:10:54.022000</td>\n",
       "      <td>Kaliope</td>\n",
       "      <td>Where would you guys recommend I learn kotlin ...</td>\n",
       "    </tr>\n",
       "    <tr>\n",
       "      <th>7</th>\n",
       "      <td>None</td>\n",
       "      <td>None</td>\n",
       "      <td>None</td>\n",
       "      <td>None</td>\n",
       "      <td>2019-12-01T01:13:29.732000</td>\n",
       "      <td>Naely</td>\n",
       "      <td>I used the official Kotlin docs they have an e...</td>\n",
       "    </tr>\n",
       "    <tr>\n",
       "      <th>8</th>\n",
       "      <td>None</td>\n",
       "      <td>None</td>\n",
       "      <td>None</td>\n",
       "      <td>None</td>\n",
       "      <td>2019-12-01T01:16:43.656000</td>\n",
       "      <td>Jayvien</td>\n",
       "      <td>do they?</td>\n",
       "    </tr>\n",
       "    <tr>\n",
       "      <th>...</th>\n",
       "      <td>...</td>\n",
       "      <td>...</td>\n",
       "      <td>...</td>\n",
       "      <td>...</td>\n",
       "      <td>...</td>\n",
       "      <td>...</td>\n",
       "      <td>...</td>\n",
       "    </tr>\n",
       "    <tr>\n",
       "      <th>30939</th>\n",
       "      <td>None</td>\n",
       "      <td>None</td>\n",
       "      <td>None</td>\n",
       "      <td>None</td>\n",
       "      <td>2019-12-31T18:24:58.198000</td>\n",
       "      <td>Azyriah</td>\n",
       "      <td>hi @GokturkSM</td>\n",
       "    </tr>\n",
       "    <tr>\n",
       "      <th>30940</th>\n",
       "      <td>None</td>\n",
       "      <td>None</td>\n",
       "      <td>None</td>\n",
       "      <td>None</td>\n",
       "      <td>2019-12-31T18:25:37.421000</td>\n",
       "      <td>Areesha</td>\n",
       "      <td>Anyone have some math background? Trying to im...</td>\n",
       "    </tr>\n",
       "    <tr>\n",
       "      <th>30941</th>\n",
       "      <td>None</td>\n",
       "      <td>None</td>\n",
       "      <td>None</td>\n",
       "      <td>None</td>\n",
       "      <td>2019-12-31T18:26:17.603000</td>\n",
       "      <td>Areesha</td>\n",
       "      <td>My question is... what exactly is a cyclic gro...</td>\n",
       "    </tr>\n",
       "    <tr>\n",
       "      <th>30942</th>\n",
       "      <td>None</td>\n",
       "      <td>None</td>\n",
       "      <td>None</td>\n",
       "      <td>None</td>\n",
       "      <td>2019-12-31T18:29:15.676000</td>\n",
       "      <td>Ailany</td>\n",
       "      <td>You need to know what exceptions your code may...</td>\n",
       "    </tr>\n",
       "    <tr>\n",
       "      <th>30943</th>\n",
       "      <td>None</td>\n",
       "      <td>None</td>\n",
       "      <td>None</td>\n",
       "      <td>None</td>\n",
       "      <td>2019-12-31T18:29:57.380000</td>\n",
       "      <td>Ailany</td>\n",
       "      <td>@cup</td>\n",
       "    </tr>\n",
       "  </tbody>\n",
       "</table>\n",
       "<p>30940 rows × 7 columns</p>\n",
       "</div>\n",
       "      <button class=\"colab-df-convert\" onclick=\"convertToInteractive('df-af060fa1-972a-4d8d-8c5a-cbe022375a4d')\"\n",
       "              title=\"Convert this dataframe to an interactive table.\"\n",
       "              style=\"display:none;\">\n",
       "        \n",
       "  <svg xmlns=\"http://www.w3.org/2000/svg\" height=\"24px\"viewBox=\"0 0 24 24\"\n",
       "       width=\"24px\">\n",
       "    <path d=\"M0 0h24v24H0V0z\" fill=\"none\"/>\n",
       "    <path d=\"M18.56 5.44l.94 2.06.94-2.06 2.06-.94-2.06-.94-.94-2.06-.94 2.06-2.06.94zm-11 1L8.5 8.5l.94-2.06 2.06-.94-2.06-.94L8.5 2.5l-.94 2.06-2.06.94zm10 10l.94 2.06.94-2.06 2.06-.94-2.06-.94-.94-2.06-.94 2.06-2.06.94z\"/><path d=\"M17.41 7.96l-1.37-1.37c-.4-.4-.92-.59-1.43-.59-.52 0-1.04.2-1.43.59L10.3 9.45l-7.72 7.72c-.78.78-.78 2.05 0 2.83L4 21.41c.39.39.9.59 1.41.59.51 0 1.02-.2 1.41-.59l7.78-7.78 2.81-2.81c.8-.78.8-2.07 0-2.86zM5.41 20L4 18.59l7.72-7.72 1.47 1.35L5.41 20z\"/>\n",
       "  </svg>\n",
       "      </button>\n",
       "      \n",
       "  <style>\n",
       "    .colab-df-container {\n",
       "      display:flex;\n",
       "      flex-wrap:wrap;\n",
       "      gap: 12px;\n",
       "    }\n",
       "\n",
       "    .colab-df-convert {\n",
       "      background-color: #E8F0FE;\n",
       "      border: none;\n",
       "      border-radius: 50%;\n",
       "      cursor: pointer;\n",
       "      display: none;\n",
       "      fill: #1967D2;\n",
       "      height: 32px;\n",
       "      padding: 0 0 0 0;\n",
       "      width: 32px;\n",
       "    }\n",
       "\n",
       "    .colab-df-convert:hover {\n",
       "      background-color: #E2EBFA;\n",
       "      box-shadow: 0px 1px 2px rgba(60, 64, 67, 0.3), 0px 1px 3px 1px rgba(60, 64, 67, 0.15);\n",
       "      fill: #174EA6;\n",
       "    }\n",
       "\n",
       "    [theme=dark] .colab-df-convert {\n",
       "      background-color: #3B4455;\n",
       "      fill: #D2E3FC;\n",
       "    }\n",
       "\n",
       "    [theme=dark] .colab-df-convert:hover {\n",
       "      background-color: #434B5C;\n",
       "      box-shadow: 0px 1px 3px 1px rgba(0, 0, 0, 0.15);\n",
       "      filter: drop-shadow(0px 1px 2px rgba(0, 0, 0, 0.3));\n",
       "      fill: #FFFFFF;\n",
       "    }\n",
       "  </style>\n",
       "\n",
       "      <script>\n",
       "        const buttonEl =\n",
       "          document.querySelector('#df-af060fa1-972a-4d8d-8c5a-cbe022375a4d button.colab-df-convert');\n",
       "        buttonEl.style.display =\n",
       "          google.colab.kernel.accessAllowed ? 'block' : 'none';\n",
       "\n",
       "        async function convertToInteractive(key) {\n",
       "          const element = document.querySelector('#df-af060fa1-972a-4d8d-8c5a-cbe022375a4d');\n",
       "          const dataTable =\n",
       "            await google.colab.kernel.invokeFunction('convertToInteractive',\n",
       "                                                     [key], {});\n",
       "          if (!dataTable) return;\n",
       "\n",
       "          const docLinkHtml = 'Like what you see? Visit the ' +\n",
       "            '<a target=\"_blank\" href=https://colab.research.google.com/notebooks/data_table.ipynb>data table notebook</a>'\n",
       "            + ' to learn more about interactive tables.';\n",
       "          element.innerHTML = '';\n",
       "          dataTable['output_type'] = 'display_data';\n",
       "          await google.colab.output.renderOutput(dataTable, element);\n",
       "          const docLink = document.createElement('div');\n",
       "          docLink.innerHTML = docLinkHtml;\n",
       "          element.appendChild(docLink);\n",
       "        }\n",
       "      </script>\n",
       "    </div>\n",
       "  </div>\n",
       "  "
      ],
      "text/plain": [
       "      team_domain channel_name start_date end_date  \\\n",
       "4            None         None       None     None   \n",
       "5            None         None       None     None   \n",
       "6            None         None       None     None   \n",
       "7            None         None       None     None   \n",
       "8            None         None       None     None   \n",
       "...           ...          ...        ...      ...   \n",
       "30939        None         None       None     None   \n",
       "30940        None         None       None     None   \n",
       "30941        None         None       None     None   \n",
       "30942        None         None       None     None   \n",
       "30943        None         None       None     None   \n",
       "\n",
       "                               ts     user  \\\n",
       "4      2019-12-01T00:56:23.288000    Ryden   \n",
       "5      2019-12-01T01:07:04.875000  Jayvien   \n",
       "6      2019-12-01T01:10:54.022000  Kaliope   \n",
       "7      2019-12-01T01:13:29.732000    Naely   \n",
       "8      2019-12-01T01:16:43.656000  Jayvien   \n",
       "...                           ...      ...   \n",
       "30939  2019-12-31T18:24:58.198000  Azyriah   \n",
       "30940  2019-12-31T18:25:37.421000  Areesha   \n",
       "30941  2019-12-31T18:26:17.603000  Areesha   \n",
       "30942  2019-12-31T18:29:15.676000   Ailany   \n",
       "30943  2019-12-31T18:29:57.380000   Ailany   \n",
       "\n",
       "                                                    text  \n",
       "4      where is the name of the file stored on the file?  \n",
       "5                                              say what?  \n",
       "6      Where would you guys recommend I learn kotlin ...  \n",
       "7      I used the official Kotlin docs they have an e...  \n",
       "8                                               do they?  \n",
       "...                                                  ...  \n",
       "30939                                      hi @GokturkSM  \n",
       "30940  Anyone have some math background? Trying to im...  \n",
       "30941  My question is... what exactly is a cyclic gro...  \n",
       "30942  You need to know what exceptions your code may...  \n",
       "30943                                               @cup  \n",
       "\n",
       "[30940 rows x 7 columns]"
      ]
     },
     "execution_count": 5,
     "metadata": {},
     "output_type": "execute_result"
    }
   ],
   "source": [
    "df = df.drop(range(0,4))\n",
    "\n",
    "df"
   ]
  },
  {
   "cell_type": "markdown",
   "metadata": {
    "id": "siTYgcKj1ff3"
   },
   "source": [
    "<br>\n",
    "<p><center>Our data set looks a little cleaner now. However, now we have four rows full of empty or null data.</center></p>\n",
    "\n",
    "<blockquote style=\"color:darkkhaki;\">Lets now get rid of these first four columns to condense our table down into a more readable table.</blockquote>\n",
    "\n",
    "<p><center>We will use the same \"drop\" method but we will specify what columns exactly we want to drop as well as use \"axis=1\" to specify we want to drop a column instead of a rows.</center></p>"
   ]
  },
  {
   "cell_type": "code",
   "execution_count": 6,
   "metadata": {
    "colab": {
     "base_uri": "https://localhost:8080/",
     "height": 424
    },
    "id": "QuiNEgLU164_",
    "outputId": "407d1815-6481-426c-8e4f-5d80de7e77a5"
   },
   "outputs": [
    {
     "data": {
      "text/html": [
       "\n",
       "  <div id=\"df-1bb39b17-4810-4f8e-9a17-0cd069c64d34\">\n",
       "    <div class=\"colab-df-container\">\n",
       "      <div>\n",
       "<style scoped>\n",
       "    .dataframe tbody tr th:only-of-type {\n",
       "        vertical-align: middle;\n",
       "    }\n",
       "\n",
       "    .dataframe tbody tr th {\n",
       "        vertical-align: top;\n",
       "    }\n",
       "\n",
       "    .dataframe thead th {\n",
       "        text-align: right;\n",
       "    }\n",
       "</style>\n",
       "<table border=\"1\" class=\"dataframe\">\n",
       "  <thead>\n",
       "    <tr style=\"text-align: right;\">\n",
       "      <th></th>\n",
       "      <th>channel_name</th>\n",
       "      <th>start_date</th>\n",
       "      <th>end_date</th>\n",
       "      <th>ts</th>\n",
       "      <th>user</th>\n",
       "      <th>text</th>\n",
       "    </tr>\n",
       "  </thead>\n",
       "  <tbody>\n",
       "    <tr>\n",
       "      <th>4</th>\n",
       "      <td>None</td>\n",
       "      <td>None</td>\n",
       "      <td>None</td>\n",
       "      <td>2019-12-01T00:56:23.288000</td>\n",
       "      <td>Ryden</td>\n",
       "      <td>where is the name of the file stored on the file?</td>\n",
       "    </tr>\n",
       "    <tr>\n",
       "      <th>5</th>\n",
       "      <td>None</td>\n",
       "      <td>None</td>\n",
       "      <td>None</td>\n",
       "      <td>2019-12-01T01:07:04.875000</td>\n",
       "      <td>Jayvien</td>\n",
       "      <td>say what?</td>\n",
       "    </tr>\n",
       "    <tr>\n",
       "      <th>6</th>\n",
       "      <td>None</td>\n",
       "      <td>None</td>\n",
       "      <td>None</td>\n",
       "      <td>2019-12-01T01:10:54.022000</td>\n",
       "      <td>Kaliope</td>\n",
       "      <td>Where would you guys recommend I learn kotlin ...</td>\n",
       "    </tr>\n",
       "    <tr>\n",
       "      <th>7</th>\n",
       "      <td>None</td>\n",
       "      <td>None</td>\n",
       "      <td>None</td>\n",
       "      <td>2019-12-01T01:13:29.732000</td>\n",
       "      <td>Naely</td>\n",
       "      <td>I used the official Kotlin docs they have an e...</td>\n",
       "    </tr>\n",
       "    <tr>\n",
       "      <th>8</th>\n",
       "      <td>None</td>\n",
       "      <td>None</td>\n",
       "      <td>None</td>\n",
       "      <td>2019-12-01T01:16:43.656000</td>\n",
       "      <td>Jayvien</td>\n",
       "      <td>do they?</td>\n",
       "    </tr>\n",
       "    <tr>\n",
       "      <th>...</th>\n",
       "      <td>...</td>\n",
       "      <td>...</td>\n",
       "      <td>...</td>\n",
       "      <td>...</td>\n",
       "      <td>...</td>\n",
       "      <td>...</td>\n",
       "    </tr>\n",
       "    <tr>\n",
       "      <th>30939</th>\n",
       "      <td>None</td>\n",
       "      <td>None</td>\n",
       "      <td>None</td>\n",
       "      <td>2019-12-31T18:24:58.198000</td>\n",
       "      <td>Azyriah</td>\n",
       "      <td>hi @GokturkSM</td>\n",
       "    </tr>\n",
       "    <tr>\n",
       "      <th>30940</th>\n",
       "      <td>None</td>\n",
       "      <td>None</td>\n",
       "      <td>None</td>\n",
       "      <td>2019-12-31T18:25:37.421000</td>\n",
       "      <td>Areesha</td>\n",
       "      <td>Anyone have some math background? Trying to im...</td>\n",
       "    </tr>\n",
       "    <tr>\n",
       "      <th>30941</th>\n",
       "      <td>None</td>\n",
       "      <td>None</td>\n",
       "      <td>None</td>\n",
       "      <td>2019-12-31T18:26:17.603000</td>\n",
       "      <td>Areesha</td>\n",
       "      <td>My question is... what exactly is a cyclic gro...</td>\n",
       "    </tr>\n",
       "    <tr>\n",
       "      <th>30942</th>\n",
       "      <td>None</td>\n",
       "      <td>None</td>\n",
       "      <td>None</td>\n",
       "      <td>2019-12-31T18:29:15.676000</td>\n",
       "      <td>Ailany</td>\n",
       "      <td>You need to know what exceptions your code may...</td>\n",
       "    </tr>\n",
       "    <tr>\n",
       "      <th>30943</th>\n",
       "      <td>None</td>\n",
       "      <td>None</td>\n",
       "      <td>None</td>\n",
       "      <td>2019-12-31T18:29:57.380000</td>\n",
       "      <td>Ailany</td>\n",
       "      <td>@cup</td>\n",
       "    </tr>\n",
       "  </tbody>\n",
       "</table>\n",
       "<p>30940 rows × 6 columns</p>\n",
       "</div>\n",
       "      <button class=\"colab-df-convert\" onclick=\"convertToInteractive('df-1bb39b17-4810-4f8e-9a17-0cd069c64d34')\"\n",
       "              title=\"Convert this dataframe to an interactive table.\"\n",
       "              style=\"display:none;\">\n",
       "        \n",
       "  <svg xmlns=\"http://www.w3.org/2000/svg\" height=\"24px\"viewBox=\"0 0 24 24\"\n",
       "       width=\"24px\">\n",
       "    <path d=\"M0 0h24v24H0V0z\" fill=\"none\"/>\n",
       "    <path d=\"M18.56 5.44l.94 2.06.94-2.06 2.06-.94-2.06-.94-.94-2.06-.94 2.06-2.06.94zm-11 1L8.5 8.5l.94-2.06 2.06-.94-2.06-.94L8.5 2.5l-.94 2.06-2.06.94zm10 10l.94 2.06.94-2.06 2.06-.94-2.06-.94-.94-2.06-.94 2.06-2.06.94z\"/><path d=\"M17.41 7.96l-1.37-1.37c-.4-.4-.92-.59-1.43-.59-.52 0-1.04.2-1.43.59L10.3 9.45l-7.72 7.72c-.78.78-.78 2.05 0 2.83L4 21.41c.39.39.9.59 1.41.59.51 0 1.02-.2 1.41-.59l7.78-7.78 2.81-2.81c.8-.78.8-2.07 0-2.86zM5.41 20L4 18.59l7.72-7.72 1.47 1.35L5.41 20z\"/>\n",
       "  </svg>\n",
       "      </button>\n",
       "      \n",
       "  <style>\n",
       "    .colab-df-container {\n",
       "      display:flex;\n",
       "      flex-wrap:wrap;\n",
       "      gap: 12px;\n",
       "    }\n",
       "\n",
       "    .colab-df-convert {\n",
       "      background-color: #E8F0FE;\n",
       "      border: none;\n",
       "      border-radius: 50%;\n",
       "      cursor: pointer;\n",
       "      display: none;\n",
       "      fill: #1967D2;\n",
       "      height: 32px;\n",
       "      padding: 0 0 0 0;\n",
       "      width: 32px;\n",
       "    }\n",
       "\n",
       "    .colab-df-convert:hover {\n",
       "      background-color: #E2EBFA;\n",
       "      box-shadow: 0px 1px 2px rgba(60, 64, 67, 0.3), 0px 1px 3px 1px rgba(60, 64, 67, 0.15);\n",
       "      fill: #174EA6;\n",
       "    }\n",
       "\n",
       "    [theme=dark] .colab-df-convert {\n",
       "      background-color: #3B4455;\n",
       "      fill: #D2E3FC;\n",
       "    }\n",
       "\n",
       "    [theme=dark] .colab-df-convert:hover {\n",
       "      background-color: #434B5C;\n",
       "      box-shadow: 0px 1px 3px 1px rgba(0, 0, 0, 0.15);\n",
       "      filter: drop-shadow(0px 1px 2px rgba(0, 0, 0, 0.3));\n",
       "      fill: #FFFFFF;\n",
       "    }\n",
       "  </style>\n",
       "\n",
       "      <script>\n",
       "        const buttonEl =\n",
       "          document.querySelector('#df-1bb39b17-4810-4f8e-9a17-0cd069c64d34 button.colab-df-convert');\n",
       "        buttonEl.style.display =\n",
       "          google.colab.kernel.accessAllowed ? 'block' : 'none';\n",
       "\n",
       "        async function convertToInteractive(key) {\n",
       "          const element = document.querySelector('#df-1bb39b17-4810-4f8e-9a17-0cd069c64d34');\n",
       "          const dataTable =\n",
       "            await google.colab.kernel.invokeFunction('convertToInteractive',\n",
       "                                                     [key], {});\n",
       "          if (!dataTable) return;\n",
       "\n",
       "          const docLinkHtml = 'Like what you see? Visit the ' +\n",
       "            '<a target=\"_blank\" href=https://colab.research.google.com/notebooks/data_table.ipynb>data table notebook</a>'\n",
       "            + ' to learn more about interactive tables.';\n",
       "          element.innerHTML = '';\n",
       "          dataTable['output_type'] = 'display_data';\n",
       "          await google.colab.output.renderOutput(dataTable, element);\n",
       "          const docLink = document.createElement('div');\n",
       "          docLink.innerHTML = docLinkHtml;\n",
       "          element.appendChild(docLink);\n",
       "        }\n",
       "      </script>\n",
       "    </div>\n",
       "  </div>\n",
       "  "
      ],
      "text/plain": [
       "      channel_name start_date end_date                          ts     user  \\\n",
       "4             None       None     None  2019-12-01T00:56:23.288000    Ryden   \n",
       "5             None       None     None  2019-12-01T01:07:04.875000  Jayvien   \n",
       "6             None       None     None  2019-12-01T01:10:54.022000  Kaliope   \n",
       "7             None       None     None  2019-12-01T01:13:29.732000    Naely   \n",
       "8             None       None     None  2019-12-01T01:16:43.656000  Jayvien   \n",
       "...            ...        ...      ...                         ...      ...   \n",
       "30939         None       None     None  2019-12-31T18:24:58.198000  Azyriah   \n",
       "30940         None       None     None  2019-12-31T18:25:37.421000  Areesha   \n",
       "30941         None       None     None  2019-12-31T18:26:17.603000  Areesha   \n",
       "30942         None       None     None  2019-12-31T18:29:15.676000   Ailany   \n",
       "30943         None       None     None  2019-12-31T18:29:57.380000   Ailany   \n",
       "\n",
       "                                                    text  \n",
       "4      where is the name of the file stored on the file?  \n",
       "5                                              say what?  \n",
       "6      Where would you guys recommend I learn kotlin ...  \n",
       "7      I used the official Kotlin docs they have an e...  \n",
       "8                                               do they?  \n",
       "...                                                  ...  \n",
       "30939                                      hi @GokturkSM  \n",
       "30940  Anyone have some math background? Trying to im...  \n",
       "30941  My question is... what exactly is a cyclic gro...  \n",
       "30942  You need to know what exceptions your code may...  \n",
       "30943                                               @cup  \n",
       "\n",
       "[30940 rows x 6 columns]"
      ]
     },
     "execution_count": 6,
     "metadata": {},
     "output_type": "execute_result"
    }
   ],
   "source": [
    "df = df.drop(labels=\"team_domain\", axis=1)\n",
    "\n",
    "df"
   ]
  },
  {
   "cell_type": "markdown",
   "metadata": {
    "id": "9a-XwqAZ2bv5"
   },
   "source": [
    "<br>\n",
    "<p><center>As you can see we dropped the \"team_domain\" column successfully.</center></p>\n",
    "\n",
    "<blockquote style=\"color:darkkhaki;\">Lets get rid of the last three empty columns then take a look at how our data set table looks.</blockquote>"
   ]
  },
  {
   "cell_type": "code",
   "execution_count": 7,
   "metadata": {
    "colab": {
     "base_uri": "https://localhost:8080/",
     "height": 424
    },
    "id": "k5uAZIgL2rg-",
    "outputId": "4f17274c-0bb5-442b-cc05-bac427f41ccf"
   },
   "outputs": [
    {
     "data": {
      "text/html": [
       "\n",
       "  <div id=\"df-a5d6571b-ae1c-45fa-9a3f-44bd13e7ebbb\">\n",
       "    <div class=\"colab-df-container\">\n",
       "      <div>\n",
       "<style scoped>\n",
       "    .dataframe tbody tr th:only-of-type {\n",
       "        vertical-align: middle;\n",
       "    }\n",
       "\n",
       "    .dataframe tbody tr th {\n",
       "        vertical-align: top;\n",
       "    }\n",
       "\n",
       "    .dataframe thead th {\n",
       "        text-align: right;\n",
       "    }\n",
       "</style>\n",
       "<table border=\"1\" class=\"dataframe\">\n",
       "  <thead>\n",
       "    <tr style=\"text-align: right;\">\n",
       "      <th></th>\n",
       "      <th>ts</th>\n",
       "      <th>user</th>\n",
       "      <th>text</th>\n",
       "    </tr>\n",
       "  </thead>\n",
       "  <tbody>\n",
       "    <tr>\n",
       "      <th>4</th>\n",
       "      <td>2019-12-01T00:56:23.288000</td>\n",
       "      <td>Ryden</td>\n",
       "      <td>where is the name of the file stored on the file?</td>\n",
       "    </tr>\n",
       "    <tr>\n",
       "      <th>5</th>\n",
       "      <td>2019-12-01T01:07:04.875000</td>\n",
       "      <td>Jayvien</td>\n",
       "      <td>say what?</td>\n",
       "    </tr>\n",
       "    <tr>\n",
       "      <th>6</th>\n",
       "      <td>2019-12-01T01:10:54.022000</td>\n",
       "      <td>Kaliope</td>\n",
       "      <td>Where would you guys recommend I learn kotlin ...</td>\n",
       "    </tr>\n",
       "    <tr>\n",
       "      <th>7</th>\n",
       "      <td>2019-12-01T01:13:29.732000</td>\n",
       "      <td>Naely</td>\n",
       "      <td>I used the official Kotlin docs they have an e...</td>\n",
       "    </tr>\n",
       "    <tr>\n",
       "      <th>8</th>\n",
       "      <td>2019-12-01T01:16:43.656000</td>\n",
       "      <td>Jayvien</td>\n",
       "      <td>do they?</td>\n",
       "    </tr>\n",
       "    <tr>\n",
       "      <th>...</th>\n",
       "      <td>...</td>\n",
       "      <td>...</td>\n",
       "      <td>...</td>\n",
       "    </tr>\n",
       "    <tr>\n",
       "      <th>30939</th>\n",
       "      <td>2019-12-31T18:24:58.198000</td>\n",
       "      <td>Azyriah</td>\n",
       "      <td>hi @GokturkSM</td>\n",
       "    </tr>\n",
       "    <tr>\n",
       "      <th>30940</th>\n",
       "      <td>2019-12-31T18:25:37.421000</td>\n",
       "      <td>Areesha</td>\n",
       "      <td>Anyone have some math background? Trying to im...</td>\n",
       "    </tr>\n",
       "    <tr>\n",
       "      <th>30941</th>\n",
       "      <td>2019-12-31T18:26:17.603000</td>\n",
       "      <td>Areesha</td>\n",
       "      <td>My question is... what exactly is a cyclic gro...</td>\n",
       "    </tr>\n",
       "    <tr>\n",
       "      <th>30942</th>\n",
       "      <td>2019-12-31T18:29:15.676000</td>\n",
       "      <td>Ailany</td>\n",
       "      <td>You need to know what exceptions your code may...</td>\n",
       "    </tr>\n",
       "    <tr>\n",
       "      <th>30943</th>\n",
       "      <td>2019-12-31T18:29:57.380000</td>\n",
       "      <td>Ailany</td>\n",
       "      <td>@cup</td>\n",
       "    </tr>\n",
       "  </tbody>\n",
       "</table>\n",
       "<p>30940 rows × 3 columns</p>\n",
       "</div>\n",
       "      <button class=\"colab-df-convert\" onclick=\"convertToInteractive('df-a5d6571b-ae1c-45fa-9a3f-44bd13e7ebbb')\"\n",
       "              title=\"Convert this dataframe to an interactive table.\"\n",
       "              style=\"display:none;\">\n",
       "        \n",
       "  <svg xmlns=\"http://www.w3.org/2000/svg\" height=\"24px\"viewBox=\"0 0 24 24\"\n",
       "       width=\"24px\">\n",
       "    <path d=\"M0 0h24v24H0V0z\" fill=\"none\"/>\n",
       "    <path d=\"M18.56 5.44l.94 2.06.94-2.06 2.06-.94-2.06-.94-.94-2.06-.94 2.06-2.06.94zm-11 1L8.5 8.5l.94-2.06 2.06-.94-2.06-.94L8.5 2.5l-.94 2.06-2.06.94zm10 10l.94 2.06.94-2.06 2.06-.94-2.06-.94-.94-2.06-.94 2.06-2.06.94z\"/><path d=\"M17.41 7.96l-1.37-1.37c-.4-.4-.92-.59-1.43-.59-.52 0-1.04.2-1.43.59L10.3 9.45l-7.72 7.72c-.78.78-.78 2.05 0 2.83L4 21.41c.39.39.9.59 1.41.59.51 0 1.02-.2 1.41-.59l7.78-7.78 2.81-2.81c.8-.78.8-2.07 0-2.86zM5.41 20L4 18.59l7.72-7.72 1.47 1.35L5.41 20z\"/>\n",
       "  </svg>\n",
       "      </button>\n",
       "      \n",
       "  <style>\n",
       "    .colab-df-container {\n",
       "      display:flex;\n",
       "      flex-wrap:wrap;\n",
       "      gap: 12px;\n",
       "    }\n",
       "\n",
       "    .colab-df-convert {\n",
       "      background-color: #E8F0FE;\n",
       "      border: none;\n",
       "      border-radius: 50%;\n",
       "      cursor: pointer;\n",
       "      display: none;\n",
       "      fill: #1967D2;\n",
       "      height: 32px;\n",
       "      padding: 0 0 0 0;\n",
       "      width: 32px;\n",
       "    }\n",
       "\n",
       "    .colab-df-convert:hover {\n",
       "      background-color: #E2EBFA;\n",
       "      box-shadow: 0px 1px 2px rgba(60, 64, 67, 0.3), 0px 1px 3px 1px rgba(60, 64, 67, 0.15);\n",
       "      fill: #174EA6;\n",
       "    }\n",
       "\n",
       "    [theme=dark] .colab-df-convert {\n",
       "      background-color: #3B4455;\n",
       "      fill: #D2E3FC;\n",
       "    }\n",
       "\n",
       "    [theme=dark] .colab-df-convert:hover {\n",
       "      background-color: #434B5C;\n",
       "      box-shadow: 0px 1px 3px 1px rgba(0, 0, 0, 0.15);\n",
       "      filter: drop-shadow(0px 1px 2px rgba(0, 0, 0, 0.3));\n",
       "      fill: #FFFFFF;\n",
       "    }\n",
       "  </style>\n",
       "\n",
       "      <script>\n",
       "        const buttonEl =\n",
       "          document.querySelector('#df-a5d6571b-ae1c-45fa-9a3f-44bd13e7ebbb button.colab-df-convert');\n",
       "        buttonEl.style.display =\n",
       "          google.colab.kernel.accessAllowed ? 'block' : 'none';\n",
       "\n",
       "        async function convertToInteractive(key) {\n",
       "          const element = document.querySelector('#df-a5d6571b-ae1c-45fa-9a3f-44bd13e7ebbb');\n",
       "          const dataTable =\n",
       "            await google.colab.kernel.invokeFunction('convertToInteractive',\n",
       "                                                     [key], {});\n",
       "          if (!dataTable) return;\n",
       "\n",
       "          const docLinkHtml = 'Like what you see? Visit the ' +\n",
       "            '<a target=\"_blank\" href=https://colab.research.google.com/notebooks/data_table.ipynb>data table notebook</a>'\n",
       "            + ' to learn more about interactive tables.';\n",
       "          element.innerHTML = '';\n",
       "          dataTable['output_type'] = 'display_data';\n",
       "          await google.colab.output.renderOutput(dataTable, element);\n",
       "          const docLink = document.createElement('div');\n",
       "          docLink.innerHTML = docLinkHtml;\n",
       "          element.appendChild(docLink);\n",
       "        }\n",
       "      </script>\n",
       "    </div>\n",
       "  </div>\n",
       "  "
      ],
      "text/plain": [
       "                               ts     user  \\\n",
       "4      2019-12-01T00:56:23.288000    Ryden   \n",
       "5      2019-12-01T01:07:04.875000  Jayvien   \n",
       "6      2019-12-01T01:10:54.022000  Kaliope   \n",
       "7      2019-12-01T01:13:29.732000    Naely   \n",
       "8      2019-12-01T01:16:43.656000  Jayvien   \n",
       "...                           ...      ...   \n",
       "30939  2019-12-31T18:24:58.198000  Azyriah   \n",
       "30940  2019-12-31T18:25:37.421000  Areesha   \n",
       "30941  2019-12-31T18:26:17.603000  Areesha   \n",
       "30942  2019-12-31T18:29:15.676000   Ailany   \n",
       "30943  2019-12-31T18:29:57.380000   Ailany   \n",
       "\n",
       "                                                    text  \n",
       "4      where is the name of the file stored on the file?  \n",
       "5                                              say what?  \n",
       "6      Where would you guys recommend I learn kotlin ...  \n",
       "7      I used the official Kotlin docs they have an e...  \n",
       "8                                               do they?  \n",
       "...                                                  ...  \n",
       "30939                                      hi @GokturkSM  \n",
       "30940  Anyone have some math background? Trying to im...  \n",
       "30941  My question is... what exactly is a cyclic gro...  \n",
       "30942  You need to know what exceptions your code may...  \n",
       "30943                                               @cup  \n",
       "\n",
       "[30940 rows x 3 columns]"
      ]
     },
     "execution_count": 7,
     "metadata": {},
     "output_type": "execute_result"
    }
   ],
   "source": [
    "df = df.drop(labels=\"channel_name\", axis=1)\n",
    "df = df.drop(labels=\"start_date\", axis=1)\n",
    "df = df.drop(labels=\"end_date\", axis=1)\n",
    "\n",
    "df"
   ]
  },
  {
   "cell_type": "markdown",
   "metadata": {
    "id": "UHeHh0CTMMwM"
   },
   "source": [
    "<h2 style=\"color:indigo;\"><center><u>[Formatting]</u></center></h2>"
   ]
  },
  {
   "cell_type": "markdown",
   "metadata": {
    "id": "N6iyZHNi25wM"
   },
   "source": [
    "<p><center>Our table looks much cleaner now, we consolidated the data down into data we want to actually look at.</center></p>\n",
    "\n",
    "<blockquote style=\"color:mediumpurple;\">Lets next rename the 'ts' column into 'time' just to better clarify. We will use the \"rename\" method to do so.</blockquote>"
   ]
  },
  {
   "cell_type": "code",
   "execution_count": 8,
   "metadata": {
    "colab": {
     "base_uri": "https://localhost:8080/",
     "height": 424
    },
    "id": "8IZuFDjw3IfY",
    "outputId": "7391a1cb-e9b3-49ee-bbbc-a89cec00e48c"
   },
   "outputs": [
    {
     "data": {
      "text/html": [
       "\n",
       "  <div id=\"df-79d9a84d-47a2-4cb2-aa68-4a284ce69ad5\">\n",
       "    <div class=\"colab-df-container\">\n",
       "      <div>\n",
       "<style scoped>\n",
       "    .dataframe tbody tr th:only-of-type {\n",
       "        vertical-align: middle;\n",
       "    }\n",
       "\n",
       "    .dataframe tbody tr th {\n",
       "        vertical-align: top;\n",
       "    }\n",
       "\n",
       "    .dataframe thead th {\n",
       "        text-align: right;\n",
       "    }\n",
       "</style>\n",
       "<table border=\"1\" class=\"dataframe\">\n",
       "  <thead>\n",
       "    <tr style=\"text-align: right;\">\n",
       "      <th></th>\n",
       "      <th>time</th>\n",
       "      <th>user</th>\n",
       "      <th>text</th>\n",
       "    </tr>\n",
       "  </thead>\n",
       "  <tbody>\n",
       "    <tr>\n",
       "      <th>4</th>\n",
       "      <td>2019-12-01T00:56:23.288000</td>\n",
       "      <td>Ryden</td>\n",
       "      <td>where is the name of the file stored on the file?</td>\n",
       "    </tr>\n",
       "    <tr>\n",
       "      <th>5</th>\n",
       "      <td>2019-12-01T01:07:04.875000</td>\n",
       "      <td>Jayvien</td>\n",
       "      <td>say what?</td>\n",
       "    </tr>\n",
       "    <tr>\n",
       "      <th>6</th>\n",
       "      <td>2019-12-01T01:10:54.022000</td>\n",
       "      <td>Kaliope</td>\n",
       "      <td>Where would you guys recommend I learn kotlin ...</td>\n",
       "    </tr>\n",
       "    <tr>\n",
       "      <th>7</th>\n",
       "      <td>2019-12-01T01:13:29.732000</td>\n",
       "      <td>Naely</td>\n",
       "      <td>I used the official Kotlin docs they have an e...</td>\n",
       "    </tr>\n",
       "    <tr>\n",
       "      <th>8</th>\n",
       "      <td>2019-12-01T01:16:43.656000</td>\n",
       "      <td>Jayvien</td>\n",
       "      <td>do they?</td>\n",
       "    </tr>\n",
       "    <tr>\n",
       "      <th>...</th>\n",
       "      <td>...</td>\n",
       "      <td>...</td>\n",
       "      <td>...</td>\n",
       "    </tr>\n",
       "    <tr>\n",
       "      <th>30939</th>\n",
       "      <td>2019-12-31T18:24:58.198000</td>\n",
       "      <td>Azyriah</td>\n",
       "      <td>hi @GokturkSM</td>\n",
       "    </tr>\n",
       "    <tr>\n",
       "      <th>30940</th>\n",
       "      <td>2019-12-31T18:25:37.421000</td>\n",
       "      <td>Areesha</td>\n",
       "      <td>Anyone have some math background? Trying to im...</td>\n",
       "    </tr>\n",
       "    <tr>\n",
       "      <th>30941</th>\n",
       "      <td>2019-12-31T18:26:17.603000</td>\n",
       "      <td>Areesha</td>\n",
       "      <td>My question is... what exactly is a cyclic gro...</td>\n",
       "    </tr>\n",
       "    <tr>\n",
       "      <th>30942</th>\n",
       "      <td>2019-12-31T18:29:15.676000</td>\n",
       "      <td>Ailany</td>\n",
       "      <td>You need to know what exceptions your code may...</td>\n",
       "    </tr>\n",
       "    <tr>\n",
       "      <th>30943</th>\n",
       "      <td>2019-12-31T18:29:57.380000</td>\n",
       "      <td>Ailany</td>\n",
       "      <td>@cup</td>\n",
       "    </tr>\n",
       "  </tbody>\n",
       "</table>\n",
       "<p>30940 rows × 3 columns</p>\n",
       "</div>\n",
       "      <button class=\"colab-df-convert\" onclick=\"convertToInteractive('df-79d9a84d-47a2-4cb2-aa68-4a284ce69ad5')\"\n",
       "              title=\"Convert this dataframe to an interactive table.\"\n",
       "              style=\"display:none;\">\n",
       "        \n",
       "  <svg xmlns=\"http://www.w3.org/2000/svg\" height=\"24px\"viewBox=\"0 0 24 24\"\n",
       "       width=\"24px\">\n",
       "    <path d=\"M0 0h24v24H0V0z\" fill=\"none\"/>\n",
       "    <path d=\"M18.56 5.44l.94 2.06.94-2.06 2.06-.94-2.06-.94-.94-2.06-.94 2.06-2.06.94zm-11 1L8.5 8.5l.94-2.06 2.06-.94-2.06-.94L8.5 2.5l-.94 2.06-2.06.94zm10 10l.94 2.06.94-2.06 2.06-.94-2.06-.94-.94-2.06-.94 2.06-2.06.94z\"/><path d=\"M17.41 7.96l-1.37-1.37c-.4-.4-.92-.59-1.43-.59-.52 0-1.04.2-1.43.59L10.3 9.45l-7.72 7.72c-.78.78-.78 2.05 0 2.83L4 21.41c.39.39.9.59 1.41.59.51 0 1.02-.2 1.41-.59l7.78-7.78 2.81-2.81c.8-.78.8-2.07 0-2.86zM5.41 20L4 18.59l7.72-7.72 1.47 1.35L5.41 20z\"/>\n",
       "  </svg>\n",
       "      </button>\n",
       "      \n",
       "  <style>\n",
       "    .colab-df-container {\n",
       "      display:flex;\n",
       "      flex-wrap:wrap;\n",
       "      gap: 12px;\n",
       "    }\n",
       "\n",
       "    .colab-df-convert {\n",
       "      background-color: #E8F0FE;\n",
       "      border: none;\n",
       "      border-radius: 50%;\n",
       "      cursor: pointer;\n",
       "      display: none;\n",
       "      fill: #1967D2;\n",
       "      height: 32px;\n",
       "      padding: 0 0 0 0;\n",
       "      width: 32px;\n",
       "    }\n",
       "\n",
       "    .colab-df-convert:hover {\n",
       "      background-color: #E2EBFA;\n",
       "      box-shadow: 0px 1px 2px rgba(60, 64, 67, 0.3), 0px 1px 3px 1px rgba(60, 64, 67, 0.15);\n",
       "      fill: #174EA6;\n",
       "    }\n",
       "\n",
       "    [theme=dark] .colab-df-convert {\n",
       "      background-color: #3B4455;\n",
       "      fill: #D2E3FC;\n",
       "    }\n",
       "\n",
       "    [theme=dark] .colab-df-convert:hover {\n",
       "      background-color: #434B5C;\n",
       "      box-shadow: 0px 1px 3px 1px rgba(0, 0, 0, 0.15);\n",
       "      filter: drop-shadow(0px 1px 2px rgba(0, 0, 0, 0.3));\n",
       "      fill: #FFFFFF;\n",
       "    }\n",
       "  </style>\n",
       "\n",
       "      <script>\n",
       "        const buttonEl =\n",
       "          document.querySelector('#df-79d9a84d-47a2-4cb2-aa68-4a284ce69ad5 button.colab-df-convert');\n",
       "        buttonEl.style.display =\n",
       "          google.colab.kernel.accessAllowed ? 'block' : 'none';\n",
       "\n",
       "        async function convertToInteractive(key) {\n",
       "          const element = document.querySelector('#df-79d9a84d-47a2-4cb2-aa68-4a284ce69ad5');\n",
       "          const dataTable =\n",
       "            await google.colab.kernel.invokeFunction('convertToInteractive',\n",
       "                                                     [key], {});\n",
       "          if (!dataTable) return;\n",
       "\n",
       "          const docLinkHtml = 'Like what you see? Visit the ' +\n",
       "            '<a target=\"_blank\" href=https://colab.research.google.com/notebooks/data_table.ipynb>data table notebook</a>'\n",
       "            + ' to learn more about interactive tables.';\n",
       "          element.innerHTML = '';\n",
       "          dataTable['output_type'] = 'display_data';\n",
       "          await google.colab.output.renderOutput(dataTable, element);\n",
       "          const docLink = document.createElement('div');\n",
       "          docLink.innerHTML = docLinkHtml;\n",
       "          element.appendChild(docLink);\n",
       "        }\n",
       "      </script>\n",
       "    </div>\n",
       "  </div>\n",
       "  "
      ],
      "text/plain": [
       "                             time     user  \\\n",
       "4      2019-12-01T00:56:23.288000    Ryden   \n",
       "5      2019-12-01T01:07:04.875000  Jayvien   \n",
       "6      2019-12-01T01:10:54.022000  Kaliope   \n",
       "7      2019-12-01T01:13:29.732000    Naely   \n",
       "8      2019-12-01T01:16:43.656000  Jayvien   \n",
       "...                           ...      ...   \n",
       "30939  2019-12-31T18:24:58.198000  Azyriah   \n",
       "30940  2019-12-31T18:25:37.421000  Areesha   \n",
       "30941  2019-12-31T18:26:17.603000  Areesha   \n",
       "30942  2019-12-31T18:29:15.676000   Ailany   \n",
       "30943  2019-12-31T18:29:57.380000   Ailany   \n",
       "\n",
       "                                                    text  \n",
       "4      where is the name of the file stored on the file?  \n",
       "5                                              say what?  \n",
       "6      Where would you guys recommend I learn kotlin ...  \n",
       "7      I used the official Kotlin docs they have an e...  \n",
       "8                                               do they?  \n",
       "...                                                  ...  \n",
       "30939                                      hi @GokturkSM  \n",
       "30940  Anyone have some math background? Trying to im...  \n",
       "30941  My question is... what exactly is a cyclic gro...  \n",
       "30942  You need to know what exceptions your code may...  \n",
       "30943                                               @cup  \n",
       "\n",
       "[30940 rows x 3 columns]"
      ]
     },
     "execution_count": 8,
     "metadata": {},
     "output_type": "execute_result"
    }
   ],
   "source": [
    "df.rename(columns = {'ts':'time'}, inplace = True)\n",
    "\n",
    "df"
   ]
  },
  {
   "cell_type": "markdown",
   "metadata": {
    "id": "Oq6bPNYx3PSJ"
   },
   "source": [
    "<br>\n",
    "<p><center>Our table is now more simpiler to look at. However if you take a look at the time column, with the format, it is very hard to read what it says.</center></p>\n",
    "\n",
    "<blockquote style=\"color:mediumpurple;\">Let's now re-format this column to be able to read the time each message was sent.</blockquote>\n",
    "\n",
    "<p><center>We will use the 'pandas' library once again as well as the \"to_datetime\" method to re-format this column in a more readable way.</center></p>"
   ]
  },
  {
   "cell_type": "code",
   "execution_count": 9,
   "metadata": {
    "colab": {
     "base_uri": "https://localhost:8080/",
     "height": 424
    },
    "id": "xO0xxcMN3odK",
    "outputId": "e92082a3-4959-471f-c644-e06753b5d438"
   },
   "outputs": [
    {
     "data": {
      "text/html": [
       "\n",
       "  <div id=\"df-9b3e283f-396b-4656-ba36-5d0e142ef486\">\n",
       "    <div class=\"colab-df-container\">\n",
       "      <div>\n",
       "<style scoped>\n",
       "    .dataframe tbody tr th:only-of-type {\n",
       "        vertical-align: middle;\n",
       "    }\n",
       "\n",
       "    .dataframe tbody tr th {\n",
       "        vertical-align: top;\n",
       "    }\n",
       "\n",
       "    .dataframe thead th {\n",
       "        text-align: right;\n",
       "    }\n",
       "</style>\n",
       "<table border=\"1\" class=\"dataframe\">\n",
       "  <thead>\n",
       "    <tr style=\"text-align: right;\">\n",
       "      <th></th>\n",
       "      <th>time</th>\n",
       "      <th>user</th>\n",
       "      <th>text</th>\n",
       "    </tr>\n",
       "  </thead>\n",
       "  <tbody>\n",
       "    <tr>\n",
       "      <th>4</th>\n",
       "      <td>2019-12-01 00:56:23.288</td>\n",
       "      <td>Ryden</td>\n",
       "      <td>where is the name of the file stored on the file?</td>\n",
       "    </tr>\n",
       "    <tr>\n",
       "      <th>5</th>\n",
       "      <td>2019-12-01 01:07:04.875</td>\n",
       "      <td>Jayvien</td>\n",
       "      <td>say what?</td>\n",
       "    </tr>\n",
       "    <tr>\n",
       "      <th>6</th>\n",
       "      <td>2019-12-01 01:10:54.022</td>\n",
       "      <td>Kaliope</td>\n",
       "      <td>Where would you guys recommend I learn kotlin ...</td>\n",
       "    </tr>\n",
       "    <tr>\n",
       "      <th>7</th>\n",
       "      <td>2019-12-01 01:13:29.732</td>\n",
       "      <td>Naely</td>\n",
       "      <td>I used the official Kotlin docs they have an e...</td>\n",
       "    </tr>\n",
       "    <tr>\n",
       "      <th>8</th>\n",
       "      <td>2019-12-01 01:16:43.656</td>\n",
       "      <td>Jayvien</td>\n",
       "      <td>do they?</td>\n",
       "    </tr>\n",
       "    <tr>\n",
       "      <th>...</th>\n",
       "      <td>...</td>\n",
       "      <td>...</td>\n",
       "      <td>...</td>\n",
       "    </tr>\n",
       "    <tr>\n",
       "      <th>30939</th>\n",
       "      <td>2019-12-31 18:24:58.198</td>\n",
       "      <td>Azyriah</td>\n",
       "      <td>hi @GokturkSM</td>\n",
       "    </tr>\n",
       "    <tr>\n",
       "      <th>30940</th>\n",
       "      <td>2019-12-31 18:25:37.421</td>\n",
       "      <td>Areesha</td>\n",
       "      <td>Anyone have some math background? Trying to im...</td>\n",
       "    </tr>\n",
       "    <tr>\n",
       "      <th>30941</th>\n",
       "      <td>2019-12-31 18:26:17.603</td>\n",
       "      <td>Areesha</td>\n",
       "      <td>My question is... what exactly is a cyclic gro...</td>\n",
       "    </tr>\n",
       "    <tr>\n",
       "      <th>30942</th>\n",
       "      <td>2019-12-31 18:29:15.676</td>\n",
       "      <td>Ailany</td>\n",
       "      <td>You need to know what exceptions your code may...</td>\n",
       "    </tr>\n",
       "    <tr>\n",
       "      <th>30943</th>\n",
       "      <td>2019-12-31 18:29:57.380</td>\n",
       "      <td>Ailany</td>\n",
       "      <td>@cup</td>\n",
       "    </tr>\n",
       "  </tbody>\n",
       "</table>\n",
       "<p>30940 rows × 3 columns</p>\n",
       "</div>\n",
       "      <button class=\"colab-df-convert\" onclick=\"convertToInteractive('df-9b3e283f-396b-4656-ba36-5d0e142ef486')\"\n",
       "              title=\"Convert this dataframe to an interactive table.\"\n",
       "              style=\"display:none;\">\n",
       "        \n",
       "  <svg xmlns=\"http://www.w3.org/2000/svg\" height=\"24px\"viewBox=\"0 0 24 24\"\n",
       "       width=\"24px\">\n",
       "    <path d=\"M0 0h24v24H0V0z\" fill=\"none\"/>\n",
       "    <path d=\"M18.56 5.44l.94 2.06.94-2.06 2.06-.94-2.06-.94-.94-2.06-.94 2.06-2.06.94zm-11 1L8.5 8.5l.94-2.06 2.06-.94-2.06-.94L8.5 2.5l-.94 2.06-2.06.94zm10 10l.94 2.06.94-2.06 2.06-.94-2.06-.94-.94-2.06-.94 2.06-2.06.94z\"/><path d=\"M17.41 7.96l-1.37-1.37c-.4-.4-.92-.59-1.43-.59-.52 0-1.04.2-1.43.59L10.3 9.45l-7.72 7.72c-.78.78-.78 2.05 0 2.83L4 21.41c.39.39.9.59 1.41.59.51 0 1.02-.2 1.41-.59l7.78-7.78 2.81-2.81c.8-.78.8-2.07 0-2.86zM5.41 20L4 18.59l7.72-7.72 1.47 1.35L5.41 20z\"/>\n",
       "  </svg>\n",
       "      </button>\n",
       "      \n",
       "  <style>\n",
       "    .colab-df-container {\n",
       "      display:flex;\n",
       "      flex-wrap:wrap;\n",
       "      gap: 12px;\n",
       "    }\n",
       "\n",
       "    .colab-df-convert {\n",
       "      background-color: #E8F0FE;\n",
       "      border: none;\n",
       "      border-radius: 50%;\n",
       "      cursor: pointer;\n",
       "      display: none;\n",
       "      fill: #1967D2;\n",
       "      height: 32px;\n",
       "      padding: 0 0 0 0;\n",
       "      width: 32px;\n",
       "    }\n",
       "\n",
       "    .colab-df-convert:hover {\n",
       "      background-color: #E2EBFA;\n",
       "      box-shadow: 0px 1px 2px rgba(60, 64, 67, 0.3), 0px 1px 3px 1px rgba(60, 64, 67, 0.15);\n",
       "      fill: #174EA6;\n",
       "    }\n",
       "\n",
       "    [theme=dark] .colab-df-convert {\n",
       "      background-color: #3B4455;\n",
       "      fill: #D2E3FC;\n",
       "    }\n",
       "\n",
       "    [theme=dark] .colab-df-convert:hover {\n",
       "      background-color: #434B5C;\n",
       "      box-shadow: 0px 1px 3px 1px rgba(0, 0, 0, 0.15);\n",
       "      filter: drop-shadow(0px 1px 2px rgba(0, 0, 0, 0.3));\n",
       "      fill: #FFFFFF;\n",
       "    }\n",
       "  </style>\n",
       "\n",
       "      <script>\n",
       "        const buttonEl =\n",
       "          document.querySelector('#df-9b3e283f-396b-4656-ba36-5d0e142ef486 button.colab-df-convert');\n",
       "        buttonEl.style.display =\n",
       "          google.colab.kernel.accessAllowed ? 'block' : 'none';\n",
       "\n",
       "        async function convertToInteractive(key) {\n",
       "          const element = document.querySelector('#df-9b3e283f-396b-4656-ba36-5d0e142ef486');\n",
       "          const dataTable =\n",
       "            await google.colab.kernel.invokeFunction('convertToInteractive',\n",
       "                                                     [key], {});\n",
       "          if (!dataTable) return;\n",
       "\n",
       "          const docLinkHtml = 'Like what you see? Visit the ' +\n",
       "            '<a target=\"_blank\" href=https://colab.research.google.com/notebooks/data_table.ipynb>data table notebook</a>'\n",
       "            + ' to learn more about interactive tables.';\n",
       "          element.innerHTML = '';\n",
       "          dataTable['output_type'] = 'display_data';\n",
       "          await google.colab.output.renderOutput(dataTable, element);\n",
       "          const docLink = document.createElement('div');\n",
       "          docLink.innerHTML = docLinkHtml;\n",
       "          element.appendChild(docLink);\n",
       "        }\n",
       "      </script>\n",
       "    </div>\n",
       "  </div>\n",
       "  "
      ],
      "text/plain": [
       "                         time     user  \\\n",
       "4     2019-12-01 00:56:23.288    Ryden   \n",
       "5     2019-12-01 01:07:04.875  Jayvien   \n",
       "6     2019-12-01 01:10:54.022  Kaliope   \n",
       "7     2019-12-01 01:13:29.732    Naely   \n",
       "8     2019-12-01 01:16:43.656  Jayvien   \n",
       "...                       ...      ...   \n",
       "30939 2019-12-31 18:24:58.198  Azyriah   \n",
       "30940 2019-12-31 18:25:37.421  Areesha   \n",
       "30941 2019-12-31 18:26:17.603  Areesha   \n",
       "30942 2019-12-31 18:29:15.676   Ailany   \n",
       "30943 2019-12-31 18:29:57.380   Ailany   \n",
       "\n",
       "                                                    text  \n",
       "4      where is the name of the file stored on the file?  \n",
       "5                                              say what?  \n",
       "6      Where would you guys recommend I learn kotlin ...  \n",
       "7      I used the official Kotlin docs they have an e...  \n",
       "8                                               do they?  \n",
       "...                                                  ...  \n",
       "30939                                      hi @GokturkSM  \n",
       "30940  Anyone have some math background? Trying to im...  \n",
       "30941  My question is... what exactly is a cyclic gro...  \n",
       "30942  You need to know what exceptions your code may...  \n",
       "30943                                               @cup  \n",
       "\n",
       "[30940 rows x 3 columns]"
      ]
     },
     "execution_count": 9,
     "metadata": {},
     "output_type": "execute_result"
    }
   ],
   "source": [
    "df['time'] = pd.to_datetime(df['time'], format=\"%Y-%m-%d\")\n",
    "\n",
    "df"
   ]
  },
  {
   "cell_type": "markdown",
   "metadata": {
    "id": "m1ehOaWGePAa"
   },
   "source": [
    "<br><br><p><center><b>Additionally, we can add in the day of the week each messages was sent.</b></center></p>\n",
    "\n"
   ]
  },
  {
   "cell_type": "code",
   "execution_count": 10,
   "metadata": {
    "colab": {
     "base_uri": "https://localhost:8080/",
     "height": 424
    },
    "id": "zAG-QipZeV9D",
    "outputId": "9ea20d51-0750-4b22-fc45-35b99223c6cf"
   },
   "outputs": [
    {
     "data": {
      "text/html": [
       "\n",
       "  <div id=\"df-b2b99bab-cd8b-4e79-b5ce-897d5653dec0\">\n",
       "    <div class=\"colab-df-container\">\n",
       "      <div>\n",
       "<style scoped>\n",
       "    .dataframe tbody tr th:only-of-type {\n",
       "        vertical-align: middle;\n",
       "    }\n",
       "\n",
       "    .dataframe tbody tr th {\n",
       "        vertical-align: top;\n",
       "    }\n",
       "\n",
       "    .dataframe thead th {\n",
       "        text-align: right;\n",
       "    }\n",
       "</style>\n",
       "<table border=\"1\" class=\"dataframe\">\n",
       "  <thead>\n",
       "    <tr style=\"text-align: right;\">\n",
       "      <th></th>\n",
       "      <th>time</th>\n",
       "      <th>user</th>\n",
       "      <th>text</th>\n",
       "      <th>day</th>\n",
       "    </tr>\n",
       "  </thead>\n",
       "  <tbody>\n",
       "    <tr>\n",
       "      <th>4</th>\n",
       "      <td>2019-12-01 00:56:23.288</td>\n",
       "      <td>Ryden</td>\n",
       "      <td>where is the name of the file stored on the file?</td>\n",
       "      <td>Sunday</td>\n",
       "    </tr>\n",
       "    <tr>\n",
       "      <th>5</th>\n",
       "      <td>2019-12-01 01:07:04.875</td>\n",
       "      <td>Jayvien</td>\n",
       "      <td>say what?</td>\n",
       "      <td>Sunday</td>\n",
       "    </tr>\n",
       "    <tr>\n",
       "      <th>6</th>\n",
       "      <td>2019-12-01 01:10:54.022</td>\n",
       "      <td>Kaliope</td>\n",
       "      <td>Where would you guys recommend I learn kotlin ...</td>\n",
       "      <td>Sunday</td>\n",
       "    </tr>\n",
       "    <tr>\n",
       "      <th>7</th>\n",
       "      <td>2019-12-01 01:13:29.732</td>\n",
       "      <td>Naely</td>\n",
       "      <td>I used the official Kotlin docs they have an e...</td>\n",
       "      <td>Sunday</td>\n",
       "    </tr>\n",
       "    <tr>\n",
       "      <th>8</th>\n",
       "      <td>2019-12-01 01:16:43.656</td>\n",
       "      <td>Jayvien</td>\n",
       "      <td>do they?</td>\n",
       "      <td>Sunday</td>\n",
       "    </tr>\n",
       "    <tr>\n",
       "      <th>...</th>\n",
       "      <td>...</td>\n",
       "      <td>...</td>\n",
       "      <td>...</td>\n",
       "      <td>...</td>\n",
       "    </tr>\n",
       "    <tr>\n",
       "      <th>30939</th>\n",
       "      <td>2019-12-31 18:24:58.198</td>\n",
       "      <td>Azyriah</td>\n",
       "      <td>hi @GokturkSM</td>\n",
       "      <td>Tuesday</td>\n",
       "    </tr>\n",
       "    <tr>\n",
       "      <th>30940</th>\n",
       "      <td>2019-12-31 18:25:37.421</td>\n",
       "      <td>Areesha</td>\n",
       "      <td>Anyone have some math background? Trying to im...</td>\n",
       "      <td>Tuesday</td>\n",
       "    </tr>\n",
       "    <tr>\n",
       "      <th>30941</th>\n",
       "      <td>2019-12-31 18:26:17.603</td>\n",
       "      <td>Areesha</td>\n",
       "      <td>My question is... what exactly is a cyclic gro...</td>\n",
       "      <td>Tuesday</td>\n",
       "    </tr>\n",
       "    <tr>\n",
       "      <th>30942</th>\n",
       "      <td>2019-12-31 18:29:15.676</td>\n",
       "      <td>Ailany</td>\n",
       "      <td>You need to know what exceptions your code may...</td>\n",
       "      <td>Tuesday</td>\n",
       "    </tr>\n",
       "    <tr>\n",
       "      <th>30943</th>\n",
       "      <td>2019-12-31 18:29:57.380</td>\n",
       "      <td>Ailany</td>\n",
       "      <td>@cup</td>\n",
       "      <td>Tuesday</td>\n",
       "    </tr>\n",
       "  </tbody>\n",
       "</table>\n",
       "<p>30940 rows × 4 columns</p>\n",
       "</div>\n",
       "      <button class=\"colab-df-convert\" onclick=\"convertToInteractive('df-b2b99bab-cd8b-4e79-b5ce-897d5653dec0')\"\n",
       "              title=\"Convert this dataframe to an interactive table.\"\n",
       "              style=\"display:none;\">\n",
       "        \n",
       "  <svg xmlns=\"http://www.w3.org/2000/svg\" height=\"24px\"viewBox=\"0 0 24 24\"\n",
       "       width=\"24px\">\n",
       "    <path d=\"M0 0h24v24H0V0z\" fill=\"none\"/>\n",
       "    <path d=\"M18.56 5.44l.94 2.06.94-2.06 2.06-.94-2.06-.94-.94-2.06-.94 2.06-2.06.94zm-11 1L8.5 8.5l.94-2.06 2.06-.94-2.06-.94L8.5 2.5l-.94 2.06-2.06.94zm10 10l.94 2.06.94-2.06 2.06-.94-2.06-.94-.94-2.06-.94 2.06-2.06.94z\"/><path d=\"M17.41 7.96l-1.37-1.37c-.4-.4-.92-.59-1.43-.59-.52 0-1.04.2-1.43.59L10.3 9.45l-7.72 7.72c-.78.78-.78 2.05 0 2.83L4 21.41c.39.39.9.59 1.41.59.51 0 1.02-.2 1.41-.59l7.78-7.78 2.81-2.81c.8-.78.8-2.07 0-2.86zM5.41 20L4 18.59l7.72-7.72 1.47 1.35L5.41 20z\"/>\n",
       "  </svg>\n",
       "      </button>\n",
       "      \n",
       "  <style>\n",
       "    .colab-df-container {\n",
       "      display:flex;\n",
       "      flex-wrap:wrap;\n",
       "      gap: 12px;\n",
       "    }\n",
       "\n",
       "    .colab-df-convert {\n",
       "      background-color: #E8F0FE;\n",
       "      border: none;\n",
       "      border-radius: 50%;\n",
       "      cursor: pointer;\n",
       "      display: none;\n",
       "      fill: #1967D2;\n",
       "      height: 32px;\n",
       "      padding: 0 0 0 0;\n",
       "      width: 32px;\n",
       "    }\n",
       "\n",
       "    .colab-df-convert:hover {\n",
       "      background-color: #E2EBFA;\n",
       "      box-shadow: 0px 1px 2px rgba(60, 64, 67, 0.3), 0px 1px 3px 1px rgba(60, 64, 67, 0.15);\n",
       "      fill: #174EA6;\n",
       "    }\n",
       "\n",
       "    [theme=dark] .colab-df-convert {\n",
       "      background-color: #3B4455;\n",
       "      fill: #D2E3FC;\n",
       "    }\n",
       "\n",
       "    [theme=dark] .colab-df-convert:hover {\n",
       "      background-color: #434B5C;\n",
       "      box-shadow: 0px 1px 3px 1px rgba(0, 0, 0, 0.15);\n",
       "      filter: drop-shadow(0px 1px 2px rgba(0, 0, 0, 0.3));\n",
       "      fill: #FFFFFF;\n",
       "    }\n",
       "  </style>\n",
       "\n",
       "      <script>\n",
       "        const buttonEl =\n",
       "          document.querySelector('#df-b2b99bab-cd8b-4e79-b5ce-897d5653dec0 button.colab-df-convert');\n",
       "        buttonEl.style.display =\n",
       "          google.colab.kernel.accessAllowed ? 'block' : 'none';\n",
       "\n",
       "        async function convertToInteractive(key) {\n",
       "          const element = document.querySelector('#df-b2b99bab-cd8b-4e79-b5ce-897d5653dec0');\n",
       "          const dataTable =\n",
       "            await google.colab.kernel.invokeFunction('convertToInteractive',\n",
       "                                                     [key], {});\n",
       "          if (!dataTable) return;\n",
       "\n",
       "          const docLinkHtml = 'Like what you see? Visit the ' +\n",
       "            '<a target=\"_blank\" href=https://colab.research.google.com/notebooks/data_table.ipynb>data table notebook</a>'\n",
       "            + ' to learn more about interactive tables.';\n",
       "          element.innerHTML = '';\n",
       "          dataTable['output_type'] = 'display_data';\n",
       "          await google.colab.output.renderOutput(dataTable, element);\n",
       "          const docLink = document.createElement('div');\n",
       "          docLink.innerHTML = docLinkHtml;\n",
       "          element.appendChild(docLink);\n",
       "        }\n",
       "      </script>\n",
       "    </div>\n",
       "  </div>\n",
       "  "
      ],
      "text/plain": [
       "                         time     user  \\\n",
       "4     2019-12-01 00:56:23.288    Ryden   \n",
       "5     2019-12-01 01:07:04.875  Jayvien   \n",
       "6     2019-12-01 01:10:54.022  Kaliope   \n",
       "7     2019-12-01 01:13:29.732    Naely   \n",
       "8     2019-12-01 01:16:43.656  Jayvien   \n",
       "...                       ...      ...   \n",
       "30939 2019-12-31 18:24:58.198  Azyriah   \n",
       "30940 2019-12-31 18:25:37.421  Areesha   \n",
       "30941 2019-12-31 18:26:17.603  Areesha   \n",
       "30942 2019-12-31 18:29:15.676   Ailany   \n",
       "30943 2019-12-31 18:29:57.380   Ailany   \n",
       "\n",
       "                                                    text      day  \n",
       "4      where is the name of the file stored on the file?   Sunday  \n",
       "5                                              say what?   Sunday  \n",
       "6      Where would you guys recommend I learn kotlin ...   Sunday  \n",
       "7      I used the official Kotlin docs they have an e...   Sunday  \n",
       "8                                               do they?   Sunday  \n",
       "...                                                  ...      ...  \n",
       "30939                                      hi @GokturkSM  Tuesday  \n",
       "30940  Anyone have some math background? Trying to im...  Tuesday  \n",
       "30941  My question is... what exactly is a cyclic gro...  Tuesday  \n",
       "30942  You need to know what exceptions your code may...  Tuesday  \n",
       "30943                                               @cup  Tuesday  \n",
       "\n",
       "[30940 rows x 4 columns]"
      ]
     },
     "execution_count": 10,
     "metadata": {},
     "output_type": "execute_result"
    }
   ],
   "source": [
    "df['day'] = df['time'].dt.day_name()\n",
    "\n",
    "df"
   ]
  },
  {
   "cell_type": "markdown",
   "metadata": {
    "id": "eHHBFeuVuMeU"
   },
   "source": [
    "<p><center>Now let's fix the time for when each message was sent as it looks very messy at the moment.</center></p>\n",
    "\n",
    "<blockquote style=\"color:mediumpurple;\">First, we can re-format the 'time' column and convert the time to just include the hour and minute. This way it's a little more readable and not as cluttered as before.</blockquote>"
   ]
  },
  {
   "cell_type": "code",
   "execution_count": 11,
   "metadata": {
    "colab": {
     "base_uri": "https://localhost:8080/",
     "height": 424
    },
    "id": "RPg_PDHmuIOy",
    "outputId": "13685f0d-01e6-4a59-bc99-55d330b81cbd"
   },
   "outputs": [
    {
     "data": {
      "text/html": [
       "\n",
       "  <div id=\"df-a65c4fea-5e3a-436b-af6f-1d525b9dd607\">\n",
       "    <div class=\"colab-df-container\">\n",
       "      <div>\n",
       "<style scoped>\n",
       "    .dataframe tbody tr th:only-of-type {\n",
       "        vertical-align: middle;\n",
       "    }\n",
       "\n",
       "    .dataframe tbody tr th {\n",
       "        vertical-align: top;\n",
       "    }\n",
       "\n",
       "    .dataframe thead th {\n",
       "        text-align: right;\n",
       "    }\n",
       "</style>\n",
       "<table border=\"1\" class=\"dataframe\">\n",
       "  <thead>\n",
       "    <tr style=\"text-align: right;\">\n",
       "      <th></th>\n",
       "      <th>time</th>\n",
       "      <th>user</th>\n",
       "      <th>text</th>\n",
       "      <th>day</th>\n",
       "    </tr>\n",
       "  </thead>\n",
       "  <tbody>\n",
       "    <tr>\n",
       "      <th>4</th>\n",
       "      <td>2019-12-01 00:56</td>\n",
       "      <td>Ryden</td>\n",
       "      <td>where is the name of the file stored on the file?</td>\n",
       "      <td>Sunday</td>\n",
       "    </tr>\n",
       "    <tr>\n",
       "      <th>5</th>\n",
       "      <td>2019-12-01 01:07</td>\n",
       "      <td>Jayvien</td>\n",
       "      <td>say what?</td>\n",
       "      <td>Sunday</td>\n",
       "    </tr>\n",
       "    <tr>\n",
       "      <th>6</th>\n",
       "      <td>2019-12-01 01:10</td>\n",
       "      <td>Kaliope</td>\n",
       "      <td>Where would you guys recommend I learn kotlin ...</td>\n",
       "      <td>Sunday</td>\n",
       "    </tr>\n",
       "    <tr>\n",
       "      <th>7</th>\n",
       "      <td>2019-12-01 01:13</td>\n",
       "      <td>Naely</td>\n",
       "      <td>I used the official Kotlin docs they have an e...</td>\n",
       "      <td>Sunday</td>\n",
       "    </tr>\n",
       "    <tr>\n",
       "      <th>8</th>\n",
       "      <td>2019-12-01 01:16</td>\n",
       "      <td>Jayvien</td>\n",
       "      <td>do they?</td>\n",
       "      <td>Sunday</td>\n",
       "    </tr>\n",
       "    <tr>\n",
       "      <th>...</th>\n",
       "      <td>...</td>\n",
       "      <td>...</td>\n",
       "      <td>...</td>\n",
       "      <td>...</td>\n",
       "    </tr>\n",
       "    <tr>\n",
       "      <th>30939</th>\n",
       "      <td>2019-12-31 18:24</td>\n",
       "      <td>Azyriah</td>\n",
       "      <td>hi @GokturkSM</td>\n",
       "      <td>Tuesday</td>\n",
       "    </tr>\n",
       "    <tr>\n",
       "      <th>30940</th>\n",
       "      <td>2019-12-31 18:25</td>\n",
       "      <td>Areesha</td>\n",
       "      <td>Anyone have some math background? Trying to im...</td>\n",
       "      <td>Tuesday</td>\n",
       "    </tr>\n",
       "    <tr>\n",
       "      <th>30941</th>\n",
       "      <td>2019-12-31 18:26</td>\n",
       "      <td>Areesha</td>\n",
       "      <td>My question is... what exactly is a cyclic gro...</td>\n",
       "      <td>Tuesday</td>\n",
       "    </tr>\n",
       "    <tr>\n",
       "      <th>30942</th>\n",
       "      <td>2019-12-31 18:29</td>\n",
       "      <td>Ailany</td>\n",
       "      <td>You need to know what exceptions your code may...</td>\n",
       "      <td>Tuesday</td>\n",
       "    </tr>\n",
       "    <tr>\n",
       "      <th>30943</th>\n",
       "      <td>2019-12-31 18:29</td>\n",
       "      <td>Ailany</td>\n",
       "      <td>@cup</td>\n",
       "      <td>Tuesday</td>\n",
       "    </tr>\n",
       "  </tbody>\n",
       "</table>\n",
       "<p>30940 rows × 4 columns</p>\n",
       "</div>\n",
       "      <button class=\"colab-df-convert\" onclick=\"convertToInteractive('df-a65c4fea-5e3a-436b-af6f-1d525b9dd607')\"\n",
       "              title=\"Convert this dataframe to an interactive table.\"\n",
       "              style=\"display:none;\">\n",
       "        \n",
       "  <svg xmlns=\"http://www.w3.org/2000/svg\" height=\"24px\"viewBox=\"0 0 24 24\"\n",
       "       width=\"24px\">\n",
       "    <path d=\"M0 0h24v24H0V0z\" fill=\"none\"/>\n",
       "    <path d=\"M18.56 5.44l.94 2.06.94-2.06 2.06-.94-2.06-.94-.94-2.06-.94 2.06-2.06.94zm-11 1L8.5 8.5l.94-2.06 2.06-.94-2.06-.94L8.5 2.5l-.94 2.06-2.06.94zm10 10l.94 2.06.94-2.06 2.06-.94-2.06-.94-.94-2.06-.94 2.06-2.06.94z\"/><path d=\"M17.41 7.96l-1.37-1.37c-.4-.4-.92-.59-1.43-.59-.52 0-1.04.2-1.43.59L10.3 9.45l-7.72 7.72c-.78.78-.78 2.05 0 2.83L4 21.41c.39.39.9.59 1.41.59.51 0 1.02-.2 1.41-.59l7.78-7.78 2.81-2.81c.8-.78.8-2.07 0-2.86zM5.41 20L4 18.59l7.72-7.72 1.47 1.35L5.41 20z\"/>\n",
       "  </svg>\n",
       "      </button>\n",
       "      \n",
       "  <style>\n",
       "    .colab-df-container {\n",
       "      display:flex;\n",
       "      flex-wrap:wrap;\n",
       "      gap: 12px;\n",
       "    }\n",
       "\n",
       "    .colab-df-convert {\n",
       "      background-color: #E8F0FE;\n",
       "      border: none;\n",
       "      border-radius: 50%;\n",
       "      cursor: pointer;\n",
       "      display: none;\n",
       "      fill: #1967D2;\n",
       "      height: 32px;\n",
       "      padding: 0 0 0 0;\n",
       "      width: 32px;\n",
       "    }\n",
       "\n",
       "    .colab-df-convert:hover {\n",
       "      background-color: #E2EBFA;\n",
       "      box-shadow: 0px 1px 2px rgba(60, 64, 67, 0.3), 0px 1px 3px 1px rgba(60, 64, 67, 0.15);\n",
       "      fill: #174EA6;\n",
       "    }\n",
       "\n",
       "    [theme=dark] .colab-df-convert {\n",
       "      background-color: #3B4455;\n",
       "      fill: #D2E3FC;\n",
       "    }\n",
       "\n",
       "    [theme=dark] .colab-df-convert:hover {\n",
       "      background-color: #434B5C;\n",
       "      box-shadow: 0px 1px 3px 1px rgba(0, 0, 0, 0.15);\n",
       "      filter: drop-shadow(0px 1px 2px rgba(0, 0, 0, 0.3));\n",
       "      fill: #FFFFFF;\n",
       "    }\n",
       "  </style>\n",
       "\n",
       "      <script>\n",
       "        const buttonEl =\n",
       "          document.querySelector('#df-a65c4fea-5e3a-436b-af6f-1d525b9dd607 button.colab-df-convert');\n",
       "        buttonEl.style.display =\n",
       "          google.colab.kernel.accessAllowed ? 'block' : 'none';\n",
       "\n",
       "        async function convertToInteractive(key) {\n",
       "          const element = document.querySelector('#df-a65c4fea-5e3a-436b-af6f-1d525b9dd607');\n",
       "          const dataTable =\n",
       "            await google.colab.kernel.invokeFunction('convertToInteractive',\n",
       "                                                     [key], {});\n",
       "          if (!dataTable) return;\n",
       "\n",
       "          const docLinkHtml = 'Like what you see? Visit the ' +\n",
       "            '<a target=\"_blank\" href=https://colab.research.google.com/notebooks/data_table.ipynb>data table notebook</a>'\n",
       "            + ' to learn more about interactive tables.';\n",
       "          element.innerHTML = '';\n",
       "          dataTable['output_type'] = 'display_data';\n",
       "          await google.colab.output.renderOutput(dataTable, element);\n",
       "          const docLink = document.createElement('div');\n",
       "          docLink.innerHTML = docLinkHtml;\n",
       "          element.appendChild(docLink);\n",
       "        }\n",
       "      </script>\n",
       "    </div>\n",
       "  </div>\n",
       "  "
      ],
      "text/plain": [
       "                   time     user  \\\n",
       "4      2019-12-01 00:56    Ryden   \n",
       "5      2019-12-01 01:07  Jayvien   \n",
       "6      2019-12-01 01:10  Kaliope   \n",
       "7      2019-12-01 01:13    Naely   \n",
       "8      2019-12-01 01:16  Jayvien   \n",
       "...                 ...      ...   \n",
       "30939  2019-12-31 18:24  Azyriah   \n",
       "30940  2019-12-31 18:25  Areesha   \n",
       "30941  2019-12-31 18:26  Areesha   \n",
       "30942  2019-12-31 18:29   Ailany   \n",
       "30943  2019-12-31 18:29   Ailany   \n",
       "\n",
       "                                                    text      day  \n",
       "4      where is the name of the file stored on the file?   Sunday  \n",
       "5                                              say what?   Sunday  \n",
       "6      Where would you guys recommend I learn kotlin ...   Sunday  \n",
       "7      I used the official Kotlin docs they have an e...   Sunday  \n",
       "8                                               do they?   Sunday  \n",
       "...                                                  ...      ...  \n",
       "30939                                      hi @GokturkSM  Tuesday  \n",
       "30940  Anyone have some math background? Trying to im...  Tuesday  \n",
       "30941  My question is... what exactly is a cyclic gro...  Tuesday  \n",
       "30942  You need to know what exceptions your code may...  Tuesday  \n",
       "30943                                               @cup  Tuesday  \n",
       "\n",
       "[30940 rows x 4 columns]"
      ]
     },
     "execution_count": 11,
     "metadata": {},
     "output_type": "execute_result"
    }
   ],
   "source": [
    "df['time'] = pd.to_datetime(df['time'], dayfirst=True).dt.strftime(\"%Y-%m-%d %H:%M\")\n",
    "\n",
    "df"
   ]
  },
  {
   "cell_type": "markdown",
   "metadata": {
    "id": "fFkJQm5PqDqY"
   },
   "source": [
    "<p><center>Next, we can split the \"time\" column because it's still difficult to read. </center></p>\n",
    "\n",
    "<blockquote style=\"color:mediumpurple;\">Lets split this column into two columns. We can have one column for the \"date\" and another column for the \"time\". This way we can distinguish the numbers better.</blockquote>\n",
    "\n",
    "<p><center>Let's create two columns called \"date\" & \"time\". We just have to apply the 'split' method to our current \"time\" column, where we can split by the space in-between the date and the time of when each message was sent.</center></p>"
   ]
  },
  {
   "cell_type": "code",
   "execution_count": 12,
   "metadata": {
    "colab": {
     "base_uri": "https://localhost:8080/",
     "height": 424
    },
    "id": "EZUdY-7yo0vW",
    "outputId": "ad806faa-7220-4a04-c751-404778057fa6"
   },
   "outputs": [
    {
     "data": {
      "text/html": [
       "\n",
       "  <div id=\"df-628fcde0-740a-4dfa-9f20-8d4406651066\">\n",
       "    <div class=\"colab-df-container\">\n",
       "      <div>\n",
       "<style scoped>\n",
       "    .dataframe tbody tr th:only-of-type {\n",
       "        vertical-align: middle;\n",
       "    }\n",
       "\n",
       "    .dataframe tbody tr th {\n",
       "        vertical-align: top;\n",
       "    }\n",
       "\n",
       "    .dataframe thead th {\n",
       "        text-align: right;\n",
       "    }\n",
       "</style>\n",
       "<table border=\"1\" class=\"dataframe\">\n",
       "  <thead>\n",
       "    <tr style=\"text-align: right;\">\n",
       "      <th></th>\n",
       "      <th>time</th>\n",
       "      <th>user</th>\n",
       "      <th>text</th>\n",
       "      <th>day</th>\n",
       "      <th>date</th>\n",
       "    </tr>\n",
       "  </thead>\n",
       "  <tbody>\n",
       "    <tr>\n",
       "      <th>4</th>\n",
       "      <td>00:56</td>\n",
       "      <td>Ryden</td>\n",
       "      <td>where is the name of the file stored on the file?</td>\n",
       "      <td>Sunday</td>\n",
       "      <td>2019-12-01</td>\n",
       "    </tr>\n",
       "    <tr>\n",
       "      <th>5</th>\n",
       "      <td>01:07</td>\n",
       "      <td>Jayvien</td>\n",
       "      <td>say what?</td>\n",
       "      <td>Sunday</td>\n",
       "      <td>2019-12-01</td>\n",
       "    </tr>\n",
       "    <tr>\n",
       "      <th>6</th>\n",
       "      <td>01:10</td>\n",
       "      <td>Kaliope</td>\n",
       "      <td>Where would you guys recommend I learn kotlin ...</td>\n",
       "      <td>Sunday</td>\n",
       "      <td>2019-12-01</td>\n",
       "    </tr>\n",
       "    <tr>\n",
       "      <th>7</th>\n",
       "      <td>01:13</td>\n",
       "      <td>Naely</td>\n",
       "      <td>I used the official Kotlin docs they have an e...</td>\n",
       "      <td>Sunday</td>\n",
       "      <td>2019-12-01</td>\n",
       "    </tr>\n",
       "    <tr>\n",
       "      <th>8</th>\n",
       "      <td>01:16</td>\n",
       "      <td>Jayvien</td>\n",
       "      <td>do they?</td>\n",
       "      <td>Sunday</td>\n",
       "      <td>2019-12-01</td>\n",
       "    </tr>\n",
       "    <tr>\n",
       "      <th>...</th>\n",
       "      <td>...</td>\n",
       "      <td>...</td>\n",
       "      <td>...</td>\n",
       "      <td>...</td>\n",
       "      <td>...</td>\n",
       "    </tr>\n",
       "    <tr>\n",
       "      <th>30939</th>\n",
       "      <td>18:24</td>\n",
       "      <td>Azyriah</td>\n",
       "      <td>hi @GokturkSM</td>\n",
       "      <td>Tuesday</td>\n",
       "      <td>2019-12-31</td>\n",
       "    </tr>\n",
       "    <tr>\n",
       "      <th>30940</th>\n",
       "      <td>18:25</td>\n",
       "      <td>Areesha</td>\n",
       "      <td>Anyone have some math background? Trying to im...</td>\n",
       "      <td>Tuesday</td>\n",
       "      <td>2019-12-31</td>\n",
       "    </tr>\n",
       "    <tr>\n",
       "      <th>30941</th>\n",
       "      <td>18:26</td>\n",
       "      <td>Areesha</td>\n",
       "      <td>My question is... what exactly is a cyclic gro...</td>\n",
       "      <td>Tuesday</td>\n",
       "      <td>2019-12-31</td>\n",
       "    </tr>\n",
       "    <tr>\n",
       "      <th>30942</th>\n",
       "      <td>18:29</td>\n",
       "      <td>Ailany</td>\n",
       "      <td>You need to know what exceptions your code may...</td>\n",
       "      <td>Tuesday</td>\n",
       "      <td>2019-12-31</td>\n",
       "    </tr>\n",
       "    <tr>\n",
       "      <th>30943</th>\n",
       "      <td>18:29</td>\n",
       "      <td>Ailany</td>\n",
       "      <td>@cup</td>\n",
       "      <td>Tuesday</td>\n",
       "      <td>2019-12-31</td>\n",
       "    </tr>\n",
       "  </tbody>\n",
       "</table>\n",
       "<p>30940 rows × 5 columns</p>\n",
       "</div>\n",
       "      <button class=\"colab-df-convert\" onclick=\"convertToInteractive('df-628fcde0-740a-4dfa-9f20-8d4406651066')\"\n",
       "              title=\"Convert this dataframe to an interactive table.\"\n",
       "              style=\"display:none;\">\n",
       "        \n",
       "  <svg xmlns=\"http://www.w3.org/2000/svg\" height=\"24px\"viewBox=\"0 0 24 24\"\n",
       "       width=\"24px\">\n",
       "    <path d=\"M0 0h24v24H0V0z\" fill=\"none\"/>\n",
       "    <path d=\"M18.56 5.44l.94 2.06.94-2.06 2.06-.94-2.06-.94-.94-2.06-.94 2.06-2.06.94zm-11 1L8.5 8.5l.94-2.06 2.06-.94-2.06-.94L8.5 2.5l-.94 2.06-2.06.94zm10 10l.94 2.06.94-2.06 2.06-.94-2.06-.94-.94-2.06-.94 2.06-2.06.94z\"/><path d=\"M17.41 7.96l-1.37-1.37c-.4-.4-.92-.59-1.43-.59-.52 0-1.04.2-1.43.59L10.3 9.45l-7.72 7.72c-.78.78-.78 2.05 0 2.83L4 21.41c.39.39.9.59 1.41.59.51 0 1.02-.2 1.41-.59l7.78-7.78 2.81-2.81c.8-.78.8-2.07 0-2.86zM5.41 20L4 18.59l7.72-7.72 1.47 1.35L5.41 20z\"/>\n",
       "  </svg>\n",
       "      </button>\n",
       "      \n",
       "  <style>\n",
       "    .colab-df-container {\n",
       "      display:flex;\n",
       "      flex-wrap:wrap;\n",
       "      gap: 12px;\n",
       "    }\n",
       "\n",
       "    .colab-df-convert {\n",
       "      background-color: #E8F0FE;\n",
       "      border: none;\n",
       "      border-radius: 50%;\n",
       "      cursor: pointer;\n",
       "      display: none;\n",
       "      fill: #1967D2;\n",
       "      height: 32px;\n",
       "      padding: 0 0 0 0;\n",
       "      width: 32px;\n",
       "    }\n",
       "\n",
       "    .colab-df-convert:hover {\n",
       "      background-color: #E2EBFA;\n",
       "      box-shadow: 0px 1px 2px rgba(60, 64, 67, 0.3), 0px 1px 3px 1px rgba(60, 64, 67, 0.15);\n",
       "      fill: #174EA6;\n",
       "    }\n",
       "\n",
       "    [theme=dark] .colab-df-convert {\n",
       "      background-color: #3B4455;\n",
       "      fill: #D2E3FC;\n",
       "    }\n",
       "\n",
       "    [theme=dark] .colab-df-convert:hover {\n",
       "      background-color: #434B5C;\n",
       "      box-shadow: 0px 1px 3px 1px rgba(0, 0, 0, 0.15);\n",
       "      filter: drop-shadow(0px 1px 2px rgba(0, 0, 0, 0.3));\n",
       "      fill: #FFFFFF;\n",
       "    }\n",
       "  </style>\n",
       "\n",
       "      <script>\n",
       "        const buttonEl =\n",
       "          document.querySelector('#df-628fcde0-740a-4dfa-9f20-8d4406651066 button.colab-df-convert');\n",
       "        buttonEl.style.display =\n",
       "          google.colab.kernel.accessAllowed ? 'block' : 'none';\n",
       "\n",
       "        async function convertToInteractive(key) {\n",
       "          const element = document.querySelector('#df-628fcde0-740a-4dfa-9f20-8d4406651066');\n",
       "          const dataTable =\n",
       "            await google.colab.kernel.invokeFunction('convertToInteractive',\n",
       "                                                     [key], {});\n",
       "          if (!dataTable) return;\n",
       "\n",
       "          const docLinkHtml = 'Like what you see? Visit the ' +\n",
       "            '<a target=\"_blank\" href=https://colab.research.google.com/notebooks/data_table.ipynb>data table notebook</a>'\n",
       "            + ' to learn more about interactive tables.';\n",
       "          element.innerHTML = '';\n",
       "          dataTable['output_type'] = 'display_data';\n",
       "          await google.colab.output.renderOutput(dataTable, element);\n",
       "          const docLink = document.createElement('div');\n",
       "          docLink.innerHTML = docLinkHtml;\n",
       "          element.appendChild(docLink);\n",
       "        }\n",
       "      </script>\n",
       "    </div>\n",
       "  </div>\n",
       "  "
      ],
      "text/plain": [
       "        time     user                                               text  \\\n",
       "4      00:56    Ryden  where is the name of the file stored on the file?   \n",
       "5      01:07  Jayvien                                          say what?   \n",
       "6      01:10  Kaliope  Where would you guys recommend I learn kotlin ...   \n",
       "7      01:13    Naely  I used the official Kotlin docs they have an e...   \n",
       "8      01:16  Jayvien                                           do they?   \n",
       "...      ...      ...                                                ...   \n",
       "30939  18:24  Azyriah                                      hi @GokturkSM   \n",
       "30940  18:25  Areesha  Anyone have some math background? Trying to im...   \n",
       "30941  18:26  Areesha  My question is... what exactly is a cyclic gro...   \n",
       "30942  18:29   Ailany  You need to know what exceptions your code may...   \n",
       "30943  18:29   Ailany                                               @cup   \n",
       "\n",
       "           day        date  \n",
       "4       Sunday  2019-12-01  \n",
       "5       Sunday  2019-12-01  \n",
       "6       Sunday  2019-12-01  \n",
       "7       Sunday  2019-12-01  \n",
       "8       Sunday  2019-12-01  \n",
       "...        ...         ...  \n",
       "30939  Tuesday  2019-12-31  \n",
       "30940  Tuesday  2019-12-31  \n",
       "30941  Tuesday  2019-12-31  \n",
       "30942  Tuesday  2019-12-31  \n",
       "30943  Tuesday  2019-12-31  \n",
       "\n",
       "[30940 rows x 5 columns]"
      ]
     },
     "execution_count": 12,
     "metadata": {},
     "output_type": "execute_result"
    }
   ],
   "source": [
    "df[['date', 'time']] = df[\"time\"].apply(lambda x: pd.Series(str(x).split(\" \")))\n",
    "\n",
    "df"
   ]
  },
  {
   "cell_type": "markdown",
   "metadata": {
    "id": "vPnDT9Kc4DUn"
   },
   "source": [
    "<br><p><center>Now we can read the date and time each message was sent in a much more readable view.</center></p>\n",
    "\n",
    "<p><center>One last thing we can do to better format our table is to change the order of the columns.</center></p>\n",
    "\n",
    "<blockquote style=\"color:mediumpurple;\">For this example, lets format it to: date | time | day | user | text.</blockquote>"
   ]
  },
  {
   "cell_type": "code",
   "execution_count": 13,
   "metadata": {
    "colab": {
     "base_uri": "https://localhost:8080/",
     "height": 424
    },
    "id": "G8hJoqPcwZu5",
    "outputId": "7d23188c-e749-4fa2-a19a-5762d86cf852"
   },
   "outputs": [
    {
     "data": {
      "text/html": [
       "\n",
       "  <div id=\"df-b1525480-99ef-46ef-9993-089805164d31\">\n",
       "    <div class=\"colab-df-container\">\n",
       "      <div>\n",
       "<style scoped>\n",
       "    .dataframe tbody tr th:only-of-type {\n",
       "        vertical-align: middle;\n",
       "    }\n",
       "\n",
       "    .dataframe tbody tr th {\n",
       "        vertical-align: top;\n",
       "    }\n",
       "\n",
       "    .dataframe thead th {\n",
       "        text-align: right;\n",
       "    }\n",
       "</style>\n",
       "<table border=\"1\" class=\"dataframe\">\n",
       "  <thead>\n",
       "    <tr style=\"text-align: right;\">\n",
       "      <th></th>\n",
       "      <th>date</th>\n",
       "      <th>time</th>\n",
       "      <th>day</th>\n",
       "      <th>user</th>\n",
       "      <th>text</th>\n",
       "    </tr>\n",
       "  </thead>\n",
       "  <tbody>\n",
       "    <tr>\n",
       "      <th>4</th>\n",
       "      <td>2019-12-01</td>\n",
       "      <td>00:56</td>\n",
       "      <td>Sunday</td>\n",
       "      <td>Ryden</td>\n",
       "      <td>where is the name of the file stored on the file?</td>\n",
       "    </tr>\n",
       "    <tr>\n",
       "      <th>5</th>\n",
       "      <td>2019-12-01</td>\n",
       "      <td>01:07</td>\n",
       "      <td>Sunday</td>\n",
       "      <td>Jayvien</td>\n",
       "      <td>say what?</td>\n",
       "    </tr>\n",
       "    <tr>\n",
       "      <th>6</th>\n",
       "      <td>2019-12-01</td>\n",
       "      <td>01:10</td>\n",
       "      <td>Sunday</td>\n",
       "      <td>Kaliope</td>\n",
       "      <td>Where would you guys recommend I learn kotlin ...</td>\n",
       "    </tr>\n",
       "    <tr>\n",
       "      <th>7</th>\n",
       "      <td>2019-12-01</td>\n",
       "      <td>01:13</td>\n",
       "      <td>Sunday</td>\n",
       "      <td>Naely</td>\n",
       "      <td>I used the official Kotlin docs they have an e...</td>\n",
       "    </tr>\n",
       "    <tr>\n",
       "      <th>8</th>\n",
       "      <td>2019-12-01</td>\n",
       "      <td>01:16</td>\n",
       "      <td>Sunday</td>\n",
       "      <td>Jayvien</td>\n",
       "      <td>do they?</td>\n",
       "    </tr>\n",
       "    <tr>\n",
       "      <th>...</th>\n",
       "      <td>...</td>\n",
       "      <td>...</td>\n",
       "      <td>...</td>\n",
       "      <td>...</td>\n",
       "      <td>...</td>\n",
       "    </tr>\n",
       "    <tr>\n",
       "      <th>30939</th>\n",
       "      <td>2019-12-31</td>\n",
       "      <td>18:24</td>\n",
       "      <td>Tuesday</td>\n",
       "      <td>Azyriah</td>\n",
       "      <td>hi @GokturkSM</td>\n",
       "    </tr>\n",
       "    <tr>\n",
       "      <th>30940</th>\n",
       "      <td>2019-12-31</td>\n",
       "      <td>18:25</td>\n",
       "      <td>Tuesday</td>\n",
       "      <td>Areesha</td>\n",
       "      <td>Anyone have some math background? Trying to im...</td>\n",
       "    </tr>\n",
       "    <tr>\n",
       "      <th>30941</th>\n",
       "      <td>2019-12-31</td>\n",
       "      <td>18:26</td>\n",
       "      <td>Tuesday</td>\n",
       "      <td>Areesha</td>\n",
       "      <td>My question is... what exactly is a cyclic gro...</td>\n",
       "    </tr>\n",
       "    <tr>\n",
       "      <th>30942</th>\n",
       "      <td>2019-12-31</td>\n",
       "      <td>18:29</td>\n",
       "      <td>Tuesday</td>\n",
       "      <td>Ailany</td>\n",
       "      <td>You need to know what exceptions your code may...</td>\n",
       "    </tr>\n",
       "    <tr>\n",
       "      <th>30943</th>\n",
       "      <td>2019-12-31</td>\n",
       "      <td>18:29</td>\n",
       "      <td>Tuesday</td>\n",
       "      <td>Ailany</td>\n",
       "      <td>@cup</td>\n",
       "    </tr>\n",
       "  </tbody>\n",
       "</table>\n",
       "<p>30940 rows × 5 columns</p>\n",
       "</div>\n",
       "      <button class=\"colab-df-convert\" onclick=\"convertToInteractive('df-b1525480-99ef-46ef-9993-089805164d31')\"\n",
       "              title=\"Convert this dataframe to an interactive table.\"\n",
       "              style=\"display:none;\">\n",
       "        \n",
       "  <svg xmlns=\"http://www.w3.org/2000/svg\" height=\"24px\"viewBox=\"0 0 24 24\"\n",
       "       width=\"24px\">\n",
       "    <path d=\"M0 0h24v24H0V0z\" fill=\"none\"/>\n",
       "    <path d=\"M18.56 5.44l.94 2.06.94-2.06 2.06-.94-2.06-.94-.94-2.06-.94 2.06-2.06.94zm-11 1L8.5 8.5l.94-2.06 2.06-.94-2.06-.94L8.5 2.5l-.94 2.06-2.06.94zm10 10l.94 2.06.94-2.06 2.06-.94-2.06-.94-.94-2.06-.94 2.06-2.06.94z\"/><path d=\"M17.41 7.96l-1.37-1.37c-.4-.4-.92-.59-1.43-.59-.52 0-1.04.2-1.43.59L10.3 9.45l-7.72 7.72c-.78.78-.78 2.05 0 2.83L4 21.41c.39.39.9.59 1.41.59.51 0 1.02-.2 1.41-.59l7.78-7.78 2.81-2.81c.8-.78.8-2.07 0-2.86zM5.41 20L4 18.59l7.72-7.72 1.47 1.35L5.41 20z\"/>\n",
       "  </svg>\n",
       "      </button>\n",
       "      \n",
       "  <style>\n",
       "    .colab-df-container {\n",
       "      display:flex;\n",
       "      flex-wrap:wrap;\n",
       "      gap: 12px;\n",
       "    }\n",
       "\n",
       "    .colab-df-convert {\n",
       "      background-color: #E8F0FE;\n",
       "      border: none;\n",
       "      border-radius: 50%;\n",
       "      cursor: pointer;\n",
       "      display: none;\n",
       "      fill: #1967D2;\n",
       "      height: 32px;\n",
       "      padding: 0 0 0 0;\n",
       "      width: 32px;\n",
       "    }\n",
       "\n",
       "    .colab-df-convert:hover {\n",
       "      background-color: #E2EBFA;\n",
       "      box-shadow: 0px 1px 2px rgba(60, 64, 67, 0.3), 0px 1px 3px 1px rgba(60, 64, 67, 0.15);\n",
       "      fill: #174EA6;\n",
       "    }\n",
       "\n",
       "    [theme=dark] .colab-df-convert {\n",
       "      background-color: #3B4455;\n",
       "      fill: #D2E3FC;\n",
       "    }\n",
       "\n",
       "    [theme=dark] .colab-df-convert:hover {\n",
       "      background-color: #434B5C;\n",
       "      box-shadow: 0px 1px 3px 1px rgba(0, 0, 0, 0.15);\n",
       "      filter: drop-shadow(0px 1px 2px rgba(0, 0, 0, 0.3));\n",
       "      fill: #FFFFFF;\n",
       "    }\n",
       "  </style>\n",
       "\n",
       "      <script>\n",
       "        const buttonEl =\n",
       "          document.querySelector('#df-b1525480-99ef-46ef-9993-089805164d31 button.colab-df-convert');\n",
       "        buttonEl.style.display =\n",
       "          google.colab.kernel.accessAllowed ? 'block' : 'none';\n",
       "\n",
       "        async function convertToInteractive(key) {\n",
       "          const element = document.querySelector('#df-b1525480-99ef-46ef-9993-089805164d31');\n",
       "          const dataTable =\n",
       "            await google.colab.kernel.invokeFunction('convertToInteractive',\n",
       "                                                     [key], {});\n",
       "          if (!dataTable) return;\n",
       "\n",
       "          const docLinkHtml = 'Like what you see? Visit the ' +\n",
       "            '<a target=\"_blank\" href=https://colab.research.google.com/notebooks/data_table.ipynb>data table notebook</a>'\n",
       "            + ' to learn more about interactive tables.';\n",
       "          element.innerHTML = '';\n",
       "          dataTable['output_type'] = 'display_data';\n",
       "          await google.colab.output.renderOutput(dataTable, element);\n",
       "          const docLink = document.createElement('div');\n",
       "          docLink.innerHTML = docLinkHtml;\n",
       "          element.appendChild(docLink);\n",
       "        }\n",
       "      </script>\n",
       "    </div>\n",
       "  </div>\n",
       "  "
      ],
      "text/plain": [
       "             date   time      day     user  \\\n",
       "4      2019-12-01  00:56   Sunday    Ryden   \n",
       "5      2019-12-01  01:07   Sunday  Jayvien   \n",
       "6      2019-12-01  01:10   Sunday  Kaliope   \n",
       "7      2019-12-01  01:13   Sunday    Naely   \n",
       "8      2019-12-01  01:16   Sunday  Jayvien   \n",
       "...           ...    ...      ...      ...   \n",
       "30939  2019-12-31  18:24  Tuesday  Azyriah   \n",
       "30940  2019-12-31  18:25  Tuesday  Areesha   \n",
       "30941  2019-12-31  18:26  Tuesday  Areesha   \n",
       "30942  2019-12-31  18:29  Tuesday   Ailany   \n",
       "30943  2019-12-31  18:29  Tuesday   Ailany   \n",
       "\n",
       "                                                    text  \n",
       "4      where is the name of the file stored on the file?  \n",
       "5                                              say what?  \n",
       "6      Where would you guys recommend I learn kotlin ...  \n",
       "7      I used the official Kotlin docs they have an e...  \n",
       "8                                               do they?  \n",
       "...                                                  ...  \n",
       "30939                                      hi @GokturkSM  \n",
       "30940  Anyone have some math background? Trying to im...  \n",
       "30941  My question is... what exactly is a cyclic gro...  \n",
       "30942  You need to know what exceptions your code may...  \n",
       "30943                                               @cup  \n",
       "\n",
       "[30940 rows x 5 columns]"
      ]
     },
     "execution_count": 13,
     "metadata": {},
     "output_type": "execute_result"
    }
   ],
   "source": [
    "df = df[['date','time', 'day', 'user', 'text']]\n",
    "\n",
    "df"
   ]
  },
  {
   "cell_type": "markdown",
   "metadata": {
    "id": "to7OXqttw931"
   },
   "source": [
    "<p><center>Great! Our table of data looks much more organized now.</center></p>\n",
    "<blockquote style=\"color:mediumpurple;\">Finally, we can start analyzing some of these messages.</blockquote>"
   ]
  },
  {
   "cell_type": "markdown",
   "metadata": {
    "id": "GVNyxOcY4EtR"
   },
   "source": [
    "<h2 style=\"color:darkcyan;\"><center><u>[Analysis]</u></center></h2>"
   ]
  },
  {
   "cell_type": "markdown",
   "metadata": {
    "id": "aLPBM29-RWLM"
   },
   "source": [
    "<p><center>Since our data frame is now more organized and cleaned up, we can start analyzing some of the data stored.</center></p>\n",
    "\n",
    "<blockquote style=\"color:cadetblue;\">Lets take a look at how much data in our columns there is to go through by using the \"count\" method.</blockquote>"
   ]
  },
  {
   "cell_type": "code",
   "execution_count": 14,
   "metadata": {
    "colab": {
     "base_uri": "https://localhost:8080/"
    },
    "id": "HQt3QGsAxqjN",
    "outputId": "b80234ad-2f00-4a88-94b4-6253e66b5817"
   },
   "outputs": [
    {
     "data": {
      "text/plain": [
       "date    30940\n",
       "time    30940\n",
       "day     30940\n",
       "user    30940\n",
       "text    30940\n",
       "dtype: int64"
      ]
     },
     "execution_count": 14,
     "metadata": {},
     "output_type": "execute_result"
    }
   ],
   "source": [
    "df.count()"
   ]
  },
  {
   "cell_type": "markdown",
   "metadata": {
    "id": "JlabKoHKyHP5"
   },
   "source": [
    "<h2 style=\"color:darkolivegreen;\"><center><u>[Text Analysis]</u></center></h2>"
   ]
  },
  {
   "cell_type": "markdown",
   "metadata": {
    "id": "upLYYKdZSRQ3"
   },
   "source": [
    "<p><center>The result shows that we have 30,940 different text messages in this data set, which is a lot to manually look through.</center></p>\n",
    "\n",
    "<blockquote style=\"color:darkkhaki;\">We can analyze this information in a much easier way by using code. Lets first take a look at the \"user\" column.</blockquote>\n",
    "\n",
    "<p><center>We can count how many messages each user has sent by incorporating the \"groupby\" method along with the \"count\" method.</center></p>"
   ]
  },
  {
   "cell_type": "code",
   "execution_count": 15,
   "metadata": {
    "colab": {
     "base_uri": "https://localhost:8080/"
    },
    "id": "YggawceGzz9J",
    "outputId": "181c23b5-cfa1-4686-a27a-0a9fd419f08d"
   },
   "outputs": [
    {
     "data": {
      "text/plain": [
       "user\n",
       "Aashvi         17\n",
       "Abbott         37\n",
       "Abdalahe        6\n",
       "Abdelfetah      5\n",
       "Abdelmadjid    76\n",
       "               ..\n",
       "Zuma            1\n",
       "Zurisadai       4\n",
       "Zuriya         25\n",
       "Zviad           1\n",
       "Zyanna          5\n",
       "Name: user, Length: 828, dtype: int64"
      ]
     },
     "execution_count": 15,
     "metadata": {},
     "output_type": "execute_result"
    }
   ],
   "source": [
    "df.groupby(['user'])['user'].count()"
   ]
  },
  {
   "cell_type": "markdown",
   "metadata": {
    "id": "-lux-Kp6gG39"
   },
   "source": [
    "<p><center>With this table, we can see each user and how many messages they have sent in the Discord.</center></p>\n",
    "\n",
    "<blockquote style=\"color:darkkhaki;\">This can be important to us in Digitital Forensic use because now we can distinguish the user and their messages they sent. If we find something alarming by one user and their message, we can then look at their other messages to potentially find other information about them.</blockquote>"
   ]
  },
  {
   "cell_type": "markdown",
   "metadata": {
    "id": "46nnUtYpkLRW"
   },
   "source": [
    "<p><center>Let's start analyzing the table and find which user has sent the most messages in total.</center></p>\n",
    "\n",
    "<p><center>We can add on the \"max\" method to our code and it will return the maximum value of messages sent for one user.</center></p>"
   ]
  },
  {
   "cell_type": "code",
   "execution_count": 16,
   "metadata": {
    "colab": {
     "base_uri": "https://localhost:8080/"
    },
    "id": "vtDb5LaKVypz",
    "outputId": "53cb9a09-0627-4632-b661-4332219f404f"
   },
   "outputs": [
    {
     "data": {
      "text/plain": [
       "2626"
      ]
     },
     "execution_count": 16,
     "metadata": {},
     "output_type": "execute_result"
    }
   ],
   "source": [
    "df.groupby(['user'])['user'].count().max()"
   ]
  },
  {
   "cell_type": "markdown",
   "metadata": {
    "id": "ixe6zQYYg7UP"
   },
   "source": [
    "<p><center>So we can see the user with the highest amount of messages has sent \"2626\" messages in this data set.</center></p>\n",
    "\n",
    "<blockquote style=\"color:darkkhaki;\">Lets find out who sent these messages.</blockquote>\n",
    "\n",
    "<p><center>We will use the \"value_counts\" method along with the \"idxmax\" method to go through each row in the 'user' column and count which index has the max or highest value.</center></p>"
   ]
  },
  {
   "cell_type": "code",
   "execution_count": 17,
   "metadata": {
    "colab": {
     "base_uri": "https://localhost:8080/",
     "height": 35
    },
    "id": "mhcuXVfjajqM",
    "outputId": "d8ef7ee7-b85d-463b-d6e5-5cad49d10014"
   },
   "outputs": [
    {
     "data": {
      "application/vnd.google.colaboratory.intrinsic+json": {
       "type": "string"
      },
      "text/plain": [
       "'Xochilt'"
      ]
     },
     "execution_count": 17,
     "metadata": {},
     "output_type": "execute_result"
    }
   ],
   "source": [
    "df['user'].value_counts().idxmax()"
   ]
  },
  {
   "cell_type": "markdown",
   "metadata": {
    "id": "KgcSCdFThsrz"
   },
   "source": [
    "<p><center>This shows us the user who sent the most messages in the data set.</center></p>\n",
    "\n",
    "<blockquote style=\"color:darkkhaki;\">Lets also look at the other top users who has sent the most messages.</blockquote>\n",
    "\n",
    "<p><center>We will use the \"head\" method which return the top five users unless specified otherwise.</center></p>"
   ]
  },
  {
   "cell_type": "code",
   "execution_count": 18,
   "metadata": {
    "colab": {
     "base_uri": "https://localhost:8080/"
    },
    "id": "WhJ5-gIzfrJg",
    "outputId": "c50d873f-db22-40eb-f98c-7dcaa22c8e77"
   },
   "outputs": [
    {
     "data": {
      "text/plain": [
       "Xochilt     2626\n",
       "Kosta       1280\n",
       "Naely       1067\n",
       "Adirah       845\n",
       "Andersyn     662\n",
       "Name: user, dtype: int64"
      ]
     },
     "execution_count": 18,
     "metadata": {},
     "output_type": "execute_result"
    }
   ],
   "source": [
    "df['user'].value_counts().head()"
   ]
  },
  {
   "cell_type": "markdown",
   "metadata": {
    "id": "UQ0BQoDJie__"
   },
   "source": [
    "<p><center>Seems like \"Xochilt\" has sent a lot of messages! He must have been a big help in the Discord.</center></p>\n",
    "\n",
    "<blockquote style=\"color:darkkhaki;\">If we have someone we want to analyze more specifically, we can also specify which user we want to take a look at. We can then find how many messages they sent, and more.</blockquote>\n",
    "\n",
    "<p><center>Lets find out how many messages \"Ryden\" sent for example.</center></p>"
   ]
  },
  {
   "cell_type": "code",
   "execution_count": 19,
   "metadata": {
    "colab": {
     "base_uri": "https://localhost:8080/"
    },
    "id": "4iuX3hPZZOja",
    "outputId": "35209e0b-2ac6-44df-a850-213c188cb403"
   },
   "outputs": [
    {
     "data": {
      "text/plain": [
       "113"
      ]
     },
     "execution_count": 19,
     "metadata": {},
     "output_type": "execute_result"
    }
   ],
   "source": [
    "df['user'].value_counts()['Ryden']"
   ]
  },
  {
   "cell_type": "markdown",
   "metadata": {
    "id": "fNf96cI_Tz9v"
   },
   "source": [
    "<blockquote style=\"color:darkkhaki;\">Find which user asked the most questions ...</blockquote>"
   ]
  },
  {
   "cell_type": "code",
   "execution_count": 20,
   "metadata": {
    "colab": {
     "base_uri": "https://localhost:8080/"
    },
    "id": "Oc4z6bk3bJY4",
    "outputId": "4ab60858-c7bc-47d5-8e5c-6e3e0fb6c4f0"
   },
   "outputs": [
    {
     "data": {
      "text/plain": [
       "60"
      ]
     },
     "execution_count": 20,
     "metadata": {},
     "output_type": "execute_result"
    }
   ],
   "source": [
    "df['text'].value_counts()['?']"
   ]
  },
  {
   "cell_type": "markdown",
   "metadata": {
    "id": "JRy6VaCm2Oax"
   },
   "source": [
    "<p><center>To start analyzing our text more in-depth, we will use a library called <a href=\"https://spacy.io/\">[Spacy]</a></center></p>\n",
    "\n",
    "<blockquote style=\"color:darkkhaki;\">This library will be very useful, it can break our text down into simple terms.</blockquote>\n",
    "\n",
    "<p><center><b>We will use a process called \"lemmatization\". This will convert our big mess of text and break each word down into it's basic version or into a lemma.</b></center></p>\n",
    "\n",
    "<blockquote style=\"color:darkkhaki;\">For example, we can convert \"stored\" into \"store\" and so on, which makes it easier for us to analyze the text.</blockquote>\n",
    "\n",
    "<p><center>Below, we also create a variable called nlp which stands for \"natural language processing\" which is how computer programs can understand human language. This uses the spacy library we imported and loads it with \"en_core_web_sm\" which is a trained English pipeline which has many uses for us including vocabulary, syntax, and many functions inlcuding lemmatizer.</center></p>"
   ]
  },
  {
   "cell_type": "code",
   "execution_count": 22,
   "metadata": {
    "colab": {
     "base_uri": "https://localhost:8080/"
    },
    "id": "4YWbHC0ZNZse",
    "outputId": "43f44df7-ecfc-4459-82ae-da804194133f"
   },
   "outputs": [
    {
     "name": "stderr",
     "output_type": "stream",
     "text": [
      "/usr/local/lib/python3.8/dist-packages/torch/cuda/__init__.py:497: UserWarning: Can't initialize NVML\n",
      "  warnings.warn(\"Can't initialize NVML\")\n"
     ]
    },
    {
     "data": {
      "text/plain": [
       "<spacy.lang.en.English at 0x7fdc2c1d4820>"
      ]
     },
     "execution_count": 22,
     "metadata": {},
     "output_type": "execute_result"
    }
   ],
   "source": [
    "from collections import Counter\n",
    "import spacy\n",
    "nlp = spacy.load(\"en_core_web_sm\")\n",
    "nlp"
   ]
  },
  {
   "cell_type": "markdown",
   "metadata": {
    "id": "1H616v75R8-f"
   },
   "source": [
    "<p><center>Let's start analyzing some of the text we have. >We can actually tokenize each word into seperate tokens which breaks the sentences into words.</center></p>\n",
    "\n",
    "<blockquote style=\"color:darkkhaki;\">This will be useful because it converts every word into the basic version which will make it easier for us to look for specific words.</blockquote>\n",
    "\n",
    "<p><center>Let's convert the \"text\" column into a new column with the parsed words and take a look at the new output.</center></p>"
   ]
  },
  {
   "cell_type": "code",
   "execution_count": 23,
   "metadata": {
    "colab": {
     "base_uri": "https://localhost:8080/",
     "height": 528
    },
    "id": "Y1SGmB6dOoAf",
    "outputId": "807592df-b639-4797-dcf4-ac3c4f9fe024"
   },
   "outputs": [
    {
     "name": "stderr",
     "output_type": "stream",
     "text": [
      "<ipython-input-23-087c8951fdb6>:2: SettingWithCopyWarning: \n",
      "A value is trying to be set on a copy of a slice from a DataFrame.\n",
      "Try using .loc[row_indexer,col_indexer] = value instead\n",
      "\n",
      "See the caveats in the documentation: https://pandas.pydata.org/pandas-docs/stable/user_guide/indexing.html#returning-a-view-versus-a-copy\n",
      "  df['parsed_words'] = df['text'].apply(doc)\n"
     ]
    },
    {
     "data": {
      "text/html": [
       "\n",
       "  <div id=\"df-fc6b7d19-5435-4821-92da-612d6ae785c2\">\n",
       "    <div class=\"colab-df-container\">\n",
       "      <div>\n",
       "<style scoped>\n",
       "    .dataframe tbody tr th:only-of-type {\n",
       "        vertical-align: middle;\n",
       "    }\n",
       "\n",
       "    .dataframe tbody tr th {\n",
       "        vertical-align: top;\n",
       "    }\n",
       "\n",
       "    .dataframe thead th {\n",
       "        text-align: right;\n",
       "    }\n",
       "</style>\n",
       "<table border=\"1\" class=\"dataframe\">\n",
       "  <thead>\n",
       "    <tr style=\"text-align: right;\">\n",
       "      <th></th>\n",
       "      <th>date</th>\n",
       "      <th>time</th>\n",
       "      <th>day</th>\n",
       "      <th>user</th>\n",
       "      <th>text</th>\n",
       "      <th>parsed_words</th>\n",
       "    </tr>\n",
       "  </thead>\n",
       "  <tbody>\n",
       "    <tr>\n",
       "      <th>4</th>\n",
       "      <td>2019-12-01</td>\n",
       "      <td>00:56</td>\n",
       "      <td>Sunday</td>\n",
       "      <td>Ryden</td>\n",
       "      <td>where is the name of the file stored on the file?</td>\n",
       "      <td>[where, be, the, name, of, the, file, store, o...</td>\n",
       "    </tr>\n",
       "    <tr>\n",
       "      <th>5</th>\n",
       "      <td>2019-12-01</td>\n",
       "      <td>01:07</td>\n",
       "      <td>Sunday</td>\n",
       "      <td>Jayvien</td>\n",
       "      <td>say what?</td>\n",
       "      <td>[say, what, ?]</td>\n",
       "    </tr>\n",
       "    <tr>\n",
       "      <th>6</th>\n",
       "      <td>2019-12-01</td>\n",
       "      <td>01:10</td>\n",
       "      <td>Sunday</td>\n",
       "      <td>Kaliope</td>\n",
       "      <td>Where would you guys recommend I learn kotlin ...</td>\n",
       "      <td>[where, would, you, guy, recommend, I, learn, ...</td>\n",
       "    </tr>\n",
       "    <tr>\n",
       "      <th>7</th>\n",
       "      <td>2019-12-01</td>\n",
       "      <td>01:13</td>\n",
       "      <td>Sunday</td>\n",
       "      <td>Naely</td>\n",
       "      <td>I used the official Kotlin docs they have an e...</td>\n",
       "      <td>[I, use, the, official, Kotlin, doc, they, hav...</td>\n",
       "    </tr>\n",
       "    <tr>\n",
       "      <th>8</th>\n",
       "      <td>2019-12-01</td>\n",
       "      <td>01:16</td>\n",
       "      <td>Sunday</td>\n",
       "      <td>Jayvien</td>\n",
       "      <td>do they?</td>\n",
       "      <td>[do, they, ?]</td>\n",
       "    </tr>\n",
       "    <tr>\n",
       "      <th>...</th>\n",
       "      <td>...</td>\n",
       "      <td>...</td>\n",
       "      <td>...</td>\n",
       "      <td>...</td>\n",
       "      <td>...</td>\n",
       "      <td>...</td>\n",
       "    </tr>\n",
       "    <tr>\n",
       "      <th>30939</th>\n",
       "      <td>2019-12-31</td>\n",
       "      <td>18:24</td>\n",
       "      <td>Tuesday</td>\n",
       "      <td>Azyriah</td>\n",
       "      <td>hi @GokturkSM</td>\n",
       "      <td>[hi, @gokturksm]</td>\n",
       "    </tr>\n",
       "    <tr>\n",
       "      <th>30940</th>\n",
       "      <td>2019-12-31</td>\n",
       "      <td>18:25</td>\n",
       "      <td>Tuesday</td>\n",
       "      <td>Areesha</td>\n",
       "      <td>Anyone have some math background? Trying to im...</td>\n",
       "      <td>[anyone, have, some, math, background, ?, try,...</td>\n",
       "    </tr>\n",
       "    <tr>\n",
       "      <th>30941</th>\n",
       "      <td>2019-12-31</td>\n",
       "      <td>18:26</td>\n",
       "      <td>Tuesday</td>\n",
       "      <td>Areesha</td>\n",
       "      <td>My question is... what exactly is a cyclic gro...</td>\n",
       "      <td>[my, question, be, ..., what, exactly, be, a, ...</td>\n",
       "    </tr>\n",
       "    <tr>\n",
       "      <th>30942</th>\n",
       "      <td>2019-12-31</td>\n",
       "      <td>18:29</td>\n",
       "      <td>Tuesday</td>\n",
       "      <td>Ailany</td>\n",
       "      <td>You need to know what exceptions your code may...</td>\n",
       "      <td>[you, need, to, know, what, exception, your, c...</td>\n",
       "    </tr>\n",
       "    <tr>\n",
       "      <th>30943</th>\n",
       "      <td>2019-12-31</td>\n",
       "      <td>18:29</td>\n",
       "      <td>Tuesday</td>\n",
       "      <td>Ailany</td>\n",
       "      <td>@cup</td>\n",
       "      <td>[@cup]</td>\n",
       "    </tr>\n",
       "  </tbody>\n",
       "</table>\n",
       "<p>30940 rows × 6 columns</p>\n",
       "</div>\n",
       "      <button class=\"colab-df-convert\" onclick=\"convertToInteractive('df-fc6b7d19-5435-4821-92da-612d6ae785c2')\"\n",
       "              title=\"Convert this dataframe to an interactive table.\"\n",
       "              style=\"display:none;\">\n",
       "        \n",
       "  <svg xmlns=\"http://www.w3.org/2000/svg\" height=\"24px\"viewBox=\"0 0 24 24\"\n",
       "       width=\"24px\">\n",
       "    <path d=\"M0 0h24v24H0V0z\" fill=\"none\"/>\n",
       "    <path d=\"M18.56 5.44l.94 2.06.94-2.06 2.06-.94-2.06-.94-.94-2.06-.94 2.06-2.06.94zm-11 1L8.5 8.5l.94-2.06 2.06-.94-2.06-.94L8.5 2.5l-.94 2.06-2.06.94zm10 10l.94 2.06.94-2.06 2.06-.94-2.06-.94-.94-2.06-.94 2.06-2.06.94z\"/><path d=\"M17.41 7.96l-1.37-1.37c-.4-.4-.92-.59-1.43-.59-.52 0-1.04.2-1.43.59L10.3 9.45l-7.72 7.72c-.78.78-.78 2.05 0 2.83L4 21.41c.39.39.9.59 1.41.59.51 0 1.02-.2 1.41-.59l7.78-7.78 2.81-2.81c.8-.78.8-2.07 0-2.86zM5.41 20L4 18.59l7.72-7.72 1.47 1.35L5.41 20z\"/>\n",
       "  </svg>\n",
       "      </button>\n",
       "      \n",
       "  <style>\n",
       "    .colab-df-container {\n",
       "      display:flex;\n",
       "      flex-wrap:wrap;\n",
       "      gap: 12px;\n",
       "    }\n",
       "\n",
       "    .colab-df-convert {\n",
       "      background-color: #E8F0FE;\n",
       "      border: none;\n",
       "      border-radius: 50%;\n",
       "      cursor: pointer;\n",
       "      display: none;\n",
       "      fill: #1967D2;\n",
       "      height: 32px;\n",
       "      padding: 0 0 0 0;\n",
       "      width: 32px;\n",
       "    }\n",
       "\n",
       "    .colab-df-convert:hover {\n",
       "      background-color: #E2EBFA;\n",
       "      box-shadow: 0px 1px 2px rgba(60, 64, 67, 0.3), 0px 1px 3px 1px rgba(60, 64, 67, 0.15);\n",
       "      fill: #174EA6;\n",
       "    }\n",
       "\n",
       "    [theme=dark] .colab-df-convert {\n",
       "      background-color: #3B4455;\n",
       "      fill: #D2E3FC;\n",
       "    }\n",
       "\n",
       "    [theme=dark] .colab-df-convert:hover {\n",
       "      background-color: #434B5C;\n",
       "      box-shadow: 0px 1px 3px 1px rgba(0, 0, 0, 0.15);\n",
       "      filter: drop-shadow(0px 1px 2px rgba(0, 0, 0, 0.3));\n",
       "      fill: #FFFFFF;\n",
       "    }\n",
       "  </style>\n",
       "\n",
       "      <script>\n",
       "        const buttonEl =\n",
       "          document.querySelector('#df-fc6b7d19-5435-4821-92da-612d6ae785c2 button.colab-df-convert');\n",
       "        buttonEl.style.display =\n",
       "          google.colab.kernel.accessAllowed ? 'block' : 'none';\n",
       "\n",
       "        async function convertToInteractive(key) {\n",
       "          const element = document.querySelector('#df-fc6b7d19-5435-4821-92da-612d6ae785c2');\n",
       "          const dataTable =\n",
       "            await google.colab.kernel.invokeFunction('convertToInteractive',\n",
       "                                                     [key], {});\n",
       "          if (!dataTable) return;\n",
       "\n",
       "          const docLinkHtml = 'Like what you see? Visit the ' +\n",
       "            '<a target=\"_blank\" href=https://colab.research.google.com/notebooks/data_table.ipynb>data table notebook</a>'\n",
       "            + ' to learn more about interactive tables.';\n",
       "          element.innerHTML = '';\n",
       "          dataTable['output_type'] = 'display_data';\n",
       "          await google.colab.output.renderOutput(dataTable, element);\n",
       "          const docLink = document.createElement('div');\n",
       "          docLink.innerHTML = docLinkHtml;\n",
       "          element.appendChild(docLink);\n",
       "        }\n",
       "      </script>\n",
       "    </div>\n",
       "  </div>\n",
       "  "
      ],
      "text/plain": [
       "             date   time      day     user  \\\n",
       "4      2019-12-01  00:56   Sunday    Ryden   \n",
       "5      2019-12-01  01:07   Sunday  Jayvien   \n",
       "6      2019-12-01  01:10   Sunday  Kaliope   \n",
       "7      2019-12-01  01:13   Sunday    Naely   \n",
       "8      2019-12-01  01:16   Sunday  Jayvien   \n",
       "...           ...    ...      ...      ...   \n",
       "30939  2019-12-31  18:24  Tuesday  Azyriah   \n",
       "30940  2019-12-31  18:25  Tuesday  Areesha   \n",
       "30941  2019-12-31  18:26  Tuesday  Areesha   \n",
       "30942  2019-12-31  18:29  Tuesday   Ailany   \n",
       "30943  2019-12-31  18:29  Tuesday   Ailany   \n",
       "\n",
       "                                                    text  \\\n",
       "4      where is the name of the file stored on the file?   \n",
       "5                                              say what?   \n",
       "6      Where would you guys recommend I learn kotlin ...   \n",
       "7      I used the official Kotlin docs they have an e...   \n",
       "8                                               do they?   \n",
       "...                                                  ...   \n",
       "30939                                      hi @GokturkSM   \n",
       "30940  Anyone have some math background? Trying to im...   \n",
       "30941  My question is... what exactly is a cyclic gro...   \n",
       "30942  You need to know what exceptions your code may...   \n",
       "30943                                               @cup   \n",
       "\n",
       "                                            parsed_words  \n",
       "4      [where, be, the, name, of, the, file, store, o...  \n",
       "5                                         [say, what, ?]  \n",
       "6      [where, would, you, guy, recommend, I, learn, ...  \n",
       "7      [I, use, the, official, Kotlin, doc, they, hav...  \n",
       "8                                          [do, they, ?]  \n",
       "...                                                  ...  \n",
       "30939                                   [hi, @gokturksm]  \n",
       "30940  [anyone, have, some, math, background, ?, try,...  \n",
       "30941  [my, question, be, ..., what, exactly, be, a, ...  \n",
       "30942  [you, need, to, know, what, exception, your, c...  \n",
       "30943                                             [@cup]  \n",
       "\n",
       "[30940 rows x 6 columns]"
      ]
     },
     "execution_count": 23,
     "metadata": {},
     "output_type": "execute_result"
    }
   ],
   "source": [
    "doc = lambda x: [y.lemma_ for y in  nlp(x)]\n",
    "df['parsed_words'] = df['text'].apply(doc)\n",
    "\n",
    "df"
   ]
  },
  {
   "cell_type": "markdown",
   "metadata": {
    "id": "q5HjK-IYTMPV"
   },
   "source": [
    "<p><center>With looking at the \"text\" and \"parsed_words\" column, you can see how it converts each word to their basic form. Now we can start find certain word occurences and so forth.</center></p>\n",
    "\n",
    "<blockquote style=\"color:darkkhaki;\">This is important for Digital Forensics use, because for example, we can search for certain words that stand out and see who sends these words rather than read through all 30,940 messages.</blockquote>"
   ]
  },
  {
   "cell_type": "markdown",
   "metadata": {
    "id": "Uirxh9VCynbY"
   },
   "source": [
    "<p><center>Now that we have a whole column full of tokens that have gone through lemmatization from our \"text\" column. Neat!</center></p>\n",
    "\n",
    "<blockquote style=\"color:darkkhaki;\">However one more thing we can do is remove something called \"stop words\". Some of stop words in English are \"a\", \"the\", \"is\", and \"are\". These words are redundent and not as important to us.\n",
    "\n",
    "<blockquote style=\"color:darkkhaki;\">We want to remove this information and give more focus to the important words where we can potentially find key evidence.</blockquote>"
   ]
  },
  {
   "cell_type": "markdown",
   "metadata": {
    "id": "cYVpa85d1kWL"
   },
   "source": [
    "<p><center>Below I have created two functions, \"to_doc\" & \"remove_stops\".</center></p>\n",
    "\n",
    "<blockquote style=\"color:darkkhaki;\">We can create a variable called \"doc\" which will create documents for all tuples of tokens in our \"parsed_words\" column using the \"to_doc\" function created. This will join our words into a string of elements with the parsed words for organization and ease of use for us.</blockquote>\n",
    "\n",
    "<p><center>Next we can create a new column \"removed_stops\" which will use the the \"remove_stops\" function and this \"doc\" variable we created with our parsed text.</center></p>"
   ]
  },
  {
   "cell_type": "code",
   "execution_count": 29,
   "metadata": {
    "colab": {
     "base_uri": "https://localhost:8080/",
     "height": 528
    },
    "id": "BFb-CuMAtWeb",
    "outputId": "7ec38561-6755-4da8-e5ec-d92b460735cf"
   },
   "outputs": [
    {
     "name": "stderr",
     "output_type": "stream",
     "text": [
      "<ipython-input-29-0698231f6a9c>:10: SettingWithCopyWarning: \n",
      "A value is trying to be set on a copy of a slice from a DataFrame.\n",
      "Try using .loc[row_indexer,col_indexer] = value instead\n",
      "\n",
      "See the caveats in the documentation: https://pandas.pydata.org/pandas-docs/stable/user_guide/indexing.html#returning-a-view-versus-a-copy\n",
      "  df['removed_stops'] = list(map(remove_stops, docs))\n"
     ]
    },
    {
     "data": {
      "text/html": [
       "\n",
       "  <div id=\"df-bf570971-2ed7-407a-9802-d220566787e8\">\n",
       "    <div class=\"colab-df-container\">\n",
       "      <div>\n",
       "<style scoped>\n",
       "    .dataframe tbody tr th:only-of-type {\n",
       "        vertical-align: middle;\n",
       "    }\n",
       "\n",
       "    .dataframe tbody tr th {\n",
       "        vertical-align: top;\n",
       "    }\n",
       "\n",
       "    .dataframe thead th {\n",
       "        text-align: right;\n",
       "    }\n",
       "</style>\n",
       "<table border=\"1\" class=\"dataframe\">\n",
       "  <thead>\n",
       "    <tr style=\"text-align: right;\">\n",
       "      <th></th>\n",
       "      <th>date</th>\n",
       "      <th>time</th>\n",
       "      <th>day</th>\n",
       "      <th>user</th>\n",
       "      <th>text</th>\n",
       "      <th>parsed_words</th>\n",
       "      <th>removed_stops</th>\n",
       "    </tr>\n",
       "  </thead>\n",
       "  <tbody>\n",
       "    <tr>\n",
       "      <th>4</th>\n",
       "      <td>2019-12-01</td>\n",
       "      <td>00:56</td>\n",
       "      <td>Sunday</td>\n",
       "      <td>Ryden</td>\n",
       "      <td>where is the name of the file stored on the file?</td>\n",
       "      <td>[where, be, the, name, of, the, file, store, o...</td>\n",
       "      <td>[file, store, file, ?]</td>\n",
       "    </tr>\n",
       "    <tr>\n",
       "      <th>5</th>\n",
       "      <td>2019-12-01</td>\n",
       "      <td>01:07</td>\n",
       "      <td>Sunday</td>\n",
       "      <td>Jayvien</td>\n",
       "      <td>say what?</td>\n",
       "      <td>[say, what, ?]</td>\n",
       "      <td>[?]</td>\n",
       "    </tr>\n",
       "    <tr>\n",
       "      <th>6</th>\n",
       "      <td>2019-12-01</td>\n",
       "      <td>01:10</td>\n",
       "      <td>Sunday</td>\n",
       "      <td>Kaliope</td>\n",
       "      <td>Where would you guys recommend I learn kotlin ...</td>\n",
       "      <td>[where, would, you, guy, recommend, I, learn, ...</td>\n",
       "      <td>[guy, recommend, learn, kotlin, java, android,...</td>\n",
       "    </tr>\n",
       "    <tr>\n",
       "      <th>7</th>\n",
       "      <td>2019-12-01</td>\n",
       "      <td>01:13</td>\n",
       "      <td>Sunday</td>\n",
       "      <td>Naely</td>\n",
       "      <td>I used the official Kotlin docs they have an e...</td>\n",
       "      <td>[I, use, the, official, Kotlin, doc, they, hav...</td>\n",
       "      <td>[use, official, Kotlin, doc, entire, tutorial,...</td>\n",
       "    </tr>\n",
       "    <tr>\n",
       "      <th>8</th>\n",
       "      <td>2019-12-01</td>\n",
       "      <td>01:16</td>\n",
       "      <td>Sunday</td>\n",
       "      <td>Jayvien</td>\n",
       "      <td>do they?</td>\n",
       "      <td>[do, they, ?]</td>\n",
       "      <td>[?]</td>\n",
       "    </tr>\n",
       "    <tr>\n",
       "      <th>...</th>\n",
       "      <td>...</td>\n",
       "      <td>...</td>\n",
       "      <td>...</td>\n",
       "      <td>...</td>\n",
       "      <td>...</td>\n",
       "      <td>...</td>\n",
       "      <td>...</td>\n",
       "    </tr>\n",
       "    <tr>\n",
       "      <th>30939</th>\n",
       "      <td>2019-12-31</td>\n",
       "      <td>18:24</td>\n",
       "      <td>Tuesday</td>\n",
       "      <td>Azyriah</td>\n",
       "      <td>hi @GokturkSM</td>\n",
       "      <td>[hi, @gokturksm]</td>\n",
       "      <td>[hi, @gokturksm]</td>\n",
       "    </tr>\n",
       "    <tr>\n",
       "      <th>30940</th>\n",
       "      <td>2019-12-31</td>\n",
       "      <td>18:25</td>\n",
       "      <td>Tuesday</td>\n",
       "      <td>Areesha</td>\n",
       "      <td>Anyone have some math background? Trying to im...</td>\n",
       "      <td>[anyone, have, some, math, background, ?, try,...</td>\n",
       "      <td>[math, background, ?, try, implement, zero, kn...</td>\n",
       "    </tr>\n",
       "    <tr>\n",
       "      <th>30941</th>\n",
       "      <td>2019-12-31</td>\n",
       "      <td>18:26</td>\n",
       "      <td>Tuesday</td>\n",
       "      <td>Areesha</td>\n",
       "      <td>My question is... what exactly is a cyclic gro...</td>\n",
       "      <td>[my, question, be, ..., what, exactly, be, a, ...</td>\n",
       "      <td>[question, ..., exactly, cyclic, group, use, ?...</td>\n",
       "    </tr>\n",
       "    <tr>\n",
       "      <th>30942</th>\n",
       "      <td>2019-12-31</td>\n",
       "      <td>18:29</td>\n",
       "      <td>Tuesday</td>\n",
       "      <td>Ailany</td>\n",
       "      <td>You need to know what exceptions your code may...</td>\n",
       "      <td>[you, need, to, know, what, exception, your, c...</td>\n",
       "      <td>[need, know, exception, code, throw, ., catcha...</td>\n",
       "    </tr>\n",
       "    <tr>\n",
       "      <th>30943</th>\n",
       "      <td>2019-12-31</td>\n",
       "      <td>18:29</td>\n",
       "      <td>Tuesday</td>\n",
       "      <td>Ailany</td>\n",
       "      <td>@cup</td>\n",
       "      <td>[@cup]</td>\n",
       "      <td>[@cup]</td>\n",
       "    </tr>\n",
       "  </tbody>\n",
       "</table>\n",
       "<p>30940 rows × 7 columns</p>\n",
       "</div>\n",
       "      <button class=\"colab-df-convert\" onclick=\"convertToInteractive('df-bf570971-2ed7-407a-9802-d220566787e8')\"\n",
       "              title=\"Convert this dataframe to an interactive table.\"\n",
       "              style=\"display:none;\">\n",
       "        \n",
       "  <svg xmlns=\"http://www.w3.org/2000/svg\" height=\"24px\"viewBox=\"0 0 24 24\"\n",
       "       width=\"24px\">\n",
       "    <path d=\"M0 0h24v24H0V0z\" fill=\"none\"/>\n",
       "    <path d=\"M18.56 5.44l.94 2.06.94-2.06 2.06-.94-2.06-.94-.94-2.06-.94 2.06-2.06.94zm-11 1L8.5 8.5l.94-2.06 2.06-.94-2.06-.94L8.5 2.5l-.94 2.06-2.06.94zm10 10l.94 2.06.94-2.06 2.06-.94-2.06-.94-.94-2.06-.94 2.06-2.06.94z\"/><path d=\"M17.41 7.96l-1.37-1.37c-.4-.4-.92-.59-1.43-.59-.52 0-1.04.2-1.43.59L10.3 9.45l-7.72 7.72c-.78.78-.78 2.05 0 2.83L4 21.41c.39.39.9.59 1.41.59.51 0 1.02-.2 1.41-.59l7.78-7.78 2.81-2.81c.8-.78.8-2.07 0-2.86zM5.41 20L4 18.59l7.72-7.72 1.47 1.35L5.41 20z\"/>\n",
       "  </svg>\n",
       "      </button>\n",
       "      \n",
       "  <style>\n",
       "    .colab-df-container {\n",
       "      display:flex;\n",
       "      flex-wrap:wrap;\n",
       "      gap: 12px;\n",
       "    }\n",
       "\n",
       "    .colab-df-convert {\n",
       "      background-color: #E8F0FE;\n",
       "      border: none;\n",
       "      border-radius: 50%;\n",
       "      cursor: pointer;\n",
       "      display: none;\n",
       "      fill: #1967D2;\n",
       "      height: 32px;\n",
       "      padding: 0 0 0 0;\n",
       "      width: 32px;\n",
       "    }\n",
       "\n",
       "    .colab-df-convert:hover {\n",
       "      background-color: #E2EBFA;\n",
       "      box-shadow: 0px 1px 2px rgba(60, 64, 67, 0.3), 0px 1px 3px 1px rgba(60, 64, 67, 0.15);\n",
       "      fill: #174EA6;\n",
       "    }\n",
       "\n",
       "    [theme=dark] .colab-df-convert {\n",
       "      background-color: #3B4455;\n",
       "      fill: #D2E3FC;\n",
       "    }\n",
       "\n",
       "    [theme=dark] .colab-df-convert:hover {\n",
       "      background-color: #434B5C;\n",
       "      box-shadow: 0px 1px 3px 1px rgba(0, 0, 0, 0.15);\n",
       "      filter: drop-shadow(0px 1px 2px rgba(0, 0, 0, 0.3));\n",
       "      fill: #FFFFFF;\n",
       "    }\n",
       "  </style>\n",
       "\n",
       "      <script>\n",
       "        const buttonEl =\n",
       "          document.querySelector('#df-bf570971-2ed7-407a-9802-d220566787e8 button.colab-df-convert');\n",
       "        buttonEl.style.display =\n",
       "          google.colab.kernel.accessAllowed ? 'block' : 'none';\n",
       "\n",
       "        async function convertToInteractive(key) {\n",
       "          const element = document.querySelector('#df-bf570971-2ed7-407a-9802-d220566787e8');\n",
       "          const dataTable =\n",
       "            await google.colab.kernel.invokeFunction('convertToInteractive',\n",
       "                                                     [key], {});\n",
       "          if (!dataTable) return;\n",
       "\n",
       "          const docLinkHtml = 'Like what you see? Visit the ' +\n",
       "            '<a target=\"_blank\" href=https://colab.research.google.com/notebooks/data_table.ipynb>data table notebook</a>'\n",
       "            + ' to learn more about interactive tables.';\n",
       "          element.innerHTML = '';\n",
       "          dataTable['output_type'] = 'display_data';\n",
       "          await google.colab.output.renderOutput(dataTable, element);\n",
       "          const docLink = document.createElement('div');\n",
       "          docLink.innerHTML = docLinkHtml;\n",
       "          element.appendChild(docLink);\n",
       "        }\n",
       "      </script>\n",
       "    </div>\n",
       "  </div>\n",
       "  "
      ],
      "text/plain": [
       "             date   time      day     user  \\\n",
       "4      2019-12-01  00:56   Sunday    Ryden   \n",
       "5      2019-12-01  01:07   Sunday  Jayvien   \n",
       "6      2019-12-01  01:10   Sunday  Kaliope   \n",
       "7      2019-12-01  01:13   Sunday    Naely   \n",
       "8      2019-12-01  01:16   Sunday  Jayvien   \n",
       "...           ...    ...      ...      ...   \n",
       "30939  2019-12-31  18:24  Tuesday  Azyriah   \n",
       "30940  2019-12-31  18:25  Tuesday  Areesha   \n",
       "30941  2019-12-31  18:26  Tuesday  Areesha   \n",
       "30942  2019-12-31  18:29  Tuesday   Ailany   \n",
       "30943  2019-12-31  18:29  Tuesday   Ailany   \n",
       "\n",
       "                                                    text  \\\n",
       "4      where is the name of the file stored on the file?   \n",
       "5                                              say what?   \n",
       "6      Where would you guys recommend I learn kotlin ...   \n",
       "7      I used the official Kotlin docs they have an e...   \n",
       "8                                               do they?   \n",
       "...                                                  ...   \n",
       "30939                                      hi @GokturkSM   \n",
       "30940  Anyone have some math background? Trying to im...   \n",
       "30941  My question is... what exactly is a cyclic gro...   \n",
       "30942  You need to know what exceptions your code may...   \n",
       "30943                                               @cup   \n",
       "\n",
       "                                            parsed_words  \\\n",
       "4      [where, be, the, name, of, the, file, store, o...   \n",
       "5                                         [say, what, ?]   \n",
       "6      [where, would, you, guy, recommend, I, learn, ...   \n",
       "7      [I, use, the, official, Kotlin, doc, they, hav...   \n",
       "8                                          [do, they, ?]   \n",
       "...                                                  ...   \n",
       "30939                                   [hi, @gokturksm]   \n",
       "30940  [anyone, have, some, math, background, ?, try,...   \n",
       "30941  [my, question, be, ..., what, exactly, be, a, ...   \n",
       "30942  [you, need, to, know, what, exception, your, c...   \n",
       "30943                                             [@cup]   \n",
       "\n",
       "                                           removed_stops  \n",
       "4                                 [file, store, file, ?]  \n",
       "5                                                    [?]  \n",
       "6      [guy, recommend, learn, kotlin, java, android,...  \n",
       "7      [use, official, Kotlin, doc, entire, tutorial,...  \n",
       "8                                                    [?]  \n",
       "...                                                  ...  \n",
       "30939                                   [hi, @gokturksm]  \n",
       "30940  [math, background, ?, try, implement, zero, kn...  \n",
       "30941  [question, ..., exactly, cyclic, group, use, ?...  \n",
       "30942  [need, know, exception, code, throw, ., catcha...  \n",
       "30943                                             [@cup]  \n",
       "\n",
       "[30940 rows x 7 columns]"
      ]
     },
     "execution_count": 29,
     "metadata": {},
     "output_type": "execute_result"
    }
   ],
   "source": [
    "def to_doc(words:tuple) -> spacy.tokens.Doc:\n",
    "    # Create SpaCy documents by joining words into a string\n",
    "    return nlp(' '.join(words))\n",
    "\n",
    "def remove_stops(doc) -> list:\n",
    "    # Remove stop words by using the `token.is_stop` attribute\n",
    "    return [token.text for token in doc if not token.is_stop]\n",
    "\n",
    "docs = list(map(to_doc, df.parsed_words))\n",
    "df['removed_stops'] = list(map(remove_stops, docs))\n",
    "\n",
    "df\n"
   ]
  },
  {
   "cell_type": "markdown",
   "metadata": {
    "id": "l3S37jup11Dk"
   },
   "source": [
    "<p><center>Look at that! We have a new column with our parsed words from the text and removed all stop words from it.</center></p>"
   ]
  },
  {
   "cell_type": "markdown",
   "metadata": {
    "id": "LmATiUaSBHXu"
   },
   "source": [
    "<p><center>Let's see if we can start searching our data for a specific word. We can search for any word, for example let's try \"kill\" which could potentially be a little suspicious.</center></p>\n",
    "\n",
    "<blockquote style=\"color:darkkhaki;\">To do this we will go through our dataframe using a 'for loop' and if the column \"removed_stops\" contains this word at the index, let's print it.</blockquote>\n",
    "\n",
    "<p><center>Let's also store the index of when this word appears in a list we can call \"indexlist\", this will be used for later.</center></p>"
   ]
  },
  {
   "cell_type": "code",
   "execution_count": 61,
   "metadata": {
    "colab": {
     "base_uri": "https://localhost:8080/"
    },
    "id": "RrrVOpwm8LKr",
    "outputId": "c4392224-a491-4c6f-c9a9-0e5e440da978"
   },
   "outputs": [
    {
     "name": "stdout",
     "output_type": "stream",
     "text": [
      "Arsenio  |  ['right', 'logistic', 'curve', 'scale', 'balanced', 'way', 'painful', 'dev', '.', 'imagine', 'lvl', '50', 'player', 'turn', 'kill', 'mob']\n",
      "Landry  |  ['@Jason_Bjorn', '  ', 'know', 'kill', 'function', '  ', 'bind', 'letter', 'keyboard', '(', 'currently', 'use', 'pynput).(sorry', 'ping', ')']\n",
      "Adaya  |  ['kill', 'interpreter']\n",
      "Rynleigh  |  ['drendo', 'compute', 'kill', 'want']\n",
      "Rosaleen  |  ['job', 'kill', ':', '  ', ')']\n",
      "Majd  |  ['kind', 'late', 'doubt', 'kill']\n",
      "Andersyn  |  ['kind', 'spy', 'SSH', 'certificate', 'kill']\n",
      "Rynleigh  |  ['true', ':', 'terminate', 'explicit', 'kill']\n",
      "Keaston  |  ['yeah', '.', 'write', 'Pub', '/', 'Sub', 'model', 'read', 'event', 'log', 'push', 'process', 'thread', '.', 'log', 'roll', 'gig', 'need', 'know', 'close', 'resource', 'open', 'new', '.', 'think', 'kill', 'reading', 'thread', 'spawn', 'new', 'detect', 'new', 'file', '.', 'close', 'resource', 'open', 'new', 'fine', '.']\n",
      "Taika  |  ['mean', 'know', 'censor', 'content', 'country', 'kill', 'crisize', 'leader']\n",
      "Atzin  |  ['window', 'installation', 'pycharm', 'kill', 'process', 'hit', 'rerun', 'linux', 'installation', 'pycharm', 'send', '^C', 'signal', 'process', 'result', 'exetremely', 'long', 'waiting', 'period', '.']\n",
      "Kosta  |  ['trust', 'kill']\n",
      "Rise  |  ['m', 'new', '.', 'like', 'entirely', '.', 'start', 'doign', 'python', 'code', 'work', 'downtime', 'enjoy', '.', 'fun', '.', 'kill', 'motivation', 'thought', '?']\n",
      "Nilaya  |  ['python', 'GIL', 'probably', 'kill', 'long', 'term']\n",
      "Nilaya  |  ['5c', 'spicy', 'lack', 'deep', 'multi', 'core', 'support', 'gil', 'kill', 'python', 'eventually']\n",
      "Khi  |  ['kill', 'daily']\n",
      "Lauretta  |  ['toggle', 'switch', 'kill', 'process', 'state', 'false', 'restart', 'process', 'true']\n",
      "Lauretta  |  ['wait', 'minute', '.', 'use', 'thread', 'subprocess', 'kill', '?']\n",
      "Lauretta  |  ['that\\\\', 'opposite', 'need', '.', 'need', 'toggle', 'button', 'run', 'command', 'sox', 'kill', 'run', 'kill', '.']\n",
      "Lauretta  |  ['@sommersoft', 'run', 'kill', 'run']\n",
      "Lauretta  |  ['OMG', '.', 'realize', '.', 'kill', 'subprocess', 'variable', 'away', '.', 'restart', 'subprocess', 'reassign', 'var', 'kill']\n",
      "Lauretta  |  ['@sommersoft', '@sinthrill', 'work', '.', '`', 'proc.kill', '(', ')', '`', 'kill', 'process', '.']\n",
      "Octavious  |  ['right', 'kill', 'thread']\n",
      "Alpha  |  ['wow', 'keyboard.on_release', 'kinda', 'kill', 'pc']\n",
      "Absalom  |  ['kill', \"sudo'd\", 'python', 'script', 'run', '?', 'successfully', 'test', 'led', 'strip', '(', 'day', 'btw', ')', 'script', 'run', '.', 'fine', '.', 'need', '.', 'lol']\n",
      "Absalom  |  ['sigcommand', 'instakill', 'process', '?', 'Sigterm', 'actually', 'kill', 'script', '.']\n",
      "Absalom  |  ['okay', '...', 'successfully', 'kill', 'process', '.', 'light', '.', 'easy', 'way', '.', 'holy', 'crap', '.']\n"
     ]
    }
   ],
   "source": [
    "wordToSearch = \"kill\"\n",
    "indexList = []\n",
    "\n",
    "for i in df.index:\n",
    "  if(df['removed_stops'].str.contains(wordToSearch, regex=False)[i] == True):\n",
    "    indexList.append(i)\n",
    "    print(df['user'][i], \" | \", df['removed_stops'][i])"
   ]
  },
  {
   "cell_type": "markdown",
   "metadata": {
    "id": "7Y8njaRMC_Js"
   },
   "source": [
    "<p><center>Isn't that crazy! We can see every message with the word \"kill\" in it, but depending on the context this could mean nothing alarming at all.</center></p>\n",
    "\n",
    "<blockquote style=\"color:darkkhaki;\">For instance in programming, the term \"kill\" is a command used to send a process a signal or even just to kill or end the process running.</blockquote>\n",
    "\n",
    "<p><center>Let's see if we can take a look at the full context of these user's message.</center></p>"
   ]
  },
  {
   "cell_type": "code",
   "execution_count": 68,
   "metadata": {
    "colab": {
     "base_uri": "https://localhost:8080/"
    },
    "id": "lLhRjOyqFq1G",
    "outputId": "82742723-5434-445b-8220-f86fa9275124"
   },
   "outputs": [
    {
     "name": "stdout",
     "output_type": "stream",
     "text": [
      "Arsenio  |  getting the right logistic curve to scale in a balanced way is painful for the dev too. Imagine a lvl 50 player taking hundreds of turns to kill a mob\n",
      "Landry  |  @Jason_Bjorn  do you know how to make a kill function  where i can bind it to a letter on the keyboard (currently using pynput).(sorry for ping)\n",
      "Adaya  |  will kill the interpreter\n",
      "Rynleigh  |  drendos it's your compute you kill it however you want\n",
      "Rosaleen  |  this job is killing me :  )\n",
      "Majd  |  its just kind of late and this doubt has been killing me\n",
      "Andersyn  |  But only the kind of spies that have SSH certificates to kill\n",
      "Rynleigh  |  while True: never terminates unless you explicit kills it\n",
      "Keaston  |  Yeah. I'm writing a Pub/Sub model that reads events out of the log and pushes them off to be processed in other threads. but the log can roll after a few gig so i need to know how to close the resource and open a new one. I thought I'd just kill the reading thread and spawn a new one on detecting the new file is there. but if I can just close the resource and open a new one that'll be fine too.\n",
      "Taika  |  i mean do you know how much censored content and how in countries you can be killed for crisizing their leader\n",
      "Atzin  |  On my windows installation pycharm kills the process when I hit rerun but on my linux installation pycharm seems to send the ^C signal to the process resulting in a exetremely long waiting period sometimes.\n",
      "Kosta  |  Trust me I would KILL to have it\n",
      "Rise  |  As I said im new to it all. like entirely. I started doign some python coding at work when I have downtime and I really enjoyed it. its fun. what mostly kills my motivation is the thought of And what are you going to do with it?\n",
      "Nilaya  |  python having GIL is probably what's going to kill it in the long term\n",
      "Nilaya  |  Anyway my 5c spicy take is lack of deep multi core support and gil is what will kill python eventually\n",
      "Khi  |  And that alone is killing me daily\n",
      "Lauretta  |  I have the toggle switch made but how can I kill the process if the state is false and restart the process if it is true\n",
      "Lauretta  |  Wait a minute. Can't I use threading to make a subprocess and kill it?\n",
      "Lauretta  |  but that\\'s the opposite of what I need to do. I need to make a toggle button that runs the command sox and then kills it and then runs it again and then kills it.\n",
      "Lauretta  |  @sommersoft no only running it and killing it and running it again\n",
      "Lauretta  |  OMG. I just realized. If I kill the subprocess the variable doesn't go away. So to restart the subprocess I can just reassign it to the same var and then kill it\n",
      "Lauretta  |  @sommersoft @Sinthrill So it seems to be working now. It's just that `proc.kill()` isn't killing the process.\n",
      "Octavious  |  right but you can't kill a thread\n",
      "Alpha  |  Wow keyboard.on_release kinda killed my pc\n",
      "Absalom  |  How do I kill a sudo'd python script that's just running? I just successfully tested my LED strip (it just made my day btw) and the script is still running. Which is fine. But I need it off now. lol\n",
      "Absalom  |  What's the other sigcommand that instakills a process again? Sigterm didn't actually kill the script.\n",
      "Absalom  |  Okay... Successfully killed the process. The lights are still on. There's gotta be an easier way to do this. Holy crap.\n"
     ]
    }
   ],
   "source": [
    "for i in indexList:\n",
    "  print(df['user'][i], \" | \", df['text'][i])"
   ]
  },
  {
   "cell_type": "markdown",
   "metadata": {
    "id": "q2TFSAIURxBh"
   },
   "source": [
    "<blockquote style=\"color:darkkhaki;\">Now we have the full context. Not as bad we thought expected it!</blockquote>"
   ]
  },
  {
   "cell_type": "markdown",
   "metadata": {
    "id": "gG5Q_ykMx7nC"
   },
   "source": [
    "<h2 style=\"color:darkcyan;\"><center><u>[Graph Analysis]</u></center></h2>"
   ]
  },
  {
   "cell_type": "markdown",
   "metadata": {
    "id": "Ik-q7jJqiE6A"
   },
   "source": [
    "<p><center>Lets do a little graph analysis.</center></p>\n",
    "\n",
    "<p><center>First lets create a variable called graph which will group our data by 'day' compared to when each message was sent 'text'. Using the plot function we can plot and take a look at the graph we created.</center></p>\n",
    "\n",
    "<blockquote style=\"color:cadetblue;\">We can also label the x and y axis to an appropriate name.</blockquote>"
   ]
  },
  {
   "cell_type": "code",
   "execution_count": 34,
   "metadata": {
    "colab": {
     "base_uri": "https://localhost:8080/",
     "height": 353
    },
    "id": "T028GtRtXms0",
    "outputId": "3245e359-bfae-49a4-9633-63c63dd36172"
   },
   "outputs": [
    {
     "data": {
      "text/plain": [
       "Text(0, 0.5, 'Number of Messages')"
      ]
     },
     "execution_count": 34,
     "metadata": {},
     "output_type": "execute_result"
    },
    {
     "data": {
      "image/png": "[encoded data removed]",
      "text/plain": [
       "<Figure size 432x288 with 1 Axes>"
      ]
     },
     "metadata": {
      "needs_background": "light"
     },
     "output_type": "display_data"
    }
   ],
   "source": [
    "graph = df.groupby(df['day'])['text'].count().plot.bar()\n",
    "graph.set_xlabel('Day', fontsize=20)\n",
    "graph.set_ylabel('Number of Messages', fontsize=20)"
   ]
  },
  {
   "cell_type": "markdown",
   "metadata": {
    "id": "M1YtNptrgfpr"
   },
   "source": [
    "<p><center>This shows us how many messages were sent compared to the day of the week.</center></p>\n",
    "\n",
    "<blockquote style=\"color:cadetblue;\">Seems like Tuesday has been the busiest day!</blockquote>"
   ]
  },
  {
   "cell_type": "markdown",
   "metadata": {
    "id": "fcfP2k-Lh0iu"
   },
   "source": [
    "<p><center>We are also able to take a look at which date  had the most messages sent. Sorting by 'date' instead of 'day of week' will let us view the data by the date each message was sent. </center></p>"
   ]
  },
  {
   "cell_type": "code",
   "execution_count": 33,
   "metadata": {
    "colab": {
     "base_uri": "https://localhost:8080/",
     "height": 353
    },
    "id": "iZwWySOlb0_b",
    "outputId": "b379a914-d1b3-4ee1-ee4b-bc8876ac85f7"
   },
   "outputs": [
    {
     "data": {
      "text/plain": [
       "Text(0, 0.5, 'Number of messages')"
      ]
     },
     "execution_count": 33,
     "metadata": {},
     "output_type": "execute_result"
    },
    {
     "data": {
      "image/png": "[encoded data removed]",
      "text/plain": [
       "<Figure size 432x288 with 1 Axes>"
      ]
     },
     "metadata": {
      "needs_background": "light"
     },
     "output_type": "display_data"
    }
   ],
   "source": [
    "graph2 = df.groupby(df['date'])['text'].count().plot.bar()\n",
    "graph2.set_xlabel('Date', fontsize=20)\n",
    "graph2.set_ylabel('Number of messages', fontsize=20)"
   ]
  },
  {
   "cell_type": "markdown",
   "metadata": {
    "id": "Sr53D6mIs3qQ"
   },
   "source": [
    "<h2 style=\"color:mediumpurple;\"><center><u>[Challenges]</u></center></h2>"
   ]
  },
  {
   "cell_type": "markdown",
   "metadata": {
    "id": "g47V972-TH1p"
   },
   "source": [
    "<p><center>Add activites for users to learn interactively</center></p>"
   ]
  },
  {
   "cell_type": "markdown",
   "metadata": {
    "id": "NCLZIVntBUvK"
   },
   "source": [
    "<p><center>Add sample data set have users do simple tasks</center></p>"
   ]
  },
  {
   "cell_type": "code",
   "execution_count": null,
   "metadata": {
    "id": "uAO5UTLKidJk"
   },
   "outputs": [],
   "source": [
    "score = 0\n",
    "questions = 5"
   ]
  },
  {
   "cell_type": "code",
   "execution_count": null,
   "metadata": {
    "id": "hAiG5dRVhCvJ"
   },
   "outputs": [],
   "source": [
    "print(\"Find how many messages 'Kaliope' sent.\")"
   ]
  },
  {
   "cell_type": "code",
   "execution_count": null,
   "metadata": {
    "id": "3W99kjd8hgnS"
   },
   "outputs": [],
   "source": [
    "answer1 = input()"
   ]
  },
  {
   "cell_type": "code",
   "execution_count": null,
   "metadata": {
    "id": "cwkNHa6nh6lA"
   },
   "outputs": [],
   "source": [
    "if answer1 == \"df['user'].value_counts()['Kaliope']\":\n",
    "  print(\"Correct!\")\n",
    "  score += 1\n",
    "else:\n",
    "  print(\"Incorrect\")\n",
    "  print(\"One way to solve this is:\")\n",
    "  print(\"\")\n",
    "  print(\"df['user'].value_counts()['Kaliope']\")"
   ]
  },
  {
   "cell_type": "code",
   "execution_count": null,
   "metadata": {
    "id": "ZXY1SIryiidl"
   },
   "outputs": [],
   "source": [
    "score = round(score/questions*100)\n",
    "print('Quiz completed.')\n",
    "print('Your final score is {}%.'.format(score))"
   ]
  },
  {
   "cell_type": "code",
   "execution_count": null,
   "metadata": {
    "id": "FB8ZfV61kJdD"
   },
   "outputs": [],
   "source": [
    "if int(score) >= 70:\n",
    "    print(\"Congrats, you passed!\")\n",
    "else:\n",
    "    print(\"Sorry, you failed.\")"
   ]
  }
 ],
 "metadata": {
  "colab": {
   "include_colab_link": true,
   "provenance": []
  },
  "kernelspec": {
   "display_name": "Python 3 (ipykernel)",
   "language": "python",
   "name": "python3"
  },
  "language_info": {
   "codemirror_mode": {
    "name": "ipython",
    "version": 3
   },
   "file_extension": ".py",
   "mimetype": "text/x-python",
   "name": "python",
   "nbconvert_exporter": "python",
   "pygments_lexer": "ipython3",
   "version": "3.9.12"
  }
 },
 "nbformat": 4,
 "nbformat_minor": 1
}
