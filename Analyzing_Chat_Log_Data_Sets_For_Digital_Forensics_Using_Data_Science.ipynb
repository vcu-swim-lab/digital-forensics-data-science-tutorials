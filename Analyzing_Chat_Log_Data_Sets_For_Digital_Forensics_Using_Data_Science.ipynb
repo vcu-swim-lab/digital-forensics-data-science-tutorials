{
  "nbformat": 4,
  "nbformat_minor": 0,
  "metadata": {
    "colab": {
      "provenance": [],
      "include_colab_link": true
    },
    "kernelspec": {
      "name": "python3",
      "display_name": "Python 3"
    },
    "language_info": {
      "name": "python"
    }
  },
  "cells": [
    {
      "cell_type": "markdown",
      "metadata": {
        "id": "view-in-github",
        "colab_type": "text"
      },
      "source": [
        "<a href=\"https://colab.research.google.com/github/aijaza1/Azeem-old-website/blob/master/Analyzing_Chat_Log_Data_Sets_For_Digital_Forensics_Using_Data_Science.ipynb\" target=\"_parent\"><img src=\"https://colab.research.google.com/assets/colab-badge.svg\" alt=\"Open In Colab\"/></a>"
      ]
    },
    {
      "cell_type": "markdown",
      "source": [
        "\n",
        "# **Analyzing Chat Log Data Sets For Digital Forensics Using Data Science**\n",
        "---\n",
        "\n"
      ],
      "metadata": {
        "id": "97_XxyAKJhV3"
      }
    },
    {
      "cell_type": "markdown",
      "source": [
        "# Background Information"
      ],
      "metadata": {
        "id": "PuQJ7Ae6HKxZ"
      }
    },
    {
      "cell_type": "markdown",
      "source": [
        "Digital Forensics is a science that focuses on identifying, gathering, processing, analysing, and \n",
        "reporting of data stored electronically. Computer emails, text messages, images, documents, and internet histories \n",
        "are all very important pieces of information that can be extracted from electronic devices.\n",
        " \n",
        "An analyst will have to examine these computer files from a user or suspect and try and preserve the \n",
        "evidence in its most original form. Any alarming piece of information from these computer files can be used \n",
        "as evidence. \n",
        "\n",
        "Usually, the size of the electronic data and files are huge, and will take a great deal of time to go through \n",
        "every file or text message manually. This is where Data Science can be very beneficial to Digital Forensics.\n",
        "\n",
        "Often times there are situations where you may have to view a users chat logs. You may have to read through \n",
        "their messages to see their conversation, who their communicating with, potential partners, or other key \n",
        "pieces of evidence. \n",
        "\n",
        "\n"
      ],
      "metadata": {
        "id": "TLeJMUa0wX0t"
      }
    },
    {
      "cell_type": "markdown",
      "source": [
        "# What We Will Be Doing"
      ],
      "metadata": {
        "id": "EReuw_O4HhEt"
      }
    },
    {
      "cell_type": "markdown",
      "source": [
        "We will be giving you some tips on how exactly we can condense and organize chat logs down to a smaller size \n",
        "which can be more easily analyzed. We will be explaining how to organize the data in a better fashion, \n",
        "remove duplicates, clean bad or useless data, and more.\n",
        "\n",
        "For this example we will be viewing a public Discord server, specifically of four different programming language communities such as Python, Go, Clojure, and Racket. These servers are public and serve as a resource for getting \n",
        "technical help, sharing knowledge, and also real-time conversations between fellow community members."
      ],
      "metadata": {
        "id": "CbmRcA6LHtGS"
      }
    },
    {
      "cell_type": "markdown",
      "source": [
        "# Learning Goals"
      ],
      "metadata": {
        "id": "Ar2gQK3DHUQ_"
      }
    },
    {
      "cell_type": "markdown",
      "source": [
        "Learning Goals for this tutorial:\n",
        "\n",
        "*   Use Pandas to manipulate a data set\n",
        "*   Cleaning data\n",
        "*   Analyze/sort through the data set\n",
        "*   Be able to pull specific details from the data set\n",
        "\n",
        "\n",
        "\n",
        "\n",
        "\n"
      ],
      "metadata": {
        "id": "j1nhwWvPG7II"
      }
    },
    {
      "cell_type": "markdown",
      "source": [
        "# Acquiring the Discord Datasets"
      ],
      "metadata": {
        "id": "oCC2uGq3AVAH"
      }
    },
    {
      "cell_type": "markdown",
      "source": [
        "This demonstration is based off of Preetha Chatterjee and her team of engineers' research, DISCO: A Dataset of Discord Chat Conversations for Software Engineering Research. \n",
        "\n",
        "Download the dataset here (https://zenodo.org/record/5909202#.Y91yPnbMKUk)."
      ],
      "metadata": {
        "id": "EdITo7-DAcMe"
      }
    },
    {
      "cell_type": "markdown",
      "source": [
        "# Getting Started"
      ],
      "metadata": {
        "id": "bg0F1GYeHwsS"
      }
    },
    {
      "cell_type": "markdown",
      "source": [
        "To first get started, we will import some libraries that will help us process and go through data sets.\n",
        "\n",
        "**Here are the libraries will be incorporating to help us with our analysis**"
      ],
      "metadata": {
        "id": "eJxpQ0CQws5R"
      }
    },
    {
      "cell_type": "markdown",
      "source": [
        "* [Pandas](https://pandas.pydata.org/) is a fast, powerful, flexible and easy to use open source data analysis and manipulation tool,\n",
        "built on top of the Python programming language.   \n",
        "* [Numpy](https://numpy.org/) is the fundamental package for scientific computing with Python\n",
        "* [Matplotlib](https://matplotlib.org/stable/index.html) is a comprehensive library for creating static, animated, and interactive visualizations in Python.\n",
        "* [Datetime](https://docs.python.org/3/library/datetime.html#module-datetime) module supplies classes for manipulating dates and times.\n",
        "* [Drive](https://www.marktechpost.com/2019/06/07/how-to-connect-google-colab-with-google-drive/) is used to connect your Google Drive to this Google Colab file\n"
      ],
      "metadata": {
        "id": "SU7KoR8IclPI"
      }
    },
    {
      "cell_type": "code",
      "source": [
        "import pandas as pd\n",
        "import numpy as np\n",
        "import matplotlib.pyplot as plt\n",
        "from datetime import datetime, timedelta\n",
        "from google.colab import drive\n",
        "drive.mount('/content/drive/')"
      ],
      "metadata": {
        "id": "GhR9XgMIw2YM",
        "colab": {
          "base_uri": "https://localhost:8080/"
        },
        "outputId": "f1c68ffc-1a5a-47d4-f0a7-bafb68a8d3ef"
      },
      "execution_count": 2,
      "outputs": [
        {
          "output_type": "stream",
          "name": "stdout",
          "text": [
            "Mounted at /content/drive/\n"
          ]
        }
      ]
    },
    {
      "cell_type": "markdown",
      "source": [
        "Now we must load in the dataset we have downloaded. For this tutorial we will be using chat logs in the Python server from December 2019.\n",
        "\n",
        "**The file is called (pythongeneralDec2019.xml).**\n"
      ],
      "metadata": {
        "id": "fsXbm4oSxDHc"
      }
    },
    {
      "cell_type": "markdown",
      "source": [
        "We will read in our data set using the pandas library we imported. \n",
        "\n",
        "\n",
        "We are going to be storing our data set of chat logs into a variable called \"df\" and will use the 'pandas' library to read the xml file."
      ],
      "metadata": {
        "id": "GkBE5RQpMNxK"
      }
    },
    {
      "cell_type": "markdown",
      "source": [
        "There are a few ways to insert the dataset file."
      ],
      "metadata": {
        "id": "mynP1IxlHScd"
      }
    },
    {
      "cell_type": "markdown",
      "source": [
        "**Option 1) 'Recommended'**\n",
        "\n",
        "One way, where you don't have to load in the file everytime we run it is to store it in the google drive.\n",
        "\n",
        "Either in google drive or in the files section on the left hand side of this Google Colab page, upload the month of chat logs we will be experimenting with **(pythongeneralDec2019.xml)** into \"content\" then \"drive\" folder. \n",
        "\n",
        "Then you can use the following command:"
      ],
      "metadata": {
        "id": "OW97TYQSH1ET"
      }
    },
    {
      "cell_type": "code",
      "source": [
        "df = pd.read_xml('/content/drive/MyDrive/pythongeneralDec2019.xml')"
      ],
      "metadata": {
        "id": "vDrn-7i0GMbq"
      },
      "execution_count": 3,
      "outputs": []
    },
    {
      "cell_type": "markdown",
      "source": [
        "**Option 2)**\n",
        "\n",
        "Another way is to directly upload the file in the files section on the left hand side of this Google Colab page.\n",
        "\n",
        "You must insert the file in the \"content\" folder. The only issue with this way is that you will need to upload the file everytime we run.\n",
        "\n",
        "Then you can use the following code to load in the file into our workspace:"
      ],
      "metadata": {
        "id": "4DhxS-oBOPVp"
      }
    },
    {
      "cell_type": "code",
      "source": [
        "df = pd.read_xml('pythongeneralDec2019.xml')"
      ],
      "metadata": {
        "id": "2FOG0HnKHz7Q"
      },
      "execution_count": null,
      "outputs": []
    },
    {
      "cell_type": "markdown",
      "source": [
        "Now that we have our file, \n",
        "lets take a look at what our data consists of using the \"info\" method. "
      ],
      "metadata": {
        "id": "OSGtwzgoxsbv"
      }
    },
    {
      "cell_type": "code",
      "source": [
        "df.info()"
      ],
      "metadata": {
        "colab": {
          "base_uri": "https://localhost:8080/"
        },
        "id": "AvZUVFVTxtZu",
        "outputId": "083a2e8c-fd29-4766-fb54-87da876002c3"
      },
      "execution_count": 4,
      "outputs": [
        {
          "output_type": "stream",
          "name": "stdout",
          "text": [
            "<class 'pandas.core.frame.DataFrame'>\n",
            "RangeIndex: 30944 entries, 0 to 30943\n",
            "Data columns (total 7 columns):\n",
            " #   Column        Non-Null Count  Dtype \n",
            "---  ------        --------------  ----- \n",
            " 0   team_domain   1 non-null      object\n",
            " 1   channel_name  1 non-null      object\n",
            " 2   start_date    1 non-null      object\n",
            " 3   end_date      1 non-null      object\n",
            " 4   ts            30940 non-null  object\n",
            " 5   user          30940 non-null  object\n",
            " 6   text          30940 non-null  object\n",
            "dtypes: object(7)\n",
            "memory usage: 1.7+ MB\n"
          ]
        }
      ]
    },
    {
      "cell_type": "markdown",
      "source": [
        "Here we can see a more general view of what our data set consists of. This shows our different column names as well as how many values are in these columns. Notice the first four columns, there is only one piece of data in these columns.\n",
        "\n",
        "Using just the \"df\" command, now we see exactly what our data in the data set consists of as a whole.\n"
      ],
      "metadata": {
        "id": "BjLgS6j0yODa"
      }
    },
    {
      "cell_type": "code",
      "source": [
        "df"
      ],
      "metadata": {
        "colab": {
          "base_uri": "https://localhost:8080/",
          "height": 424
        },
        "id": "LopZwjM2ytqM",
        "outputId": "63b95acb-8831-4813-f01c-1c24faf050c8"
      },
      "execution_count": 5,
      "outputs": [
        {
          "output_type": "execute_result",
          "data": {
            "text/plain": [
              "      team_domain    channel_name                  start_date  \\\n",
              "0          Python            None                        None   \n",
              "1            None  python-general                        None   \n",
              "2            None            None  2019-12-01T00:56:23.288000   \n",
              "3            None            None                        None   \n",
              "4            None            None                        None   \n",
              "...           ...             ...                         ...   \n",
              "30939        None            None                        None   \n",
              "30940        None            None                        None   \n",
              "30941        None            None                        None   \n",
              "30942        None            None                        None   \n",
              "30943        None            None                        None   \n",
              "\n",
              "                         end_date                          ts     user  \\\n",
              "0                            None                        None     None   \n",
              "1                            None                        None     None   \n",
              "2                            None                        None     None   \n",
              "3      2019-12-31T18:29:57.380000                        None     None   \n",
              "4                            None  2019-12-01T00:56:23.288000    Ryden   \n",
              "...                           ...                         ...      ...   \n",
              "30939                        None  2019-12-31T18:24:58.198000  Azyriah   \n",
              "30940                        None  2019-12-31T18:25:37.421000  Areesha   \n",
              "30941                        None  2019-12-31T18:26:17.603000  Areesha   \n",
              "30942                        None  2019-12-31T18:29:15.676000   Ailany   \n",
              "30943                        None  2019-12-31T18:29:57.380000   Ailany   \n",
              "\n",
              "                                                    text  \n",
              "0                                                   None  \n",
              "1                                                   None  \n",
              "2                                                   None  \n",
              "3                                                   None  \n",
              "4      where is the name of the file stored on the file?  \n",
              "...                                                  ...  \n",
              "30939                                      hi @GokturkSM  \n",
              "30940  Anyone have some math background? Trying to im...  \n",
              "30941  My question is... what exactly is a cyclic gro...  \n",
              "30942  You need to know what exceptions your code may...  \n",
              "30943                                               @cup  \n",
              "\n",
              "[30944 rows x 7 columns]"
            ],
            "text/html": [
              "\n",
              "  <div id=\"df-516a4569-7d09-4766-9e0b-6da19fedfafa\">\n",
              "    <div class=\"colab-df-container\">\n",
              "      <div>\n",
              "<style scoped>\n",
              "    .dataframe tbody tr th:only-of-type {\n",
              "        vertical-align: middle;\n",
              "    }\n",
              "\n",
              "    .dataframe tbody tr th {\n",
              "        vertical-align: top;\n",
              "    }\n",
              "\n",
              "    .dataframe thead th {\n",
              "        text-align: right;\n",
              "    }\n",
              "</style>\n",
              "<table border=\"1\" class=\"dataframe\">\n",
              "  <thead>\n",
              "    <tr style=\"text-align: right;\">\n",
              "      <th></th>\n",
              "      <th>team_domain</th>\n",
              "      <th>channel_name</th>\n",
              "      <th>start_date</th>\n",
              "      <th>end_date</th>\n",
              "      <th>ts</th>\n",
              "      <th>user</th>\n",
              "      <th>text</th>\n",
              "    </tr>\n",
              "  </thead>\n",
              "  <tbody>\n",
              "    <tr>\n",
              "      <th>0</th>\n",
              "      <td>Python</td>\n",
              "      <td>None</td>\n",
              "      <td>None</td>\n",
              "      <td>None</td>\n",
              "      <td>None</td>\n",
              "      <td>None</td>\n",
              "      <td>None</td>\n",
              "    </tr>\n",
              "    <tr>\n",
              "      <th>1</th>\n",
              "      <td>None</td>\n",
              "      <td>python-general</td>\n",
              "      <td>None</td>\n",
              "      <td>None</td>\n",
              "      <td>None</td>\n",
              "      <td>None</td>\n",
              "      <td>None</td>\n",
              "    </tr>\n",
              "    <tr>\n",
              "      <th>2</th>\n",
              "      <td>None</td>\n",
              "      <td>None</td>\n",
              "      <td>2019-12-01T00:56:23.288000</td>\n",
              "      <td>None</td>\n",
              "      <td>None</td>\n",
              "      <td>None</td>\n",
              "      <td>None</td>\n",
              "    </tr>\n",
              "    <tr>\n",
              "      <th>3</th>\n",
              "      <td>None</td>\n",
              "      <td>None</td>\n",
              "      <td>None</td>\n",
              "      <td>2019-12-31T18:29:57.380000</td>\n",
              "      <td>None</td>\n",
              "      <td>None</td>\n",
              "      <td>None</td>\n",
              "    </tr>\n",
              "    <tr>\n",
              "      <th>4</th>\n",
              "      <td>None</td>\n",
              "      <td>None</td>\n",
              "      <td>None</td>\n",
              "      <td>None</td>\n",
              "      <td>2019-12-01T00:56:23.288000</td>\n",
              "      <td>Ryden</td>\n",
              "      <td>where is the name of the file stored on the file?</td>\n",
              "    </tr>\n",
              "    <tr>\n",
              "      <th>...</th>\n",
              "      <td>...</td>\n",
              "      <td>...</td>\n",
              "      <td>...</td>\n",
              "      <td>...</td>\n",
              "      <td>...</td>\n",
              "      <td>...</td>\n",
              "      <td>...</td>\n",
              "    </tr>\n",
              "    <tr>\n",
              "      <th>30939</th>\n",
              "      <td>None</td>\n",
              "      <td>None</td>\n",
              "      <td>None</td>\n",
              "      <td>None</td>\n",
              "      <td>2019-12-31T18:24:58.198000</td>\n",
              "      <td>Azyriah</td>\n",
              "      <td>hi @GokturkSM</td>\n",
              "    </tr>\n",
              "    <tr>\n",
              "      <th>30940</th>\n",
              "      <td>None</td>\n",
              "      <td>None</td>\n",
              "      <td>None</td>\n",
              "      <td>None</td>\n",
              "      <td>2019-12-31T18:25:37.421000</td>\n",
              "      <td>Areesha</td>\n",
              "      <td>Anyone have some math background? Trying to im...</td>\n",
              "    </tr>\n",
              "    <tr>\n",
              "      <th>30941</th>\n",
              "      <td>None</td>\n",
              "      <td>None</td>\n",
              "      <td>None</td>\n",
              "      <td>None</td>\n",
              "      <td>2019-12-31T18:26:17.603000</td>\n",
              "      <td>Areesha</td>\n",
              "      <td>My question is... what exactly is a cyclic gro...</td>\n",
              "    </tr>\n",
              "    <tr>\n",
              "      <th>30942</th>\n",
              "      <td>None</td>\n",
              "      <td>None</td>\n",
              "      <td>None</td>\n",
              "      <td>None</td>\n",
              "      <td>2019-12-31T18:29:15.676000</td>\n",
              "      <td>Ailany</td>\n",
              "      <td>You need to know what exceptions your code may...</td>\n",
              "    </tr>\n",
              "    <tr>\n",
              "      <th>30943</th>\n",
              "      <td>None</td>\n",
              "      <td>None</td>\n",
              "      <td>None</td>\n",
              "      <td>None</td>\n",
              "      <td>2019-12-31T18:29:57.380000</td>\n",
              "      <td>Ailany</td>\n",
              "      <td>@cup</td>\n",
              "    </tr>\n",
              "  </tbody>\n",
              "</table>\n",
              "<p>30944 rows × 7 columns</p>\n",
              "</div>\n",
              "      <button class=\"colab-df-convert\" onclick=\"convertToInteractive('df-516a4569-7d09-4766-9e0b-6da19fedfafa')\"\n",
              "              title=\"Convert this dataframe to an interactive table.\"\n",
              "              style=\"display:none;\">\n",
              "        \n",
              "  <svg xmlns=\"http://www.w3.org/2000/svg\" height=\"24px\"viewBox=\"0 0 24 24\"\n",
              "       width=\"24px\">\n",
              "    <path d=\"M0 0h24v24H0V0z\" fill=\"none\"/>\n",
              "    <path d=\"M18.56 5.44l.94 2.06.94-2.06 2.06-.94-2.06-.94-.94-2.06-.94 2.06-2.06.94zm-11 1L8.5 8.5l.94-2.06 2.06-.94-2.06-.94L8.5 2.5l-.94 2.06-2.06.94zm10 10l.94 2.06.94-2.06 2.06-.94-2.06-.94-.94-2.06-.94 2.06-2.06.94z\"/><path d=\"M17.41 7.96l-1.37-1.37c-.4-.4-.92-.59-1.43-.59-.52 0-1.04.2-1.43.59L10.3 9.45l-7.72 7.72c-.78.78-.78 2.05 0 2.83L4 21.41c.39.39.9.59 1.41.59.51 0 1.02-.2 1.41-.59l7.78-7.78 2.81-2.81c.8-.78.8-2.07 0-2.86zM5.41 20L4 18.59l7.72-7.72 1.47 1.35L5.41 20z\"/>\n",
              "  </svg>\n",
              "      </button>\n",
              "      \n",
              "  <style>\n",
              "    .colab-df-container {\n",
              "      display:flex;\n",
              "      flex-wrap:wrap;\n",
              "      gap: 12px;\n",
              "    }\n",
              "\n",
              "    .colab-df-convert {\n",
              "      background-color: #E8F0FE;\n",
              "      border: none;\n",
              "      border-radius: 50%;\n",
              "      cursor: pointer;\n",
              "      display: none;\n",
              "      fill: #1967D2;\n",
              "      height: 32px;\n",
              "      padding: 0 0 0 0;\n",
              "      width: 32px;\n",
              "    }\n",
              "\n",
              "    .colab-df-convert:hover {\n",
              "      background-color: #E2EBFA;\n",
              "      box-shadow: 0px 1px 2px rgba(60, 64, 67, 0.3), 0px 1px 3px 1px rgba(60, 64, 67, 0.15);\n",
              "      fill: #174EA6;\n",
              "    }\n",
              "\n",
              "    [theme=dark] .colab-df-convert {\n",
              "      background-color: #3B4455;\n",
              "      fill: #D2E3FC;\n",
              "    }\n",
              "\n",
              "    [theme=dark] .colab-df-convert:hover {\n",
              "      background-color: #434B5C;\n",
              "      box-shadow: 0px 1px 3px 1px rgba(0, 0, 0, 0.15);\n",
              "      filter: drop-shadow(0px 1px 2px rgba(0, 0, 0, 0.3));\n",
              "      fill: #FFFFFF;\n",
              "    }\n",
              "  </style>\n",
              "\n",
              "      <script>\n",
              "        const buttonEl =\n",
              "          document.querySelector('#df-516a4569-7d09-4766-9e0b-6da19fedfafa button.colab-df-convert');\n",
              "        buttonEl.style.display =\n",
              "          google.colab.kernel.accessAllowed ? 'block' : 'none';\n",
              "\n",
              "        async function convertToInteractive(key) {\n",
              "          const element = document.querySelector('#df-516a4569-7d09-4766-9e0b-6da19fedfafa');\n",
              "          const dataTable =\n",
              "            await google.colab.kernel.invokeFunction('convertToInteractive',\n",
              "                                                     [key], {});\n",
              "          if (!dataTable) return;\n",
              "\n",
              "          const docLinkHtml = 'Like what you see? Visit the ' +\n",
              "            '<a target=\"_blank\" href=https://colab.research.google.com/notebooks/data_table.ipynb>data table notebook</a>'\n",
              "            + ' to learn more about interactive tables.';\n",
              "          element.innerHTML = '';\n",
              "          dataTable['output_type'] = 'display_data';\n",
              "          await google.colab.output.renderOutput(dataTable, element);\n",
              "          const docLink = document.createElement('div');\n",
              "          docLink.innerHTML = docLinkHtml;\n",
              "          element.appendChild(docLink);\n",
              "        }\n",
              "      </script>\n",
              "    </div>\n",
              "  </div>\n",
              "  "
            ]
          },
          "metadata": {},
          "execution_count": 5
        }
      ]
    },
    {
      "cell_type": "markdown",
      "source": [
        "# Data Cleaning"
      ],
      "metadata": {
        "id": "iuv0-gFvJ91Z"
      }
    },
    {
      "cell_type": "markdown",
      "source": [
        "Notice the first four columns again, we only have one piece of information in each of these columns, and they aren't that useful to us. We do not need to work with the name of the discord channel as well as the start and end date/time. \n",
        "\n",
        "We will start by getting rid of these first four columns and rows of data to simplify and condense down our data set."
      ],
      "metadata": {
        "id": "xRNLbYwhyvHk"
      }
    },
    {
      "cell_type": "markdown",
      "source": [
        "Let's use the \"drop\" method to get rid of our first four rows of data.\n",
        "\n",
        "Then, let's take a look at what it looks like."
      ],
      "metadata": {
        "id": "jc2uctBgM2lY"
      }
    },
    {
      "cell_type": "code",
      "source": [
        "df = df.drop(range(0,4))\n",
        "\n",
        "df"
      ],
      "metadata": {
        "id": "hNC_uVzvz2i-",
        "colab": {
          "base_uri": "https://localhost:8080/",
          "height": 424
        },
        "outputId": "959bcbb0-6d57-4ca9-9138-f1aaba205a2f"
      },
      "execution_count": 6,
      "outputs": [
        {
          "output_type": "execute_result",
          "data": {
            "text/plain": [
              "      team_domain channel_name start_date end_date  \\\n",
              "4            None         None       None     None   \n",
              "5            None         None       None     None   \n",
              "6            None         None       None     None   \n",
              "7            None         None       None     None   \n",
              "8            None         None       None     None   \n",
              "...           ...          ...        ...      ...   \n",
              "30939        None         None       None     None   \n",
              "30940        None         None       None     None   \n",
              "30941        None         None       None     None   \n",
              "30942        None         None       None     None   \n",
              "30943        None         None       None     None   \n",
              "\n",
              "                               ts     user  \\\n",
              "4      2019-12-01T00:56:23.288000    Ryden   \n",
              "5      2019-12-01T01:07:04.875000  Jayvien   \n",
              "6      2019-12-01T01:10:54.022000  Kaliope   \n",
              "7      2019-12-01T01:13:29.732000    Naely   \n",
              "8      2019-12-01T01:16:43.656000  Jayvien   \n",
              "...                           ...      ...   \n",
              "30939  2019-12-31T18:24:58.198000  Azyriah   \n",
              "30940  2019-12-31T18:25:37.421000  Areesha   \n",
              "30941  2019-12-31T18:26:17.603000  Areesha   \n",
              "30942  2019-12-31T18:29:15.676000   Ailany   \n",
              "30943  2019-12-31T18:29:57.380000   Ailany   \n",
              "\n",
              "                                                    text  \n",
              "4      where is the name of the file stored on the file?  \n",
              "5                                              say what?  \n",
              "6      Where would you guys recommend I learn kotlin ...  \n",
              "7      I used the official Kotlin docs they have an e...  \n",
              "8                                               do they?  \n",
              "...                                                  ...  \n",
              "30939                                      hi @GokturkSM  \n",
              "30940  Anyone have some math background? Trying to im...  \n",
              "30941  My question is... what exactly is a cyclic gro...  \n",
              "30942  You need to know what exceptions your code may...  \n",
              "30943                                               @cup  \n",
              "\n",
              "[30940 rows x 7 columns]"
            ],
            "text/html": [
              "\n",
              "  <div id=\"df-1aa353be-f59d-4221-9ceb-f3a6915acd97\">\n",
              "    <div class=\"colab-df-container\">\n",
              "      <div>\n",
              "<style scoped>\n",
              "    .dataframe tbody tr th:only-of-type {\n",
              "        vertical-align: middle;\n",
              "    }\n",
              "\n",
              "    .dataframe tbody tr th {\n",
              "        vertical-align: top;\n",
              "    }\n",
              "\n",
              "    .dataframe thead th {\n",
              "        text-align: right;\n",
              "    }\n",
              "</style>\n",
              "<table border=\"1\" class=\"dataframe\">\n",
              "  <thead>\n",
              "    <tr style=\"text-align: right;\">\n",
              "      <th></th>\n",
              "      <th>team_domain</th>\n",
              "      <th>channel_name</th>\n",
              "      <th>start_date</th>\n",
              "      <th>end_date</th>\n",
              "      <th>ts</th>\n",
              "      <th>user</th>\n",
              "      <th>text</th>\n",
              "    </tr>\n",
              "  </thead>\n",
              "  <tbody>\n",
              "    <tr>\n",
              "      <th>4</th>\n",
              "      <td>None</td>\n",
              "      <td>None</td>\n",
              "      <td>None</td>\n",
              "      <td>None</td>\n",
              "      <td>2019-12-01T00:56:23.288000</td>\n",
              "      <td>Ryden</td>\n",
              "      <td>where is the name of the file stored on the file?</td>\n",
              "    </tr>\n",
              "    <tr>\n",
              "      <th>5</th>\n",
              "      <td>None</td>\n",
              "      <td>None</td>\n",
              "      <td>None</td>\n",
              "      <td>None</td>\n",
              "      <td>2019-12-01T01:07:04.875000</td>\n",
              "      <td>Jayvien</td>\n",
              "      <td>say what?</td>\n",
              "    </tr>\n",
              "    <tr>\n",
              "      <th>6</th>\n",
              "      <td>None</td>\n",
              "      <td>None</td>\n",
              "      <td>None</td>\n",
              "      <td>None</td>\n",
              "      <td>2019-12-01T01:10:54.022000</td>\n",
              "      <td>Kaliope</td>\n",
              "      <td>Where would you guys recommend I learn kotlin ...</td>\n",
              "    </tr>\n",
              "    <tr>\n",
              "      <th>7</th>\n",
              "      <td>None</td>\n",
              "      <td>None</td>\n",
              "      <td>None</td>\n",
              "      <td>None</td>\n",
              "      <td>2019-12-01T01:13:29.732000</td>\n",
              "      <td>Naely</td>\n",
              "      <td>I used the official Kotlin docs they have an e...</td>\n",
              "    </tr>\n",
              "    <tr>\n",
              "      <th>8</th>\n",
              "      <td>None</td>\n",
              "      <td>None</td>\n",
              "      <td>None</td>\n",
              "      <td>None</td>\n",
              "      <td>2019-12-01T01:16:43.656000</td>\n",
              "      <td>Jayvien</td>\n",
              "      <td>do they?</td>\n",
              "    </tr>\n",
              "    <tr>\n",
              "      <th>...</th>\n",
              "      <td>...</td>\n",
              "      <td>...</td>\n",
              "      <td>...</td>\n",
              "      <td>...</td>\n",
              "      <td>...</td>\n",
              "      <td>...</td>\n",
              "      <td>...</td>\n",
              "    </tr>\n",
              "    <tr>\n",
              "      <th>30939</th>\n",
              "      <td>None</td>\n",
              "      <td>None</td>\n",
              "      <td>None</td>\n",
              "      <td>None</td>\n",
              "      <td>2019-12-31T18:24:58.198000</td>\n",
              "      <td>Azyriah</td>\n",
              "      <td>hi @GokturkSM</td>\n",
              "    </tr>\n",
              "    <tr>\n",
              "      <th>30940</th>\n",
              "      <td>None</td>\n",
              "      <td>None</td>\n",
              "      <td>None</td>\n",
              "      <td>None</td>\n",
              "      <td>2019-12-31T18:25:37.421000</td>\n",
              "      <td>Areesha</td>\n",
              "      <td>Anyone have some math background? Trying to im...</td>\n",
              "    </tr>\n",
              "    <tr>\n",
              "      <th>30941</th>\n",
              "      <td>None</td>\n",
              "      <td>None</td>\n",
              "      <td>None</td>\n",
              "      <td>None</td>\n",
              "      <td>2019-12-31T18:26:17.603000</td>\n",
              "      <td>Areesha</td>\n",
              "      <td>My question is... what exactly is a cyclic gro...</td>\n",
              "    </tr>\n",
              "    <tr>\n",
              "      <th>30942</th>\n",
              "      <td>None</td>\n",
              "      <td>None</td>\n",
              "      <td>None</td>\n",
              "      <td>None</td>\n",
              "      <td>2019-12-31T18:29:15.676000</td>\n",
              "      <td>Ailany</td>\n",
              "      <td>You need to know what exceptions your code may...</td>\n",
              "    </tr>\n",
              "    <tr>\n",
              "      <th>30943</th>\n",
              "      <td>None</td>\n",
              "      <td>None</td>\n",
              "      <td>None</td>\n",
              "      <td>None</td>\n",
              "      <td>2019-12-31T18:29:57.380000</td>\n",
              "      <td>Ailany</td>\n",
              "      <td>@cup</td>\n",
              "    </tr>\n",
              "  </tbody>\n",
              "</table>\n",
              "<p>30940 rows × 7 columns</p>\n",
              "</div>\n",
              "      <button class=\"colab-df-convert\" onclick=\"convertToInteractive('df-1aa353be-f59d-4221-9ceb-f3a6915acd97')\"\n",
              "              title=\"Convert this dataframe to an interactive table.\"\n",
              "              style=\"display:none;\">\n",
              "        \n",
              "  <svg xmlns=\"http://www.w3.org/2000/svg\" height=\"24px\"viewBox=\"0 0 24 24\"\n",
              "       width=\"24px\">\n",
              "    <path d=\"M0 0h24v24H0V0z\" fill=\"none\"/>\n",
              "    <path d=\"M18.56 5.44l.94 2.06.94-2.06 2.06-.94-2.06-.94-.94-2.06-.94 2.06-2.06.94zm-11 1L8.5 8.5l.94-2.06 2.06-.94-2.06-.94L8.5 2.5l-.94 2.06-2.06.94zm10 10l.94 2.06.94-2.06 2.06-.94-2.06-.94-.94-2.06-.94 2.06-2.06.94z\"/><path d=\"M17.41 7.96l-1.37-1.37c-.4-.4-.92-.59-1.43-.59-.52 0-1.04.2-1.43.59L10.3 9.45l-7.72 7.72c-.78.78-.78 2.05 0 2.83L4 21.41c.39.39.9.59 1.41.59.51 0 1.02-.2 1.41-.59l7.78-7.78 2.81-2.81c.8-.78.8-2.07 0-2.86zM5.41 20L4 18.59l7.72-7.72 1.47 1.35L5.41 20z\"/>\n",
              "  </svg>\n",
              "      </button>\n",
              "      \n",
              "  <style>\n",
              "    .colab-df-container {\n",
              "      display:flex;\n",
              "      flex-wrap:wrap;\n",
              "      gap: 12px;\n",
              "    }\n",
              "\n",
              "    .colab-df-convert {\n",
              "      background-color: #E8F0FE;\n",
              "      border: none;\n",
              "      border-radius: 50%;\n",
              "      cursor: pointer;\n",
              "      display: none;\n",
              "      fill: #1967D2;\n",
              "      height: 32px;\n",
              "      padding: 0 0 0 0;\n",
              "      width: 32px;\n",
              "    }\n",
              "\n",
              "    .colab-df-convert:hover {\n",
              "      background-color: #E2EBFA;\n",
              "      box-shadow: 0px 1px 2px rgba(60, 64, 67, 0.3), 0px 1px 3px 1px rgba(60, 64, 67, 0.15);\n",
              "      fill: #174EA6;\n",
              "    }\n",
              "\n",
              "    [theme=dark] .colab-df-convert {\n",
              "      background-color: #3B4455;\n",
              "      fill: #D2E3FC;\n",
              "    }\n",
              "\n",
              "    [theme=dark] .colab-df-convert:hover {\n",
              "      background-color: #434B5C;\n",
              "      box-shadow: 0px 1px 3px 1px rgba(0, 0, 0, 0.15);\n",
              "      filter: drop-shadow(0px 1px 2px rgba(0, 0, 0, 0.3));\n",
              "      fill: #FFFFFF;\n",
              "    }\n",
              "  </style>\n",
              "\n",
              "      <script>\n",
              "        const buttonEl =\n",
              "          document.querySelector('#df-1aa353be-f59d-4221-9ceb-f3a6915acd97 button.colab-df-convert');\n",
              "        buttonEl.style.display =\n",
              "          google.colab.kernel.accessAllowed ? 'block' : 'none';\n",
              "\n",
              "        async function convertToInteractive(key) {\n",
              "          const element = document.querySelector('#df-1aa353be-f59d-4221-9ceb-f3a6915acd97');\n",
              "          const dataTable =\n",
              "            await google.colab.kernel.invokeFunction('convertToInteractive',\n",
              "                                                     [key], {});\n",
              "          if (!dataTable) return;\n",
              "\n",
              "          const docLinkHtml = 'Like what you see? Visit the ' +\n",
              "            '<a target=\"_blank\" href=https://colab.research.google.com/notebooks/data_table.ipynb>data table notebook</a>'\n",
              "            + ' to learn more about interactive tables.';\n",
              "          element.innerHTML = '';\n",
              "          dataTable['output_type'] = 'display_data';\n",
              "          await google.colab.output.renderOutput(dataTable, element);\n",
              "          const docLink = document.createElement('div');\n",
              "          docLink.innerHTML = docLinkHtml;\n",
              "          element.appendChild(docLink);\n",
              "        }\n",
              "      </script>\n",
              "    </div>\n",
              "  </div>\n",
              "  "
            ]
          },
          "metadata": {},
          "execution_count": 6
        }
      ]
    },
    {
      "cell_type": "markdown",
      "source": [
        "Our data set looks a little cleaner now. However, now we have four rows full of empty or null data.\n",
        "\n",
        "Lets now get rid of these first four columns to condense our table down into a more readable table.\n",
        "\n",
        "We will use the same \"drop\" method but we will specify what columns exactly we want to drop as well as use \"axis=1\" to specify we want to drop a column instead of a rows."
      ],
      "metadata": {
        "id": "siTYgcKj1ff3"
      }
    },
    {
      "cell_type": "code",
      "source": [
        "df = df.drop(labels=\"team_domain\", axis=1)\n",
        "\n",
        "df"
      ],
      "metadata": {
        "id": "QuiNEgLU164_",
        "colab": {
          "base_uri": "https://localhost:8080/",
          "height": 424
        },
        "outputId": "48d8d8cb-d287-417c-a30c-533027edafbc"
      },
      "execution_count": 7,
      "outputs": [
        {
          "output_type": "execute_result",
          "data": {
            "text/plain": [
              "      channel_name start_date end_date                          ts     user  \\\n",
              "4             None       None     None  2019-12-01T00:56:23.288000    Ryden   \n",
              "5             None       None     None  2019-12-01T01:07:04.875000  Jayvien   \n",
              "6             None       None     None  2019-12-01T01:10:54.022000  Kaliope   \n",
              "7             None       None     None  2019-12-01T01:13:29.732000    Naely   \n",
              "8             None       None     None  2019-12-01T01:16:43.656000  Jayvien   \n",
              "...            ...        ...      ...                         ...      ...   \n",
              "30939         None       None     None  2019-12-31T18:24:58.198000  Azyriah   \n",
              "30940         None       None     None  2019-12-31T18:25:37.421000  Areesha   \n",
              "30941         None       None     None  2019-12-31T18:26:17.603000  Areesha   \n",
              "30942         None       None     None  2019-12-31T18:29:15.676000   Ailany   \n",
              "30943         None       None     None  2019-12-31T18:29:57.380000   Ailany   \n",
              "\n",
              "                                                    text  \n",
              "4      where is the name of the file stored on the file?  \n",
              "5                                              say what?  \n",
              "6      Where would you guys recommend I learn kotlin ...  \n",
              "7      I used the official Kotlin docs they have an e...  \n",
              "8                                               do they?  \n",
              "...                                                  ...  \n",
              "30939                                      hi @GokturkSM  \n",
              "30940  Anyone have some math background? Trying to im...  \n",
              "30941  My question is... what exactly is a cyclic gro...  \n",
              "30942  You need to know what exceptions your code may...  \n",
              "30943                                               @cup  \n",
              "\n",
              "[30940 rows x 6 columns]"
            ],
            "text/html": [
              "\n",
              "  <div id=\"df-325a9b3e-1ae4-4ccd-a507-b2a783d70866\">\n",
              "    <div class=\"colab-df-container\">\n",
              "      <div>\n",
              "<style scoped>\n",
              "    .dataframe tbody tr th:only-of-type {\n",
              "        vertical-align: middle;\n",
              "    }\n",
              "\n",
              "    .dataframe tbody tr th {\n",
              "        vertical-align: top;\n",
              "    }\n",
              "\n",
              "    .dataframe thead th {\n",
              "        text-align: right;\n",
              "    }\n",
              "</style>\n",
              "<table border=\"1\" class=\"dataframe\">\n",
              "  <thead>\n",
              "    <tr style=\"text-align: right;\">\n",
              "      <th></th>\n",
              "      <th>channel_name</th>\n",
              "      <th>start_date</th>\n",
              "      <th>end_date</th>\n",
              "      <th>ts</th>\n",
              "      <th>user</th>\n",
              "      <th>text</th>\n",
              "    </tr>\n",
              "  </thead>\n",
              "  <tbody>\n",
              "    <tr>\n",
              "      <th>4</th>\n",
              "      <td>None</td>\n",
              "      <td>None</td>\n",
              "      <td>None</td>\n",
              "      <td>2019-12-01T00:56:23.288000</td>\n",
              "      <td>Ryden</td>\n",
              "      <td>where is the name of the file stored on the file?</td>\n",
              "    </tr>\n",
              "    <tr>\n",
              "      <th>5</th>\n",
              "      <td>None</td>\n",
              "      <td>None</td>\n",
              "      <td>None</td>\n",
              "      <td>2019-12-01T01:07:04.875000</td>\n",
              "      <td>Jayvien</td>\n",
              "      <td>say what?</td>\n",
              "    </tr>\n",
              "    <tr>\n",
              "      <th>6</th>\n",
              "      <td>None</td>\n",
              "      <td>None</td>\n",
              "      <td>None</td>\n",
              "      <td>2019-12-01T01:10:54.022000</td>\n",
              "      <td>Kaliope</td>\n",
              "      <td>Where would you guys recommend I learn kotlin ...</td>\n",
              "    </tr>\n",
              "    <tr>\n",
              "      <th>7</th>\n",
              "      <td>None</td>\n",
              "      <td>None</td>\n",
              "      <td>None</td>\n",
              "      <td>2019-12-01T01:13:29.732000</td>\n",
              "      <td>Naely</td>\n",
              "      <td>I used the official Kotlin docs they have an e...</td>\n",
              "    </tr>\n",
              "    <tr>\n",
              "      <th>8</th>\n",
              "      <td>None</td>\n",
              "      <td>None</td>\n",
              "      <td>None</td>\n",
              "      <td>2019-12-01T01:16:43.656000</td>\n",
              "      <td>Jayvien</td>\n",
              "      <td>do they?</td>\n",
              "    </tr>\n",
              "    <tr>\n",
              "      <th>...</th>\n",
              "      <td>...</td>\n",
              "      <td>...</td>\n",
              "      <td>...</td>\n",
              "      <td>...</td>\n",
              "      <td>...</td>\n",
              "      <td>...</td>\n",
              "    </tr>\n",
              "    <tr>\n",
              "      <th>30939</th>\n",
              "      <td>None</td>\n",
              "      <td>None</td>\n",
              "      <td>None</td>\n",
              "      <td>2019-12-31T18:24:58.198000</td>\n",
              "      <td>Azyriah</td>\n",
              "      <td>hi @GokturkSM</td>\n",
              "    </tr>\n",
              "    <tr>\n",
              "      <th>30940</th>\n",
              "      <td>None</td>\n",
              "      <td>None</td>\n",
              "      <td>None</td>\n",
              "      <td>2019-12-31T18:25:37.421000</td>\n",
              "      <td>Areesha</td>\n",
              "      <td>Anyone have some math background? Trying to im...</td>\n",
              "    </tr>\n",
              "    <tr>\n",
              "      <th>30941</th>\n",
              "      <td>None</td>\n",
              "      <td>None</td>\n",
              "      <td>None</td>\n",
              "      <td>2019-12-31T18:26:17.603000</td>\n",
              "      <td>Areesha</td>\n",
              "      <td>My question is... what exactly is a cyclic gro...</td>\n",
              "    </tr>\n",
              "    <tr>\n",
              "      <th>30942</th>\n",
              "      <td>None</td>\n",
              "      <td>None</td>\n",
              "      <td>None</td>\n",
              "      <td>2019-12-31T18:29:15.676000</td>\n",
              "      <td>Ailany</td>\n",
              "      <td>You need to know what exceptions your code may...</td>\n",
              "    </tr>\n",
              "    <tr>\n",
              "      <th>30943</th>\n",
              "      <td>None</td>\n",
              "      <td>None</td>\n",
              "      <td>None</td>\n",
              "      <td>2019-12-31T18:29:57.380000</td>\n",
              "      <td>Ailany</td>\n",
              "      <td>@cup</td>\n",
              "    </tr>\n",
              "  </tbody>\n",
              "</table>\n",
              "<p>30940 rows × 6 columns</p>\n",
              "</div>\n",
              "      <button class=\"colab-df-convert\" onclick=\"convertToInteractive('df-325a9b3e-1ae4-4ccd-a507-b2a783d70866')\"\n",
              "              title=\"Convert this dataframe to an interactive table.\"\n",
              "              style=\"display:none;\">\n",
              "        \n",
              "  <svg xmlns=\"http://www.w3.org/2000/svg\" height=\"24px\"viewBox=\"0 0 24 24\"\n",
              "       width=\"24px\">\n",
              "    <path d=\"M0 0h24v24H0V0z\" fill=\"none\"/>\n",
              "    <path d=\"M18.56 5.44l.94 2.06.94-2.06 2.06-.94-2.06-.94-.94-2.06-.94 2.06-2.06.94zm-11 1L8.5 8.5l.94-2.06 2.06-.94-2.06-.94L8.5 2.5l-.94 2.06-2.06.94zm10 10l.94 2.06.94-2.06 2.06-.94-2.06-.94-.94-2.06-.94 2.06-2.06.94z\"/><path d=\"M17.41 7.96l-1.37-1.37c-.4-.4-.92-.59-1.43-.59-.52 0-1.04.2-1.43.59L10.3 9.45l-7.72 7.72c-.78.78-.78 2.05 0 2.83L4 21.41c.39.39.9.59 1.41.59.51 0 1.02-.2 1.41-.59l7.78-7.78 2.81-2.81c.8-.78.8-2.07 0-2.86zM5.41 20L4 18.59l7.72-7.72 1.47 1.35L5.41 20z\"/>\n",
              "  </svg>\n",
              "      </button>\n",
              "      \n",
              "  <style>\n",
              "    .colab-df-container {\n",
              "      display:flex;\n",
              "      flex-wrap:wrap;\n",
              "      gap: 12px;\n",
              "    }\n",
              "\n",
              "    .colab-df-convert {\n",
              "      background-color: #E8F0FE;\n",
              "      border: none;\n",
              "      border-radius: 50%;\n",
              "      cursor: pointer;\n",
              "      display: none;\n",
              "      fill: #1967D2;\n",
              "      height: 32px;\n",
              "      padding: 0 0 0 0;\n",
              "      width: 32px;\n",
              "    }\n",
              "\n",
              "    .colab-df-convert:hover {\n",
              "      background-color: #E2EBFA;\n",
              "      box-shadow: 0px 1px 2px rgba(60, 64, 67, 0.3), 0px 1px 3px 1px rgba(60, 64, 67, 0.15);\n",
              "      fill: #174EA6;\n",
              "    }\n",
              "\n",
              "    [theme=dark] .colab-df-convert {\n",
              "      background-color: #3B4455;\n",
              "      fill: #D2E3FC;\n",
              "    }\n",
              "\n",
              "    [theme=dark] .colab-df-convert:hover {\n",
              "      background-color: #434B5C;\n",
              "      box-shadow: 0px 1px 3px 1px rgba(0, 0, 0, 0.15);\n",
              "      filter: drop-shadow(0px 1px 2px rgba(0, 0, 0, 0.3));\n",
              "      fill: #FFFFFF;\n",
              "    }\n",
              "  </style>\n",
              "\n",
              "      <script>\n",
              "        const buttonEl =\n",
              "          document.querySelector('#df-325a9b3e-1ae4-4ccd-a507-b2a783d70866 button.colab-df-convert');\n",
              "        buttonEl.style.display =\n",
              "          google.colab.kernel.accessAllowed ? 'block' : 'none';\n",
              "\n",
              "        async function convertToInteractive(key) {\n",
              "          const element = document.querySelector('#df-325a9b3e-1ae4-4ccd-a507-b2a783d70866');\n",
              "          const dataTable =\n",
              "            await google.colab.kernel.invokeFunction('convertToInteractive',\n",
              "                                                     [key], {});\n",
              "          if (!dataTable) return;\n",
              "\n",
              "          const docLinkHtml = 'Like what you see? Visit the ' +\n",
              "            '<a target=\"_blank\" href=https://colab.research.google.com/notebooks/data_table.ipynb>data table notebook</a>'\n",
              "            + ' to learn more about interactive tables.';\n",
              "          element.innerHTML = '';\n",
              "          dataTable['output_type'] = 'display_data';\n",
              "          await google.colab.output.renderOutput(dataTable, element);\n",
              "          const docLink = document.createElement('div');\n",
              "          docLink.innerHTML = docLinkHtml;\n",
              "          element.appendChild(docLink);\n",
              "        }\n",
              "      </script>\n",
              "    </div>\n",
              "  </div>\n",
              "  "
            ]
          },
          "metadata": {},
          "execution_count": 7
        }
      ]
    },
    {
      "cell_type": "markdown",
      "source": [
        "As you can see we dropped the \"team_domain\" column successfully. \n",
        "\n",
        "Lets get rid of the last three empty columns then take a look at how our data set table looks."
      ],
      "metadata": {
        "id": "9a-XwqAZ2bv5"
      }
    },
    {
      "cell_type": "code",
      "source": [
        "df = df.drop(labels=\"channel_name\", axis=1)\n",
        "df = df.drop(labels=\"start_date\", axis=1)\n",
        "df = df.drop(labels=\"end_date\", axis=1)\n",
        "\n",
        "df"
      ],
      "metadata": {
        "id": "k5uAZIgL2rg-",
        "colab": {
          "base_uri": "https://localhost:8080/",
          "height": 424
        },
        "outputId": "8de316c5-7a65-4908-e48d-9e569463f1b7"
      },
      "execution_count": 8,
      "outputs": [
        {
          "output_type": "execute_result",
          "data": {
            "text/plain": [
              "                               ts     user  \\\n",
              "4      2019-12-01T00:56:23.288000    Ryden   \n",
              "5      2019-12-01T01:07:04.875000  Jayvien   \n",
              "6      2019-12-01T01:10:54.022000  Kaliope   \n",
              "7      2019-12-01T01:13:29.732000    Naely   \n",
              "8      2019-12-01T01:16:43.656000  Jayvien   \n",
              "...                           ...      ...   \n",
              "30939  2019-12-31T18:24:58.198000  Azyriah   \n",
              "30940  2019-12-31T18:25:37.421000  Areesha   \n",
              "30941  2019-12-31T18:26:17.603000  Areesha   \n",
              "30942  2019-12-31T18:29:15.676000   Ailany   \n",
              "30943  2019-12-31T18:29:57.380000   Ailany   \n",
              "\n",
              "                                                    text  \n",
              "4      where is the name of the file stored on the file?  \n",
              "5                                              say what?  \n",
              "6      Where would you guys recommend I learn kotlin ...  \n",
              "7      I used the official Kotlin docs they have an e...  \n",
              "8                                               do they?  \n",
              "...                                                  ...  \n",
              "30939                                      hi @GokturkSM  \n",
              "30940  Anyone have some math background? Trying to im...  \n",
              "30941  My question is... what exactly is a cyclic gro...  \n",
              "30942  You need to know what exceptions your code may...  \n",
              "30943                                               @cup  \n",
              "\n",
              "[30940 rows x 3 columns]"
            ],
            "text/html": [
              "\n",
              "  <div id=\"df-785d94f9-386e-46cf-aad7-a6076da43fe3\">\n",
              "    <div class=\"colab-df-container\">\n",
              "      <div>\n",
              "<style scoped>\n",
              "    .dataframe tbody tr th:only-of-type {\n",
              "        vertical-align: middle;\n",
              "    }\n",
              "\n",
              "    .dataframe tbody tr th {\n",
              "        vertical-align: top;\n",
              "    }\n",
              "\n",
              "    .dataframe thead th {\n",
              "        text-align: right;\n",
              "    }\n",
              "</style>\n",
              "<table border=\"1\" class=\"dataframe\">\n",
              "  <thead>\n",
              "    <tr style=\"text-align: right;\">\n",
              "      <th></th>\n",
              "      <th>ts</th>\n",
              "      <th>user</th>\n",
              "      <th>text</th>\n",
              "    </tr>\n",
              "  </thead>\n",
              "  <tbody>\n",
              "    <tr>\n",
              "      <th>4</th>\n",
              "      <td>2019-12-01T00:56:23.288000</td>\n",
              "      <td>Ryden</td>\n",
              "      <td>where is the name of the file stored on the file?</td>\n",
              "    </tr>\n",
              "    <tr>\n",
              "      <th>5</th>\n",
              "      <td>2019-12-01T01:07:04.875000</td>\n",
              "      <td>Jayvien</td>\n",
              "      <td>say what?</td>\n",
              "    </tr>\n",
              "    <tr>\n",
              "      <th>6</th>\n",
              "      <td>2019-12-01T01:10:54.022000</td>\n",
              "      <td>Kaliope</td>\n",
              "      <td>Where would you guys recommend I learn kotlin ...</td>\n",
              "    </tr>\n",
              "    <tr>\n",
              "      <th>7</th>\n",
              "      <td>2019-12-01T01:13:29.732000</td>\n",
              "      <td>Naely</td>\n",
              "      <td>I used the official Kotlin docs they have an e...</td>\n",
              "    </tr>\n",
              "    <tr>\n",
              "      <th>8</th>\n",
              "      <td>2019-12-01T01:16:43.656000</td>\n",
              "      <td>Jayvien</td>\n",
              "      <td>do they?</td>\n",
              "    </tr>\n",
              "    <tr>\n",
              "      <th>...</th>\n",
              "      <td>...</td>\n",
              "      <td>...</td>\n",
              "      <td>...</td>\n",
              "    </tr>\n",
              "    <tr>\n",
              "      <th>30939</th>\n",
              "      <td>2019-12-31T18:24:58.198000</td>\n",
              "      <td>Azyriah</td>\n",
              "      <td>hi @GokturkSM</td>\n",
              "    </tr>\n",
              "    <tr>\n",
              "      <th>30940</th>\n",
              "      <td>2019-12-31T18:25:37.421000</td>\n",
              "      <td>Areesha</td>\n",
              "      <td>Anyone have some math background? Trying to im...</td>\n",
              "    </tr>\n",
              "    <tr>\n",
              "      <th>30941</th>\n",
              "      <td>2019-12-31T18:26:17.603000</td>\n",
              "      <td>Areesha</td>\n",
              "      <td>My question is... what exactly is a cyclic gro...</td>\n",
              "    </tr>\n",
              "    <tr>\n",
              "      <th>30942</th>\n",
              "      <td>2019-12-31T18:29:15.676000</td>\n",
              "      <td>Ailany</td>\n",
              "      <td>You need to know what exceptions your code may...</td>\n",
              "    </tr>\n",
              "    <tr>\n",
              "      <th>30943</th>\n",
              "      <td>2019-12-31T18:29:57.380000</td>\n",
              "      <td>Ailany</td>\n",
              "      <td>@cup</td>\n",
              "    </tr>\n",
              "  </tbody>\n",
              "</table>\n",
              "<p>30940 rows × 3 columns</p>\n",
              "</div>\n",
              "      <button class=\"colab-df-convert\" onclick=\"convertToInteractive('df-785d94f9-386e-46cf-aad7-a6076da43fe3')\"\n",
              "              title=\"Convert this dataframe to an interactive table.\"\n",
              "              style=\"display:none;\">\n",
              "        \n",
              "  <svg xmlns=\"http://www.w3.org/2000/svg\" height=\"24px\"viewBox=\"0 0 24 24\"\n",
              "       width=\"24px\">\n",
              "    <path d=\"M0 0h24v24H0V0z\" fill=\"none\"/>\n",
              "    <path d=\"M18.56 5.44l.94 2.06.94-2.06 2.06-.94-2.06-.94-.94-2.06-.94 2.06-2.06.94zm-11 1L8.5 8.5l.94-2.06 2.06-.94-2.06-.94L8.5 2.5l-.94 2.06-2.06.94zm10 10l.94 2.06.94-2.06 2.06-.94-2.06-.94-.94-2.06-.94 2.06-2.06.94z\"/><path d=\"M17.41 7.96l-1.37-1.37c-.4-.4-.92-.59-1.43-.59-.52 0-1.04.2-1.43.59L10.3 9.45l-7.72 7.72c-.78.78-.78 2.05 0 2.83L4 21.41c.39.39.9.59 1.41.59.51 0 1.02-.2 1.41-.59l7.78-7.78 2.81-2.81c.8-.78.8-2.07 0-2.86zM5.41 20L4 18.59l7.72-7.72 1.47 1.35L5.41 20z\"/>\n",
              "  </svg>\n",
              "      </button>\n",
              "      \n",
              "  <style>\n",
              "    .colab-df-container {\n",
              "      display:flex;\n",
              "      flex-wrap:wrap;\n",
              "      gap: 12px;\n",
              "    }\n",
              "\n",
              "    .colab-df-convert {\n",
              "      background-color: #E8F0FE;\n",
              "      border: none;\n",
              "      border-radius: 50%;\n",
              "      cursor: pointer;\n",
              "      display: none;\n",
              "      fill: #1967D2;\n",
              "      height: 32px;\n",
              "      padding: 0 0 0 0;\n",
              "      width: 32px;\n",
              "    }\n",
              "\n",
              "    .colab-df-convert:hover {\n",
              "      background-color: #E2EBFA;\n",
              "      box-shadow: 0px 1px 2px rgba(60, 64, 67, 0.3), 0px 1px 3px 1px rgba(60, 64, 67, 0.15);\n",
              "      fill: #174EA6;\n",
              "    }\n",
              "\n",
              "    [theme=dark] .colab-df-convert {\n",
              "      background-color: #3B4455;\n",
              "      fill: #D2E3FC;\n",
              "    }\n",
              "\n",
              "    [theme=dark] .colab-df-convert:hover {\n",
              "      background-color: #434B5C;\n",
              "      box-shadow: 0px 1px 3px 1px rgba(0, 0, 0, 0.15);\n",
              "      filter: drop-shadow(0px 1px 2px rgba(0, 0, 0, 0.3));\n",
              "      fill: #FFFFFF;\n",
              "    }\n",
              "  </style>\n",
              "\n",
              "      <script>\n",
              "        const buttonEl =\n",
              "          document.querySelector('#df-785d94f9-386e-46cf-aad7-a6076da43fe3 button.colab-df-convert');\n",
              "        buttonEl.style.display =\n",
              "          google.colab.kernel.accessAllowed ? 'block' : 'none';\n",
              "\n",
              "        async function convertToInteractive(key) {\n",
              "          const element = document.querySelector('#df-785d94f9-386e-46cf-aad7-a6076da43fe3');\n",
              "          const dataTable =\n",
              "            await google.colab.kernel.invokeFunction('convertToInteractive',\n",
              "                                                     [key], {});\n",
              "          if (!dataTable) return;\n",
              "\n",
              "          const docLinkHtml = 'Like what you see? Visit the ' +\n",
              "            '<a target=\"_blank\" href=https://colab.research.google.com/notebooks/data_table.ipynb>data table notebook</a>'\n",
              "            + ' to learn more about interactive tables.';\n",
              "          element.innerHTML = '';\n",
              "          dataTable['output_type'] = 'display_data';\n",
              "          await google.colab.output.renderOutput(dataTable, element);\n",
              "          const docLink = document.createElement('div');\n",
              "          docLink.innerHTML = docLinkHtml;\n",
              "          element.appendChild(docLink);\n",
              "        }\n",
              "      </script>\n",
              "    </div>\n",
              "  </div>\n",
              "  "
            ]
          },
          "metadata": {},
          "execution_count": 8
        }
      ]
    },
    {
      "cell_type": "markdown",
      "source": [
        "# Formatting"
      ],
      "metadata": {
        "id": "UHeHh0CTMMwM"
      }
    },
    {
      "cell_type": "markdown",
      "source": [
        "Our table looks much cleaner now, we consolidated the data down into data we want to actually look at.\n",
        "\n",
        "Lets next rename the 'ts' column into 'time' just to better clarify. We will use the \"rename\" method to do so."
      ],
      "metadata": {
        "id": "N6iyZHNi25wM"
      }
    },
    {
      "cell_type": "code",
      "source": [
        "df.rename(columns = {'ts':'time'}, inplace = True)\n",
        "\n",
        "df"
      ],
      "metadata": {
        "id": "8IZuFDjw3IfY",
        "colab": {
          "base_uri": "https://localhost:8080/",
          "height": 424
        },
        "outputId": "60f28f42-a43b-47f1-cf65-3e7f0928f9b4"
      },
      "execution_count": 9,
      "outputs": [
        {
          "output_type": "execute_result",
          "data": {
            "text/plain": [
              "                             time     user  \\\n",
              "4      2019-12-01T00:56:23.288000    Ryden   \n",
              "5      2019-12-01T01:07:04.875000  Jayvien   \n",
              "6      2019-12-01T01:10:54.022000  Kaliope   \n",
              "7      2019-12-01T01:13:29.732000    Naely   \n",
              "8      2019-12-01T01:16:43.656000  Jayvien   \n",
              "...                           ...      ...   \n",
              "30939  2019-12-31T18:24:58.198000  Azyriah   \n",
              "30940  2019-12-31T18:25:37.421000  Areesha   \n",
              "30941  2019-12-31T18:26:17.603000  Areesha   \n",
              "30942  2019-12-31T18:29:15.676000   Ailany   \n",
              "30943  2019-12-31T18:29:57.380000   Ailany   \n",
              "\n",
              "                                                    text  \n",
              "4      where is the name of the file stored on the file?  \n",
              "5                                              say what?  \n",
              "6      Where would you guys recommend I learn kotlin ...  \n",
              "7      I used the official Kotlin docs they have an e...  \n",
              "8                                               do they?  \n",
              "...                                                  ...  \n",
              "30939                                      hi @GokturkSM  \n",
              "30940  Anyone have some math background? Trying to im...  \n",
              "30941  My question is... what exactly is a cyclic gro...  \n",
              "30942  You need to know what exceptions your code may...  \n",
              "30943                                               @cup  \n",
              "\n",
              "[30940 rows x 3 columns]"
            ],
            "text/html": [
              "\n",
              "  <div id=\"df-b5a764b2-af73-40f2-b114-16272a5d381e\">\n",
              "    <div class=\"colab-df-container\">\n",
              "      <div>\n",
              "<style scoped>\n",
              "    .dataframe tbody tr th:only-of-type {\n",
              "        vertical-align: middle;\n",
              "    }\n",
              "\n",
              "    .dataframe tbody tr th {\n",
              "        vertical-align: top;\n",
              "    }\n",
              "\n",
              "    .dataframe thead th {\n",
              "        text-align: right;\n",
              "    }\n",
              "</style>\n",
              "<table border=\"1\" class=\"dataframe\">\n",
              "  <thead>\n",
              "    <tr style=\"text-align: right;\">\n",
              "      <th></th>\n",
              "      <th>time</th>\n",
              "      <th>user</th>\n",
              "      <th>text</th>\n",
              "    </tr>\n",
              "  </thead>\n",
              "  <tbody>\n",
              "    <tr>\n",
              "      <th>4</th>\n",
              "      <td>2019-12-01T00:56:23.288000</td>\n",
              "      <td>Ryden</td>\n",
              "      <td>where is the name of the file stored on the file?</td>\n",
              "    </tr>\n",
              "    <tr>\n",
              "      <th>5</th>\n",
              "      <td>2019-12-01T01:07:04.875000</td>\n",
              "      <td>Jayvien</td>\n",
              "      <td>say what?</td>\n",
              "    </tr>\n",
              "    <tr>\n",
              "      <th>6</th>\n",
              "      <td>2019-12-01T01:10:54.022000</td>\n",
              "      <td>Kaliope</td>\n",
              "      <td>Where would you guys recommend I learn kotlin ...</td>\n",
              "    </tr>\n",
              "    <tr>\n",
              "      <th>7</th>\n",
              "      <td>2019-12-01T01:13:29.732000</td>\n",
              "      <td>Naely</td>\n",
              "      <td>I used the official Kotlin docs they have an e...</td>\n",
              "    </tr>\n",
              "    <tr>\n",
              "      <th>8</th>\n",
              "      <td>2019-12-01T01:16:43.656000</td>\n",
              "      <td>Jayvien</td>\n",
              "      <td>do they?</td>\n",
              "    </tr>\n",
              "    <tr>\n",
              "      <th>...</th>\n",
              "      <td>...</td>\n",
              "      <td>...</td>\n",
              "      <td>...</td>\n",
              "    </tr>\n",
              "    <tr>\n",
              "      <th>30939</th>\n",
              "      <td>2019-12-31T18:24:58.198000</td>\n",
              "      <td>Azyriah</td>\n",
              "      <td>hi @GokturkSM</td>\n",
              "    </tr>\n",
              "    <tr>\n",
              "      <th>30940</th>\n",
              "      <td>2019-12-31T18:25:37.421000</td>\n",
              "      <td>Areesha</td>\n",
              "      <td>Anyone have some math background? Trying to im...</td>\n",
              "    </tr>\n",
              "    <tr>\n",
              "      <th>30941</th>\n",
              "      <td>2019-12-31T18:26:17.603000</td>\n",
              "      <td>Areesha</td>\n",
              "      <td>My question is... what exactly is a cyclic gro...</td>\n",
              "    </tr>\n",
              "    <tr>\n",
              "      <th>30942</th>\n",
              "      <td>2019-12-31T18:29:15.676000</td>\n",
              "      <td>Ailany</td>\n",
              "      <td>You need to know what exceptions your code may...</td>\n",
              "    </tr>\n",
              "    <tr>\n",
              "      <th>30943</th>\n",
              "      <td>2019-12-31T18:29:57.380000</td>\n",
              "      <td>Ailany</td>\n",
              "      <td>@cup</td>\n",
              "    </tr>\n",
              "  </tbody>\n",
              "</table>\n",
              "<p>30940 rows × 3 columns</p>\n",
              "</div>\n",
              "      <button class=\"colab-df-convert\" onclick=\"convertToInteractive('df-b5a764b2-af73-40f2-b114-16272a5d381e')\"\n",
              "              title=\"Convert this dataframe to an interactive table.\"\n",
              "              style=\"display:none;\">\n",
              "        \n",
              "  <svg xmlns=\"http://www.w3.org/2000/svg\" height=\"24px\"viewBox=\"0 0 24 24\"\n",
              "       width=\"24px\">\n",
              "    <path d=\"M0 0h24v24H0V0z\" fill=\"none\"/>\n",
              "    <path d=\"M18.56 5.44l.94 2.06.94-2.06 2.06-.94-2.06-.94-.94-2.06-.94 2.06-2.06.94zm-11 1L8.5 8.5l.94-2.06 2.06-.94-2.06-.94L8.5 2.5l-.94 2.06-2.06.94zm10 10l.94 2.06.94-2.06 2.06-.94-2.06-.94-.94-2.06-.94 2.06-2.06.94z\"/><path d=\"M17.41 7.96l-1.37-1.37c-.4-.4-.92-.59-1.43-.59-.52 0-1.04.2-1.43.59L10.3 9.45l-7.72 7.72c-.78.78-.78 2.05 0 2.83L4 21.41c.39.39.9.59 1.41.59.51 0 1.02-.2 1.41-.59l7.78-7.78 2.81-2.81c.8-.78.8-2.07 0-2.86zM5.41 20L4 18.59l7.72-7.72 1.47 1.35L5.41 20z\"/>\n",
              "  </svg>\n",
              "      </button>\n",
              "      \n",
              "  <style>\n",
              "    .colab-df-container {\n",
              "      display:flex;\n",
              "      flex-wrap:wrap;\n",
              "      gap: 12px;\n",
              "    }\n",
              "\n",
              "    .colab-df-convert {\n",
              "      background-color: #E8F0FE;\n",
              "      border: none;\n",
              "      border-radius: 50%;\n",
              "      cursor: pointer;\n",
              "      display: none;\n",
              "      fill: #1967D2;\n",
              "      height: 32px;\n",
              "      padding: 0 0 0 0;\n",
              "      width: 32px;\n",
              "    }\n",
              "\n",
              "    .colab-df-convert:hover {\n",
              "      background-color: #E2EBFA;\n",
              "      box-shadow: 0px 1px 2px rgba(60, 64, 67, 0.3), 0px 1px 3px 1px rgba(60, 64, 67, 0.15);\n",
              "      fill: #174EA6;\n",
              "    }\n",
              "\n",
              "    [theme=dark] .colab-df-convert {\n",
              "      background-color: #3B4455;\n",
              "      fill: #D2E3FC;\n",
              "    }\n",
              "\n",
              "    [theme=dark] .colab-df-convert:hover {\n",
              "      background-color: #434B5C;\n",
              "      box-shadow: 0px 1px 3px 1px rgba(0, 0, 0, 0.15);\n",
              "      filter: drop-shadow(0px 1px 2px rgba(0, 0, 0, 0.3));\n",
              "      fill: #FFFFFF;\n",
              "    }\n",
              "  </style>\n",
              "\n",
              "      <script>\n",
              "        const buttonEl =\n",
              "          document.querySelector('#df-b5a764b2-af73-40f2-b114-16272a5d381e button.colab-df-convert');\n",
              "        buttonEl.style.display =\n",
              "          google.colab.kernel.accessAllowed ? 'block' : 'none';\n",
              "\n",
              "        async function convertToInteractive(key) {\n",
              "          const element = document.querySelector('#df-b5a764b2-af73-40f2-b114-16272a5d381e');\n",
              "          const dataTable =\n",
              "            await google.colab.kernel.invokeFunction('convertToInteractive',\n",
              "                                                     [key], {});\n",
              "          if (!dataTable) return;\n",
              "\n",
              "          const docLinkHtml = 'Like what you see? Visit the ' +\n",
              "            '<a target=\"_blank\" href=https://colab.research.google.com/notebooks/data_table.ipynb>data table notebook</a>'\n",
              "            + ' to learn more about interactive tables.';\n",
              "          element.innerHTML = '';\n",
              "          dataTable['output_type'] = 'display_data';\n",
              "          await google.colab.output.renderOutput(dataTable, element);\n",
              "          const docLink = document.createElement('div');\n",
              "          docLink.innerHTML = docLinkHtml;\n",
              "          element.appendChild(docLink);\n",
              "        }\n",
              "      </script>\n",
              "    </div>\n",
              "  </div>\n",
              "  "
            ]
          },
          "metadata": {},
          "execution_count": 9
        }
      ]
    },
    {
      "cell_type": "markdown",
      "source": [
        "Our table is now more simpiler to look at. However if you take a look at the time column, with the format, it is very hard to read what it says.\n",
        "\n",
        "Let's now re-format this column to be able to read the time each message was sent.\n",
        "\n",
        "We will use the 'pandas' library once again as well as the \"to_datetime\" method to re-format this column in a more readable way."
      ],
      "metadata": {
        "id": "Oq6bPNYx3PSJ"
      }
    },
    {
      "cell_type": "code",
      "source": [
        "df['time'] = pd.to_datetime(df['time'], format=\"%Y-%m-%d\")\n",
        "\n",
        "df"
      ],
      "metadata": {
        "id": "xO0xxcMN3odK",
        "colab": {
          "base_uri": "https://localhost:8080/",
          "height": 424
        },
        "outputId": "03622344-12ca-441b-fc12-9ac882da2600"
      },
      "execution_count": 10,
      "outputs": [
        {
          "output_type": "execute_result",
          "data": {
            "text/plain": [
              "                         time     user  \\\n",
              "4     2019-12-01 00:56:23.288    Ryden   \n",
              "5     2019-12-01 01:07:04.875  Jayvien   \n",
              "6     2019-12-01 01:10:54.022  Kaliope   \n",
              "7     2019-12-01 01:13:29.732    Naely   \n",
              "8     2019-12-01 01:16:43.656  Jayvien   \n",
              "...                       ...      ...   \n",
              "30939 2019-12-31 18:24:58.198  Azyriah   \n",
              "30940 2019-12-31 18:25:37.421  Areesha   \n",
              "30941 2019-12-31 18:26:17.603  Areesha   \n",
              "30942 2019-12-31 18:29:15.676   Ailany   \n",
              "30943 2019-12-31 18:29:57.380   Ailany   \n",
              "\n",
              "                                                    text  \n",
              "4      where is the name of the file stored on the file?  \n",
              "5                                              say what?  \n",
              "6      Where would you guys recommend I learn kotlin ...  \n",
              "7      I used the official Kotlin docs they have an e...  \n",
              "8                                               do they?  \n",
              "...                                                  ...  \n",
              "30939                                      hi @GokturkSM  \n",
              "30940  Anyone have some math background? Trying to im...  \n",
              "30941  My question is... what exactly is a cyclic gro...  \n",
              "30942  You need to know what exceptions your code may...  \n",
              "30943                                               @cup  \n",
              "\n",
              "[30940 rows x 3 columns]"
            ],
            "text/html": [
              "\n",
              "  <div id=\"df-03c6f959-9723-442b-bddf-3c77ef61d553\">\n",
              "    <div class=\"colab-df-container\">\n",
              "      <div>\n",
              "<style scoped>\n",
              "    .dataframe tbody tr th:only-of-type {\n",
              "        vertical-align: middle;\n",
              "    }\n",
              "\n",
              "    .dataframe tbody tr th {\n",
              "        vertical-align: top;\n",
              "    }\n",
              "\n",
              "    .dataframe thead th {\n",
              "        text-align: right;\n",
              "    }\n",
              "</style>\n",
              "<table border=\"1\" class=\"dataframe\">\n",
              "  <thead>\n",
              "    <tr style=\"text-align: right;\">\n",
              "      <th></th>\n",
              "      <th>time</th>\n",
              "      <th>user</th>\n",
              "      <th>text</th>\n",
              "    </tr>\n",
              "  </thead>\n",
              "  <tbody>\n",
              "    <tr>\n",
              "      <th>4</th>\n",
              "      <td>2019-12-01 00:56:23.288</td>\n",
              "      <td>Ryden</td>\n",
              "      <td>where is the name of the file stored on the file?</td>\n",
              "    </tr>\n",
              "    <tr>\n",
              "      <th>5</th>\n",
              "      <td>2019-12-01 01:07:04.875</td>\n",
              "      <td>Jayvien</td>\n",
              "      <td>say what?</td>\n",
              "    </tr>\n",
              "    <tr>\n",
              "      <th>6</th>\n",
              "      <td>2019-12-01 01:10:54.022</td>\n",
              "      <td>Kaliope</td>\n",
              "      <td>Where would you guys recommend I learn kotlin ...</td>\n",
              "    </tr>\n",
              "    <tr>\n",
              "      <th>7</th>\n",
              "      <td>2019-12-01 01:13:29.732</td>\n",
              "      <td>Naely</td>\n",
              "      <td>I used the official Kotlin docs they have an e...</td>\n",
              "    </tr>\n",
              "    <tr>\n",
              "      <th>8</th>\n",
              "      <td>2019-12-01 01:16:43.656</td>\n",
              "      <td>Jayvien</td>\n",
              "      <td>do they?</td>\n",
              "    </tr>\n",
              "    <tr>\n",
              "      <th>...</th>\n",
              "      <td>...</td>\n",
              "      <td>...</td>\n",
              "      <td>...</td>\n",
              "    </tr>\n",
              "    <tr>\n",
              "      <th>30939</th>\n",
              "      <td>2019-12-31 18:24:58.198</td>\n",
              "      <td>Azyriah</td>\n",
              "      <td>hi @GokturkSM</td>\n",
              "    </tr>\n",
              "    <tr>\n",
              "      <th>30940</th>\n",
              "      <td>2019-12-31 18:25:37.421</td>\n",
              "      <td>Areesha</td>\n",
              "      <td>Anyone have some math background? Trying to im...</td>\n",
              "    </tr>\n",
              "    <tr>\n",
              "      <th>30941</th>\n",
              "      <td>2019-12-31 18:26:17.603</td>\n",
              "      <td>Areesha</td>\n",
              "      <td>My question is... what exactly is a cyclic gro...</td>\n",
              "    </tr>\n",
              "    <tr>\n",
              "      <th>30942</th>\n",
              "      <td>2019-12-31 18:29:15.676</td>\n",
              "      <td>Ailany</td>\n",
              "      <td>You need to know what exceptions your code may...</td>\n",
              "    </tr>\n",
              "    <tr>\n",
              "      <th>30943</th>\n",
              "      <td>2019-12-31 18:29:57.380</td>\n",
              "      <td>Ailany</td>\n",
              "      <td>@cup</td>\n",
              "    </tr>\n",
              "  </tbody>\n",
              "</table>\n",
              "<p>30940 rows × 3 columns</p>\n",
              "</div>\n",
              "      <button class=\"colab-df-convert\" onclick=\"convertToInteractive('df-03c6f959-9723-442b-bddf-3c77ef61d553')\"\n",
              "              title=\"Convert this dataframe to an interactive table.\"\n",
              "              style=\"display:none;\">\n",
              "        \n",
              "  <svg xmlns=\"http://www.w3.org/2000/svg\" height=\"24px\"viewBox=\"0 0 24 24\"\n",
              "       width=\"24px\">\n",
              "    <path d=\"M0 0h24v24H0V0z\" fill=\"none\"/>\n",
              "    <path d=\"M18.56 5.44l.94 2.06.94-2.06 2.06-.94-2.06-.94-.94-2.06-.94 2.06-2.06.94zm-11 1L8.5 8.5l.94-2.06 2.06-.94-2.06-.94L8.5 2.5l-.94 2.06-2.06.94zm10 10l.94 2.06.94-2.06 2.06-.94-2.06-.94-.94-2.06-.94 2.06-2.06.94z\"/><path d=\"M17.41 7.96l-1.37-1.37c-.4-.4-.92-.59-1.43-.59-.52 0-1.04.2-1.43.59L10.3 9.45l-7.72 7.72c-.78.78-.78 2.05 0 2.83L4 21.41c.39.39.9.59 1.41.59.51 0 1.02-.2 1.41-.59l7.78-7.78 2.81-2.81c.8-.78.8-2.07 0-2.86zM5.41 20L4 18.59l7.72-7.72 1.47 1.35L5.41 20z\"/>\n",
              "  </svg>\n",
              "      </button>\n",
              "      \n",
              "  <style>\n",
              "    .colab-df-container {\n",
              "      display:flex;\n",
              "      flex-wrap:wrap;\n",
              "      gap: 12px;\n",
              "    }\n",
              "\n",
              "    .colab-df-convert {\n",
              "      background-color: #E8F0FE;\n",
              "      border: none;\n",
              "      border-radius: 50%;\n",
              "      cursor: pointer;\n",
              "      display: none;\n",
              "      fill: #1967D2;\n",
              "      height: 32px;\n",
              "      padding: 0 0 0 0;\n",
              "      width: 32px;\n",
              "    }\n",
              "\n",
              "    .colab-df-convert:hover {\n",
              "      background-color: #E2EBFA;\n",
              "      box-shadow: 0px 1px 2px rgba(60, 64, 67, 0.3), 0px 1px 3px 1px rgba(60, 64, 67, 0.15);\n",
              "      fill: #174EA6;\n",
              "    }\n",
              "\n",
              "    [theme=dark] .colab-df-convert {\n",
              "      background-color: #3B4455;\n",
              "      fill: #D2E3FC;\n",
              "    }\n",
              "\n",
              "    [theme=dark] .colab-df-convert:hover {\n",
              "      background-color: #434B5C;\n",
              "      box-shadow: 0px 1px 3px 1px rgba(0, 0, 0, 0.15);\n",
              "      filter: drop-shadow(0px 1px 2px rgba(0, 0, 0, 0.3));\n",
              "      fill: #FFFFFF;\n",
              "    }\n",
              "  </style>\n",
              "\n",
              "      <script>\n",
              "        const buttonEl =\n",
              "          document.querySelector('#df-03c6f959-9723-442b-bddf-3c77ef61d553 button.colab-df-convert');\n",
              "        buttonEl.style.display =\n",
              "          google.colab.kernel.accessAllowed ? 'block' : 'none';\n",
              "\n",
              "        async function convertToInteractive(key) {\n",
              "          const element = document.querySelector('#df-03c6f959-9723-442b-bddf-3c77ef61d553');\n",
              "          const dataTable =\n",
              "            await google.colab.kernel.invokeFunction('convertToInteractive',\n",
              "                                                     [key], {});\n",
              "          if (!dataTable) return;\n",
              "\n",
              "          const docLinkHtml = 'Like what you see? Visit the ' +\n",
              "            '<a target=\"_blank\" href=https://colab.research.google.com/notebooks/data_table.ipynb>data table notebook</a>'\n",
              "            + ' to learn more about interactive tables.';\n",
              "          element.innerHTML = '';\n",
              "          dataTable['output_type'] = 'display_data';\n",
              "          await google.colab.output.renderOutput(dataTable, element);\n",
              "          const docLink = document.createElement('div');\n",
              "          docLink.innerHTML = docLinkHtml;\n",
              "          element.appendChild(docLink);\n",
              "        }\n",
              "      </script>\n",
              "    </div>\n",
              "  </div>\n",
              "  "
            ]
          },
          "metadata": {},
          "execution_count": 10
        }
      ]
    },
    {
      "cell_type": "markdown",
      "source": [
        "Additionally, we can add in the day of the week each messages was sent.\n",
        "\n"
      ],
      "metadata": {
        "id": "m1ehOaWGePAa"
      }
    },
    {
      "cell_type": "code",
      "source": [
        "df['day'] = df['time'].dt.day_name()\n",
        "\n",
        "df"
      ],
      "metadata": {
        "colab": {
          "base_uri": "https://localhost:8080/",
          "height": 424
        },
        "id": "zAG-QipZeV9D",
        "outputId": "d603a1b8-4072-40d5-d1c1-7f180b655250"
      },
      "execution_count": 11,
      "outputs": [
        {
          "output_type": "execute_result",
          "data": {
            "text/plain": [
              "                         time     user  \\\n",
              "4     2019-12-01 00:56:23.288    Ryden   \n",
              "5     2019-12-01 01:07:04.875  Jayvien   \n",
              "6     2019-12-01 01:10:54.022  Kaliope   \n",
              "7     2019-12-01 01:13:29.732    Naely   \n",
              "8     2019-12-01 01:16:43.656  Jayvien   \n",
              "...                       ...      ...   \n",
              "30939 2019-12-31 18:24:58.198  Azyriah   \n",
              "30940 2019-12-31 18:25:37.421  Areesha   \n",
              "30941 2019-12-31 18:26:17.603  Areesha   \n",
              "30942 2019-12-31 18:29:15.676   Ailany   \n",
              "30943 2019-12-31 18:29:57.380   Ailany   \n",
              "\n",
              "                                                    text      day  \n",
              "4      where is the name of the file stored on the file?   Sunday  \n",
              "5                                              say what?   Sunday  \n",
              "6      Where would you guys recommend I learn kotlin ...   Sunday  \n",
              "7      I used the official Kotlin docs they have an e...   Sunday  \n",
              "8                                               do they?   Sunday  \n",
              "...                                                  ...      ...  \n",
              "30939                                      hi @GokturkSM  Tuesday  \n",
              "30940  Anyone have some math background? Trying to im...  Tuesday  \n",
              "30941  My question is... what exactly is a cyclic gro...  Tuesday  \n",
              "30942  You need to know what exceptions your code may...  Tuesday  \n",
              "30943                                               @cup  Tuesday  \n",
              "\n",
              "[30940 rows x 4 columns]"
            ],
            "text/html": [
              "\n",
              "  <div id=\"df-5359ef84-80f3-498b-ac63-c62509778de0\">\n",
              "    <div class=\"colab-df-container\">\n",
              "      <div>\n",
              "<style scoped>\n",
              "    .dataframe tbody tr th:only-of-type {\n",
              "        vertical-align: middle;\n",
              "    }\n",
              "\n",
              "    .dataframe tbody tr th {\n",
              "        vertical-align: top;\n",
              "    }\n",
              "\n",
              "    .dataframe thead th {\n",
              "        text-align: right;\n",
              "    }\n",
              "</style>\n",
              "<table border=\"1\" class=\"dataframe\">\n",
              "  <thead>\n",
              "    <tr style=\"text-align: right;\">\n",
              "      <th></th>\n",
              "      <th>time</th>\n",
              "      <th>user</th>\n",
              "      <th>text</th>\n",
              "      <th>day</th>\n",
              "    </tr>\n",
              "  </thead>\n",
              "  <tbody>\n",
              "    <tr>\n",
              "      <th>4</th>\n",
              "      <td>2019-12-01 00:56:23.288</td>\n",
              "      <td>Ryden</td>\n",
              "      <td>where is the name of the file stored on the file?</td>\n",
              "      <td>Sunday</td>\n",
              "    </tr>\n",
              "    <tr>\n",
              "      <th>5</th>\n",
              "      <td>2019-12-01 01:07:04.875</td>\n",
              "      <td>Jayvien</td>\n",
              "      <td>say what?</td>\n",
              "      <td>Sunday</td>\n",
              "    </tr>\n",
              "    <tr>\n",
              "      <th>6</th>\n",
              "      <td>2019-12-01 01:10:54.022</td>\n",
              "      <td>Kaliope</td>\n",
              "      <td>Where would you guys recommend I learn kotlin ...</td>\n",
              "      <td>Sunday</td>\n",
              "    </tr>\n",
              "    <tr>\n",
              "      <th>7</th>\n",
              "      <td>2019-12-01 01:13:29.732</td>\n",
              "      <td>Naely</td>\n",
              "      <td>I used the official Kotlin docs they have an e...</td>\n",
              "      <td>Sunday</td>\n",
              "    </tr>\n",
              "    <tr>\n",
              "      <th>8</th>\n",
              "      <td>2019-12-01 01:16:43.656</td>\n",
              "      <td>Jayvien</td>\n",
              "      <td>do they?</td>\n",
              "      <td>Sunday</td>\n",
              "    </tr>\n",
              "    <tr>\n",
              "      <th>...</th>\n",
              "      <td>...</td>\n",
              "      <td>...</td>\n",
              "      <td>...</td>\n",
              "      <td>...</td>\n",
              "    </tr>\n",
              "    <tr>\n",
              "      <th>30939</th>\n",
              "      <td>2019-12-31 18:24:58.198</td>\n",
              "      <td>Azyriah</td>\n",
              "      <td>hi @GokturkSM</td>\n",
              "      <td>Tuesday</td>\n",
              "    </tr>\n",
              "    <tr>\n",
              "      <th>30940</th>\n",
              "      <td>2019-12-31 18:25:37.421</td>\n",
              "      <td>Areesha</td>\n",
              "      <td>Anyone have some math background? Trying to im...</td>\n",
              "      <td>Tuesday</td>\n",
              "    </tr>\n",
              "    <tr>\n",
              "      <th>30941</th>\n",
              "      <td>2019-12-31 18:26:17.603</td>\n",
              "      <td>Areesha</td>\n",
              "      <td>My question is... what exactly is a cyclic gro...</td>\n",
              "      <td>Tuesday</td>\n",
              "    </tr>\n",
              "    <tr>\n",
              "      <th>30942</th>\n",
              "      <td>2019-12-31 18:29:15.676</td>\n",
              "      <td>Ailany</td>\n",
              "      <td>You need to know what exceptions your code may...</td>\n",
              "      <td>Tuesday</td>\n",
              "    </tr>\n",
              "    <tr>\n",
              "      <th>30943</th>\n",
              "      <td>2019-12-31 18:29:57.380</td>\n",
              "      <td>Ailany</td>\n",
              "      <td>@cup</td>\n",
              "      <td>Tuesday</td>\n",
              "    </tr>\n",
              "  </tbody>\n",
              "</table>\n",
              "<p>30940 rows × 4 columns</p>\n",
              "</div>\n",
              "      <button class=\"colab-df-convert\" onclick=\"convertToInteractive('df-5359ef84-80f3-498b-ac63-c62509778de0')\"\n",
              "              title=\"Convert this dataframe to an interactive table.\"\n",
              "              style=\"display:none;\">\n",
              "        \n",
              "  <svg xmlns=\"http://www.w3.org/2000/svg\" height=\"24px\"viewBox=\"0 0 24 24\"\n",
              "       width=\"24px\">\n",
              "    <path d=\"M0 0h24v24H0V0z\" fill=\"none\"/>\n",
              "    <path d=\"M18.56 5.44l.94 2.06.94-2.06 2.06-.94-2.06-.94-.94-2.06-.94 2.06-2.06.94zm-11 1L8.5 8.5l.94-2.06 2.06-.94-2.06-.94L8.5 2.5l-.94 2.06-2.06.94zm10 10l.94 2.06.94-2.06 2.06-.94-2.06-.94-.94-2.06-.94 2.06-2.06.94z\"/><path d=\"M17.41 7.96l-1.37-1.37c-.4-.4-.92-.59-1.43-.59-.52 0-1.04.2-1.43.59L10.3 9.45l-7.72 7.72c-.78.78-.78 2.05 0 2.83L4 21.41c.39.39.9.59 1.41.59.51 0 1.02-.2 1.41-.59l7.78-7.78 2.81-2.81c.8-.78.8-2.07 0-2.86zM5.41 20L4 18.59l7.72-7.72 1.47 1.35L5.41 20z\"/>\n",
              "  </svg>\n",
              "      </button>\n",
              "      \n",
              "  <style>\n",
              "    .colab-df-container {\n",
              "      display:flex;\n",
              "      flex-wrap:wrap;\n",
              "      gap: 12px;\n",
              "    }\n",
              "\n",
              "    .colab-df-convert {\n",
              "      background-color: #E8F0FE;\n",
              "      border: none;\n",
              "      border-radius: 50%;\n",
              "      cursor: pointer;\n",
              "      display: none;\n",
              "      fill: #1967D2;\n",
              "      height: 32px;\n",
              "      padding: 0 0 0 0;\n",
              "      width: 32px;\n",
              "    }\n",
              "\n",
              "    .colab-df-convert:hover {\n",
              "      background-color: #E2EBFA;\n",
              "      box-shadow: 0px 1px 2px rgba(60, 64, 67, 0.3), 0px 1px 3px 1px rgba(60, 64, 67, 0.15);\n",
              "      fill: #174EA6;\n",
              "    }\n",
              "\n",
              "    [theme=dark] .colab-df-convert {\n",
              "      background-color: #3B4455;\n",
              "      fill: #D2E3FC;\n",
              "    }\n",
              "\n",
              "    [theme=dark] .colab-df-convert:hover {\n",
              "      background-color: #434B5C;\n",
              "      box-shadow: 0px 1px 3px 1px rgba(0, 0, 0, 0.15);\n",
              "      filter: drop-shadow(0px 1px 2px rgba(0, 0, 0, 0.3));\n",
              "      fill: #FFFFFF;\n",
              "    }\n",
              "  </style>\n",
              "\n",
              "      <script>\n",
              "        const buttonEl =\n",
              "          document.querySelector('#df-5359ef84-80f3-498b-ac63-c62509778de0 button.colab-df-convert');\n",
              "        buttonEl.style.display =\n",
              "          google.colab.kernel.accessAllowed ? 'block' : 'none';\n",
              "\n",
              "        async function convertToInteractive(key) {\n",
              "          const element = document.querySelector('#df-5359ef84-80f3-498b-ac63-c62509778de0');\n",
              "          const dataTable =\n",
              "            await google.colab.kernel.invokeFunction('convertToInteractive',\n",
              "                                                     [key], {});\n",
              "          if (!dataTable) return;\n",
              "\n",
              "          const docLinkHtml = 'Like what you see? Visit the ' +\n",
              "            '<a target=\"_blank\" href=https://colab.research.google.com/notebooks/data_table.ipynb>data table notebook</a>'\n",
              "            + ' to learn more about interactive tables.';\n",
              "          element.innerHTML = '';\n",
              "          dataTable['output_type'] = 'display_data';\n",
              "          await google.colab.output.renderOutput(dataTable, element);\n",
              "          const docLink = document.createElement('div');\n",
              "          docLink.innerHTML = docLinkHtml;\n",
              "          element.appendChild(docLink);\n",
              "        }\n",
              "      </script>\n",
              "    </div>\n",
              "  </div>\n",
              "  "
            ]
          },
          "metadata": {},
          "execution_count": 11
        }
      ]
    },
    {
      "cell_type": "markdown",
      "source": [
        "Now let's fix the time for when each message was sent as it looks very messy at the moment.\n",
        "\n",
        "First, we can re-format the 'time' column and convert the time to just include the hour and minute. This way it's a little more readable and not as cluttered as before."
      ],
      "metadata": {
        "id": "eHHBFeuVuMeU"
      }
    },
    {
      "cell_type": "code",
      "source": [
        "df['time'] = pd.to_datetime(df['time'], dayfirst=True).dt.strftime(\"%Y-%m-%d %H:%M\")\n",
        "\n",
        "df"
      ],
      "metadata": {
        "colab": {
          "base_uri": "https://localhost:8080/",
          "height": 424
        },
        "id": "RPg_PDHmuIOy",
        "outputId": "28c7a5c1-ea19-4891-cac6-0855612430a3"
      },
      "execution_count": 12,
      "outputs": [
        {
          "output_type": "execute_result",
          "data": {
            "text/plain": [
              "                   time     user  \\\n",
              "4      2019-12-01 00:56    Ryden   \n",
              "5      2019-12-01 01:07  Jayvien   \n",
              "6      2019-12-01 01:10  Kaliope   \n",
              "7      2019-12-01 01:13    Naely   \n",
              "8      2019-12-01 01:16  Jayvien   \n",
              "...                 ...      ...   \n",
              "30939  2019-12-31 18:24  Azyriah   \n",
              "30940  2019-12-31 18:25  Areesha   \n",
              "30941  2019-12-31 18:26  Areesha   \n",
              "30942  2019-12-31 18:29   Ailany   \n",
              "30943  2019-12-31 18:29   Ailany   \n",
              "\n",
              "                                                    text      day  \n",
              "4      where is the name of the file stored on the file?   Sunday  \n",
              "5                                              say what?   Sunday  \n",
              "6      Where would you guys recommend I learn kotlin ...   Sunday  \n",
              "7      I used the official Kotlin docs they have an e...   Sunday  \n",
              "8                                               do they?   Sunday  \n",
              "...                                                  ...      ...  \n",
              "30939                                      hi @GokturkSM  Tuesday  \n",
              "30940  Anyone have some math background? Trying to im...  Tuesday  \n",
              "30941  My question is... what exactly is a cyclic gro...  Tuesday  \n",
              "30942  You need to know what exceptions your code may...  Tuesday  \n",
              "30943                                               @cup  Tuesday  \n",
              "\n",
              "[30940 rows x 4 columns]"
            ],
            "text/html": [
              "\n",
              "  <div id=\"df-670e0b55-80ba-4b52-9eb9-3a749eb904b7\">\n",
              "    <div class=\"colab-df-container\">\n",
              "      <div>\n",
              "<style scoped>\n",
              "    .dataframe tbody tr th:only-of-type {\n",
              "        vertical-align: middle;\n",
              "    }\n",
              "\n",
              "    .dataframe tbody tr th {\n",
              "        vertical-align: top;\n",
              "    }\n",
              "\n",
              "    .dataframe thead th {\n",
              "        text-align: right;\n",
              "    }\n",
              "</style>\n",
              "<table border=\"1\" class=\"dataframe\">\n",
              "  <thead>\n",
              "    <tr style=\"text-align: right;\">\n",
              "      <th></th>\n",
              "      <th>time</th>\n",
              "      <th>user</th>\n",
              "      <th>text</th>\n",
              "      <th>day</th>\n",
              "    </tr>\n",
              "  </thead>\n",
              "  <tbody>\n",
              "    <tr>\n",
              "      <th>4</th>\n",
              "      <td>2019-12-01 00:56</td>\n",
              "      <td>Ryden</td>\n",
              "      <td>where is the name of the file stored on the file?</td>\n",
              "      <td>Sunday</td>\n",
              "    </tr>\n",
              "    <tr>\n",
              "      <th>5</th>\n",
              "      <td>2019-12-01 01:07</td>\n",
              "      <td>Jayvien</td>\n",
              "      <td>say what?</td>\n",
              "      <td>Sunday</td>\n",
              "    </tr>\n",
              "    <tr>\n",
              "      <th>6</th>\n",
              "      <td>2019-12-01 01:10</td>\n",
              "      <td>Kaliope</td>\n",
              "      <td>Where would you guys recommend I learn kotlin ...</td>\n",
              "      <td>Sunday</td>\n",
              "    </tr>\n",
              "    <tr>\n",
              "      <th>7</th>\n",
              "      <td>2019-12-01 01:13</td>\n",
              "      <td>Naely</td>\n",
              "      <td>I used the official Kotlin docs they have an e...</td>\n",
              "      <td>Sunday</td>\n",
              "    </tr>\n",
              "    <tr>\n",
              "      <th>8</th>\n",
              "      <td>2019-12-01 01:16</td>\n",
              "      <td>Jayvien</td>\n",
              "      <td>do they?</td>\n",
              "      <td>Sunday</td>\n",
              "    </tr>\n",
              "    <tr>\n",
              "      <th>...</th>\n",
              "      <td>...</td>\n",
              "      <td>...</td>\n",
              "      <td>...</td>\n",
              "      <td>...</td>\n",
              "    </tr>\n",
              "    <tr>\n",
              "      <th>30939</th>\n",
              "      <td>2019-12-31 18:24</td>\n",
              "      <td>Azyriah</td>\n",
              "      <td>hi @GokturkSM</td>\n",
              "      <td>Tuesday</td>\n",
              "    </tr>\n",
              "    <tr>\n",
              "      <th>30940</th>\n",
              "      <td>2019-12-31 18:25</td>\n",
              "      <td>Areesha</td>\n",
              "      <td>Anyone have some math background? Trying to im...</td>\n",
              "      <td>Tuesday</td>\n",
              "    </tr>\n",
              "    <tr>\n",
              "      <th>30941</th>\n",
              "      <td>2019-12-31 18:26</td>\n",
              "      <td>Areesha</td>\n",
              "      <td>My question is... what exactly is a cyclic gro...</td>\n",
              "      <td>Tuesday</td>\n",
              "    </tr>\n",
              "    <tr>\n",
              "      <th>30942</th>\n",
              "      <td>2019-12-31 18:29</td>\n",
              "      <td>Ailany</td>\n",
              "      <td>You need to know what exceptions your code may...</td>\n",
              "      <td>Tuesday</td>\n",
              "    </tr>\n",
              "    <tr>\n",
              "      <th>30943</th>\n",
              "      <td>2019-12-31 18:29</td>\n",
              "      <td>Ailany</td>\n",
              "      <td>@cup</td>\n",
              "      <td>Tuesday</td>\n",
              "    </tr>\n",
              "  </tbody>\n",
              "</table>\n",
              "<p>30940 rows × 4 columns</p>\n",
              "</div>\n",
              "      <button class=\"colab-df-convert\" onclick=\"convertToInteractive('df-670e0b55-80ba-4b52-9eb9-3a749eb904b7')\"\n",
              "              title=\"Convert this dataframe to an interactive table.\"\n",
              "              style=\"display:none;\">\n",
              "        \n",
              "  <svg xmlns=\"http://www.w3.org/2000/svg\" height=\"24px\"viewBox=\"0 0 24 24\"\n",
              "       width=\"24px\">\n",
              "    <path d=\"M0 0h24v24H0V0z\" fill=\"none\"/>\n",
              "    <path d=\"M18.56 5.44l.94 2.06.94-2.06 2.06-.94-2.06-.94-.94-2.06-.94 2.06-2.06.94zm-11 1L8.5 8.5l.94-2.06 2.06-.94-2.06-.94L8.5 2.5l-.94 2.06-2.06.94zm10 10l.94 2.06.94-2.06 2.06-.94-2.06-.94-.94-2.06-.94 2.06-2.06.94z\"/><path d=\"M17.41 7.96l-1.37-1.37c-.4-.4-.92-.59-1.43-.59-.52 0-1.04.2-1.43.59L10.3 9.45l-7.72 7.72c-.78.78-.78 2.05 0 2.83L4 21.41c.39.39.9.59 1.41.59.51 0 1.02-.2 1.41-.59l7.78-7.78 2.81-2.81c.8-.78.8-2.07 0-2.86zM5.41 20L4 18.59l7.72-7.72 1.47 1.35L5.41 20z\"/>\n",
              "  </svg>\n",
              "      </button>\n",
              "      \n",
              "  <style>\n",
              "    .colab-df-container {\n",
              "      display:flex;\n",
              "      flex-wrap:wrap;\n",
              "      gap: 12px;\n",
              "    }\n",
              "\n",
              "    .colab-df-convert {\n",
              "      background-color: #E8F0FE;\n",
              "      border: none;\n",
              "      border-radius: 50%;\n",
              "      cursor: pointer;\n",
              "      display: none;\n",
              "      fill: #1967D2;\n",
              "      height: 32px;\n",
              "      padding: 0 0 0 0;\n",
              "      width: 32px;\n",
              "    }\n",
              "\n",
              "    .colab-df-convert:hover {\n",
              "      background-color: #E2EBFA;\n",
              "      box-shadow: 0px 1px 2px rgba(60, 64, 67, 0.3), 0px 1px 3px 1px rgba(60, 64, 67, 0.15);\n",
              "      fill: #174EA6;\n",
              "    }\n",
              "\n",
              "    [theme=dark] .colab-df-convert {\n",
              "      background-color: #3B4455;\n",
              "      fill: #D2E3FC;\n",
              "    }\n",
              "\n",
              "    [theme=dark] .colab-df-convert:hover {\n",
              "      background-color: #434B5C;\n",
              "      box-shadow: 0px 1px 3px 1px rgba(0, 0, 0, 0.15);\n",
              "      filter: drop-shadow(0px 1px 2px rgba(0, 0, 0, 0.3));\n",
              "      fill: #FFFFFF;\n",
              "    }\n",
              "  </style>\n",
              "\n",
              "      <script>\n",
              "        const buttonEl =\n",
              "          document.querySelector('#df-670e0b55-80ba-4b52-9eb9-3a749eb904b7 button.colab-df-convert');\n",
              "        buttonEl.style.display =\n",
              "          google.colab.kernel.accessAllowed ? 'block' : 'none';\n",
              "\n",
              "        async function convertToInteractive(key) {\n",
              "          const element = document.querySelector('#df-670e0b55-80ba-4b52-9eb9-3a749eb904b7');\n",
              "          const dataTable =\n",
              "            await google.colab.kernel.invokeFunction('convertToInteractive',\n",
              "                                                     [key], {});\n",
              "          if (!dataTable) return;\n",
              "\n",
              "          const docLinkHtml = 'Like what you see? Visit the ' +\n",
              "            '<a target=\"_blank\" href=https://colab.research.google.com/notebooks/data_table.ipynb>data table notebook</a>'\n",
              "            + ' to learn more about interactive tables.';\n",
              "          element.innerHTML = '';\n",
              "          dataTable['output_type'] = 'display_data';\n",
              "          await google.colab.output.renderOutput(dataTable, element);\n",
              "          const docLink = document.createElement('div');\n",
              "          docLink.innerHTML = docLinkHtml;\n",
              "          element.appendChild(docLink);\n",
              "        }\n",
              "      </script>\n",
              "    </div>\n",
              "  </div>\n",
              "  "
            ]
          },
          "metadata": {},
          "execution_count": 12
        }
      ]
    },
    {
      "cell_type": "markdown",
      "source": [
        "Next, we can split the \"time\" column because it's still difficult to read. \n",
        "\n",
        "Lets split this column into two columns. We can have one column for the \"date\" and another column for the \"time\". This way we can distinguish the numbers better.\n",
        "\n",
        "Let's create two columns called \"date\" & \"time\". We just have to apply the 'split' method to our current \"time\" column, where we can split by the space in-between the date and the time of when each message was sent."
      ],
      "metadata": {
        "id": "fFkJQm5PqDqY"
      }
    },
    {
      "cell_type": "code",
      "source": [
        "df[['date', 'time']] = df[\"time\"].apply(lambda x: pd.Series(str(x).split(\" \")))\n",
        "\n",
        "df"
      ],
      "metadata": {
        "colab": {
          "base_uri": "https://localhost:8080/",
          "height": 424
        },
        "id": "EZUdY-7yo0vW",
        "outputId": "b65c0b5d-73d4-4ca6-b041-8a36d1822379"
      },
      "execution_count": 13,
      "outputs": [
        {
          "output_type": "execute_result",
          "data": {
            "text/plain": [
              "        time     user                                               text  \\\n",
              "4      00:56    Ryden  where is the name of the file stored on the file?   \n",
              "5      01:07  Jayvien                                          say what?   \n",
              "6      01:10  Kaliope  Where would you guys recommend I learn kotlin ...   \n",
              "7      01:13    Naely  I used the official Kotlin docs they have an e...   \n",
              "8      01:16  Jayvien                                           do they?   \n",
              "...      ...      ...                                                ...   \n",
              "30939  18:24  Azyriah                                      hi @GokturkSM   \n",
              "30940  18:25  Areesha  Anyone have some math background? Trying to im...   \n",
              "30941  18:26  Areesha  My question is... what exactly is a cyclic gro...   \n",
              "30942  18:29   Ailany  You need to know what exceptions your code may...   \n",
              "30943  18:29   Ailany                                               @cup   \n",
              "\n",
              "           day        date  \n",
              "4       Sunday  2019-12-01  \n",
              "5       Sunday  2019-12-01  \n",
              "6       Sunday  2019-12-01  \n",
              "7       Sunday  2019-12-01  \n",
              "8       Sunday  2019-12-01  \n",
              "...        ...         ...  \n",
              "30939  Tuesday  2019-12-31  \n",
              "30940  Tuesday  2019-12-31  \n",
              "30941  Tuesday  2019-12-31  \n",
              "30942  Tuesday  2019-12-31  \n",
              "30943  Tuesday  2019-12-31  \n",
              "\n",
              "[30940 rows x 5 columns]"
            ],
            "text/html": [
              "\n",
              "  <div id=\"df-868b2f98-3cc0-47c3-95ce-77abce18f847\">\n",
              "    <div class=\"colab-df-container\">\n",
              "      <div>\n",
              "<style scoped>\n",
              "    .dataframe tbody tr th:only-of-type {\n",
              "        vertical-align: middle;\n",
              "    }\n",
              "\n",
              "    .dataframe tbody tr th {\n",
              "        vertical-align: top;\n",
              "    }\n",
              "\n",
              "    .dataframe thead th {\n",
              "        text-align: right;\n",
              "    }\n",
              "</style>\n",
              "<table border=\"1\" class=\"dataframe\">\n",
              "  <thead>\n",
              "    <tr style=\"text-align: right;\">\n",
              "      <th></th>\n",
              "      <th>time</th>\n",
              "      <th>user</th>\n",
              "      <th>text</th>\n",
              "      <th>day</th>\n",
              "      <th>date</th>\n",
              "    </tr>\n",
              "  </thead>\n",
              "  <tbody>\n",
              "    <tr>\n",
              "      <th>4</th>\n",
              "      <td>00:56</td>\n",
              "      <td>Ryden</td>\n",
              "      <td>where is the name of the file stored on the file?</td>\n",
              "      <td>Sunday</td>\n",
              "      <td>2019-12-01</td>\n",
              "    </tr>\n",
              "    <tr>\n",
              "      <th>5</th>\n",
              "      <td>01:07</td>\n",
              "      <td>Jayvien</td>\n",
              "      <td>say what?</td>\n",
              "      <td>Sunday</td>\n",
              "      <td>2019-12-01</td>\n",
              "    </tr>\n",
              "    <tr>\n",
              "      <th>6</th>\n",
              "      <td>01:10</td>\n",
              "      <td>Kaliope</td>\n",
              "      <td>Where would you guys recommend I learn kotlin ...</td>\n",
              "      <td>Sunday</td>\n",
              "      <td>2019-12-01</td>\n",
              "    </tr>\n",
              "    <tr>\n",
              "      <th>7</th>\n",
              "      <td>01:13</td>\n",
              "      <td>Naely</td>\n",
              "      <td>I used the official Kotlin docs they have an e...</td>\n",
              "      <td>Sunday</td>\n",
              "      <td>2019-12-01</td>\n",
              "    </tr>\n",
              "    <tr>\n",
              "      <th>8</th>\n",
              "      <td>01:16</td>\n",
              "      <td>Jayvien</td>\n",
              "      <td>do they?</td>\n",
              "      <td>Sunday</td>\n",
              "      <td>2019-12-01</td>\n",
              "    </tr>\n",
              "    <tr>\n",
              "      <th>...</th>\n",
              "      <td>...</td>\n",
              "      <td>...</td>\n",
              "      <td>...</td>\n",
              "      <td>...</td>\n",
              "      <td>...</td>\n",
              "    </tr>\n",
              "    <tr>\n",
              "      <th>30939</th>\n",
              "      <td>18:24</td>\n",
              "      <td>Azyriah</td>\n",
              "      <td>hi @GokturkSM</td>\n",
              "      <td>Tuesday</td>\n",
              "      <td>2019-12-31</td>\n",
              "    </tr>\n",
              "    <tr>\n",
              "      <th>30940</th>\n",
              "      <td>18:25</td>\n",
              "      <td>Areesha</td>\n",
              "      <td>Anyone have some math background? Trying to im...</td>\n",
              "      <td>Tuesday</td>\n",
              "      <td>2019-12-31</td>\n",
              "    </tr>\n",
              "    <tr>\n",
              "      <th>30941</th>\n",
              "      <td>18:26</td>\n",
              "      <td>Areesha</td>\n",
              "      <td>My question is... what exactly is a cyclic gro...</td>\n",
              "      <td>Tuesday</td>\n",
              "      <td>2019-12-31</td>\n",
              "    </tr>\n",
              "    <tr>\n",
              "      <th>30942</th>\n",
              "      <td>18:29</td>\n",
              "      <td>Ailany</td>\n",
              "      <td>You need to know what exceptions your code may...</td>\n",
              "      <td>Tuesday</td>\n",
              "      <td>2019-12-31</td>\n",
              "    </tr>\n",
              "    <tr>\n",
              "      <th>30943</th>\n",
              "      <td>18:29</td>\n",
              "      <td>Ailany</td>\n",
              "      <td>@cup</td>\n",
              "      <td>Tuesday</td>\n",
              "      <td>2019-12-31</td>\n",
              "    </tr>\n",
              "  </tbody>\n",
              "</table>\n",
              "<p>30940 rows × 5 columns</p>\n",
              "</div>\n",
              "      <button class=\"colab-df-convert\" onclick=\"convertToInteractive('df-868b2f98-3cc0-47c3-95ce-77abce18f847')\"\n",
              "              title=\"Convert this dataframe to an interactive table.\"\n",
              "              style=\"display:none;\">\n",
              "        \n",
              "  <svg xmlns=\"http://www.w3.org/2000/svg\" height=\"24px\"viewBox=\"0 0 24 24\"\n",
              "       width=\"24px\">\n",
              "    <path d=\"M0 0h24v24H0V0z\" fill=\"none\"/>\n",
              "    <path d=\"M18.56 5.44l.94 2.06.94-2.06 2.06-.94-2.06-.94-.94-2.06-.94 2.06-2.06.94zm-11 1L8.5 8.5l.94-2.06 2.06-.94-2.06-.94L8.5 2.5l-.94 2.06-2.06.94zm10 10l.94 2.06.94-2.06 2.06-.94-2.06-.94-.94-2.06-.94 2.06-2.06.94z\"/><path d=\"M17.41 7.96l-1.37-1.37c-.4-.4-.92-.59-1.43-.59-.52 0-1.04.2-1.43.59L10.3 9.45l-7.72 7.72c-.78.78-.78 2.05 0 2.83L4 21.41c.39.39.9.59 1.41.59.51 0 1.02-.2 1.41-.59l7.78-7.78 2.81-2.81c.8-.78.8-2.07 0-2.86zM5.41 20L4 18.59l7.72-7.72 1.47 1.35L5.41 20z\"/>\n",
              "  </svg>\n",
              "      </button>\n",
              "      \n",
              "  <style>\n",
              "    .colab-df-container {\n",
              "      display:flex;\n",
              "      flex-wrap:wrap;\n",
              "      gap: 12px;\n",
              "    }\n",
              "\n",
              "    .colab-df-convert {\n",
              "      background-color: #E8F0FE;\n",
              "      border: none;\n",
              "      border-radius: 50%;\n",
              "      cursor: pointer;\n",
              "      display: none;\n",
              "      fill: #1967D2;\n",
              "      height: 32px;\n",
              "      padding: 0 0 0 0;\n",
              "      width: 32px;\n",
              "    }\n",
              "\n",
              "    .colab-df-convert:hover {\n",
              "      background-color: #E2EBFA;\n",
              "      box-shadow: 0px 1px 2px rgba(60, 64, 67, 0.3), 0px 1px 3px 1px rgba(60, 64, 67, 0.15);\n",
              "      fill: #174EA6;\n",
              "    }\n",
              "\n",
              "    [theme=dark] .colab-df-convert {\n",
              "      background-color: #3B4455;\n",
              "      fill: #D2E3FC;\n",
              "    }\n",
              "\n",
              "    [theme=dark] .colab-df-convert:hover {\n",
              "      background-color: #434B5C;\n",
              "      box-shadow: 0px 1px 3px 1px rgba(0, 0, 0, 0.15);\n",
              "      filter: drop-shadow(0px 1px 2px rgba(0, 0, 0, 0.3));\n",
              "      fill: #FFFFFF;\n",
              "    }\n",
              "  </style>\n",
              "\n",
              "      <script>\n",
              "        const buttonEl =\n",
              "          document.querySelector('#df-868b2f98-3cc0-47c3-95ce-77abce18f847 button.colab-df-convert');\n",
              "        buttonEl.style.display =\n",
              "          google.colab.kernel.accessAllowed ? 'block' : 'none';\n",
              "\n",
              "        async function convertToInteractive(key) {\n",
              "          const element = document.querySelector('#df-868b2f98-3cc0-47c3-95ce-77abce18f847');\n",
              "          const dataTable =\n",
              "            await google.colab.kernel.invokeFunction('convertToInteractive',\n",
              "                                                     [key], {});\n",
              "          if (!dataTable) return;\n",
              "\n",
              "          const docLinkHtml = 'Like what you see? Visit the ' +\n",
              "            '<a target=\"_blank\" href=https://colab.research.google.com/notebooks/data_table.ipynb>data table notebook</a>'\n",
              "            + ' to learn more about interactive tables.';\n",
              "          element.innerHTML = '';\n",
              "          dataTable['output_type'] = 'display_data';\n",
              "          await google.colab.output.renderOutput(dataTable, element);\n",
              "          const docLink = document.createElement('div');\n",
              "          docLink.innerHTML = docLinkHtml;\n",
              "          element.appendChild(docLink);\n",
              "        }\n",
              "      </script>\n",
              "    </div>\n",
              "  </div>\n",
              "  "
            ]
          },
          "metadata": {},
          "execution_count": 13
        }
      ]
    },
    {
      "cell_type": "markdown",
      "source": [
        "Now we can read the date and time each message was sent in a much more readable view.\n",
        "\n",
        "One last thing we can do to better format our table is to change the order of the columns.\n",
        "\n",
        "For this example, lets format it from date - time - user - text - day."
      ],
      "metadata": {
        "id": "vPnDT9Kc4DUn"
      }
    },
    {
      "cell_type": "code",
      "source": [
        "df = df[['date','time', 'day', 'user', 'text']]\n",
        "\n",
        "df"
      ],
      "metadata": {
        "colab": {
          "base_uri": "https://localhost:8080/",
          "height": 424
        },
        "id": "G8hJoqPcwZu5",
        "outputId": "7251438c-0f8c-4560-a9da-b529dd698b13"
      },
      "execution_count": 29,
      "outputs": [
        {
          "output_type": "execute_result",
          "data": {
            "text/plain": [
              "             date   time      day     user  \\\n",
              "4      2019-12-01  00:56   Sunday    Ryden   \n",
              "5      2019-12-01  01:07   Sunday  Jayvien   \n",
              "6      2019-12-01  01:10   Sunday  Kaliope   \n",
              "7      2019-12-01  01:13   Sunday    Naely   \n",
              "8      2019-12-01  01:16   Sunday  Jayvien   \n",
              "...           ...    ...      ...      ...   \n",
              "30939  2019-12-31  18:24  Tuesday  Azyriah   \n",
              "30940  2019-12-31  18:25  Tuesday  Areesha   \n",
              "30941  2019-12-31  18:26  Tuesday  Areesha   \n",
              "30942  2019-12-31  18:29  Tuesday   Ailany   \n",
              "30943  2019-12-31  18:29  Tuesday   Ailany   \n",
              "\n",
              "                                                    text  \n",
              "4      where is the name of the file stored on the file?  \n",
              "5                                              say what?  \n",
              "6      Where would you guys recommend I learn kotlin ...  \n",
              "7      I used the official Kotlin docs they have an e...  \n",
              "8                                               do they?  \n",
              "...                                                  ...  \n",
              "30939                                      hi @GokturkSM  \n",
              "30940  Anyone have some math background? Trying to im...  \n",
              "30941  My question is... what exactly is a cyclic gro...  \n",
              "30942  You need to know what exceptions your code may...  \n",
              "30943                                               @cup  \n",
              "\n",
              "[30940 rows x 5 columns]"
            ],
            "text/html": [
              "\n",
              "  <div id=\"df-2d720a9e-b352-40c6-9e3c-23dc8d0f1681\">\n",
              "    <div class=\"colab-df-container\">\n",
              "      <div>\n",
              "<style scoped>\n",
              "    .dataframe tbody tr th:only-of-type {\n",
              "        vertical-align: middle;\n",
              "    }\n",
              "\n",
              "    .dataframe tbody tr th {\n",
              "        vertical-align: top;\n",
              "    }\n",
              "\n",
              "    .dataframe thead th {\n",
              "        text-align: right;\n",
              "    }\n",
              "</style>\n",
              "<table border=\"1\" class=\"dataframe\">\n",
              "  <thead>\n",
              "    <tr style=\"text-align: right;\">\n",
              "      <th></th>\n",
              "      <th>date</th>\n",
              "      <th>time</th>\n",
              "      <th>day</th>\n",
              "      <th>user</th>\n",
              "      <th>text</th>\n",
              "    </tr>\n",
              "  </thead>\n",
              "  <tbody>\n",
              "    <tr>\n",
              "      <th>4</th>\n",
              "      <td>2019-12-01</td>\n",
              "      <td>00:56</td>\n",
              "      <td>Sunday</td>\n",
              "      <td>Ryden</td>\n",
              "      <td>where is the name of the file stored on the file?</td>\n",
              "    </tr>\n",
              "    <tr>\n",
              "      <th>5</th>\n",
              "      <td>2019-12-01</td>\n",
              "      <td>01:07</td>\n",
              "      <td>Sunday</td>\n",
              "      <td>Jayvien</td>\n",
              "      <td>say what?</td>\n",
              "    </tr>\n",
              "    <tr>\n",
              "      <th>6</th>\n",
              "      <td>2019-12-01</td>\n",
              "      <td>01:10</td>\n",
              "      <td>Sunday</td>\n",
              "      <td>Kaliope</td>\n",
              "      <td>Where would you guys recommend I learn kotlin ...</td>\n",
              "    </tr>\n",
              "    <tr>\n",
              "      <th>7</th>\n",
              "      <td>2019-12-01</td>\n",
              "      <td>01:13</td>\n",
              "      <td>Sunday</td>\n",
              "      <td>Naely</td>\n",
              "      <td>I used the official Kotlin docs they have an e...</td>\n",
              "    </tr>\n",
              "    <tr>\n",
              "      <th>8</th>\n",
              "      <td>2019-12-01</td>\n",
              "      <td>01:16</td>\n",
              "      <td>Sunday</td>\n",
              "      <td>Jayvien</td>\n",
              "      <td>do they?</td>\n",
              "    </tr>\n",
              "    <tr>\n",
              "      <th>...</th>\n",
              "      <td>...</td>\n",
              "      <td>...</td>\n",
              "      <td>...</td>\n",
              "      <td>...</td>\n",
              "      <td>...</td>\n",
              "    </tr>\n",
              "    <tr>\n",
              "      <th>30939</th>\n",
              "      <td>2019-12-31</td>\n",
              "      <td>18:24</td>\n",
              "      <td>Tuesday</td>\n",
              "      <td>Azyriah</td>\n",
              "      <td>hi @GokturkSM</td>\n",
              "    </tr>\n",
              "    <tr>\n",
              "      <th>30940</th>\n",
              "      <td>2019-12-31</td>\n",
              "      <td>18:25</td>\n",
              "      <td>Tuesday</td>\n",
              "      <td>Areesha</td>\n",
              "      <td>Anyone have some math background? Trying to im...</td>\n",
              "    </tr>\n",
              "    <tr>\n",
              "      <th>30941</th>\n",
              "      <td>2019-12-31</td>\n",
              "      <td>18:26</td>\n",
              "      <td>Tuesday</td>\n",
              "      <td>Areesha</td>\n",
              "      <td>My question is... what exactly is a cyclic gro...</td>\n",
              "    </tr>\n",
              "    <tr>\n",
              "      <th>30942</th>\n",
              "      <td>2019-12-31</td>\n",
              "      <td>18:29</td>\n",
              "      <td>Tuesday</td>\n",
              "      <td>Ailany</td>\n",
              "      <td>You need to know what exceptions your code may...</td>\n",
              "    </tr>\n",
              "    <tr>\n",
              "      <th>30943</th>\n",
              "      <td>2019-12-31</td>\n",
              "      <td>18:29</td>\n",
              "      <td>Tuesday</td>\n",
              "      <td>Ailany</td>\n",
              "      <td>@cup</td>\n",
              "    </tr>\n",
              "  </tbody>\n",
              "</table>\n",
              "<p>30940 rows × 5 columns</p>\n",
              "</div>\n",
              "      <button class=\"colab-df-convert\" onclick=\"convertToInteractive('df-2d720a9e-b352-40c6-9e3c-23dc8d0f1681')\"\n",
              "              title=\"Convert this dataframe to an interactive table.\"\n",
              "              style=\"display:none;\">\n",
              "        \n",
              "  <svg xmlns=\"http://www.w3.org/2000/svg\" height=\"24px\"viewBox=\"0 0 24 24\"\n",
              "       width=\"24px\">\n",
              "    <path d=\"M0 0h24v24H0V0z\" fill=\"none\"/>\n",
              "    <path d=\"M18.56 5.44l.94 2.06.94-2.06 2.06-.94-2.06-.94-.94-2.06-.94 2.06-2.06.94zm-11 1L8.5 8.5l.94-2.06 2.06-.94-2.06-.94L8.5 2.5l-.94 2.06-2.06.94zm10 10l.94 2.06.94-2.06 2.06-.94-2.06-.94-.94-2.06-.94 2.06-2.06.94z\"/><path d=\"M17.41 7.96l-1.37-1.37c-.4-.4-.92-.59-1.43-.59-.52 0-1.04.2-1.43.59L10.3 9.45l-7.72 7.72c-.78.78-.78 2.05 0 2.83L4 21.41c.39.39.9.59 1.41.59.51 0 1.02-.2 1.41-.59l7.78-7.78 2.81-2.81c.8-.78.8-2.07 0-2.86zM5.41 20L4 18.59l7.72-7.72 1.47 1.35L5.41 20z\"/>\n",
              "  </svg>\n",
              "      </button>\n",
              "      \n",
              "  <style>\n",
              "    .colab-df-container {\n",
              "      display:flex;\n",
              "      flex-wrap:wrap;\n",
              "      gap: 12px;\n",
              "    }\n",
              "\n",
              "    .colab-df-convert {\n",
              "      background-color: #E8F0FE;\n",
              "      border: none;\n",
              "      border-radius: 50%;\n",
              "      cursor: pointer;\n",
              "      display: none;\n",
              "      fill: #1967D2;\n",
              "      height: 32px;\n",
              "      padding: 0 0 0 0;\n",
              "      width: 32px;\n",
              "    }\n",
              "\n",
              "    .colab-df-convert:hover {\n",
              "      background-color: #E2EBFA;\n",
              "      box-shadow: 0px 1px 2px rgba(60, 64, 67, 0.3), 0px 1px 3px 1px rgba(60, 64, 67, 0.15);\n",
              "      fill: #174EA6;\n",
              "    }\n",
              "\n",
              "    [theme=dark] .colab-df-convert {\n",
              "      background-color: #3B4455;\n",
              "      fill: #D2E3FC;\n",
              "    }\n",
              "\n",
              "    [theme=dark] .colab-df-convert:hover {\n",
              "      background-color: #434B5C;\n",
              "      box-shadow: 0px 1px 3px 1px rgba(0, 0, 0, 0.15);\n",
              "      filter: drop-shadow(0px 1px 2px rgba(0, 0, 0, 0.3));\n",
              "      fill: #FFFFFF;\n",
              "    }\n",
              "  </style>\n",
              "\n",
              "      <script>\n",
              "        const buttonEl =\n",
              "          document.querySelector('#df-2d720a9e-b352-40c6-9e3c-23dc8d0f1681 button.colab-df-convert');\n",
              "        buttonEl.style.display =\n",
              "          google.colab.kernel.accessAllowed ? 'block' : 'none';\n",
              "\n",
              "        async function convertToInteractive(key) {\n",
              "          const element = document.querySelector('#df-2d720a9e-b352-40c6-9e3c-23dc8d0f1681');\n",
              "          const dataTable =\n",
              "            await google.colab.kernel.invokeFunction('convertToInteractive',\n",
              "                                                     [key], {});\n",
              "          if (!dataTable) return;\n",
              "\n",
              "          const docLinkHtml = 'Like what you see? Visit the ' +\n",
              "            '<a target=\"_blank\" href=https://colab.research.google.com/notebooks/data_table.ipynb>data table notebook</a>'\n",
              "            + ' to learn more about interactive tables.';\n",
              "          element.innerHTML = '';\n",
              "          dataTable['output_type'] = 'display_data';\n",
              "          await google.colab.output.renderOutput(dataTable, element);\n",
              "          const docLink = document.createElement('div');\n",
              "          docLink.innerHTML = docLinkHtml;\n",
              "          element.appendChild(docLink);\n",
              "        }\n",
              "      </script>\n",
              "    </div>\n",
              "  </div>\n",
              "  "
            ]
          },
          "metadata": {},
          "execution_count": 29
        }
      ]
    },
    {
      "cell_type": "markdown",
      "source": [
        "Great! Our table of data looks much more organized now.\n",
        "\n",
        "Finally, we can start analyzing some of these messages."
      ],
      "metadata": {
        "id": "to7OXqttw931"
      }
    },
    {
      "cell_type": "markdown",
      "source": [
        "# Analysis"
      ],
      "metadata": {
        "id": "GVNyxOcY4EtR"
      }
    },
    {
      "cell_type": "markdown",
      "source": [
        "Since our data frame is now more organized and cleaned up, we can start analyzing some of the data stored.\n",
        "\n",
        "Lets take a look at how much data in our columns there is to go through by using the \"count\" method."
      ],
      "metadata": {
        "id": "aLPBM29-RWLM"
      }
    },
    {
      "cell_type": "code",
      "source": [
        "df.count()"
      ],
      "metadata": {
        "colab": {
          "base_uri": "https://localhost:8080/"
        },
        "id": "HQt3QGsAxqjN",
        "outputId": "579e30ca-49ed-4eb7-cd62-c30e3d6abe7e"
      },
      "execution_count": 30,
      "outputs": [
        {
          "output_type": "execute_result",
          "data": {
            "text/plain": [
              "date    30940\n",
              "time    30940\n",
              "day     30940\n",
              "user    30940\n",
              "text    30940\n",
              "dtype: int64"
            ]
          },
          "metadata": {},
          "execution_count": 30
        }
      ]
    },
    {
      "cell_type": "markdown",
      "source": [
        "## Text Analysis"
      ],
      "metadata": {
        "id": "JlabKoHKyHP5"
      }
    },
    {
      "cell_type": "markdown",
      "source": [
        "The result shows that we have 30,940 different text messages in this data set, which is a lot to manually look through.\n",
        "\n",
        "We can analyze this information in a much easier way by using code.\n",
        "\n",
        "Lets first take a look at the \"user\" column. \n",
        "\n",
        "We can count how many messages each user has sent by incorporating the \"groupby\" method along with the \"count\" method."
      ],
      "metadata": {
        "id": "upLYYKdZSRQ3"
      }
    },
    {
      "cell_type": "code",
      "source": [
        "df.groupby(['user'])['user'].count()"
      ],
      "metadata": {
        "colab": {
          "base_uri": "https://localhost:8080/"
        },
        "id": "YggawceGzz9J",
        "outputId": "1ffdbf9d-eca2-4c47-8a2a-bec9d281068f"
      },
      "execution_count": 31,
      "outputs": [
        {
          "output_type": "execute_result",
          "data": {
            "text/plain": [
              "user\n",
              "Aashvi         17\n",
              "Abbott         37\n",
              "Abdalahe        6\n",
              "Abdelfetah      5\n",
              "Abdelmadjid    76\n",
              "               ..\n",
              "Zuma            1\n",
              "Zurisadai       4\n",
              "Zuriya         25\n",
              "Zviad           1\n",
              "Zyanna          5\n",
              "Name: user, Length: 828, dtype: int64"
            ]
          },
          "metadata": {},
          "execution_count": 31
        }
      ]
    },
    {
      "cell_type": "markdown",
      "source": [
        "With this table, we can see each user and how many messages they have sent in the Discord.\n",
        "\n",
        "**This can be important to us in Digitital Forensic use because now we can distinguish the user and their messages they sent. If we find something alarming by one user and their message, we can then look at their other messages to potentially find other information about them.**"
      ],
      "metadata": {
        "id": "-lux-Kp6gG39"
      }
    },
    {
      "cell_type": "markdown",
      "source": [
        "Let's start analyzing the table and find which user has sent the most messages in total.\n",
        "\n",
        "We can add on the \"max\" method to our code and it will return the maximum value of messages sent for one user."
      ],
      "metadata": {
        "id": "46nnUtYpkLRW"
      }
    },
    {
      "cell_type": "code",
      "source": [
        "df.groupby(['user'])['user'].count().max()"
      ],
      "metadata": {
        "colab": {
          "base_uri": "https://localhost:8080/"
        },
        "id": "vtDb5LaKVypz",
        "outputId": "082e25d0-dbbd-4452-8448-b6dfa43f4c46"
      },
      "execution_count": 32,
      "outputs": [
        {
          "output_type": "execute_result",
          "data": {
            "text/plain": [
              "2626"
            ]
          },
          "metadata": {},
          "execution_count": 32
        }
      ]
    },
    {
      "cell_type": "markdown",
      "source": [
        "So we can see the user with the highest amount of messages has sent \"2626\" messages in this data set.\n",
        "\n",
        "Lets find out who sent these messages.\n",
        "\n",
        "We will use the \"value_counts\" method along with the \"idxmax\" method to go through each row in the 'user' column and count which index has the max or highest value."
      ],
      "metadata": {
        "id": "ixe6zQYYg7UP"
      }
    },
    {
      "cell_type": "code",
      "source": [
        "df['user'].value_counts().idxmax()"
      ],
      "metadata": {
        "colab": {
          "base_uri": "https://localhost:8080/",
          "height": 35
        },
        "id": "mhcuXVfjajqM",
        "outputId": "8931a498-5e2f-422c-dae3-6915b65e9147"
      },
      "execution_count": 33,
      "outputs": [
        {
          "output_type": "execute_result",
          "data": {
            "text/plain": [
              "'Xochilt'"
            ],
            "application/vnd.google.colaboratory.intrinsic+json": {
              "type": "string"
            }
          },
          "metadata": {},
          "execution_count": 33
        }
      ]
    },
    {
      "cell_type": "markdown",
      "source": [
        "This shows us the user who sent the most messages in the data set.\n",
        "\n",
        "Lets also look at the other top users who has sent the most messages. \n",
        "\n",
        "We will use the \"head\" method which return the top five users unless specified otherwise."
      ],
      "metadata": {
        "id": "KgcSCdFThsrz"
      }
    },
    {
      "cell_type": "code",
      "source": [
        "df['user'].value_counts().head()"
      ],
      "metadata": {
        "colab": {
          "base_uri": "https://localhost:8080/"
        },
        "id": "WhJ5-gIzfrJg",
        "outputId": "edc27b3d-f374-4d90-fc69-59715768bdda"
      },
      "execution_count": 34,
      "outputs": [
        {
          "output_type": "execute_result",
          "data": {
            "text/plain": [
              "Xochilt     2626\n",
              "Kosta       1280\n",
              "Naely       1067\n",
              "Adirah       845\n",
              "Andersyn     662\n",
              "Name: user, dtype: int64"
            ]
          },
          "metadata": {},
          "execution_count": 34
        }
      ]
    },
    {
      "cell_type": "markdown",
      "source": [
        "Seems like \"Xochilt\" has sent a lot of messages! He must have been a big help in the Discord.\n",
        "\n",
        "If we have someone we want to analyze more specifically, we can also specify which user we want to take a look at. We can then find how many messages they sent, and more.\n",
        "\n",
        "Lets find out how many messages \"Ryden\" sent for example."
      ],
      "metadata": {
        "id": "UQ0BQoDJie__"
      }
    },
    {
      "cell_type": "code",
      "source": [
        "df['user'].value_counts()['Ryden']"
      ],
      "metadata": {
        "colab": {
          "base_uri": "https://localhost:8080/"
        },
        "id": "4iuX3hPZZOja",
        "outputId": "3e549823-2a50-4898-81f3-537411710185"
      },
      "execution_count": 35,
      "outputs": [
        {
          "output_type": "execute_result",
          "data": {
            "text/plain": [
              "113"
            ]
          },
          "metadata": {},
          "execution_count": 35
        }
      ]
    },
    {
      "cell_type": "markdown",
      "source": [
        "Find which user asked the most questions ..."
      ],
      "metadata": {
        "id": "fNf96cI_Tz9v"
      }
    },
    {
      "cell_type": "code",
      "source": [
        "df['text'].value_counts()['?']"
      ],
      "metadata": {
        "colab": {
          "base_uri": "https://localhost:8080/"
        },
        "id": "Oc4z6bk3bJY4",
        "outputId": "888242a5-1e61-4c13-d5a3-4f6f9c6b2a3a"
      },
      "execution_count": 36,
      "outputs": [
        {
          "output_type": "execute_result",
          "data": {
            "text/plain": [
              "60"
            ]
          },
          "metadata": {},
          "execution_count": 36
        }
      ]
    },
    {
      "cell_type": "code",
      "source": [
        "df.groupby(['user'])['text'].value_counts()['?']"
      ],
      "metadata": {
        "id": "Hh8uvYGBerFU"
      },
      "execution_count": null,
      "outputs": []
    },
    {
      "cell_type": "markdown",
      "source": [
        "Look at certain peoples messages ..."
      ],
      "metadata": {
        "id": "hflcUepID3BA"
      }
    },
    {
      "cell_type": "code",
      "source": [
        "from collections import Counter\n",
        "import spacy\n",
        "nlp = spacy.load(\"en_core_web_sm\")\n",
        "nlp"
      ],
      "metadata": {
        "colab": {
          "base_uri": "https://localhost:8080/"
        },
        "id": "4YWbHC0ZNZse",
        "outputId": "0d91ccab-f1f1-4dd7-c428-fdebe02ca7f8"
      },
      "execution_count": 40,
      "outputs": [
        {
          "output_type": "execute_result",
          "data": {
            "text/plain": [
              "<spacy.lang.en.English at 0x7f233217ebe0>"
            ]
          },
          "metadata": {},
          "execution_count": 40
        }
      ]
    },
    {
      "cell_type": "markdown",
      "source": [
        "Let's start analyzing some of the text we have.\n",
        "\n",
        "We can actually tokenize each word into seperate tokens which breaks the sentences into words.\n",
        "\n",
        "This will be useful because it converts every word into the basic version. For example, it converts \"stored\" into \"store\", which makes it easier for us to analyze the text.\n",
        "\n",
        "Let's convert the \"text\" column into a new column with the parsed words and take a look at the new output."
      ],
      "metadata": {
        "id": "1H616v75R8-f"
      }
    },
    {
      "cell_type": "code",
      "source": [
        "doc = lambda x: [y.lemma_ for y in  nlp(x)]\n",
        "df['parsed_words'] = df['text'].apply(doc)\n",
        "\n",
        "df"
      ],
      "metadata": {
        "colab": {
          "base_uri": "https://localhost:8080/",
          "height": 424
        },
        "id": "Y1SGmB6dOoAf",
        "outputId": "ace7fccb-ca88-484c-a71f-8a601448d59b"
      },
      "execution_count": 43,
      "outputs": [
        {
          "output_type": "execute_result",
          "data": {
            "text/plain": [
              "             date   time      day     user  \\\n",
              "4      2019-12-01  00:56   Sunday    Ryden   \n",
              "5      2019-12-01  01:07   Sunday  Jayvien   \n",
              "6      2019-12-01  01:10   Sunday  Kaliope   \n",
              "7      2019-12-01  01:13   Sunday    Naely   \n",
              "8      2019-12-01  01:16   Sunday  Jayvien   \n",
              "...           ...    ...      ...      ...   \n",
              "30939  2019-12-31  18:24  Tuesday  Azyriah   \n",
              "30940  2019-12-31  18:25  Tuesday  Areesha   \n",
              "30941  2019-12-31  18:26  Tuesday  Areesha   \n",
              "30942  2019-12-31  18:29  Tuesday   Ailany   \n",
              "30943  2019-12-31  18:29  Tuesday   Ailany   \n",
              "\n",
              "                                                    text  \\\n",
              "4      where is the name of the file stored on the file?   \n",
              "5                                              say what?   \n",
              "6      Where would you guys recommend I learn kotlin ...   \n",
              "7      I used the official Kotlin docs they have an e...   \n",
              "8                                               do they?   \n",
              "...                                                  ...   \n",
              "30939                                      hi @GokturkSM   \n",
              "30940  Anyone have some math background? Trying to im...   \n",
              "30941  My question is... what exactly is a cyclic gro...   \n",
              "30942  You need to know what exceptions your code may...   \n",
              "30943                                               @cup   \n",
              "\n",
              "                                            parsed_words  \n",
              "4      [where, be, the, name, of, the, file, store, o...  \n",
              "5                                         [say, what, ?]  \n",
              "6      [where, would, you, guy, recommend, I, learn, ...  \n",
              "7      [I, use, the, official, Kotlin, doc, they, hav...  \n",
              "8                                          [do, they, ?]  \n",
              "...                                                  ...  \n",
              "30939                                   [hi, @gokturksm]  \n",
              "30940  [anyone, have, some, math, background, ?, try,...  \n",
              "30941  [my, question, be, ..., what, exactly, be, a, ...  \n",
              "30942  [you, need, to, know, what, exception, your, c...  \n",
              "30943                                             [@cup]  \n",
              "\n",
              "[30940 rows x 6 columns]"
            ],
            "text/html": [
              "\n",
              "  <div id=\"df-bb218bac-72c1-46ff-b293-d2a4eb607ec4\">\n",
              "    <div class=\"colab-df-container\">\n",
              "      <div>\n",
              "<style scoped>\n",
              "    .dataframe tbody tr th:only-of-type {\n",
              "        vertical-align: middle;\n",
              "    }\n",
              "\n",
              "    .dataframe tbody tr th {\n",
              "        vertical-align: top;\n",
              "    }\n",
              "\n",
              "    .dataframe thead th {\n",
              "        text-align: right;\n",
              "    }\n",
              "</style>\n",
              "<table border=\"1\" class=\"dataframe\">\n",
              "  <thead>\n",
              "    <tr style=\"text-align: right;\">\n",
              "      <th></th>\n",
              "      <th>date</th>\n",
              "      <th>time</th>\n",
              "      <th>day</th>\n",
              "      <th>user</th>\n",
              "      <th>text</th>\n",
              "      <th>parsed_words</th>\n",
              "    </tr>\n",
              "  </thead>\n",
              "  <tbody>\n",
              "    <tr>\n",
              "      <th>4</th>\n",
              "      <td>2019-12-01</td>\n",
              "      <td>00:56</td>\n",
              "      <td>Sunday</td>\n",
              "      <td>Ryden</td>\n",
              "      <td>where is the name of the file stored on the file?</td>\n",
              "      <td>[where, be, the, name, of, the, file, store, o...</td>\n",
              "    </tr>\n",
              "    <tr>\n",
              "      <th>5</th>\n",
              "      <td>2019-12-01</td>\n",
              "      <td>01:07</td>\n",
              "      <td>Sunday</td>\n",
              "      <td>Jayvien</td>\n",
              "      <td>say what?</td>\n",
              "      <td>[say, what, ?]</td>\n",
              "    </tr>\n",
              "    <tr>\n",
              "      <th>6</th>\n",
              "      <td>2019-12-01</td>\n",
              "      <td>01:10</td>\n",
              "      <td>Sunday</td>\n",
              "      <td>Kaliope</td>\n",
              "      <td>Where would you guys recommend I learn kotlin ...</td>\n",
              "      <td>[where, would, you, guy, recommend, I, learn, ...</td>\n",
              "    </tr>\n",
              "    <tr>\n",
              "      <th>7</th>\n",
              "      <td>2019-12-01</td>\n",
              "      <td>01:13</td>\n",
              "      <td>Sunday</td>\n",
              "      <td>Naely</td>\n",
              "      <td>I used the official Kotlin docs they have an e...</td>\n",
              "      <td>[I, use, the, official, Kotlin, doc, they, hav...</td>\n",
              "    </tr>\n",
              "    <tr>\n",
              "      <th>8</th>\n",
              "      <td>2019-12-01</td>\n",
              "      <td>01:16</td>\n",
              "      <td>Sunday</td>\n",
              "      <td>Jayvien</td>\n",
              "      <td>do they?</td>\n",
              "      <td>[do, they, ?]</td>\n",
              "    </tr>\n",
              "    <tr>\n",
              "      <th>...</th>\n",
              "      <td>...</td>\n",
              "      <td>...</td>\n",
              "      <td>...</td>\n",
              "      <td>...</td>\n",
              "      <td>...</td>\n",
              "      <td>...</td>\n",
              "    </tr>\n",
              "    <tr>\n",
              "      <th>30939</th>\n",
              "      <td>2019-12-31</td>\n",
              "      <td>18:24</td>\n",
              "      <td>Tuesday</td>\n",
              "      <td>Azyriah</td>\n",
              "      <td>hi @GokturkSM</td>\n",
              "      <td>[hi, @gokturksm]</td>\n",
              "    </tr>\n",
              "    <tr>\n",
              "      <th>30940</th>\n",
              "      <td>2019-12-31</td>\n",
              "      <td>18:25</td>\n",
              "      <td>Tuesday</td>\n",
              "      <td>Areesha</td>\n",
              "      <td>Anyone have some math background? Trying to im...</td>\n",
              "      <td>[anyone, have, some, math, background, ?, try,...</td>\n",
              "    </tr>\n",
              "    <tr>\n",
              "      <th>30941</th>\n",
              "      <td>2019-12-31</td>\n",
              "      <td>18:26</td>\n",
              "      <td>Tuesday</td>\n",
              "      <td>Areesha</td>\n",
              "      <td>My question is... what exactly is a cyclic gro...</td>\n",
              "      <td>[my, question, be, ..., what, exactly, be, a, ...</td>\n",
              "    </tr>\n",
              "    <tr>\n",
              "      <th>30942</th>\n",
              "      <td>2019-12-31</td>\n",
              "      <td>18:29</td>\n",
              "      <td>Tuesday</td>\n",
              "      <td>Ailany</td>\n",
              "      <td>You need to know what exceptions your code may...</td>\n",
              "      <td>[you, need, to, know, what, exception, your, c...</td>\n",
              "    </tr>\n",
              "    <tr>\n",
              "      <th>30943</th>\n",
              "      <td>2019-12-31</td>\n",
              "      <td>18:29</td>\n",
              "      <td>Tuesday</td>\n",
              "      <td>Ailany</td>\n",
              "      <td>@cup</td>\n",
              "      <td>[@cup]</td>\n",
              "    </tr>\n",
              "  </tbody>\n",
              "</table>\n",
              "<p>30940 rows × 6 columns</p>\n",
              "</div>\n",
              "      <button class=\"colab-df-convert\" onclick=\"convertToInteractive('df-bb218bac-72c1-46ff-b293-d2a4eb607ec4')\"\n",
              "              title=\"Convert this dataframe to an interactive table.\"\n",
              "              style=\"display:none;\">\n",
              "        \n",
              "  <svg xmlns=\"http://www.w3.org/2000/svg\" height=\"24px\"viewBox=\"0 0 24 24\"\n",
              "       width=\"24px\">\n",
              "    <path d=\"M0 0h24v24H0V0z\" fill=\"none\"/>\n",
              "    <path d=\"M18.56 5.44l.94 2.06.94-2.06 2.06-.94-2.06-.94-.94-2.06-.94 2.06-2.06.94zm-11 1L8.5 8.5l.94-2.06 2.06-.94-2.06-.94L8.5 2.5l-.94 2.06-2.06.94zm10 10l.94 2.06.94-2.06 2.06-.94-2.06-.94-.94-2.06-.94 2.06-2.06.94z\"/><path d=\"M17.41 7.96l-1.37-1.37c-.4-.4-.92-.59-1.43-.59-.52 0-1.04.2-1.43.59L10.3 9.45l-7.72 7.72c-.78.78-.78 2.05 0 2.83L4 21.41c.39.39.9.59 1.41.59.51 0 1.02-.2 1.41-.59l7.78-7.78 2.81-2.81c.8-.78.8-2.07 0-2.86zM5.41 20L4 18.59l7.72-7.72 1.47 1.35L5.41 20z\"/>\n",
              "  </svg>\n",
              "      </button>\n",
              "      \n",
              "  <style>\n",
              "    .colab-df-container {\n",
              "      display:flex;\n",
              "      flex-wrap:wrap;\n",
              "      gap: 12px;\n",
              "    }\n",
              "\n",
              "    .colab-df-convert {\n",
              "      background-color: #E8F0FE;\n",
              "      border: none;\n",
              "      border-radius: 50%;\n",
              "      cursor: pointer;\n",
              "      display: none;\n",
              "      fill: #1967D2;\n",
              "      height: 32px;\n",
              "      padding: 0 0 0 0;\n",
              "      width: 32px;\n",
              "    }\n",
              "\n",
              "    .colab-df-convert:hover {\n",
              "      background-color: #E2EBFA;\n",
              "      box-shadow: 0px 1px 2px rgba(60, 64, 67, 0.3), 0px 1px 3px 1px rgba(60, 64, 67, 0.15);\n",
              "      fill: #174EA6;\n",
              "    }\n",
              "\n",
              "    [theme=dark] .colab-df-convert {\n",
              "      background-color: #3B4455;\n",
              "      fill: #D2E3FC;\n",
              "    }\n",
              "\n",
              "    [theme=dark] .colab-df-convert:hover {\n",
              "      background-color: #434B5C;\n",
              "      box-shadow: 0px 1px 3px 1px rgba(0, 0, 0, 0.15);\n",
              "      filter: drop-shadow(0px 1px 2px rgba(0, 0, 0, 0.3));\n",
              "      fill: #FFFFFF;\n",
              "    }\n",
              "  </style>\n",
              "\n",
              "      <script>\n",
              "        const buttonEl =\n",
              "          document.querySelector('#df-bb218bac-72c1-46ff-b293-d2a4eb607ec4 button.colab-df-convert');\n",
              "        buttonEl.style.display =\n",
              "          google.colab.kernel.accessAllowed ? 'block' : 'none';\n",
              "\n",
              "        async function convertToInteractive(key) {\n",
              "          const element = document.querySelector('#df-bb218bac-72c1-46ff-b293-d2a4eb607ec4');\n",
              "          const dataTable =\n",
              "            await google.colab.kernel.invokeFunction('convertToInteractive',\n",
              "                                                     [key], {});\n",
              "          if (!dataTable) return;\n",
              "\n",
              "          const docLinkHtml = 'Like what you see? Visit the ' +\n",
              "            '<a target=\"_blank\" href=https://colab.research.google.com/notebooks/data_table.ipynb>data table notebook</a>'\n",
              "            + ' to learn more about interactive tables.';\n",
              "          element.innerHTML = '';\n",
              "          dataTable['output_type'] = 'display_data';\n",
              "          await google.colab.output.renderOutput(dataTable, element);\n",
              "          const docLink = document.createElement('div');\n",
              "          docLink.innerHTML = docLinkHtml;\n",
              "          element.appendChild(docLink);\n",
              "        }\n",
              "      </script>\n",
              "    </div>\n",
              "  </div>\n",
              "  "
            ]
          },
          "metadata": {},
          "execution_count": 43
        }
      ]
    },
    {
      "cell_type": "markdown",
      "source": [
        "With looking at the \"text\" and \"parsed_words\" column, you can see how it converts each word to their basic form. Now we can start find certain word occurences and so forth.\n",
        "\n",
        "**This is important for Digital Forensics use, because for example, we can search for certain words that stand out and see who sends these words rather than read through all 30,940 messages.**"
      ],
      "metadata": {
        "id": "q5HjK-IYTMPV"
      }
    },
    {
      "cell_type": "code",
      "source": [
        "for i in df.count():\n",
        "    for word in df['parsed_words'][i]:\n",
        "        df['parsed_words'] = [token.text for token in doc if not token.is_stop and not token.is_punct]\n"
      ],
      "metadata": {
        "id": "cusAvrJaP1ni"
      },
      "execution_count": null,
      "outputs": []
    },
    {
      "cell_type": "code",
      "source": [
        "df['parsed_words']"
      ],
      "metadata": {
        "id": "GVnII3A6cHWB"
      },
      "execution_count": null,
      "outputs": []
    },
    {
      "cell_type": "markdown",
      "source": [
        "## Graph Analysis"
      ],
      "metadata": {
        "id": "gG5Q_ykMx7nC"
      }
    },
    {
      "cell_type": "markdown",
      "source": [
        "Lets do a little graph analysis.\n",
        "\n",
        "First lets create a variable called graph which will group our data by 'day' compared to when each message was sent 'text'. Using the plot function we can plot and take a look at the graph we created.\n",
        "\n",
        "We can also label the x and y axis to an appropriate name."
      ],
      "metadata": {
        "id": "Ik-q7jJqiE6A"
      }
    },
    {
      "cell_type": "code",
      "source": [
        "graph = df.groupby(df['day'])['text'].count().plot.bar()\n",
        "graph.set_xlabel('Day', fontsize=15)\n",
        "graph.set_ylabel('Number of Messages', fontsize=15)"
      ],
      "metadata": {
        "colab": {
          "base_uri": "https://localhost:8080/",
          "height": 349
        },
        "id": "T028GtRtXms0",
        "outputId": "7b14186d-c90b-4e98-cc9c-286c48eaa1db"
      },
      "execution_count": 25,
      "outputs": [
        {
          "output_type": "execute_result",
          "data": {
            "text/plain": [
              "Text(0, 0.5, 'Number of Messages')"
            ]
          },
          "metadata": {},
          "execution_count": 25
        },
        {
          "output_type": "display_data",
          "data": {
            "text/plain": [
              "<Figure size 432x288 with 1 Axes>"
            ],
            "image/png": "[encoded data removed]"
          },
          "metadata": {
            "needs_background": "light"
          }
        }
      ]
    },
    {
      "cell_type": "markdown",
      "source": [
        "This shows us how many messages were sent compared to the day of the week.\n",
        "\n",
        "Seems like Tuesday has been the busiest day!"
      ],
      "metadata": {
        "id": "M1YtNptrgfpr"
      }
    },
    {
      "cell_type": "markdown",
      "source": [
        "We are also able to take a look at which date  had the most messages sent.\n",
        "\n",
        "Sorting by 'date' instead of 'day of week' will let us view the data by the date each message was sent."
      ],
      "metadata": {
        "id": "fcfP2k-Lh0iu"
      }
    },
    {
      "cell_type": "code",
      "source": [
        "#graph2 = df.groupby(df['time'].dt.day)['text'].count().plot()\n",
        "#graph2.set_xlabel('Date', fontsize=18)\n",
        "#graph2.set_ylabel('Number of messages', fontsize=18)\n",
        "graph2 = df.groupby(df['date'])['text'].count().plot.bar()\n",
        "#graph2.set_xticklabels(df['date'], fontdict='verticalalignment': 'baseline')\n",
        "graph2.set_xlabel('Date', fontsize=18)\n",
        "graph2.set_ylabel('Number of messages', fontsize=18)"
      ],
      "metadata": {
        "colab": {
          "base_uri": "https://localhost:8080/",
          "height": 352
        },
        "id": "iZwWySOlb0_b",
        "outputId": "93d68bda-7ee6-4133-f05f-e2e0389a80e8"
      },
      "execution_count": 48,
      "outputs": [
        {
          "output_type": "execute_result",
          "data": {
            "text/plain": [
              "Text(0, 0.5, 'Number of messages')"
            ]
          },
          "metadata": {},
          "execution_count": 48
        },
        {
          "output_type": "display_data",
          "data": {
            "text/plain": [
              "<Figure size 432x288 with 1 Axes>"
            ],
            "image/png": "[encoded data removed]"
          },
          "metadata": {
            "needs_background": "light"
          }
        }
      ]
    },
    {
      "cell_type": "markdown",
      "source": [
        "# Challenges"
      ],
      "metadata": {
        "id": "Sr53D6mIs3qQ"
      }
    },
    {
      "cell_type": "markdown",
      "source": [
        "Add activites for users to learn interactively"
      ],
      "metadata": {
        "id": "g47V972-TH1p"
      }
    },
    {
      "cell_type": "markdown",
      "source": [
        "Add sample data set have users do simple tasks"
      ],
      "metadata": {
        "id": "NCLZIVntBUvK"
      }
    },
    {
      "cell_type": "code",
      "source": [
        "score = 0\n",
        "questions = 5"
      ],
      "metadata": {
        "id": "uAO5UTLKidJk"
      },
      "execution_count": null,
      "outputs": []
    },
    {
      "cell_type": "code",
      "source": [
        "print(\"Find how many messages 'Kaliope' sent.\")"
      ],
      "metadata": {
        "id": "hAiG5dRVhCvJ"
      },
      "execution_count": null,
      "outputs": []
    },
    {
      "cell_type": "code",
      "source": [
        "answer1 = input()"
      ],
      "metadata": {
        "id": "3W99kjd8hgnS"
      },
      "execution_count": null,
      "outputs": []
    },
    {
      "cell_type": "code",
      "source": [
        "if answer1 == \"df['user'].value_counts()['Kaliope']\":\n",
        "  print(\"Correct!\")\n",
        "  score += 1\n",
        "else:\n",
        "  print(\"Incorrect\")\n",
        "  print(\"One way to solve this is:\")\n",
        "  print(\"\")\n",
        "  print(\"df['user'].value_counts()['Kaliope']\")"
      ],
      "metadata": {
        "id": "cwkNHa6nh6lA"
      },
      "execution_count": null,
      "outputs": []
    },
    {
      "cell_type": "code",
      "source": [
        "score = round(score/questions*100)\n",
        "print('Quiz completed.')\n",
        "print('Your final score is {}%.'.format(score))"
      ],
      "metadata": {
        "id": "ZXY1SIryiidl"
      },
      "execution_count": null,
      "outputs": []
    },
    {
      "cell_type": "code",
      "source": [
        "if int(score) >= 70:\n",
        "    print(\"Congrats, you passed!\")\n",
        "else:\n",
        "    print(\"Sorry, you failed.\")"
      ],
      "metadata": {
        "id": "FB8ZfV61kJdD"
      },
      "execution_count": null,
      "outputs": []
    }
  ]
}