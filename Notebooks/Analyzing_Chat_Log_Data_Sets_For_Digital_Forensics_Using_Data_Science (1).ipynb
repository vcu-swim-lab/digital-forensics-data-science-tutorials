{
  "nbformat": 4,
  "nbformat_minor": 0,
  "metadata": {
    "colab": {
      "provenance": []
    },
    "kernelspec": {
      "name": "python3",
      "display_name": "Python 3"
    },
    "language_info": {
      "name": "python"
    }
  },
  "cells": [
    {
      "cell_type": "markdown",
      "source": [
        "**Analyzing Chat Log Data Sets For Digital Forensics Using Data Science**\n",
        "\n",
        "---\n",
        "\n"
      ],
      "metadata": {
        "id": "97_XxyAKJhV3"
      }
    },
    {
      "cell_type": "markdown",
      "source": [
        "# Background Information"
      ],
      "metadata": {
        "id": "PuQJ7Ae6HKxZ"
      }
    },
    {
      "cell_type": "markdown",
      "source": [
        "Digital Forensics is a science that focuses on identifying, gathering, processing, analysing, and \n",
        "reporting of data stored electronically. Computer emails, text messages, images, documents, and internet histories \n",
        "are all very important pieces of information that can be extracted from electronic devices.\n",
        " \n",
        "An analyst will have to examine these computer files from a user or suspect and try and preserve the \n",
        "evidence in its most original form. Any alarming piece of information from these computer files can be used \n",
        "as evidence. \n",
        "\n",
        "Usually, the size of the electronic data and files are huge, and will take a great deal of time to go through \n",
        "every file or text message manually. This is where Data Science can be very beneficial to Digital Forensics.\n",
        "\n",
        "Often times there are situations where you may have to view a users chat logs. You may have to read through \n",
        "their messages to see their conversation, who their communicating with, potential partners, or other key \n",
        "pieces of evidence. \n",
        "\n",
        "\n"
      ],
      "metadata": {
        "id": "TLeJMUa0wX0t"
      }
    },
    {
      "cell_type": "markdown",
      "source": [
        "# What We Will Be Doing"
      ],
      "metadata": {
        "id": "EReuw_O4HhEt"
      }
    },
    {
      "cell_type": "markdown",
      "source": [
        "We will be giving you some tips on how exactly we can condense and organize chat logs down to a smaller size \n",
        "which can be more easily analyzed. We will be explaining how to organize the data in a better fashion, \n",
        "remove duplicates, clean bad or useless data, and more.\n",
        "\n",
        "For this example we will be viewing a public Discord server, specifically of four different programming language communities such as Python, Go, Clojure, and Racket. These servers are public and serve as a resource for getting \n",
        "technical help, sharing knowledge, and also real-time conversations between fellow community members."
      ],
      "metadata": {
        "id": "CbmRcA6LHtGS"
      }
    },
    {
      "cell_type": "markdown",
      "source": [
        "# Learning Goals"
      ],
      "metadata": {
        "id": "Ar2gQK3DHUQ_"
      }
    },
    {
      "cell_type": "markdown",
      "source": [
        "Learning Goals for this tutorial:\n",
        "\n",
        "*   Use Pandas to manipulate a data set\n",
        "*   Cleaning data\n",
        "*   Analyze/sort through the data set\n",
        "*   Be able to pull specific details from the data set\n",
        "\n",
        "\n",
        "\n",
        "\n",
        "\n"
      ],
      "metadata": {
        "id": "j1nhwWvPG7II"
      }
    },
    {
      "cell_type": "markdown",
      "source": [
        "# Getting Started"
      ],
      "metadata": {
        "id": "bg0F1GYeHwsS"
      }
    },
    {
      "cell_type": "markdown",
      "source": [
        "To first get started, we will import some libraries that will help us process and go through data sets.\n",
        "We will be using the 'pandas' library, an open source data analysis and manipulation tool, built on top of the \n",
        "Python programming langage.\n",
        "\n",
        "We will also use the 'numpy' library to help us use arrays to better organize our data."
      ],
      "metadata": {
        "id": "eJxpQ0CQws5R"
      }
    },
    {
      "cell_type": "code",
      "source": [
        "import pandas as pd\n",
        "import numpy as np\n",
        "from datetime import datetime, timedelta"
      ],
      "metadata": {
        "id": "GhR9XgMIw2YM"
      },
      "execution_count": null,
      "outputs": []
    },
    {
      "cell_type": "markdown",
      "source": [
        "Our first line of code here is to read in our data set using the pandas library we imported. \n",
        "Here we are using one month of chat logs to start with.\n",
        "\n",
        "We are going to be storing our data set of chat logs into a variable called \"df\" and will use the 'pandas' library to read the xml file."
      ],
      "metadata": {
        "id": "fsXbm4oSxDHc"
      }
    },
    {
      "cell_type": "code",
      "source": [
        "df = pd.read_xml('pythongeneralDec2019.xml')"
      ],
      "metadata": {
        "id": "NAPifDwgxMlE"
      },
      "execution_count": null,
      "outputs": []
    },
    {
      "cell_type": "markdown",
      "source": [
        "Lets take a look at what our data consists of using the \"info\" method. "
      ],
      "metadata": {
        "id": "OSGtwzgoxsbv"
      }
    },
    {
      "cell_type": "code",
      "source": [
        "df.info()"
      ],
      "metadata": {
        "colab": {
          "base_uri": "https://localhost:8080/"
        },
        "id": "AvZUVFVTxtZu",
        "outputId": "83f6e8f7-5de8-4c61-8f52-adbbae61c1c2"
      },
      "execution_count": null,
      "outputs": [
        {
          "output_type": "stream",
          "name": "stdout",
          "text": [
            "<class 'pandas.core.frame.DataFrame'>\n",
            "RangeIndex: 30944 entries, 0 to 30943\n",
            "Data columns (total 7 columns):\n",
            " #   Column        Non-Null Count  Dtype \n",
            "---  ------        --------------  ----- \n",
            " 0   team_domain   1 non-null      object\n",
            " 1   channel_name  1 non-null      object\n",
            " 2   start_date    1 non-null      object\n",
            " 3   end_date      1 non-null      object\n",
            " 4   ts            30940 non-null  object\n",
            " 5   user          30940 non-null  object\n",
            " 6   text          30940 non-null  object\n",
            "dtypes: object(7)\n",
            "memory usage: 1.7+ MB\n"
          ]
        }
      ]
    },
    {
      "cell_type": "markdown",
      "source": [
        "Here we can see a more general view of what our data set consists of. This shows our different column names as well as how many values are in these columns. Notice the first four columns, there is only one piece of data in these columns.\n",
        "\n",
        "Using just the \"df\" command, now we see exactly what our data in the data set consists of as a whole.\n"
      ],
      "metadata": {
        "id": "BjLgS6j0yODa"
      }
    },
    {
      "cell_type": "code",
      "source": [
        "df"
      ],
      "metadata": {
        "colab": {
          "base_uri": "https://localhost:8080/",
          "height": 624
        },
        "id": "LopZwjM2ytqM",
        "outputId": "8daa371c-2271-477f-caaa-5e11fd7541f0"
      },
      "execution_count": null,
      "outputs": [
        {
          "output_type": "execute_result",
          "data": {
            "text/plain": [
              "      team_domain    channel_name                  start_date  \\\n",
              "0          Python            None                        None   \n",
              "1            None  python-general                        None   \n",
              "2            None            None  2019-12-01T00:56:23.288000   \n",
              "3            None            None                        None   \n",
              "4            None            None                        None   \n",
              "...           ...             ...                         ...   \n",
              "30939        None            None                        None   \n",
              "30940        None            None                        None   \n",
              "30941        None            None                        None   \n",
              "30942        None            None                        None   \n",
              "30943        None            None                        None   \n",
              "\n",
              "                         end_date                          ts     user  \\\n",
              "0                            None                        None     None   \n",
              "1                            None                        None     None   \n",
              "2                            None                        None     None   \n",
              "3      2019-12-31T18:29:57.380000                        None     None   \n",
              "4                            None  2019-12-01T00:56:23.288000    Ryden   \n",
              "...                           ...                         ...      ...   \n",
              "30939                        None  2019-12-31T18:24:58.198000  Azyriah   \n",
              "30940                        None  2019-12-31T18:25:37.421000  Areesha   \n",
              "30941                        None  2019-12-31T18:26:17.603000  Areesha   \n",
              "30942                        None  2019-12-31T18:29:15.676000   Ailany   \n",
              "30943                        None  2019-12-31T18:29:57.380000   Ailany   \n",
              "\n",
              "                                                    text  \n",
              "0                                                   None  \n",
              "1                                                   None  \n",
              "2                                                   None  \n",
              "3                                                   None  \n",
              "4      where is the name of the file stored on the file?  \n",
              "...                                                  ...  \n",
              "30939                                      hi @GokturkSM  \n",
              "30940  Anyone have some math background? Trying to im...  \n",
              "30941  My question is... what exactly is a cyclic gro...  \n",
              "30942  You need to know what exceptions your code may...  \n",
              "30943                                               @cup  \n",
              "\n",
              "[30944 rows x 7 columns]"
            ],
            "text/html": [
              "\n",
              "  <div id=\"df-1e77b1ad-2f70-4b38-abfd-cb5276f91a26\">\n",
              "    <div class=\"colab-df-container\">\n",
              "      <div>\n",
              "<style scoped>\n",
              "    .dataframe tbody tr th:only-of-type {\n",
              "        vertical-align: middle;\n",
              "    }\n",
              "\n",
              "    .dataframe tbody tr th {\n",
              "        vertical-align: top;\n",
              "    }\n",
              "\n",
              "    .dataframe thead th {\n",
              "        text-align: right;\n",
              "    }\n",
              "</style>\n",
              "<table border=\"1\" class=\"dataframe\">\n",
              "  <thead>\n",
              "    <tr style=\"text-align: right;\">\n",
              "      <th></th>\n",
              "      <th>team_domain</th>\n",
              "      <th>channel_name</th>\n",
              "      <th>start_date</th>\n",
              "      <th>end_date</th>\n",
              "      <th>ts</th>\n",
              "      <th>user</th>\n",
              "      <th>text</th>\n",
              "    </tr>\n",
              "  </thead>\n",
              "  <tbody>\n",
              "    <tr>\n",
              "      <th>0</th>\n",
              "      <td>Python</td>\n",
              "      <td>None</td>\n",
              "      <td>None</td>\n",
              "      <td>None</td>\n",
              "      <td>None</td>\n",
              "      <td>None</td>\n",
              "      <td>None</td>\n",
              "    </tr>\n",
              "    <tr>\n",
              "      <th>1</th>\n",
              "      <td>None</td>\n",
              "      <td>python-general</td>\n",
              "      <td>None</td>\n",
              "      <td>None</td>\n",
              "      <td>None</td>\n",
              "      <td>None</td>\n",
              "      <td>None</td>\n",
              "    </tr>\n",
              "    <tr>\n",
              "      <th>2</th>\n",
              "      <td>None</td>\n",
              "      <td>None</td>\n",
              "      <td>2019-12-01T00:56:23.288000</td>\n",
              "      <td>None</td>\n",
              "      <td>None</td>\n",
              "      <td>None</td>\n",
              "      <td>None</td>\n",
              "    </tr>\n",
              "    <tr>\n",
              "      <th>3</th>\n",
              "      <td>None</td>\n",
              "      <td>None</td>\n",
              "      <td>None</td>\n",
              "      <td>2019-12-31T18:29:57.380000</td>\n",
              "      <td>None</td>\n",
              "      <td>None</td>\n",
              "      <td>None</td>\n",
              "    </tr>\n",
              "    <tr>\n",
              "      <th>4</th>\n",
              "      <td>None</td>\n",
              "      <td>None</td>\n",
              "      <td>None</td>\n",
              "      <td>None</td>\n",
              "      <td>2019-12-01T00:56:23.288000</td>\n",
              "      <td>Ryden</td>\n",
              "      <td>where is the name of the file stored on the file?</td>\n",
              "    </tr>\n",
              "    <tr>\n",
              "      <th>...</th>\n",
              "      <td>...</td>\n",
              "      <td>...</td>\n",
              "      <td>...</td>\n",
              "      <td>...</td>\n",
              "      <td>...</td>\n",
              "      <td>...</td>\n",
              "      <td>...</td>\n",
              "    </tr>\n",
              "    <tr>\n",
              "      <th>30939</th>\n",
              "      <td>None</td>\n",
              "      <td>None</td>\n",
              "      <td>None</td>\n",
              "      <td>None</td>\n",
              "      <td>2019-12-31T18:24:58.198000</td>\n",
              "      <td>Azyriah</td>\n",
              "      <td>hi @GokturkSM</td>\n",
              "    </tr>\n",
              "    <tr>\n",
              "      <th>30940</th>\n",
              "      <td>None</td>\n",
              "      <td>None</td>\n",
              "      <td>None</td>\n",
              "      <td>None</td>\n",
              "      <td>2019-12-31T18:25:37.421000</td>\n",
              "      <td>Areesha</td>\n",
              "      <td>Anyone have some math background? Trying to im...</td>\n",
              "    </tr>\n",
              "    <tr>\n",
              "      <th>30941</th>\n",
              "      <td>None</td>\n",
              "      <td>None</td>\n",
              "      <td>None</td>\n",
              "      <td>None</td>\n",
              "      <td>2019-12-31T18:26:17.603000</td>\n",
              "      <td>Areesha</td>\n",
              "      <td>My question is... what exactly is a cyclic gro...</td>\n",
              "    </tr>\n",
              "    <tr>\n",
              "      <th>30942</th>\n",
              "      <td>None</td>\n",
              "      <td>None</td>\n",
              "      <td>None</td>\n",
              "      <td>None</td>\n",
              "      <td>2019-12-31T18:29:15.676000</td>\n",
              "      <td>Ailany</td>\n",
              "      <td>You need to know what exceptions your code may...</td>\n",
              "    </tr>\n",
              "    <tr>\n",
              "      <th>30943</th>\n",
              "      <td>None</td>\n",
              "      <td>None</td>\n",
              "      <td>None</td>\n",
              "      <td>None</td>\n",
              "      <td>2019-12-31T18:29:57.380000</td>\n",
              "      <td>Ailany</td>\n",
              "      <td>@cup</td>\n",
              "    </tr>\n",
              "  </tbody>\n",
              "</table>\n",
              "<p>30944 rows × 7 columns</p>\n",
              "</div>\n",
              "      <button class=\"colab-df-convert\" onclick=\"convertToInteractive('df-1e77b1ad-2f70-4b38-abfd-cb5276f91a26')\"\n",
              "              title=\"Convert this dataframe to an interactive table.\"\n",
              "              style=\"display:none;\">\n",
              "        \n",
              "  <svg xmlns=\"http://www.w3.org/2000/svg\" height=\"24px\"viewBox=\"0 0 24 24\"\n",
              "       width=\"24px\">\n",
              "    <path d=\"M0 0h24v24H0V0z\" fill=\"none\"/>\n",
              "    <path d=\"M18.56 5.44l.94 2.06.94-2.06 2.06-.94-2.06-.94-.94-2.06-.94 2.06-2.06.94zm-11 1L8.5 8.5l.94-2.06 2.06-.94-2.06-.94L8.5 2.5l-.94 2.06-2.06.94zm10 10l.94 2.06.94-2.06 2.06-.94-2.06-.94-.94-2.06-.94 2.06-2.06.94z\"/><path d=\"M17.41 7.96l-1.37-1.37c-.4-.4-.92-.59-1.43-.59-.52 0-1.04.2-1.43.59L10.3 9.45l-7.72 7.72c-.78.78-.78 2.05 0 2.83L4 21.41c.39.39.9.59 1.41.59.51 0 1.02-.2 1.41-.59l7.78-7.78 2.81-2.81c.8-.78.8-2.07 0-2.86zM5.41 20L4 18.59l7.72-7.72 1.47 1.35L5.41 20z\"/>\n",
              "  </svg>\n",
              "      </button>\n",
              "      \n",
              "  <style>\n",
              "    .colab-df-container {\n",
              "      display:flex;\n",
              "      flex-wrap:wrap;\n",
              "      gap: 12px;\n",
              "    }\n",
              "\n",
              "    .colab-df-convert {\n",
              "      background-color: #E8F0FE;\n",
              "      border: none;\n",
              "      border-radius: 50%;\n",
              "      cursor: pointer;\n",
              "      display: none;\n",
              "      fill: #1967D2;\n",
              "      height: 32px;\n",
              "      padding: 0 0 0 0;\n",
              "      width: 32px;\n",
              "    }\n",
              "\n",
              "    .colab-df-convert:hover {\n",
              "      background-color: #E2EBFA;\n",
              "      box-shadow: 0px 1px 2px rgba(60, 64, 67, 0.3), 0px 1px 3px 1px rgba(60, 64, 67, 0.15);\n",
              "      fill: #174EA6;\n",
              "    }\n",
              "\n",
              "    [theme=dark] .colab-df-convert {\n",
              "      background-color: #3B4455;\n",
              "      fill: #D2E3FC;\n",
              "    }\n",
              "\n",
              "    [theme=dark] .colab-df-convert:hover {\n",
              "      background-color: #434B5C;\n",
              "      box-shadow: 0px 1px 3px 1px rgba(0, 0, 0, 0.15);\n",
              "      filter: drop-shadow(0px 1px 2px rgba(0, 0, 0, 0.3));\n",
              "      fill: #FFFFFF;\n",
              "    }\n",
              "  </style>\n",
              "\n",
              "      <script>\n",
              "        const buttonEl =\n",
              "          document.querySelector('#df-1e77b1ad-2f70-4b38-abfd-cb5276f91a26 button.colab-df-convert');\n",
              "        buttonEl.style.display =\n",
              "          google.colab.kernel.accessAllowed ? 'block' : 'none';\n",
              "\n",
              "        async function convertToInteractive(key) {\n",
              "          const element = document.querySelector('#df-1e77b1ad-2f70-4b38-abfd-cb5276f91a26');\n",
              "          const dataTable =\n",
              "            await google.colab.kernel.invokeFunction('convertToInteractive',\n",
              "                                                     [key], {});\n",
              "          if (!dataTable) return;\n",
              "\n",
              "          const docLinkHtml = 'Like what you see? Visit the ' +\n",
              "            '<a target=\"_blank\" href=https://colab.research.google.com/notebooks/data_table.ipynb>data table notebook</a>'\n",
              "            + ' to learn more about interactive tables.';\n",
              "          element.innerHTML = '';\n",
              "          dataTable['output_type'] = 'display_data';\n",
              "          await google.colab.output.renderOutput(dataTable, element);\n",
              "          const docLink = document.createElement('div');\n",
              "          docLink.innerHTML = docLinkHtml;\n",
              "          element.appendChild(docLink);\n",
              "        }\n",
              "      </script>\n",
              "    </div>\n",
              "  </div>\n",
              "  "
            ]
          },
          "metadata": {},
          "execution_count": 12
        }
      ]
    },
    {
      "cell_type": "markdown",
      "source": [
        "# Data Cleaning"
      ],
      "metadata": {
        "id": "iuv0-gFvJ91Z"
      }
    },
    {
      "cell_type": "markdown",
      "source": [
        "Notice the first four columns again, we only have one piece of information in each of these columns, and they aren't that useful to us. We do not need to work with the name of the discord channel as well as the start and end date/time. \n",
        "\n",
        "We will start by getting rid of these first four columns and rows of data to simplify and condense down our data set."
      ],
      "metadata": {
        "id": "xRNLbYwhyvHk"
      }
    },
    {
      "cell_type": "code",
      "source": [
        "df = df.drop(range(0,4))"
      ],
      "metadata": {
        "id": "hNC_uVzvz2i-"
      },
      "execution_count": null,
      "outputs": []
    },
    {
      "cell_type": "markdown",
      "source": [
        "We used the \"drop\" method to get rid of our first four rows of data.\n",
        "\n",
        "Lets take a look at what it looks like now."
      ],
      "metadata": {
        "id": "M0j6h9znz68u"
      }
    },
    {
      "cell_type": "code",
      "source": [
        "df"
      ],
      "metadata": {
        "colab": {
          "base_uri": "https://localhost:8080/",
          "height": 641
        },
        "id": "rIk2HMcn1TQa",
        "outputId": "37eb3062-e55e-4be4-c574-645c2f1c6e3e"
      },
      "execution_count": null,
      "outputs": [
        {
          "output_type": "execute_result",
          "data": {
            "text/plain": [
              "      team_domain channel_name start_date end_date  \\\n",
              "4            None         None       None     None   \n",
              "5            None         None       None     None   \n",
              "6            None         None       None     None   \n",
              "7            None         None       None     None   \n",
              "8            None         None       None     None   \n",
              "...           ...          ...        ...      ...   \n",
              "30939        None         None       None     None   \n",
              "30940        None         None       None     None   \n",
              "30941        None         None       None     None   \n",
              "30942        None         None       None     None   \n",
              "30943        None         None       None     None   \n",
              "\n",
              "                               ts     user  \\\n",
              "4      2019-12-01T00:56:23.288000    Ryden   \n",
              "5      2019-12-01T01:07:04.875000  Jayvien   \n",
              "6      2019-12-01T01:10:54.022000  Kaliope   \n",
              "7      2019-12-01T01:13:29.732000    Naely   \n",
              "8      2019-12-01T01:16:43.656000  Jayvien   \n",
              "...                           ...      ...   \n",
              "30939  2019-12-31T18:24:58.198000  Azyriah   \n",
              "30940  2019-12-31T18:25:37.421000  Areesha   \n",
              "30941  2019-12-31T18:26:17.603000  Areesha   \n",
              "30942  2019-12-31T18:29:15.676000   Ailany   \n",
              "30943  2019-12-31T18:29:57.380000   Ailany   \n",
              "\n",
              "                                                    text  \n",
              "4      where is the name of the file stored on the file?  \n",
              "5                                              say what?  \n",
              "6      Where would you guys recommend I learn kotlin ...  \n",
              "7      I used the official Kotlin docs they have an e...  \n",
              "8                                               do they?  \n",
              "...                                                  ...  \n",
              "30939                                      hi @GokturkSM  \n",
              "30940  Anyone have some math background? Trying to im...  \n",
              "30941  My question is... what exactly is a cyclic gro...  \n",
              "30942  You need to know what exceptions your code may...  \n",
              "30943                                               @cup  \n",
              "\n",
              "[30940 rows x 7 columns]"
            ],
            "text/html": [
              "\n",
              "  <div id=\"df-9b759d13-57ff-403d-8474-2631361653be\">\n",
              "    <div class=\"colab-df-container\">\n",
              "      <div>\n",
              "<style scoped>\n",
              "    .dataframe tbody tr th:only-of-type {\n",
              "        vertical-align: middle;\n",
              "    }\n",
              "\n",
              "    .dataframe tbody tr th {\n",
              "        vertical-align: top;\n",
              "    }\n",
              "\n",
              "    .dataframe thead th {\n",
              "        text-align: right;\n",
              "    }\n",
              "</style>\n",
              "<table border=\"1\" class=\"dataframe\">\n",
              "  <thead>\n",
              "    <tr style=\"text-align: right;\">\n",
              "      <th></th>\n",
              "      <th>team_domain</th>\n",
              "      <th>channel_name</th>\n",
              "      <th>start_date</th>\n",
              "      <th>end_date</th>\n",
              "      <th>ts</th>\n",
              "      <th>user</th>\n",
              "      <th>text</th>\n",
              "    </tr>\n",
              "  </thead>\n",
              "  <tbody>\n",
              "    <tr>\n",
              "      <th>4</th>\n",
              "      <td>None</td>\n",
              "      <td>None</td>\n",
              "      <td>None</td>\n",
              "      <td>None</td>\n",
              "      <td>2019-12-01T00:56:23.288000</td>\n",
              "      <td>Ryden</td>\n",
              "      <td>where is the name of the file stored on the file?</td>\n",
              "    </tr>\n",
              "    <tr>\n",
              "      <th>5</th>\n",
              "      <td>None</td>\n",
              "      <td>None</td>\n",
              "      <td>None</td>\n",
              "      <td>None</td>\n",
              "      <td>2019-12-01T01:07:04.875000</td>\n",
              "      <td>Jayvien</td>\n",
              "      <td>say what?</td>\n",
              "    </tr>\n",
              "    <tr>\n",
              "      <th>6</th>\n",
              "      <td>None</td>\n",
              "      <td>None</td>\n",
              "      <td>None</td>\n",
              "      <td>None</td>\n",
              "      <td>2019-12-01T01:10:54.022000</td>\n",
              "      <td>Kaliope</td>\n",
              "      <td>Where would you guys recommend I learn kotlin ...</td>\n",
              "    </tr>\n",
              "    <tr>\n",
              "      <th>7</th>\n",
              "      <td>None</td>\n",
              "      <td>None</td>\n",
              "      <td>None</td>\n",
              "      <td>None</td>\n",
              "      <td>2019-12-01T01:13:29.732000</td>\n",
              "      <td>Naely</td>\n",
              "      <td>I used the official Kotlin docs they have an e...</td>\n",
              "    </tr>\n",
              "    <tr>\n",
              "      <th>8</th>\n",
              "      <td>None</td>\n",
              "      <td>None</td>\n",
              "      <td>None</td>\n",
              "      <td>None</td>\n",
              "      <td>2019-12-01T01:16:43.656000</td>\n",
              "      <td>Jayvien</td>\n",
              "      <td>do they?</td>\n",
              "    </tr>\n",
              "    <tr>\n",
              "      <th>...</th>\n",
              "      <td>...</td>\n",
              "      <td>...</td>\n",
              "      <td>...</td>\n",
              "      <td>...</td>\n",
              "      <td>...</td>\n",
              "      <td>...</td>\n",
              "      <td>...</td>\n",
              "    </tr>\n",
              "    <tr>\n",
              "      <th>30939</th>\n",
              "      <td>None</td>\n",
              "      <td>None</td>\n",
              "      <td>None</td>\n",
              "      <td>None</td>\n",
              "      <td>2019-12-31T18:24:58.198000</td>\n",
              "      <td>Azyriah</td>\n",
              "      <td>hi @GokturkSM</td>\n",
              "    </tr>\n",
              "    <tr>\n",
              "      <th>30940</th>\n",
              "      <td>None</td>\n",
              "      <td>None</td>\n",
              "      <td>None</td>\n",
              "      <td>None</td>\n",
              "      <td>2019-12-31T18:25:37.421000</td>\n",
              "      <td>Areesha</td>\n",
              "      <td>Anyone have some math background? Trying to im...</td>\n",
              "    </tr>\n",
              "    <tr>\n",
              "      <th>30941</th>\n",
              "      <td>None</td>\n",
              "      <td>None</td>\n",
              "      <td>None</td>\n",
              "      <td>None</td>\n",
              "      <td>2019-12-31T18:26:17.603000</td>\n",
              "      <td>Areesha</td>\n",
              "      <td>My question is... what exactly is a cyclic gro...</td>\n",
              "    </tr>\n",
              "    <tr>\n",
              "      <th>30942</th>\n",
              "      <td>None</td>\n",
              "      <td>None</td>\n",
              "      <td>None</td>\n",
              "      <td>None</td>\n",
              "      <td>2019-12-31T18:29:15.676000</td>\n",
              "      <td>Ailany</td>\n",
              "      <td>You need to know what exceptions your code may...</td>\n",
              "    </tr>\n",
              "    <tr>\n",
              "      <th>30943</th>\n",
              "      <td>None</td>\n",
              "      <td>None</td>\n",
              "      <td>None</td>\n",
              "      <td>None</td>\n",
              "      <td>2019-12-31T18:29:57.380000</td>\n",
              "      <td>Ailany</td>\n",
              "      <td>@cup</td>\n",
              "    </tr>\n",
              "  </tbody>\n",
              "</table>\n",
              "<p>30940 rows × 7 columns</p>\n",
              "</div>\n",
              "      <button class=\"colab-df-convert\" onclick=\"convertToInteractive('df-9b759d13-57ff-403d-8474-2631361653be')\"\n",
              "              title=\"Convert this dataframe to an interactive table.\"\n",
              "              style=\"display:none;\">\n",
              "        \n",
              "  <svg xmlns=\"http://www.w3.org/2000/svg\" height=\"24px\"viewBox=\"0 0 24 24\"\n",
              "       width=\"24px\">\n",
              "    <path d=\"M0 0h24v24H0V0z\" fill=\"none\"/>\n",
              "    <path d=\"M18.56 5.44l.94 2.06.94-2.06 2.06-.94-2.06-.94-.94-2.06-.94 2.06-2.06.94zm-11 1L8.5 8.5l.94-2.06 2.06-.94-2.06-.94L8.5 2.5l-.94 2.06-2.06.94zm10 10l.94 2.06.94-2.06 2.06-.94-2.06-.94-.94-2.06-.94 2.06-2.06.94z\"/><path d=\"M17.41 7.96l-1.37-1.37c-.4-.4-.92-.59-1.43-.59-.52 0-1.04.2-1.43.59L10.3 9.45l-7.72 7.72c-.78.78-.78 2.05 0 2.83L4 21.41c.39.39.9.59 1.41.59.51 0 1.02-.2 1.41-.59l7.78-7.78 2.81-2.81c.8-.78.8-2.07 0-2.86zM5.41 20L4 18.59l7.72-7.72 1.47 1.35L5.41 20z\"/>\n",
              "  </svg>\n",
              "      </button>\n",
              "      \n",
              "  <style>\n",
              "    .colab-df-container {\n",
              "      display:flex;\n",
              "      flex-wrap:wrap;\n",
              "      gap: 12px;\n",
              "    }\n",
              "\n",
              "    .colab-df-convert {\n",
              "      background-color: #E8F0FE;\n",
              "      border: none;\n",
              "      border-radius: 50%;\n",
              "      cursor: pointer;\n",
              "      display: none;\n",
              "      fill: #1967D2;\n",
              "      height: 32px;\n",
              "      padding: 0 0 0 0;\n",
              "      width: 32px;\n",
              "    }\n",
              "\n",
              "    .colab-df-convert:hover {\n",
              "      background-color: #E2EBFA;\n",
              "      box-shadow: 0px 1px 2px rgba(60, 64, 67, 0.3), 0px 1px 3px 1px rgba(60, 64, 67, 0.15);\n",
              "      fill: #174EA6;\n",
              "    }\n",
              "\n",
              "    [theme=dark] .colab-df-convert {\n",
              "      background-color: #3B4455;\n",
              "      fill: #D2E3FC;\n",
              "    }\n",
              "\n",
              "    [theme=dark] .colab-df-convert:hover {\n",
              "      background-color: #434B5C;\n",
              "      box-shadow: 0px 1px 3px 1px rgba(0, 0, 0, 0.15);\n",
              "      filter: drop-shadow(0px 1px 2px rgba(0, 0, 0, 0.3));\n",
              "      fill: #FFFFFF;\n",
              "    }\n",
              "  </style>\n",
              "\n",
              "      <script>\n",
              "        const buttonEl =\n",
              "          document.querySelector('#df-9b759d13-57ff-403d-8474-2631361653be button.colab-df-convert');\n",
              "        buttonEl.style.display =\n",
              "          google.colab.kernel.accessAllowed ? 'block' : 'none';\n",
              "\n",
              "        async function convertToInteractive(key) {\n",
              "          const element = document.querySelector('#df-9b759d13-57ff-403d-8474-2631361653be');\n",
              "          const dataTable =\n",
              "            await google.colab.kernel.invokeFunction('convertToInteractive',\n",
              "                                                     [key], {});\n",
              "          if (!dataTable) return;\n",
              "\n",
              "          const docLinkHtml = 'Like what you see? Visit the ' +\n",
              "            '<a target=\"_blank\" href=https://colab.research.google.com/notebooks/data_table.ipynb>data table notebook</a>'\n",
              "            + ' to learn more about interactive tables.';\n",
              "          element.innerHTML = '';\n",
              "          dataTable['output_type'] = 'display_data';\n",
              "          await google.colab.output.renderOutput(dataTable, element);\n",
              "          const docLink = document.createElement('div');\n",
              "          docLink.innerHTML = docLinkHtml;\n",
              "          element.appendChild(docLink);\n",
              "        }\n",
              "      </script>\n",
              "    </div>\n",
              "  </div>\n",
              "  "
            ]
          },
          "metadata": {},
          "execution_count": 14
        }
      ]
    },
    {
      "cell_type": "markdown",
      "source": [
        "Our data set looks a little cleaner now, however, now we have four rows full of empty or null data.\n",
        "\n",
        "Lets now get rid of these first four columns to condense our table down into a more readable table.\n",
        "\n",
        "We will use the same \"drop\" method but we will specify what columns exactly we want to drop as well as use \"axis=1\" to specify we want to drop a column instead of a rows."
      ],
      "metadata": {
        "id": "siTYgcKj1ff3"
      }
    },
    {
      "cell_type": "code",
      "source": [
        "df = df.drop(labels=\"team_domain\", axis=1)"
      ],
      "metadata": {
        "id": "QuiNEgLU164_"
      },
      "execution_count": null,
      "outputs": []
    },
    {
      "cell_type": "code",
      "source": [
        "df"
      ],
      "metadata": {
        "colab": {
          "base_uri": "https://localhost:8080/",
          "height": 424
        },
        "id": "DS1qofdv2aoo",
        "outputId": "527c5d56-1d3b-4789-d3d7-0e30eef85afc"
      },
      "execution_count": null,
      "outputs": [
        {
          "output_type": "execute_result",
          "data": {
            "text/plain": [
              "      channel_name start_date end_date                          ts     user  \\\n",
              "4             None       None     None  2019-12-01T00:56:23.288000    Ryden   \n",
              "5             None       None     None  2019-12-01T01:07:04.875000  Jayvien   \n",
              "6             None       None     None  2019-12-01T01:10:54.022000  Kaliope   \n",
              "7             None       None     None  2019-12-01T01:13:29.732000    Naely   \n",
              "8             None       None     None  2019-12-01T01:16:43.656000  Jayvien   \n",
              "...            ...        ...      ...                         ...      ...   \n",
              "30939         None       None     None  2019-12-31T18:24:58.198000  Azyriah   \n",
              "30940         None       None     None  2019-12-31T18:25:37.421000  Areesha   \n",
              "30941         None       None     None  2019-12-31T18:26:17.603000  Areesha   \n",
              "30942         None       None     None  2019-12-31T18:29:15.676000   Ailany   \n",
              "30943         None       None     None  2019-12-31T18:29:57.380000   Ailany   \n",
              "\n",
              "                                                    text  \n",
              "4      where is the name of the file stored on the file?  \n",
              "5                                              say what?  \n",
              "6      Where would you guys recommend I learn kotlin ...  \n",
              "7      I used the official Kotlin docs they have an e...  \n",
              "8                                               do they?  \n",
              "...                                                  ...  \n",
              "30939                                      hi @GokturkSM  \n",
              "30940  Anyone have some math background? Trying to im...  \n",
              "30941  My question is... what exactly is a cyclic gro...  \n",
              "30942  You need to know what exceptions your code may...  \n",
              "30943                                               @cup  \n",
              "\n",
              "[30940 rows x 6 columns]"
            ],
            "text/html": [
              "\n",
              "  <div id=\"df-82e44925-9d8f-470b-848b-fe4f0a249d6a\">\n",
              "    <div class=\"colab-df-container\">\n",
              "      <div>\n",
              "<style scoped>\n",
              "    .dataframe tbody tr th:only-of-type {\n",
              "        vertical-align: middle;\n",
              "    }\n",
              "\n",
              "    .dataframe tbody tr th {\n",
              "        vertical-align: top;\n",
              "    }\n",
              "\n",
              "    .dataframe thead th {\n",
              "        text-align: right;\n",
              "    }\n",
              "</style>\n",
              "<table border=\"1\" class=\"dataframe\">\n",
              "  <thead>\n",
              "    <tr style=\"text-align: right;\">\n",
              "      <th></th>\n",
              "      <th>channel_name</th>\n",
              "      <th>start_date</th>\n",
              "      <th>end_date</th>\n",
              "      <th>ts</th>\n",
              "      <th>user</th>\n",
              "      <th>text</th>\n",
              "    </tr>\n",
              "  </thead>\n",
              "  <tbody>\n",
              "    <tr>\n",
              "      <th>4</th>\n",
              "      <td>None</td>\n",
              "      <td>None</td>\n",
              "      <td>None</td>\n",
              "      <td>2019-12-01T00:56:23.288000</td>\n",
              "      <td>Ryden</td>\n",
              "      <td>where is the name of the file stored on the file?</td>\n",
              "    </tr>\n",
              "    <tr>\n",
              "      <th>5</th>\n",
              "      <td>None</td>\n",
              "      <td>None</td>\n",
              "      <td>None</td>\n",
              "      <td>2019-12-01T01:07:04.875000</td>\n",
              "      <td>Jayvien</td>\n",
              "      <td>say what?</td>\n",
              "    </tr>\n",
              "    <tr>\n",
              "      <th>6</th>\n",
              "      <td>None</td>\n",
              "      <td>None</td>\n",
              "      <td>None</td>\n",
              "      <td>2019-12-01T01:10:54.022000</td>\n",
              "      <td>Kaliope</td>\n",
              "      <td>Where would you guys recommend I learn kotlin ...</td>\n",
              "    </tr>\n",
              "    <tr>\n",
              "      <th>7</th>\n",
              "      <td>None</td>\n",
              "      <td>None</td>\n",
              "      <td>None</td>\n",
              "      <td>2019-12-01T01:13:29.732000</td>\n",
              "      <td>Naely</td>\n",
              "      <td>I used the official Kotlin docs they have an e...</td>\n",
              "    </tr>\n",
              "    <tr>\n",
              "      <th>8</th>\n",
              "      <td>None</td>\n",
              "      <td>None</td>\n",
              "      <td>None</td>\n",
              "      <td>2019-12-01T01:16:43.656000</td>\n",
              "      <td>Jayvien</td>\n",
              "      <td>do they?</td>\n",
              "    </tr>\n",
              "    <tr>\n",
              "      <th>...</th>\n",
              "      <td>...</td>\n",
              "      <td>...</td>\n",
              "      <td>...</td>\n",
              "      <td>...</td>\n",
              "      <td>...</td>\n",
              "      <td>...</td>\n",
              "    </tr>\n",
              "    <tr>\n",
              "      <th>30939</th>\n",
              "      <td>None</td>\n",
              "      <td>None</td>\n",
              "      <td>None</td>\n",
              "      <td>2019-12-31T18:24:58.198000</td>\n",
              "      <td>Azyriah</td>\n",
              "      <td>hi @GokturkSM</td>\n",
              "    </tr>\n",
              "    <tr>\n",
              "      <th>30940</th>\n",
              "      <td>None</td>\n",
              "      <td>None</td>\n",
              "      <td>None</td>\n",
              "      <td>2019-12-31T18:25:37.421000</td>\n",
              "      <td>Areesha</td>\n",
              "      <td>Anyone have some math background? Trying to im...</td>\n",
              "    </tr>\n",
              "    <tr>\n",
              "      <th>30941</th>\n",
              "      <td>None</td>\n",
              "      <td>None</td>\n",
              "      <td>None</td>\n",
              "      <td>2019-12-31T18:26:17.603000</td>\n",
              "      <td>Areesha</td>\n",
              "      <td>My question is... what exactly is a cyclic gro...</td>\n",
              "    </tr>\n",
              "    <tr>\n",
              "      <th>30942</th>\n",
              "      <td>None</td>\n",
              "      <td>None</td>\n",
              "      <td>None</td>\n",
              "      <td>2019-12-31T18:29:15.676000</td>\n",
              "      <td>Ailany</td>\n",
              "      <td>You need to know what exceptions your code may...</td>\n",
              "    </tr>\n",
              "    <tr>\n",
              "      <th>30943</th>\n",
              "      <td>None</td>\n",
              "      <td>None</td>\n",
              "      <td>None</td>\n",
              "      <td>2019-12-31T18:29:57.380000</td>\n",
              "      <td>Ailany</td>\n",
              "      <td>@cup</td>\n",
              "    </tr>\n",
              "  </tbody>\n",
              "</table>\n",
              "<p>30940 rows × 6 columns</p>\n",
              "</div>\n",
              "      <button class=\"colab-df-convert\" onclick=\"convertToInteractive('df-82e44925-9d8f-470b-848b-fe4f0a249d6a')\"\n",
              "              title=\"Convert this dataframe to an interactive table.\"\n",
              "              style=\"display:none;\">\n",
              "        \n",
              "  <svg xmlns=\"http://www.w3.org/2000/svg\" height=\"24px\"viewBox=\"0 0 24 24\"\n",
              "       width=\"24px\">\n",
              "    <path d=\"M0 0h24v24H0V0z\" fill=\"none\"/>\n",
              "    <path d=\"M18.56 5.44l.94 2.06.94-2.06 2.06-.94-2.06-.94-.94-2.06-.94 2.06-2.06.94zm-11 1L8.5 8.5l.94-2.06 2.06-.94-2.06-.94L8.5 2.5l-.94 2.06-2.06.94zm10 10l.94 2.06.94-2.06 2.06-.94-2.06-.94-.94-2.06-.94 2.06-2.06.94z\"/><path d=\"M17.41 7.96l-1.37-1.37c-.4-.4-.92-.59-1.43-.59-.52 0-1.04.2-1.43.59L10.3 9.45l-7.72 7.72c-.78.78-.78 2.05 0 2.83L4 21.41c.39.39.9.59 1.41.59.51 0 1.02-.2 1.41-.59l7.78-7.78 2.81-2.81c.8-.78.8-2.07 0-2.86zM5.41 20L4 18.59l7.72-7.72 1.47 1.35L5.41 20z\"/>\n",
              "  </svg>\n",
              "      </button>\n",
              "      \n",
              "  <style>\n",
              "    .colab-df-container {\n",
              "      display:flex;\n",
              "      flex-wrap:wrap;\n",
              "      gap: 12px;\n",
              "    }\n",
              "\n",
              "    .colab-df-convert {\n",
              "      background-color: #E8F0FE;\n",
              "      border: none;\n",
              "      border-radius: 50%;\n",
              "      cursor: pointer;\n",
              "      display: none;\n",
              "      fill: #1967D2;\n",
              "      height: 32px;\n",
              "      padding: 0 0 0 0;\n",
              "      width: 32px;\n",
              "    }\n",
              "\n",
              "    .colab-df-convert:hover {\n",
              "      background-color: #E2EBFA;\n",
              "      box-shadow: 0px 1px 2px rgba(60, 64, 67, 0.3), 0px 1px 3px 1px rgba(60, 64, 67, 0.15);\n",
              "      fill: #174EA6;\n",
              "    }\n",
              "\n",
              "    [theme=dark] .colab-df-convert {\n",
              "      background-color: #3B4455;\n",
              "      fill: #D2E3FC;\n",
              "    }\n",
              "\n",
              "    [theme=dark] .colab-df-convert:hover {\n",
              "      background-color: #434B5C;\n",
              "      box-shadow: 0px 1px 3px 1px rgba(0, 0, 0, 0.15);\n",
              "      filter: drop-shadow(0px 1px 2px rgba(0, 0, 0, 0.3));\n",
              "      fill: #FFFFFF;\n",
              "    }\n",
              "  </style>\n",
              "\n",
              "      <script>\n",
              "        const buttonEl =\n",
              "          document.querySelector('#df-82e44925-9d8f-470b-848b-fe4f0a249d6a button.colab-df-convert');\n",
              "        buttonEl.style.display =\n",
              "          google.colab.kernel.accessAllowed ? 'block' : 'none';\n",
              "\n",
              "        async function convertToInteractive(key) {\n",
              "          const element = document.querySelector('#df-82e44925-9d8f-470b-848b-fe4f0a249d6a');\n",
              "          const dataTable =\n",
              "            await google.colab.kernel.invokeFunction('convertToInteractive',\n",
              "                                                     [key], {});\n",
              "          if (!dataTable) return;\n",
              "\n",
              "          const docLinkHtml = 'Like what you see? Visit the ' +\n",
              "            '<a target=\"_blank\" href=https://colab.research.google.com/notebooks/data_table.ipynb>data table notebook</a>'\n",
              "            + ' to learn more about interactive tables.';\n",
              "          element.innerHTML = '';\n",
              "          dataTable['output_type'] = 'display_data';\n",
              "          await google.colab.output.renderOutput(dataTable, element);\n",
              "          const docLink = document.createElement('div');\n",
              "          docLink.innerHTML = docLinkHtml;\n",
              "          element.appendChild(docLink);\n",
              "        }\n",
              "      </script>\n",
              "    </div>\n",
              "  </div>\n",
              "  "
            ]
          },
          "metadata": {},
          "execution_count": 16
        }
      ]
    },
    {
      "cell_type": "markdown",
      "source": [
        "As you can see we dropped the \"team_domain\" column successfully. \n",
        "\n",
        "Lets get rid of the last three empty columns then take a look at how our data set table looks."
      ],
      "metadata": {
        "id": "9a-XwqAZ2bv5"
      }
    },
    {
      "cell_type": "code",
      "source": [
        "df = df.drop(labels=\"channel_name\", axis=1)\n",
        "df = df.drop(labels=\"start_date\", axis=1)\n",
        "df = df.drop(labels=\"end_date\", axis=1)"
      ],
      "metadata": {
        "id": "k5uAZIgL2rg-"
      },
      "execution_count": null,
      "outputs": []
    },
    {
      "cell_type": "code",
      "source": [
        "df"
      ],
      "metadata": {
        "colab": {
          "base_uri": "https://localhost:8080/",
          "height": 424
        },
        "id": "MTpqU2Xi24W-",
        "outputId": "ae388fa4-596b-465b-8161-6e74056565c0"
      },
      "execution_count": null,
      "outputs": [
        {
          "output_type": "execute_result",
          "data": {
            "text/plain": [
              "                               ts     user  \\\n",
              "4      2019-12-01T00:56:23.288000    Ryden   \n",
              "5      2019-12-01T01:07:04.875000  Jayvien   \n",
              "6      2019-12-01T01:10:54.022000  Kaliope   \n",
              "7      2019-12-01T01:13:29.732000    Naely   \n",
              "8      2019-12-01T01:16:43.656000  Jayvien   \n",
              "...                           ...      ...   \n",
              "30939  2019-12-31T18:24:58.198000  Azyriah   \n",
              "30940  2019-12-31T18:25:37.421000  Areesha   \n",
              "30941  2019-12-31T18:26:17.603000  Areesha   \n",
              "30942  2019-12-31T18:29:15.676000   Ailany   \n",
              "30943  2019-12-31T18:29:57.380000   Ailany   \n",
              "\n",
              "                                                    text  \n",
              "4      where is the name of the file stored on the file?  \n",
              "5                                              say what?  \n",
              "6      Where would you guys recommend I learn kotlin ...  \n",
              "7      I used the official Kotlin docs they have an e...  \n",
              "8                                               do they?  \n",
              "...                                                  ...  \n",
              "30939                                      hi @GokturkSM  \n",
              "30940  Anyone have some math background? Trying to im...  \n",
              "30941  My question is... what exactly is a cyclic gro...  \n",
              "30942  You need to know what exceptions your code may...  \n",
              "30943                                               @cup  \n",
              "\n",
              "[30940 rows x 3 columns]"
            ],
            "text/html": [
              "\n",
              "  <div id=\"df-a9d12938-d080-4637-93aa-24b5d21f77ad\">\n",
              "    <div class=\"colab-df-container\">\n",
              "      <div>\n",
              "<style scoped>\n",
              "    .dataframe tbody tr th:only-of-type {\n",
              "        vertical-align: middle;\n",
              "    }\n",
              "\n",
              "    .dataframe tbody tr th {\n",
              "        vertical-align: top;\n",
              "    }\n",
              "\n",
              "    .dataframe thead th {\n",
              "        text-align: right;\n",
              "    }\n",
              "</style>\n",
              "<table border=\"1\" class=\"dataframe\">\n",
              "  <thead>\n",
              "    <tr style=\"text-align: right;\">\n",
              "      <th></th>\n",
              "      <th>ts</th>\n",
              "      <th>user</th>\n",
              "      <th>text</th>\n",
              "    </tr>\n",
              "  </thead>\n",
              "  <tbody>\n",
              "    <tr>\n",
              "      <th>4</th>\n",
              "      <td>2019-12-01T00:56:23.288000</td>\n",
              "      <td>Ryden</td>\n",
              "      <td>where is the name of the file stored on the file?</td>\n",
              "    </tr>\n",
              "    <tr>\n",
              "      <th>5</th>\n",
              "      <td>2019-12-01T01:07:04.875000</td>\n",
              "      <td>Jayvien</td>\n",
              "      <td>say what?</td>\n",
              "    </tr>\n",
              "    <tr>\n",
              "      <th>6</th>\n",
              "      <td>2019-12-01T01:10:54.022000</td>\n",
              "      <td>Kaliope</td>\n",
              "      <td>Where would you guys recommend I learn kotlin ...</td>\n",
              "    </tr>\n",
              "    <tr>\n",
              "      <th>7</th>\n",
              "      <td>2019-12-01T01:13:29.732000</td>\n",
              "      <td>Naely</td>\n",
              "      <td>I used the official Kotlin docs they have an e...</td>\n",
              "    </tr>\n",
              "    <tr>\n",
              "      <th>8</th>\n",
              "      <td>2019-12-01T01:16:43.656000</td>\n",
              "      <td>Jayvien</td>\n",
              "      <td>do they?</td>\n",
              "    </tr>\n",
              "    <tr>\n",
              "      <th>...</th>\n",
              "      <td>...</td>\n",
              "      <td>...</td>\n",
              "      <td>...</td>\n",
              "    </tr>\n",
              "    <tr>\n",
              "      <th>30939</th>\n",
              "      <td>2019-12-31T18:24:58.198000</td>\n",
              "      <td>Azyriah</td>\n",
              "      <td>hi @GokturkSM</td>\n",
              "    </tr>\n",
              "    <tr>\n",
              "      <th>30940</th>\n",
              "      <td>2019-12-31T18:25:37.421000</td>\n",
              "      <td>Areesha</td>\n",
              "      <td>Anyone have some math background? Trying to im...</td>\n",
              "    </tr>\n",
              "    <tr>\n",
              "      <th>30941</th>\n",
              "      <td>2019-12-31T18:26:17.603000</td>\n",
              "      <td>Areesha</td>\n",
              "      <td>My question is... what exactly is a cyclic gro...</td>\n",
              "    </tr>\n",
              "    <tr>\n",
              "      <th>30942</th>\n",
              "      <td>2019-12-31T18:29:15.676000</td>\n",
              "      <td>Ailany</td>\n",
              "      <td>You need to know what exceptions your code may...</td>\n",
              "    </tr>\n",
              "    <tr>\n",
              "      <th>30943</th>\n",
              "      <td>2019-12-31T18:29:57.380000</td>\n",
              "      <td>Ailany</td>\n",
              "      <td>@cup</td>\n",
              "    </tr>\n",
              "  </tbody>\n",
              "</table>\n",
              "<p>30940 rows × 3 columns</p>\n",
              "</div>\n",
              "      <button class=\"colab-df-convert\" onclick=\"convertToInteractive('df-a9d12938-d080-4637-93aa-24b5d21f77ad')\"\n",
              "              title=\"Convert this dataframe to an interactive table.\"\n",
              "              style=\"display:none;\">\n",
              "        \n",
              "  <svg xmlns=\"http://www.w3.org/2000/svg\" height=\"24px\"viewBox=\"0 0 24 24\"\n",
              "       width=\"24px\">\n",
              "    <path d=\"M0 0h24v24H0V0z\" fill=\"none\"/>\n",
              "    <path d=\"M18.56 5.44l.94 2.06.94-2.06 2.06-.94-2.06-.94-.94-2.06-.94 2.06-2.06.94zm-11 1L8.5 8.5l.94-2.06 2.06-.94-2.06-.94L8.5 2.5l-.94 2.06-2.06.94zm10 10l.94 2.06.94-2.06 2.06-.94-2.06-.94-.94-2.06-.94 2.06-2.06.94z\"/><path d=\"M17.41 7.96l-1.37-1.37c-.4-.4-.92-.59-1.43-.59-.52 0-1.04.2-1.43.59L10.3 9.45l-7.72 7.72c-.78.78-.78 2.05 0 2.83L4 21.41c.39.39.9.59 1.41.59.51 0 1.02-.2 1.41-.59l7.78-7.78 2.81-2.81c.8-.78.8-2.07 0-2.86zM5.41 20L4 18.59l7.72-7.72 1.47 1.35L5.41 20z\"/>\n",
              "  </svg>\n",
              "      </button>\n",
              "      \n",
              "  <style>\n",
              "    .colab-df-container {\n",
              "      display:flex;\n",
              "      flex-wrap:wrap;\n",
              "      gap: 12px;\n",
              "    }\n",
              "\n",
              "    .colab-df-convert {\n",
              "      background-color: #E8F0FE;\n",
              "      border: none;\n",
              "      border-radius: 50%;\n",
              "      cursor: pointer;\n",
              "      display: none;\n",
              "      fill: #1967D2;\n",
              "      height: 32px;\n",
              "      padding: 0 0 0 0;\n",
              "      width: 32px;\n",
              "    }\n",
              "\n",
              "    .colab-df-convert:hover {\n",
              "      background-color: #E2EBFA;\n",
              "      box-shadow: 0px 1px 2px rgba(60, 64, 67, 0.3), 0px 1px 3px 1px rgba(60, 64, 67, 0.15);\n",
              "      fill: #174EA6;\n",
              "    }\n",
              "\n",
              "    [theme=dark] .colab-df-convert {\n",
              "      background-color: #3B4455;\n",
              "      fill: #D2E3FC;\n",
              "    }\n",
              "\n",
              "    [theme=dark] .colab-df-convert:hover {\n",
              "      background-color: #434B5C;\n",
              "      box-shadow: 0px 1px 3px 1px rgba(0, 0, 0, 0.15);\n",
              "      filter: drop-shadow(0px 1px 2px rgba(0, 0, 0, 0.3));\n",
              "      fill: #FFFFFF;\n",
              "    }\n",
              "  </style>\n",
              "\n",
              "      <script>\n",
              "        const buttonEl =\n",
              "          document.querySelector('#df-a9d12938-d080-4637-93aa-24b5d21f77ad button.colab-df-convert');\n",
              "        buttonEl.style.display =\n",
              "          google.colab.kernel.accessAllowed ? 'block' : 'none';\n",
              "\n",
              "        async function convertToInteractive(key) {\n",
              "          const element = document.querySelector('#df-a9d12938-d080-4637-93aa-24b5d21f77ad');\n",
              "          const dataTable =\n",
              "            await google.colab.kernel.invokeFunction('convertToInteractive',\n",
              "                                                     [key], {});\n",
              "          if (!dataTable) return;\n",
              "\n",
              "          const docLinkHtml = 'Like what you see? Visit the ' +\n",
              "            '<a target=\"_blank\" href=https://colab.research.google.com/notebooks/data_table.ipynb>data table notebook</a>'\n",
              "            + ' to learn more about interactive tables.';\n",
              "          element.innerHTML = '';\n",
              "          dataTable['output_type'] = 'display_data';\n",
              "          await google.colab.output.renderOutput(dataTable, element);\n",
              "          const docLink = document.createElement('div');\n",
              "          docLink.innerHTML = docLinkHtml;\n",
              "          element.appendChild(docLink);\n",
              "        }\n",
              "      </script>\n",
              "    </div>\n",
              "  </div>\n",
              "  "
            ]
          },
          "metadata": {},
          "execution_count": 18
        }
      ]
    },
    {
      "cell_type": "markdown",
      "source": [
        "# Formatting"
      ],
      "metadata": {
        "id": "UHeHh0CTMMwM"
      }
    },
    {
      "cell_type": "markdown",
      "source": [
        "Our table looks much cleaner now, we consolidated the data down into data we want to actually look at.\n",
        "\n",
        "Lets next rename the 'ts' column into 'time' just to better clarify. We will use the \"rename\" method to do so."
      ],
      "metadata": {
        "id": "N6iyZHNi25wM"
      }
    },
    {
      "cell_type": "code",
      "source": [
        "df.rename(columns = {'ts':'time'}, inplace = True)"
      ],
      "metadata": {
        "id": "8IZuFDjw3IfY"
      },
      "execution_count": null,
      "outputs": []
    },
    {
      "cell_type": "code",
      "source": [
        "df"
      ],
      "metadata": {
        "colab": {
          "base_uri": "https://localhost:8080/",
          "height": 424
        },
        "id": "6nzlgrv-3LNo",
        "outputId": "09ae7977-0559-4f19-933a-4920cdae007e"
      },
      "execution_count": null,
      "outputs": [
        {
          "output_type": "execute_result",
          "data": {
            "text/plain": [
              "                             time     user  \\\n",
              "4      2019-12-01T00:56:23.288000    Ryden   \n",
              "5      2019-12-01T01:07:04.875000  Jayvien   \n",
              "6      2019-12-01T01:10:54.022000  Kaliope   \n",
              "7      2019-12-01T01:13:29.732000    Naely   \n",
              "8      2019-12-01T01:16:43.656000  Jayvien   \n",
              "...                           ...      ...   \n",
              "30939  2019-12-31T18:24:58.198000  Azyriah   \n",
              "30940  2019-12-31T18:25:37.421000  Areesha   \n",
              "30941  2019-12-31T18:26:17.603000  Areesha   \n",
              "30942  2019-12-31T18:29:15.676000   Ailany   \n",
              "30943  2019-12-31T18:29:57.380000   Ailany   \n",
              "\n",
              "                                                    text  \n",
              "4      where is the name of the file stored on the file?  \n",
              "5                                              say what?  \n",
              "6      Where would you guys recommend I learn kotlin ...  \n",
              "7      I used the official Kotlin docs they have an e...  \n",
              "8                                               do they?  \n",
              "...                                                  ...  \n",
              "30939                                      hi @GokturkSM  \n",
              "30940  Anyone have some math background? Trying to im...  \n",
              "30941  My question is... what exactly is a cyclic gro...  \n",
              "30942  You need to know what exceptions your code may...  \n",
              "30943                                               @cup  \n",
              "\n",
              "[30940 rows x 3 columns]"
            ],
            "text/html": [
              "\n",
              "  <div id=\"df-7868bdc1-c696-4ba4-a5ba-ead1ffeb95f3\">\n",
              "    <div class=\"colab-df-container\">\n",
              "      <div>\n",
              "<style scoped>\n",
              "    .dataframe tbody tr th:only-of-type {\n",
              "        vertical-align: middle;\n",
              "    }\n",
              "\n",
              "    .dataframe tbody tr th {\n",
              "        vertical-align: top;\n",
              "    }\n",
              "\n",
              "    .dataframe thead th {\n",
              "        text-align: right;\n",
              "    }\n",
              "</style>\n",
              "<table border=\"1\" class=\"dataframe\">\n",
              "  <thead>\n",
              "    <tr style=\"text-align: right;\">\n",
              "      <th></th>\n",
              "      <th>time</th>\n",
              "      <th>user</th>\n",
              "      <th>text</th>\n",
              "    </tr>\n",
              "  </thead>\n",
              "  <tbody>\n",
              "    <tr>\n",
              "      <th>4</th>\n",
              "      <td>2019-12-01T00:56:23.288000</td>\n",
              "      <td>Ryden</td>\n",
              "      <td>where is the name of the file stored on the file?</td>\n",
              "    </tr>\n",
              "    <tr>\n",
              "      <th>5</th>\n",
              "      <td>2019-12-01T01:07:04.875000</td>\n",
              "      <td>Jayvien</td>\n",
              "      <td>say what?</td>\n",
              "    </tr>\n",
              "    <tr>\n",
              "      <th>6</th>\n",
              "      <td>2019-12-01T01:10:54.022000</td>\n",
              "      <td>Kaliope</td>\n",
              "      <td>Where would you guys recommend I learn kotlin ...</td>\n",
              "    </tr>\n",
              "    <tr>\n",
              "      <th>7</th>\n",
              "      <td>2019-12-01T01:13:29.732000</td>\n",
              "      <td>Naely</td>\n",
              "      <td>I used the official Kotlin docs they have an e...</td>\n",
              "    </tr>\n",
              "    <tr>\n",
              "      <th>8</th>\n",
              "      <td>2019-12-01T01:16:43.656000</td>\n",
              "      <td>Jayvien</td>\n",
              "      <td>do they?</td>\n",
              "    </tr>\n",
              "    <tr>\n",
              "      <th>...</th>\n",
              "      <td>...</td>\n",
              "      <td>...</td>\n",
              "      <td>...</td>\n",
              "    </tr>\n",
              "    <tr>\n",
              "      <th>30939</th>\n",
              "      <td>2019-12-31T18:24:58.198000</td>\n",
              "      <td>Azyriah</td>\n",
              "      <td>hi @GokturkSM</td>\n",
              "    </tr>\n",
              "    <tr>\n",
              "      <th>30940</th>\n",
              "      <td>2019-12-31T18:25:37.421000</td>\n",
              "      <td>Areesha</td>\n",
              "      <td>Anyone have some math background? Trying to im...</td>\n",
              "    </tr>\n",
              "    <tr>\n",
              "      <th>30941</th>\n",
              "      <td>2019-12-31T18:26:17.603000</td>\n",
              "      <td>Areesha</td>\n",
              "      <td>My question is... what exactly is a cyclic gro...</td>\n",
              "    </tr>\n",
              "    <tr>\n",
              "      <th>30942</th>\n",
              "      <td>2019-12-31T18:29:15.676000</td>\n",
              "      <td>Ailany</td>\n",
              "      <td>You need to know what exceptions your code may...</td>\n",
              "    </tr>\n",
              "    <tr>\n",
              "      <th>30943</th>\n",
              "      <td>2019-12-31T18:29:57.380000</td>\n",
              "      <td>Ailany</td>\n",
              "      <td>@cup</td>\n",
              "    </tr>\n",
              "  </tbody>\n",
              "</table>\n",
              "<p>30940 rows × 3 columns</p>\n",
              "</div>\n",
              "      <button class=\"colab-df-convert\" onclick=\"convertToInteractive('df-7868bdc1-c696-4ba4-a5ba-ead1ffeb95f3')\"\n",
              "              title=\"Convert this dataframe to an interactive table.\"\n",
              "              style=\"display:none;\">\n",
              "        \n",
              "  <svg xmlns=\"http://www.w3.org/2000/svg\" height=\"24px\"viewBox=\"0 0 24 24\"\n",
              "       width=\"24px\">\n",
              "    <path d=\"M0 0h24v24H0V0z\" fill=\"none\"/>\n",
              "    <path d=\"M18.56 5.44l.94 2.06.94-2.06 2.06-.94-2.06-.94-.94-2.06-.94 2.06-2.06.94zm-11 1L8.5 8.5l.94-2.06 2.06-.94-2.06-.94L8.5 2.5l-.94 2.06-2.06.94zm10 10l.94 2.06.94-2.06 2.06-.94-2.06-.94-.94-2.06-.94 2.06-2.06.94z\"/><path d=\"M17.41 7.96l-1.37-1.37c-.4-.4-.92-.59-1.43-.59-.52 0-1.04.2-1.43.59L10.3 9.45l-7.72 7.72c-.78.78-.78 2.05 0 2.83L4 21.41c.39.39.9.59 1.41.59.51 0 1.02-.2 1.41-.59l7.78-7.78 2.81-2.81c.8-.78.8-2.07 0-2.86zM5.41 20L4 18.59l7.72-7.72 1.47 1.35L5.41 20z\"/>\n",
              "  </svg>\n",
              "      </button>\n",
              "      \n",
              "  <style>\n",
              "    .colab-df-container {\n",
              "      display:flex;\n",
              "      flex-wrap:wrap;\n",
              "      gap: 12px;\n",
              "    }\n",
              "\n",
              "    .colab-df-convert {\n",
              "      background-color: #E8F0FE;\n",
              "      border: none;\n",
              "      border-radius: 50%;\n",
              "      cursor: pointer;\n",
              "      display: none;\n",
              "      fill: #1967D2;\n",
              "      height: 32px;\n",
              "      padding: 0 0 0 0;\n",
              "      width: 32px;\n",
              "    }\n",
              "\n",
              "    .colab-df-convert:hover {\n",
              "      background-color: #E2EBFA;\n",
              "      box-shadow: 0px 1px 2px rgba(60, 64, 67, 0.3), 0px 1px 3px 1px rgba(60, 64, 67, 0.15);\n",
              "      fill: #174EA6;\n",
              "    }\n",
              "\n",
              "    [theme=dark] .colab-df-convert {\n",
              "      background-color: #3B4455;\n",
              "      fill: #D2E3FC;\n",
              "    }\n",
              "\n",
              "    [theme=dark] .colab-df-convert:hover {\n",
              "      background-color: #434B5C;\n",
              "      box-shadow: 0px 1px 3px 1px rgba(0, 0, 0, 0.15);\n",
              "      filter: drop-shadow(0px 1px 2px rgba(0, 0, 0, 0.3));\n",
              "      fill: #FFFFFF;\n",
              "    }\n",
              "  </style>\n",
              "\n",
              "      <script>\n",
              "        const buttonEl =\n",
              "          document.querySelector('#df-7868bdc1-c696-4ba4-a5ba-ead1ffeb95f3 button.colab-df-convert');\n",
              "        buttonEl.style.display =\n",
              "          google.colab.kernel.accessAllowed ? 'block' : 'none';\n",
              "\n",
              "        async function convertToInteractive(key) {\n",
              "          const element = document.querySelector('#df-7868bdc1-c696-4ba4-a5ba-ead1ffeb95f3');\n",
              "          const dataTable =\n",
              "            await google.colab.kernel.invokeFunction('convertToInteractive',\n",
              "                                                     [key], {});\n",
              "          if (!dataTable) return;\n",
              "\n",
              "          const docLinkHtml = 'Like what you see? Visit the ' +\n",
              "            '<a target=\"_blank\" href=https://colab.research.google.com/notebooks/data_table.ipynb>data table notebook</a>'\n",
              "            + ' to learn more about interactive tables.';\n",
              "          element.innerHTML = '';\n",
              "          dataTable['output_type'] = 'display_data';\n",
              "          await google.colab.output.renderOutput(dataTable, element);\n",
              "          const docLink = document.createElement('div');\n",
              "          docLink.innerHTML = docLinkHtml;\n",
              "          element.appendChild(docLink);\n",
              "        }\n",
              "      </script>\n",
              "    </div>\n",
              "  </div>\n",
              "  "
            ]
          },
          "metadata": {},
          "execution_count": 20
        }
      ]
    },
    {
      "cell_type": "markdown",
      "source": [
        "Our table is now more simpiler to look at. However if you take a look at the time column, with the format, it is very hard to read what it says.\n",
        "\n",
        "Let's now re-format this column to be able to read the time each message was sent.\n",
        "\n",
        "We will use the 'pandas' library once again as well as the \"to_datetime\" method to re-format this column in a more readable way."
      ],
      "metadata": {
        "id": "Oq6bPNYx3PSJ"
      }
    },
    {
      "cell_type": "code",
      "source": [
        "df['time'] = pd.to_datetime(df['time'], format=\"%Y-%m-%d\")"
      ],
      "metadata": {
        "id": "xO0xxcMN3odK"
      },
      "execution_count": null,
      "outputs": []
    },
    {
      "cell_type": "code",
      "source": [
        "df"
      ],
      "metadata": {
        "colab": {
          "base_uri": "https://localhost:8080/",
          "height": 424
        },
        "id": "88BgHY4F4Atv",
        "outputId": "0ce1ebd0-890c-4bec-c93a-76d7306fbac8"
      },
      "execution_count": null,
      "outputs": [
        {
          "output_type": "execute_result",
          "data": {
            "text/plain": [
              "                         time     user  \\\n",
              "4     2019-12-01 00:56:23.288    Ryden   \n",
              "5     2019-12-01 01:07:04.875  Jayvien   \n",
              "6     2019-12-01 01:10:54.022  Kaliope   \n",
              "7     2019-12-01 01:13:29.732    Naely   \n",
              "8     2019-12-01 01:16:43.656  Jayvien   \n",
              "...                       ...      ...   \n",
              "30939 2019-12-31 18:24:58.198  Azyriah   \n",
              "30940 2019-12-31 18:25:37.421  Areesha   \n",
              "30941 2019-12-31 18:26:17.603  Areesha   \n",
              "30942 2019-12-31 18:29:15.676   Ailany   \n",
              "30943 2019-12-31 18:29:57.380   Ailany   \n",
              "\n",
              "                                                    text  \n",
              "4      where is the name of the file stored on the file?  \n",
              "5                                              say what?  \n",
              "6      Where would you guys recommend I learn kotlin ...  \n",
              "7      I used the official Kotlin docs they have an e...  \n",
              "8                                               do they?  \n",
              "...                                                  ...  \n",
              "30939                                      hi @GokturkSM  \n",
              "30940  Anyone have some math background? Trying to im...  \n",
              "30941  My question is... what exactly is a cyclic gro...  \n",
              "30942  You need to know what exceptions your code may...  \n",
              "30943                                               @cup  \n",
              "\n",
              "[30940 rows x 3 columns]"
            ],
            "text/html": [
              "\n",
              "  <div id=\"df-e9614b47-2f76-4d5d-a2fe-159f42058f9e\">\n",
              "    <div class=\"colab-df-container\">\n",
              "      <div>\n",
              "<style scoped>\n",
              "    .dataframe tbody tr th:only-of-type {\n",
              "        vertical-align: middle;\n",
              "    }\n",
              "\n",
              "    .dataframe tbody tr th {\n",
              "        vertical-align: top;\n",
              "    }\n",
              "\n",
              "    .dataframe thead th {\n",
              "        text-align: right;\n",
              "    }\n",
              "</style>\n",
              "<table border=\"1\" class=\"dataframe\">\n",
              "  <thead>\n",
              "    <tr style=\"text-align: right;\">\n",
              "      <th></th>\n",
              "      <th>time</th>\n",
              "      <th>user</th>\n",
              "      <th>text</th>\n",
              "    </tr>\n",
              "  </thead>\n",
              "  <tbody>\n",
              "    <tr>\n",
              "      <th>4</th>\n",
              "      <td>2019-12-01 00:56:23.288</td>\n",
              "      <td>Ryden</td>\n",
              "      <td>where is the name of the file stored on the file?</td>\n",
              "    </tr>\n",
              "    <tr>\n",
              "      <th>5</th>\n",
              "      <td>2019-12-01 01:07:04.875</td>\n",
              "      <td>Jayvien</td>\n",
              "      <td>say what?</td>\n",
              "    </tr>\n",
              "    <tr>\n",
              "      <th>6</th>\n",
              "      <td>2019-12-01 01:10:54.022</td>\n",
              "      <td>Kaliope</td>\n",
              "      <td>Where would you guys recommend I learn kotlin ...</td>\n",
              "    </tr>\n",
              "    <tr>\n",
              "      <th>7</th>\n",
              "      <td>2019-12-01 01:13:29.732</td>\n",
              "      <td>Naely</td>\n",
              "      <td>I used the official Kotlin docs they have an e...</td>\n",
              "    </tr>\n",
              "    <tr>\n",
              "      <th>8</th>\n",
              "      <td>2019-12-01 01:16:43.656</td>\n",
              "      <td>Jayvien</td>\n",
              "      <td>do they?</td>\n",
              "    </tr>\n",
              "    <tr>\n",
              "      <th>...</th>\n",
              "      <td>...</td>\n",
              "      <td>...</td>\n",
              "      <td>...</td>\n",
              "    </tr>\n",
              "    <tr>\n",
              "      <th>30939</th>\n",
              "      <td>2019-12-31 18:24:58.198</td>\n",
              "      <td>Azyriah</td>\n",
              "      <td>hi @GokturkSM</td>\n",
              "    </tr>\n",
              "    <tr>\n",
              "      <th>30940</th>\n",
              "      <td>2019-12-31 18:25:37.421</td>\n",
              "      <td>Areesha</td>\n",
              "      <td>Anyone have some math background? Trying to im...</td>\n",
              "    </tr>\n",
              "    <tr>\n",
              "      <th>30941</th>\n",
              "      <td>2019-12-31 18:26:17.603</td>\n",
              "      <td>Areesha</td>\n",
              "      <td>My question is... what exactly is a cyclic gro...</td>\n",
              "    </tr>\n",
              "    <tr>\n",
              "      <th>30942</th>\n",
              "      <td>2019-12-31 18:29:15.676</td>\n",
              "      <td>Ailany</td>\n",
              "      <td>You need to know what exceptions your code may...</td>\n",
              "    </tr>\n",
              "    <tr>\n",
              "      <th>30943</th>\n",
              "      <td>2019-12-31 18:29:57.380</td>\n",
              "      <td>Ailany</td>\n",
              "      <td>@cup</td>\n",
              "    </tr>\n",
              "  </tbody>\n",
              "</table>\n",
              "<p>30940 rows × 3 columns</p>\n",
              "</div>\n",
              "      <button class=\"colab-df-convert\" onclick=\"convertToInteractive('df-e9614b47-2f76-4d5d-a2fe-159f42058f9e')\"\n",
              "              title=\"Convert this dataframe to an interactive table.\"\n",
              "              style=\"display:none;\">\n",
              "        \n",
              "  <svg xmlns=\"http://www.w3.org/2000/svg\" height=\"24px\"viewBox=\"0 0 24 24\"\n",
              "       width=\"24px\">\n",
              "    <path d=\"M0 0h24v24H0V0z\" fill=\"none\"/>\n",
              "    <path d=\"M18.56 5.44l.94 2.06.94-2.06 2.06-.94-2.06-.94-.94-2.06-.94 2.06-2.06.94zm-11 1L8.5 8.5l.94-2.06 2.06-.94-2.06-.94L8.5 2.5l-.94 2.06-2.06.94zm10 10l.94 2.06.94-2.06 2.06-.94-2.06-.94-.94-2.06-.94 2.06-2.06.94z\"/><path d=\"M17.41 7.96l-1.37-1.37c-.4-.4-.92-.59-1.43-.59-.52 0-1.04.2-1.43.59L10.3 9.45l-7.72 7.72c-.78.78-.78 2.05 0 2.83L4 21.41c.39.39.9.59 1.41.59.51 0 1.02-.2 1.41-.59l7.78-7.78 2.81-2.81c.8-.78.8-2.07 0-2.86zM5.41 20L4 18.59l7.72-7.72 1.47 1.35L5.41 20z\"/>\n",
              "  </svg>\n",
              "      </button>\n",
              "      \n",
              "  <style>\n",
              "    .colab-df-container {\n",
              "      display:flex;\n",
              "      flex-wrap:wrap;\n",
              "      gap: 12px;\n",
              "    }\n",
              "\n",
              "    .colab-df-convert {\n",
              "      background-color: #E8F0FE;\n",
              "      border: none;\n",
              "      border-radius: 50%;\n",
              "      cursor: pointer;\n",
              "      display: none;\n",
              "      fill: #1967D2;\n",
              "      height: 32px;\n",
              "      padding: 0 0 0 0;\n",
              "      width: 32px;\n",
              "    }\n",
              "\n",
              "    .colab-df-convert:hover {\n",
              "      background-color: #E2EBFA;\n",
              "      box-shadow: 0px 1px 2px rgba(60, 64, 67, 0.3), 0px 1px 3px 1px rgba(60, 64, 67, 0.15);\n",
              "      fill: #174EA6;\n",
              "    }\n",
              "\n",
              "    [theme=dark] .colab-df-convert {\n",
              "      background-color: #3B4455;\n",
              "      fill: #D2E3FC;\n",
              "    }\n",
              "\n",
              "    [theme=dark] .colab-df-convert:hover {\n",
              "      background-color: #434B5C;\n",
              "      box-shadow: 0px 1px 3px 1px rgba(0, 0, 0, 0.15);\n",
              "      filter: drop-shadow(0px 1px 2px rgba(0, 0, 0, 0.3));\n",
              "      fill: #FFFFFF;\n",
              "    }\n",
              "  </style>\n",
              "\n",
              "      <script>\n",
              "        const buttonEl =\n",
              "          document.querySelector('#df-e9614b47-2f76-4d5d-a2fe-159f42058f9e button.colab-df-convert');\n",
              "        buttonEl.style.display =\n",
              "          google.colab.kernel.accessAllowed ? 'block' : 'none';\n",
              "\n",
              "        async function convertToInteractive(key) {\n",
              "          const element = document.querySelector('#df-e9614b47-2f76-4d5d-a2fe-159f42058f9e');\n",
              "          const dataTable =\n",
              "            await google.colab.kernel.invokeFunction('convertToInteractive',\n",
              "                                                     [key], {});\n",
              "          if (!dataTable) return;\n",
              "\n",
              "          const docLinkHtml = 'Like what you see? Visit the ' +\n",
              "            '<a target=\"_blank\" href=https://colab.research.google.com/notebooks/data_table.ipynb>data table notebook</a>'\n",
              "            + ' to learn more about interactive tables.';\n",
              "          element.innerHTML = '';\n",
              "          dataTable['output_type'] = 'display_data';\n",
              "          await google.colab.output.renderOutput(dataTable, element);\n",
              "          const docLink = document.createElement('div');\n",
              "          docLink.innerHTML = docLinkHtml;\n",
              "          element.appendChild(docLink);\n",
              "        }\n",
              "      </script>\n",
              "    </div>\n",
              "  </div>\n",
              "  "
            ]
          },
          "metadata": {},
          "execution_count": 22
        }
      ]
    },
    {
      "cell_type": "markdown",
      "source": [
        "Now we can read the date and time each message was sent in a more readable view.\n",
        "\n",
        "We can start analyzing some of these messages."
      ],
      "metadata": {
        "id": "vPnDT9Kc4DUn"
      }
    },
    {
      "cell_type": "markdown",
      "source": [
        "# Analysis"
      ],
      "metadata": {
        "id": "GVNyxOcY4EtR"
      }
    },
    {
      "cell_type": "markdown",
      "source": [
        "Since our data frame is now more organized and cleaned up, we can start analyzing some of the data stored.\n",
        "\n",
        "Lets take a look at how much data in our columns there is to go through by using the \"count\" method."
      ],
      "metadata": {
        "id": "aLPBM29-RWLM"
      }
    },
    {
      "cell_type": "code",
      "source": [
        "df.count()"
      ],
      "metadata": {
        "colab": {
          "base_uri": "https://localhost:8080/"
        },
        "id": "HQt3QGsAxqjN",
        "outputId": "aab1c2a6-11c2-4379-f578-c80b25881c74"
      },
      "execution_count": null,
      "outputs": [
        {
          "output_type": "execute_result",
          "data": {
            "text/plain": [
              "time    30940\n",
              "user    30940\n",
              "text    30940\n",
              "dtype: int64"
            ]
          },
          "metadata": {},
          "execution_count": 23
        }
      ]
    },
    {
      "cell_type": "markdown",
      "source": [
        "The result shows that we have 30,940 different text messages in this data set, which is a lot to manually look through.\n",
        "\n",
        "We can analyze this information in a much easier way by using code.\n",
        "\n",
        "Lets first take a look at the \"user\" column. \n",
        "\n",
        "We can count how many messages each user has sent by incorporating the \"groupby\" method along with the \"count\" method."
      ],
      "metadata": {
        "id": "upLYYKdZSRQ3"
      }
    },
    {
      "cell_type": "code",
      "source": [
        "df.groupby(['user'])['user'].count()"
      ],
      "metadata": {
        "colab": {
          "base_uri": "https://localhost:8080/"
        },
        "id": "YggawceGzz9J",
        "outputId": "dfece207-e5ed-48f1-9507-d2ad8aa396bd"
      },
      "execution_count": null,
      "outputs": [
        {
          "output_type": "execute_result",
          "data": {
            "text/plain": [
              "user\n",
              "Aashvi         17\n",
              "Abbott         37\n",
              "Abdalahe        6\n",
              "Abdelfetah      5\n",
              "Abdelmadjid    76\n",
              "               ..\n",
              "Zuma            1\n",
              "Zurisadai       4\n",
              "Zuriya         25\n",
              "Zviad           1\n",
              "Zyanna          5\n",
              "Name: user, Length: 828, dtype: int64"
            ]
          },
          "metadata": {},
          "execution_count": 24
        }
      ]
    },
    {
      "cell_type": "markdown",
      "source": [
        "With this table, we can see each user and how many messages they have sent in the Discord."
      ],
      "metadata": {
        "id": "-lux-Kp6gG39"
      }
    },
    {
      "cell_type": "markdown",
      "source": [
        "Let's start analyzing the table and find which user has sent the most messages in total.\n",
        "\n",
        "We can add on the \"max\" method to our code and it will return the maximum value of messages sent for one user."
      ],
      "metadata": {
        "id": "46nnUtYpkLRW"
      }
    },
    {
      "cell_type": "code",
      "source": [
        "df.groupby(['user'])['user'].count().max()"
      ],
      "metadata": {
        "colab": {
          "base_uri": "https://localhost:8080/"
        },
        "id": "vtDb5LaKVypz",
        "outputId": "f8ffbf81-e565-4464-9a38-6f2255c2bda6"
      },
      "execution_count": null,
      "outputs": [
        {
          "output_type": "execute_result",
          "data": {
            "text/plain": [
              "2626"
            ]
          },
          "metadata": {},
          "execution_count": 25
        }
      ]
    },
    {
      "cell_type": "markdown",
      "source": [
        "So we can see the user with the highest amount of messages has sent \"2626\" messages in this data set.\n",
        "\n",
        "Lets find out who sent these messages.\n",
        "\n",
        "We will use the \"value_counts\" method along with the \"idxmax\" method to go through each row in the 'user' column and count which index has the max or highest value."
      ],
      "metadata": {
        "id": "ixe6zQYYg7UP"
      }
    },
    {
      "cell_type": "code",
      "source": [
        "df['user'].value_counts().idxmax()"
      ],
      "metadata": {
        "colab": {
          "base_uri": "https://localhost:8080/",
          "height": 35
        },
        "id": "mhcuXVfjajqM",
        "outputId": "9dee0caa-fbff-4895-c7c3-4bc823f08bea"
      },
      "execution_count": null,
      "outputs": [
        {
          "output_type": "execute_result",
          "data": {
            "text/plain": [
              "'Xochilt'"
            ],
            "application/vnd.google.colaboratory.intrinsic+json": {
              "type": "string"
            }
          },
          "metadata": {},
          "execution_count": 26
        }
      ]
    },
    {
      "cell_type": "markdown",
      "source": [
        "This shows us the user who sent the most messages in the data set.\n",
        "\n",
        "Lets also look at the other top users who has sent the most messages. \n",
        "\n",
        "We will use the \"head\" method which return the top five users unless specified otherwise."
      ],
      "metadata": {
        "id": "KgcSCdFThsrz"
      }
    },
    {
      "cell_type": "code",
      "source": [
        "df['user'].value_counts().head()"
      ],
      "metadata": {
        "colab": {
          "base_uri": "https://localhost:8080/"
        },
        "id": "WhJ5-gIzfrJg",
        "outputId": "1bf5cb20-02cd-4f7c-dcb0-4520fee8ac12"
      },
      "execution_count": null,
      "outputs": [
        {
          "output_type": "execute_result",
          "data": {
            "text/plain": [
              "Xochilt     2626\n",
              "Kosta       1280\n",
              "Naely       1067\n",
              "Adirah       845\n",
              "Andersyn     662\n",
              "Name: user, dtype: int64"
            ]
          },
          "metadata": {},
          "execution_count": 27
        }
      ]
    },
    {
      "cell_type": "markdown",
      "source": [
        "This table now displays the five users who messaged the most in our data set.\n",
        "\n",
        "If we have someone we want to analyze more specifically, we can also specify which user we want to take a look at. We can then find how many messages they sent, and more.\n",
        "\n",
        "Lets find out how many messages \"Ryden\" sent for example."
      ],
      "metadata": {
        "id": "UQ0BQoDJie__"
      }
    },
    {
      "cell_type": "code",
      "source": [
        "df['user'].value_counts()['Ryden']"
      ],
      "metadata": {
        "colab": {
          "base_uri": "https://localhost:8080/"
        },
        "id": "4iuX3hPZZOja",
        "outputId": "dc54d31a-f046-4f1e-e38d-19ffe560cbbb"
      },
      "execution_count": null,
      "outputs": [
        {
          "output_type": "execute_result",
          "data": {
            "text/plain": [
              "113"
            ]
          },
          "metadata": {},
          "execution_count": 28
        }
      ]
    },
    {
      "cell_type": "markdown",
      "source": [
        "Find which user asked the most questions"
      ],
      "metadata": {
        "id": "fNf96cI_Tz9v"
      }
    },
    {
      "cell_type": "code",
      "source": [
        "df['text'].value_counts()['?']"
      ],
      "metadata": {
        "colab": {
          "base_uri": "https://localhost:8080/"
        },
        "id": "Oc4z6bk3bJY4",
        "outputId": "9987e25a-817c-41a9-c174-a776b7a3cd9e"
      },
      "execution_count": null,
      "outputs": [
        {
          "output_type": "execute_result",
          "data": {
            "text/plain": [
              "60"
            ]
          },
          "metadata": {},
          "execution_count": 33
        }
      ]
    },
    {
      "cell_type": "code",
      "source": [
        "df.groupby(['user'])['text'].value_counts()['?']"
      ],
      "metadata": {
        "colab": {
          "base_uri": "https://localhost:8080/",
          "height": 514
        },
        "id": "Hh8uvYGBerFU",
        "outputId": "92f398df-5976-43a7-a267-a7e6aa68d196"
      },
      "execution_count": null,
      "outputs": [
        {
          "output_type": "error",
          "ename": "KeyError",
          "evalue": "ignored",
          "traceback": [
            "\u001b[0;31m---------------------------------------------------------------------------\u001b[0m",
            "\u001b[0;31mKeyError\u001b[0m                                  Traceback (most recent call last)",
            "\u001b[0;32m/usr/local/lib/python3.8/dist-packages/pandas/core/indexes/base.py\u001b[0m in \u001b[0;36mget_loc\u001b[0;34m(self, key, method, tolerance)\u001b[0m\n\u001b[1;32m   3360\u001b[0m             \u001b[0;32mtry\u001b[0m\u001b[0;34m:\u001b[0m\u001b[0;34m\u001b[0m\u001b[0;34m\u001b[0m\u001b[0m\n\u001b[0;32m-> 3361\u001b[0;31m                 \u001b[0;32mreturn\u001b[0m \u001b[0mself\u001b[0m\u001b[0;34m.\u001b[0m\u001b[0m_engine\u001b[0m\u001b[0;34m.\u001b[0m\u001b[0mget_loc\u001b[0m\u001b[0;34m(\u001b[0m\u001b[0mcasted_key\u001b[0m\u001b[0;34m)\u001b[0m\u001b[0;34m\u001b[0m\u001b[0;34m\u001b[0m\u001b[0m\n\u001b[0m\u001b[1;32m   3362\u001b[0m             \u001b[0;32mexcept\u001b[0m \u001b[0mKeyError\u001b[0m \u001b[0;32mas\u001b[0m \u001b[0merr\u001b[0m\u001b[0;34m:\u001b[0m\u001b[0;34m\u001b[0m\u001b[0;34m\u001b[0m\u001b[0m\n",
            "\u001b[0;32m/usr/local/lib/python3.8/dist-packages/pandas/_libs/index.pyx\u001b[0m in \u001b[0;36mpandas._libs.index.IndexEngine.get_loc\u001b[0;34m()\u001b[0m\n",
            "\u001b[0;32m/usr/local/lib/python3.8/dist-packages/pandas/_libs/index.pyx\u001b[0m in \u001b[0;36mpandas._libs.index.IndexEngine.get_loc\u001b[0;34m()\u001b[0m\n",
            "\u001b[0;32mpandas/_libs/hashtable_class_helper.pxi\u001b[0m in \u001b[0;36mpandas._libs.hashtable.PyObjectHashTable.get_item\u001b[0;34m()\u001b[0m\n",
            "\u001b[0;32mpandas/_libs/hashtable_class_helper.pxi\u001b[0m in \u001b[0;36mpandas._libs.hashtable.PyObjectHashTable.get_item\u001b[0;34m()\u001b[0m\n",
            "\u001b[0;31mKeyError\u001b[0m: '?'",
            "\nThe above exception was the direct cause of the following exception:\n",
            "\u001b[0;31mKeyError\u001b[0m                                  Traceback (most recent call last)",
            "\u001b[0;32m<ipython-input-41-5943aced33cf>\u001b[0m in \u001b[0;36m<module>\u001b[0;34m\u001b[0m\n\u001b[0;32m----> 1\u001b[0;31m \u001b[0mdf\u001b[0m\u001b[0;34m.\u001b[0m\u001b[0mgroupby\u001b[0m\u001b[0;34m(\u001b[0m\u001b[0;34m[\u001b[0m\u001b[0;34m'user'\u001b[0m\u001b[0;34m]\u001b[0m\u001b[0;34m)\u001b[0m\u001b[0;34m[\u001b[0m\u001b[0;34m'text'\u001b[0m\u001b[0;34m]\u001b[0m\u001b[0;34m.\u001b[0m\u001b[0mvalue_counts\u001b[0m\u001b[0;34m(\u001b[0m\u001b[0;34m)\u001b[0m\u001b[0;34m[\u001b[0m\u001b[0;34m'?'\u001b[0m\u001b[0;34m]\u001b[0m\u001b[0;34m\u001b[0m\u001b[0;34m\u001b[0m\u001b[0m\n\u001b[0m",
            "\u001b[0;32m/usr/local/lib/python3.8/dist-packages/pandas/core/series.py\u001b[0m in \u001b[0;36m__getitem__\u001b[0;34m(self, key)\u001b[0m\n\u001b[1;32m    940\u001b[0m \u001b[0;34m\u001b[0m\u001b[0m\n\u001b[1;32m    941\u001b[0m         \u001b[0;32melif\u001b[0m \u001b[0mkey_is_scalar\u001b[0m\u001b[0;34m:\u001b[0m\u001b[0;34m\u001b[0m\u001b[0;34m\u001b[0m\u001b[0m\n\u001b[0;32m--> 942\u001b[0;31m             \u001b[0;32mreturn\u001b[0m \u001b[0mself\u001b[0m\u001b[0;34m.\u001b[0m\u001b[0m_get_value\u001b[0m\u001b[0;34m(\u001b[0m\u001b[0mkey\u001b[0m\u001b[0;34m)\u001b[0m\u001b[0;34m\u001b[0m\u001b[0;34m\u001b[0m\u001b[0m\n\u001b[0m\u001b[1;32m    943\u001b[0m \u001b[0;34m\u001b[0m\u001b[0m\n\u001b[1;32m    944\u001b[0m         \u001b[0;32mif\u001b[0m \u001b[0mis_hashable\u001b[0m\u001b[0;34m(\u001b[0m\u001b[0mkey\u001b[0m\u001b[0;34m)\u001b[0m\u001b[0;34m:\u001b[0m\u001b[0;34m\u001b[0m\u001b[0;34m\u001b[0m\u001b[0m\n",
            "\u001b[0;32m/usr/local/lib/python3.8/dist-packages/pandas/core/series.py\u001b[0m in \u001b[0;36m_get_value\u001b[0;34m(self, label, takeable)\u001b[0m\n\u001b[1;32m   1049\u001b[0m \u001b[0;34m\u001b[0m\u001b[0m\n\u001b[1;32m   1050\u001b[0m         \u001b[0;31m# Similar to Index.get_value, but we do not fall back to positional\u001b[0m\u001b[0;34m\u001b[0m\u001b[0;34m\u001b[0m\u001b[0;34m\u001b[0m\u001b[0m\n\u001b[0;32m-> 1051\u001b[0;31m         \u001b[0mloc\u001b[0m \u001b[0;34m=\u001b[0m \u001b[0mself\u001b[0m\u001b[0;34m.\u001b[0m\u001b[0mindex\u001b[0m\u001b[0;34m.\u001b[0m\u001b[0mget_loc\u001b[0m\u001b[0;34m(\u001b[0m\u001b[0mlabel\u001b[0m\u001b[0;34m)\u001b[0m\u001b[0;34m\u001b[0m\u001b[0;34m\u001b[0m\u001b[0m\n\u001b[0m\u001b[1;32m   1052\u001b[0m         \u001b[0;32mreturn\u001b[0m \u001b[0mself\u001b[0m\u001b[0;34m.\u001b[0m\u001b[0mindex\u001b[0m\u001b[0;34m.\u001b[0m\u001b[0m_get_values_for_loc\u001b[0m\u001b[0;34m(\u001b[0m\u001b[0mself\u001b[0m\u001b[0;34m,\u001b[0m \u001b[0mloc\u001b[0m\u001b[0;34m,\u001b[0m \u001b[0mlabel\u001b[0m\u001b[0;34m)\u001b[0m\u001b[0;34m\u001b[0m\u001b[0;34m\u001b[0m\u001b[0m\n\u001b[1;32m   1053\u001b[0m \u001b[0;34m\u001b[0m\u001b[0m\n",
            "\u001b[0;32m/usr/local/lib/python3.8/dist-packages/pandas/core/indexes/multi.py\u001b[0m in \u001b[0;36mget_loc\u001b[0;34m(self, key, method)\u001b[0m\n\u001b[1;32m   2920\u001b[0m \u001b[0;34m\u001b[0m\u001b[0m\n\u001b[1;32m   2921\u001b[0m         \u001b[0;32mif\u001b[0m \u001b[0;32mnot\u001b[0m \u001b[0misinstance\u001b[0m\u001b[0;34m(\u001b[0m\u001b[0mkey\u001b[0m\u001b[0;34m,\u001b[0m \u001b[0mtuple\u001b[0m\u001b[0;34m)\u001b[0m\u001b[0;34m:\u001b[0m\u001b[0;34m\u001b[0m\u001b[0;34m\u001b[0m\u001b[0m\n\u001b[0;32m-> 2922\u001b[0;31m             \u001b[0mloc\u001b[0m \u001b[0;34m=\u001b[0m \u001b[0mself\u001b[0m\u001b[0;34m.\u001b[0m\u001b[0m_get_level_indexer\u001b[0m\u001b[0;34m(\u001b[0m\u001b[0mkey\u001b[0m\u001b[0;34m,\u001b[0m \u001b[0mlevel\u001b[0m\u001b[0;34m=\u001b[0m\u001b[0;36m0\u001b[0m\u001b[0;34m)\u001b[0m\u001b[0;34m\u001b[0m\u001b[0;34m\u001b[0m\u001b[0m\n\u001b[0m\u001b[1;32m   2923\u001b[0m             \u001b[0;32mreturn\u001b[0m \u001b[0m_maybe_to_slice\u001b[0m\u001b[0;34m(\u001b[0m\u001b[0mloc\u001b[0m\u001b[0;34m)\u001b[0m\u001b[0;34m\u001b[0m\u001b[0;34m\u001b[0m\u001b[0m\n\u001b[1;32m   2924\u001b[0m \u001b[0;34m\u001b[0m\u001b[0m\n",
            "\u001b[0;32m/usr/local/lib/python3.8/dist-packages/pandas/core/indexes/multi.py\u001b[0m in \u001b[0;36m_get_level_indexer\u001b[0;34m(self, key, level, indexer)\u001b[0m\n\u001b[1;32m   3202\u001b[0m         \u001b[0;32melse\u001b[0m\u001b[0;34m:\u001b[0m\u001b[0;34m\u001b[0m\u001b[0;34m\u001b[0m\u001b[0m\n\u001b[1;32m   3203\u001b[0m \u001b[0;34m\u001b[0m\u001b[0m\n\u001b[0;32m-> 3204\u001b[0;31m             \u001b[0midx\u001b[0m \u001b[0;34m=\u001b[0m \u001b[0mself\u001b[0m\u001b[0;34m.\u001b[0m\u001b[0m_get_loc_single_level_index\u001b[0m\u001b[0;34m(\u001b[0m\u001b[0mlevel_index\u001b[0m\u001b[0;34m,\u001b[0m \u001b[0mkey\u001b[0m\u001b[0;34m)\u001b[0m\u001b[0;34m\u001b[0m\u001b[0;34m\u001b[0m\u001b[0m\n\u001b[0m\u001b[1;32m   3205\u001b[0m \u001b[0;34m\u001b[0m\u001b[0m\n\u001b[1;32m   3206\u001b[0m             \u001b[0;32mif\u001b[0m \u001b[0mlevel\u001b[0m \u001b[0;34m>\u001b[0m \u001b[0;36m0\u001b[0m \u001b[0;32mor\u001b[0m \u001b[0mself\u001b[0m\u001b[0;34m.\u001b[0m\u001b[0m_lexsort_depth\u001b[0m \u001b[0;34m==\u001b[0m \u001b[0;36m0\u001b[0m\u001b[0;34m:\u001b[0m\u001b[0;34m\u001b[0m\u001b[0;34m\u001b[0m\u001b[0m\n",
            "\u001b[0;32m/usr/local/lib/python3.8/dist-packages/pandas/core/indexes/multi.py\u001b[0m in \u001b[0;36m_get_loc_single_level_index\u001b[0;34m(self, level_index, key)\u001b[0m\n\u001b[1;32m   2853\u001b[0m             \u001b[0;32mreturn\u001b[0m \u001b[0;34m-\u001b[0m\u001b[0;36m1\u001b[0m\u001b[0;34m\u001b[0m\u001b[0;34m\u001b[0m\u001b[0m\n\u001b[1;32m   2854\u001b[0m         \u001b[0;32melse\u001b[0m\u001b[0;34m:\u001b[0m\u001b[0;34m\u001b[0m\u001b[0;34m\u001b[0m\u001b[0m\n\u001b[0;32m-> 2855\u001b[0;31m             \u001b[0;32mreturn\u001b[0m \u001b[0mlevel_index\u001b[0m\u001b[0;34m.\u001b[0m\u001b[0mget_loc\u001b[0m\u001b[0;34m(\u001b[0m\u001b[0mkey\u001b[0m\u001b[0;34m)\u001b[0m\u001b[0;34m\u001b[0m\u001b[0;34m\u001b[0m\u001b[0m\n\u001b[0m\u001b[1;32m   2856\u001b[0m \u001b[0;34m\u001b[0m\u001b[0m\n\u001b[1;32m   2857\u001b[0m     \u001b[0;32mdef\u001b[0m \u001b[0mget_loc\u001b[0m\u001b[0;34m(\u001b[0m\u001b[0mself\u001b[0m\u001b[0;34m,\u001b[0m \u001b[0mkey\u001b[0m\u001b[0;34m,\u001b[0m \u001b[0mmethod\u001b[0m\u001b[0;34m=\u001b[0m\u001b[0;32mNone\u001b[0m\u001b[0;34m)\u001b[0m\u001b[0;34m:\u001b[0m\u001b[0;34m\u001b[0m\u001b[0;34m\u001b[0m\u001b[0m\n",
            "\u001b[0;32m/usr/local/lib/python3.8/dist-packages/pandas/core/indexes/base.py\u001b[0m in \u001b[0;36mget_loc\u001b[0;34m(self, key, method, tolerance)\u001b[0m\n\u001b[1;32m   3361\u001b[0m                 \u001b[0;32mreturn\u001b[0m \u001b[0mself\u001b[0m\u001b[0;34m.\u001b[0m\u001b[0m_engine\u001b[0m\u001b[0;34m.\u001b[0m\u001b[0mget_loc\u001b[0m\u001b[0;34m(\u001b[0m\u001b[0mcasted_key\u001b[0m\u001b[0;34m)\u001b[0m\u001b[0;34m\u001b[0m\u001b[0;34m\u001b[0m\u001b[0m\n\u001b[1;32m   3362\u001b[0m             \u001b[0;32mexcept\u001b[0m \u001b[0mKeyError\u001b[0m \u001b[0;32mas\u001b[0m \u001b[0merr\u001b[0m\u001b[0;34m:\u001b[0m\u001b[0;34m\u001b[0m\u001b[0;34m\u001b[0m\u001b[0m\n\u001b[0;32m-> 3363\u001b[0;31m                 \u001b[0;32mraise\u001b[0m \u001b[0mKeyError\u001b[0m\u001b[0;34m(\u001b[0m\u001b[0mkey\u001b[0m\u001b[0;34m)\u001b[0m \u001b[0;32mfrom\u001b[0m \u001b[0merr\u001b[0m\u001b[0;34m\u001b[0m\u001b[0;34m\u001b[0m\u001b[0m\n\u001b[0m\u001b[1;32m   3364\u001b[0m \u001b[0;34m\u001b[0m\u001b[0m\n\u001b[1;32m   3365\u001b[0m         \u001b[0;32mif\u001b[0m \u001b[0mis_scalar\u001b[0m\u001b[0;34m(\u001b[0m\u001b[0mkey\u001b[0m\u001b[0;34m)\u001b[0m \u001b[0;32mand\u001b[0m \u001b[0misna\u001b[0m\u001b[0;34m(\u001b[0m\u001b[0mkey\u001b[0m\u001b[0;34m)\u001b[0m \u001b[0;32mand\u001b[0m \u001b[0;32mnot\u001b[0m \u001b[0mself\u001b[0m\u001b[0;34m.\u001b[0m\u001b[0mhasnans\u001b[0m\u001b[0;34m:\u001b[0m\u001b[0;34m\u001b[0m\u001b[0;34m\u001b[0m\u001b[0m\n",
            "\u001b[0;31mKeyError\u001b[0m: '?'"
          ]
        }
      ]
    },
    {
      "cell_type": "markdown",
      "source": [
        "# Challenges"
      ],
      "metadata": {
        "id": "Sr53D6mIs3qQ"
      }
    },
    {
      "cell_type": "markdown",
      "source": [
        "Add activites for users to learn interactively"
      ],
      "metadata": {
        "id": "g47V972-TH1p"
      }
    },
    {
      "cell_type": "markdown",
      "source": [
        "Add sample data set have users do simple tasks"
      ],
      "metadata": {
        "id": "NCLZIVntBUvK"
      }
    },
    {
      "cell_type": "code",
      "source": [
        "score = 0\n",
        "questions = 5"
      ],
      "metadata": {
        "id": "uAO5UTLKidJk"
      },
      "execution_count": null,
      "outputs": []
    },
    {
      "cell_type": "code",
      "source": [
        "print(\"Find how many messages 'Kaliope' sent.\")"
      ],
      "metadata": {
        "colab": {
          "base_uri": "https://localhost:8080/"
        },
        "id": "hAiG5dRVhCvJ",
        "outputId": "f428975c-75f7-4512-b641-4c4b7ead3f2e"
      },
      "execution_count": null,
      "outputs": [
        {
          "output_type": "stream",
          "name": "stdout",
          "text": [
            "Find how many messages 'Kaliope' sent.\n"
          ]
        }
      ]
    },
    {
      "cell_type": "code",
      "source": [
        "answer1 = input()"
      ],
      "metadata": {
        "colab": {
          "base_uri": "https://localhost:8080/"
        },
        "id": "3W99kjd8hgnS",
        "outputId": "8ea2279e-9ea3-4e8d-e948-59c1d210bd66"
      },
      "execution_count": null,
      "outputs": [
        {
          "name": "stdout",
          "output_type": "stream",
          "text": [
            "df['user'].value_counts()['Kaliope']\n"
          ]
        }
      ]
    },
    {
      "cell_type": "code",
      "source": [
        "if answer1 == \"df['user'].value_counts()['Kaliope']\":\n",
        "  print(\"Correct!\")\n",
        "  score += 1\n",
        "else:\n",
        "  print(\"Incorrect\")\n",
        "  print(\"One way to solve this is:\")\n",
        "  print(\"\")\n",
        "  print(\"df['user'].value_counts()['Kaliope']\")"
      ],
      "metadata": {
        "colab": {
          "base_uri": "https://localhost:8080/"
        },
        "id": "cwkNHa6nh6lA",
        "outputId": "4f79e542-0db5-4c11-8c59-2429d6483e06"
      },
      "execution_count": null,
      "outputs": [
        {
          "output_type": "stream",
          "name": "stdout",
          "text": [
            "Correct!\n"
          ]
        }
      ]
    },
    {
      "cell_type": "code",
      "source": [
        "score = round(score/questions*100)\n",
        "print('Quiz completed.')\n",
        "print('Your final score is {}%.'.format(score))"
      ],
      "metadata": {
        "colab": {
          "base_uri": "https://localhost:8080/"
        },
        "id": "ZXY1SIryiidl",
        "outputId": "787f2e4c-38f4-4b38-f829-fa379fa62796"
      },
      "execution_count": null,
      "outputs": [
        {
          "output_type": "stream",
          "name": "stdout",
          "text": [
            "Quiz completed.\n",
            "Your final score is 10%.\n"
          ]
        }
      ]
    },
    {
      "cell_type": "code",
      "source": [
        "if int(score) >= 70:\n",
        "    print(\"Congrats, you passed!\")\n",
        "else:\n",
        "    print(\"Sorry, you failed.\")"
      ],
      "metadata": {
        "id": "FB8ZfV61kJdD",
        "outputId": "5dbab9e9-c40f-4804-9a60-5af63f0368a6",
        "colab": {
          "base_uri": "https://localhost:8080/"
        }
      },
      "execution_count": null,
      "outputs": [
        {
          "output_type": "stream",
          "name": "stdout",
          "text": [
            "Sorry, you failed.\n"
          ]
        }
      ]
    }
  ]
}